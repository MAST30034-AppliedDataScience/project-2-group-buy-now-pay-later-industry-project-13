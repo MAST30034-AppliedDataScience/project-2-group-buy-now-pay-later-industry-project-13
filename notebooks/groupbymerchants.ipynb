{
 "cells": [
  {
   "cell_type": "code",
   "execution_count": 1,
   "metadata": {},
   "outputs": [
    {
     "name": "stderr",
     "output_type": "stream",
     "text": [
      "your 131072x1 screen size is bogus. expect trouble\n",
      "24/10/01 19:38:55 WARN Utils: Your hostname, AshwinHPEnvy resolves to a loopback address: 127.0.1.1; using 10.255.255.254 instead (on interface lo)\n",
      "24/10/01 19:38:55 WARN Utils: Set SPARK_LOCAL_IP if you need to bind to another address\n",
      "Setting default log level to \"WARN\".\n",
      "To adjust logging level use sc.setLogLevel(newLevel). For SparkR, use setLogLevel(newLevel).\n",
      "24/10/01 19:38:56 WARN NativeCodeLoader: Unable to load native-hadoop library for your platform... using builtin-java classes where applicable\n"
     ]
    }
   ],
   "source": [
    "from pyspark.sql import SparkSession, functions as F\n",
    "\n",
    "# Create a spark session (which will run spark jobs)\n",
    "spark = (\n",
    "    SparkSession.builder.appName(\"MAST30034 Project 2\")\n",
    "    .config(\"spark.sql.repl.eagerEval.enabled\", True) \n",
    "    .config(\"spark.sql.parquet.cacheMetadata\", \"true\")\n",
    "    .config(\"spark.sql.session.timeZone\", \"Etc/UTC\")\n",
    "    .config(\"spark.executor.memory\", \"8g\")\n",
    "    .config(\"spark.driver.memory\", \"8g\")\n",
    "    .getOrCreate()\n",
    ")"
   ]
  },
  {
   "cell_type": "code",
   "execution_count": 2,
   "metadata": {},
   "outputs": [
    {
     "name": "stderr",
     "output_type": "stream",
     "text": [
      "24/10/01 19:39:08 WARN SparkStringUtils: Truncated the string representation of a plan since it was too large. This behavior can be adjusted by setting 'spark.sql.debug.maxToStringFields'.\n",
      "                                                                                \r"
     ]
    },
    {
     "name": "stdout",
     "output_type": "stream",
     "text": [
      "+--------------------+-------+------------+------------------+--------------------+--------------+--------------------+-----------+--------------+--------------------+-----+--------+------+--------------------------+--------------------------+--------------------+--------------------+--------------------+--------------------+----------------------+--------------------+------------+--------------------+--------------------------+--------------------+--------+------------+---------+----------------+\n",
      "|         description|user_id|merchant_abn|      dollar_value|            order_id|order_datetime|       merchant_name|consumer_id|          name|             address|state|postcode|gender|consumer_fraud_probability|merchant_fraud_probability|       LOCALITY_NAME|       list_SA2_CODE|            list_ERP|    list_num_earners|list_total_income_($M)|    list_mean_income|postcode_ERP|postcode_num_earners|postcode_total_income_($M)|postcode_mean_income|is_fraud|revenue_band|take_rate|industry_segment|\n",
      "+--------------------+-------+------------+------------------+--------------------+--------------+--------------------+-----------+--------------+--------------------+-----+--------+------+--------------------------+--------------------------+--------------------+--------------------+--------------------+--------------------+----------------------+--------------------+------------+--------------------+--------------------------+--------------------+--------+------------+---------+----------------+\n",
      "|equipment, tool, ...|     68| 53600852724|1010.0082862689014|1b6452ea-b8d3-498...|    2022-08-20|  Laoreet Lectus LLC|    1462700|   Ryan Wagner| 6571 Heather Plains|  VIC|    3334|  Male|                       0.0|                       0.0|              BUNGAL|         [201021012]|              [6408]|              [3648]|               [224.3]|           [61475.0]|        6408|                3648|                     224.3|             61475.0|   false|           c|     1.73| rental services|\n",
      "|equipment, tool, ...|    136| 96834893748|  36.8104414386733|8c96716a-167c-4ea...|    2022-08-20|Quam A Felis Inco...|     956422|  Todd Edwards|1664 Troy Parkway...|  NSW|    2540|  Male|                       0.0|                       0.0|ABRAHAMS BOSOM BEACH|[901031003, 11401...|[307, 5871, 4758,...|[289, 2986, 1970,...|  [19.5845000000000...|[67766.4359861592...|       92622|               45342|                 2446.6895|   53960.77588108156|   false|           c|     2.64| rental services|\n",
      "|equipment, tool, ...|  11396| 82812059627| 32.55695529600701|329dd9f4-d566-458...|    2022-08-20| Fermentum Institute|    1331987| Alexis Miller|     29122 Kidd Walk|  NSW|    1144|Female|                       0.0|                       0.0|                NULL|                NULL|                NULL|                NULL|                  NULL|                NULL|        NULL|                NULL|                      NULL|                NULL|   false|           a|     6.23| rental services|\n",
      "|equipment, tool, ...|  11449| 96834893748|   39.673088786269|eaf56081-b963-406...|    2022-08-20|Quam A Felis Inco...|    1493307|   Cindy Clark|25895 Tyler Vista...|   WA|    6243|Female|                       0.0|                       0.0|          WEST WILGA|[501031017, 50103...|        [7617, 6438]|        [3768, 3597]|        [209.4, 196.8]|  [55582.0, 54702.0]|       14055|                7365|        406.20000000000005|   55152.74949083504|   false|           c|     2.64| rental services|\n",
      "|equipment, tool, ...|    634| 46887242827|111.74648908596426|4c077f43-8bb1-4cf...|    2022-08-20|     Sollicitudin PC|    1001834|Norman Bernard|     9797 Paul Parks|  TAS|    7139|  Male|                       0.0|                       0.0|        STRATHGORDON|         [603011068]|                 [7]|                 [7]|  [5.1395000000000035]| [734214.2857142863]|           7|                   7|        5.1395000000000035|   734214.2857142863|   false|           c|     2.43| rental services|\n",
      "+--------------------+-------+------------+------------------+--------------------+--------------+--------------------+-----------+--------------+--------------------+-----+--------+------+--------------------------+--------------------------+--------------------+--------------------+--------------------+--------------------+----------------------+--------------------+------------+--------------------+--------------------------+--------------------+--------+------------+---------+----------------+\n",
      "only showing top 5 rows\n",
      "\n"
     ]
    }
   ],
   "source": [
    "trans_final_sdf = spark.read.parquet('../data/merged/merged_transactions_with_tags.parquet')\n",
    "trans_final_sdf.show(5)"
   ]
  },
  {
   "cell_type": "code",
   "execution_count": 3,
   "metadata": {},
   "outputs": [
    {
     "name": "stderr",
     "output_type": "stream",
     "text": [
      "24/10/01 19:39:40 WARN RowBasedKeyValueBatch: Calling spill() on RowBasedKeyValueBatch. Will not spill but return 0.\n",
      "24/10/01 19:39:40 WARN RowBasedKeyValueBatch: Calling spill() on RowBasedKeyValueBatch. Will not spill but return 0.\n",
      "24/10/01 19:39:40 WARN RowBasedKeyValueBatch: Calling spill() on RowBasedKeyValueBatch. Will not spill but return 0.\n",
      "24/10/01 19:39:40 WARN RowBasedKeyValueBatch: Calling spill() on RowBasedKeyValueBatch. Will not spill but return 0.\n",
      "24/10/01 19:39:41 WARN RowBasedKeyValueBatch: Calling spill() on RowBasedKeyValueBatch. Will not spill but return 0.\n",
      "24/10/01 19:39:41 WARN RowBasedKeyValueBatch: Calling spill() on RowBasedKeyValueBatch. Will not spill but return 0.\n",
      "24/10/01 19:39:41 WARN RowBasedKeyValueBatch: Calling spill() on RowBasedKeyValueBatch. Will not spill but return 0.\n",
      "24/10/01 19:39:41 WARN RowBasedKeyValueBatch: Calling spill() on RowBasedKeyValueBatch. Will not spill but return 0.\n",
      "24/10/01 19:39:41 WARN RowBasedKeyValueBatch: Calling spill() on RowBasedKeyValueBatch. Will not spill but return 0.\n",
      "24/10/01 19:39:41 WARN RowBasedKeyValueBatch: Calling spill() on RowBasedKeyValueBatch. Will not spill but return 0.\n",
      "24/10/01 19:39:41 WARN RowBasedKeyValueBatch: Calling spill() on RowBasedKeyValueBatch. Will not spill but return 0.\n",
      "24/10/01 19:39:41 WARN RowBasedKeyValueBatch: Calling spill() on RowBasedKeyValueBatch. Will not spill but return 0.\n",
      "24/10/01 19:39:57 WARN RowBasedKeyValueBatch: Calling spill() on RowBasedKeyValueBatch. Will not spill but return 0.\n",
      "24/10/01 19:39:57 WARN RowBasedKeyValueBatch: Calling spill() on RowBasedKeyValueBatch. Will not spill but return 0.\n",
      "24/10/01 19:39:58 WARN RowBasedKeyValueBatch: Calling spill() on RowBasedKeyValueBatch. Will not spill but return 0.\n",
      "24/10/01 19:40:28 WARN RowBasedKeyValueBatch: Calling spill() on RowBasedKeyValueBatch. Will not spill but return 0.\n",
      "24/10/01 19:40:28 WARN RowBasedKeyValueBatch: Calling spill() on RowBasedKeyValueBatch. Will not spill but return 0.\n",
      "24/10/01 19:40:28 WARN RowBasedKeyValueBatch: Calling spill() on RowBasedKeyValueBatch. Will not spill but return 0.\n",
      "24/10/01 19:40:28 WARN RowBasedKeyValueBatch: Calling spill() on RowBasedKeyValueBatch. Will not spill but return 0.\n",
      "24/10/01 19:40:29 WARN RowBasedKeyValueBatch: Calling spill() on RowBasedKeyValueBatch. Will not spill but return 0.\n",
      "24/10/01 19:40:29 WARN RowBasedKeyValueBatch: Calling spill() on RowBasedKeyValueBatch. Will not spill but return 0.\n",
      "24/10/01 19:40:29 WARN RowBasedKeyValueBatch: Calling spill() on RowBasedKeyValueBatch. Will not spill but return 0.\n",
      "24/10/01 19:40:29 WARN RowBasedKeyValueBatch: Calling spill() on RowBasedKeyValueBatch. Will not spill but return 0.\n",
      "24/10/01 19:40:31 WARN RowBasedKeyValueBatch: Calling spill() on RowBasedKeyValueBatch. Will not spill but return 0.\n",
      "24/10/01 19:40:31 WARN RowBasedKeyValueBatch: Calling spill() on RowBasedKeyValueBatch. Will not spill but return 0.\n",
      "24/10/01 19:40:31 WARN RowBasedKeyValueBatch: Calling spill() on RowBasedKeyValueBatch. Will not spill but return 0.\n",
      "24/10/01 19:40:32 WARN RowBasedKeyValueBatch: Calling spill() on RowBasedKeyValueBatch. Will not spill but return 0.\n",
      "24/10/01 19:40:36 WARN RowBasedKeyValueBatch: Calling spill() on RowBasedKeyValueBatch. Will not spill but return 0.\n",
      "24/10/01 19:40:36 WARN RowBasedKeyValueBatch: Calling spill() on RowBasedKeyValueBatch. Will not spill but return 0.\n",
      "24/10/01 19:40:36 WARN RowBasedKeyValueBatch: Calling spill() on RowBasedKeyValueBatch. Will not spill but return 0.\n",
      "24/10/01 19:40:36 WARN RowBasedKeyValueBatch: Calling spill() on RowBasedKeyValueBatch. Will not spill but return 0.\n",
      "24/10/01 19:40:36 WARN RowBasedKeyValueBatch: Calling spill() on RowBasedKeyValueBatch. Will not spill but return 0.\n",
      "24/10/01 19:40:36 WARN RowBasedKeyValueBatch: Calling spill() on RowBasedKeyValueBatch. Will not spill but return 0.\n",
      "24/10/01 19:40:36 WARN RowBasedKeyValueBatch: Calling spill() on RowBasedKeyValueBatch. Will not spill but return 0.\n",
      "24/10/01 19:40:36 WARN RowBasedKeyValueBatch: Calling spill() on RowBasedKeyValueBatch. Will not spill but return 0.\n",
      "24/10/01 19:40:37 WARN RowBasedKeyValueBatch: Calling spill() on RowBasedKeyValueBatch. Will not spill but return 0.\n",
      "24/10/01 19:40:37 WARN RowBasedKeyValueBatch: Calling spill() on RowBasedKeyValueBatch. Will not spill but return 0.\n",
      "24/10/01 19:40:37 WARN RowBasedKeyValueBatch: Calling spill() on RowBasedKeyValueBatch. Will not spill but return 0.\n",
      "24/10/01 19:40:38 WARN RowBasedKeyValueBatch: Calling spill() on RowBasedKeyValueBatch. Will not spill but return 0.\n",
      "                                                                                \r"
     ]
    },
    {
     "name": "stdout",
     "output_type": "stream",
     "text": [
      "+------------+----+----+-------------+--------------------+------------------+----------+------------+-----------------+---------+-------------+--------------------+----------------------------------+----------------------------------+-----------+\n",
      "|merchant_abn|week|year|merchant_name|         description|           revenue|male_count|female_count|undisclosed_count|num_trans|num_postcodes|num_unique_customers|average_consumer_fraud_probability|average_merchant_fraud_probability|fraud_count|\n",
      "+------------+----+----+-------------+--------------------+------------------+----------+------------+-----------------+---------+-------------+--------------------+----------------------------------+----------------------------------+-----------+\n",
      "| 10023283211|   8|2021|Felis Limited|furniture, home f...| 701.5666382388256|         0|           3|                0|        3|            3|                   3|                               0.0|                               0.0|          0|\n",
      "| 10023283211|   9|2021|Felis Limited|furniture, home f...| 6362.419840083083|        10|          14|                3|       27|           27|                  27|                               0.0|                               0.0|          0|\n",
      "| 10023283211|  10|2021|Felis Limited|furniture, home f...| 4706.012141334873|        12|          10|                1|       23|           23|                  23|                               0.0|                               0.0|          0|\n",
      "| 10023283211|  11|2021|Felis Limited|furniture, home f...|3536.8435527408296|        10|           4|                3|       17|           17|                  17|                               0.0|                               0.0|          0|\n",
      "| 10023283211|  12|2021|Felis Limited|furniture, home f...| 6796.619996449568|        16|          14|                0|       30|           30|                  30|                               0.0|                               0.0|          0|\n",
      "+------------+----+----+-------------+--------------------+------------------+----------+------------+-----------------+---------+-------------+--------------------+----------------------------------+----------------------------------+-----------+\n",
      "only showing top 5 rows\n",
      "\n"
     ]
    }
   ],
   "source": [
    "grouped_sdf = trans_final_sdf.groupBy(\"merchant_abn\",\n",
    "    F.weekofyear(\"order_datetime\").alias(\"week\"),\n",
    "    F.year(\"order_datetime\").alias(\"year\"), \"merchant_name\", \"description\").agg(\n",
    "    F.sum(\"dollar_value\").alias(\"revenue\"),\n",
    "    F.sum(F.when(F.col(\"gender\") == \"Male\", 1).otherwise(0)).alias(\"male_count\"),\n",
    "    F.sum(F.when(F.col(\"gender\") == \"Female\", 1).otherwise(0)).alias(\"female_count\"),\n",
    "    F.sum(F.when(F.col(\"gender\") == \"Undisclosed\", 1).otherwise(0)).alias(\"undisclosed_count\"),\n",
    "    F.count(\"order_id\").alias(\"num_trans\"),\n",
    "    F.count_distinct(\"postcode\").alias(\"num_postcodes\"),\n",
    "    F.count_distinct(\"user_id\").alias(\"num_unique_customers\"),\n",
    "    F.avg(\"consumer_fraud_probability\").alias(\"average_consumer_fraud_probability\"),\n",
    "    F.avg(\"merchant_fraud_probability\").alias(\"average_merchant_fraud_probability\"),\n",
    "    F.sum(F.when(F.col(\"is_fraud\") == \"true\", 1).otherwise(0)).alias(\"fraud_count\")\n",
    ")\n",
    "grouped_sdf = grouped_sdf.orderBy(\"merchant_abn\", \"year\", \"week\")\n",
    "grouped_sdf.show(5)"
   ]
  },
  {
   "cell_type": "code",
   "execution_count": 4,
   "metadata": {},
   "outputs": [
    {
     "name": "stderr",
     "output_type": "stream",
     "text": [
      "24/10/01 19:40:57 WARN RowBasedKeyValueBatch: Calling spill() on RowBasedKeyValueBatch. Will not spill but return 0.\n",
      "24/10/01 19:40:58 WARN RowBasedKeyValueBatch: Calling spill() on RowBasedKeyValueBatch. Will not spill but return 0.\n",
      "24/10/01 19:40:58 WARN RowBasedKeyValueBatch: Calling spill() on RowBasedKeyValueBatch. Will not spill but return 0.\n",
      "24/10/01 19:40:58 WARN RowBasedKeyValueBatch: Calling spill() on RowBasedKeyValueBatch. Will not spill but return 0.\n",
      "24/10/01 19:40:58 WARN RowBasedKeyValueBatch: Calling spill() on RowBasedKeyValueBatch. Will not spill but return 0.\n",
      "24/10/01 19:40:58 WARN RowBasedKeyValueBatch: Calling spill() on RowBasedKeyValueBatch. Will not spill but return 0.\n",
      "24/10/01 19:40:58 WARN RowBasedKeyValueBatch: Calling spill() on RowBasedKeyValueBatch. Will not spill but return 0.\n",
      "24/10/01 19:40:58 WARN RowBasedKeyValueBatch: Calling spill() on RowBasedKeyValueBatch. Will not spill but return 0.\n",
      "24/10/01 19:40:58 WARN RowBasedKeyValueBatch: Calling spill() on RowBasedKeyValueBatch. Will not spill but return 0.\n",
      "24/10/01 19:40:59 WARN RowBasedKeyValueBatch: Calling spill() on RowBasedKeyValueBatch. Will not spill but return 0.\n",
      "24/10/01 19:40:59 WARN RowBasedKeyValueBatch: Calling spill() on RowBasedKeyValueBatch. Will not spill but return 0.\n",
      "24/10/01 19:40:59 WARN RowBasedKeyValueBatch: Calling spill() on RowBasedKeyValueBatch. Will not spill but return 0.\n",
      "24/10/01 19:41:40 WARN RowBasedKeyValueBatch: Calling spill() on RowBasedKeyValueBatch. Will not spill but return 0.\n",
      "24/10/01 19:41:44 WARN RowBasedKeyValueBatch: Calling spill() on RowBasedKeyValueBatch. Will not spill but return 0.\n",
      "24/10/01 19:41:44 WARN RowBasedKeyValueBatch: Calling spill() on RowBasedKeyValueBatch. Will not spill but return 0.\n",
      "24/10/01 19:41:44 WARN RowBasedKeyValueBatch: Calling spill() on RowBasedKeyValueBatch. Will not spill but return 0.\n",
      "24/10/01 19:41:44 WARN RowBasedKeyValueBatch: Calling spill() on RowBasedKeyValueBatch. Will not spill but return 0.\n",
      "24/10/01 19:41:44 WARN RowBasedKeyValueBatch: Calling spill() on RowBasedKeyValueBatch. Will not spill but return 0.\n",
      "24/10/01 19:41:45 WARN RowBasedKeyValueBatch: Calling spill() on RowBasedKeyValueBatch. Will not spill but return 0.\n",
      "24/10/01 19:41:45 WARN RowBasedKeyValueBatch: Calling spill() on RowBasedKeyValueBatch. Will not spill but return 0.\n",
      "24/10/01 19:41:45 WARN RowBasedKeyValueBatch: Calling spill() on RowBasedKeyValueBatch. Will not spill but return 0.\n",
      "24/10/01 19:41:45 WARN RowBasedKeyValueBatch: Calling spill() on RowBasedKeyValueBatch. Will not spill but return 0.\n",
      "24/10/01 19:41:45 WARN RowBasedKeyValueBatch: Calling spill() on RowBasedKeyValueBatch. Will not spill but return 0.\n",
      "24/10/01 19:41:45 WARN RowBasedKeyValueBatch: Calling spill() on RowBasedKeyValueBatch. Will not spill but return 0.\n",
      "24/10/01 19:41:50 WARN RowBasedKeyValueBatch: Calling spill() on RowBasedKeyValueBatch. Will not spill but return 0.\n",
      "24/10/01 19:41:51 WARN RowBasedKeyValueBatch: Calling spill() on RowBasedKeyValueBatch. Will not spill but return 0.\n",
      "24/10/01 19:41:51 WARN RowBasedKeyValueBatch: Calling spill() on RowBasedKeyValueBatch. Will not spill but return 0.\n",
      "24/10/01 19:41:53 WARN RowBasedKeyValueBatch: Calling spill() on RowBasedKeyValueBatch. Will not spill but return 0.\n",
      "24/10/01 19:41:53 WARN RowBasedKeyValueBatch: Calling spill() on RowBasedKeyValueBatch. Will not spill but return 0.\n",
      "24/10/01 19:41:53 WARN RowBasedKeyValueBatch: Calling spill() on RowBasedKeyValueBatch. Will not spill but return 0.\n",
      "24/10/01 19:41:53 WARN RowBasedKeyValueBatch: Calling spill() on RowBasedKeyValueBatch. Will not spill but return 0.\n",
      "24/10/01 19:41:53 WARN RowBasedKeyValueBatch: Calling spill() on RowBasedKeyValueBatch. Will not spill but return 0.\n",
      "24/10/01 19:41:54 WARN RowBasedKeyValueBatch: Calling spill() on RowBasedKeyValueBatch. Will not spill but return 0.\n",
      "24/10/01 19:41:54 WARN RowBasedKeyValueBatch: Calling spill() on RowBasedKeyValueBatch. Will not spill but return 0.\n",
      "24/10/01 19:41:54 WARN RowBasedKeyValueBatch: Calling spill() on RowBasedKeyValueBatch. Will not spill but return 0.\n",
      "24/10/01 19:41:54 WARN RowBasedKeyValueBatch: Calling spill() on RowBasedKeyValueBatch. Will not spill but return 0.\n",
      "[Stage 10:===================================================>    (12 + 1) / 13]\r"
     ]
    },
    {
     "name": "stdout",
     "output_type": "stream",
     "text": [
      "+------------+----+----+-------------+--------------------+------------------+----------+------------+-----------------+---------+-------------+--------------------+----------------------------------+----------------------------------+-----------+------------------+\n",
      "|merchant_abn|week|year|merchant_name|         description|           revenue|male_count|female_count|undisclosed_count|num_trans|num_postcodes|num_unique_customers|average_consumer_fraud_probability|average_merchant_fraud_probability|fraud_count|    mean_trans_val|\n",
      "+------------+----+----+-------------+--------------------+------------------+----------+------------+-----------------+---------+-------------+--------------------+----------------------------------+----------------------------------+-----------+------------------+\n",
      "| 10023283211|   8|2021|Felis Limited|furniture, home f...| 701.5666382388256|         0|           3|                0|        3|            3|                   3|                               0.0|                               0.0|          0|233.85554607960853|\n",
      "| 10023283211|   9|2021|Felis Limited|furniture, home f...| 6362.419840083083|        10|          14|                3|       27|           27|                  27|                               0.0|                               0.0|          0| 235.6451792623364|\n",
      "| 10023283211|  10|2021|Felis Limited|furniture, home f...| 4706.012141334873|        12|          10|                1|       23|           23|                  23|                               0.0|                               0.0|          0|204.60922353629886|\n",
      "| 10023283211|  11|2021|Felis Limited|furniture, home f...|3536.8435527408296|        10|           4|                3|       17|           17|                  17|                               0.0|                               0.0|          0|208.04962074946056|\n",
      "| 10023283211|  12|2021|Felis Limited|furniture, home f...| 6796.619996449568|        16|          14|                0|       30|           30|                  30|                               0.0|                               0.0|          0|226.55399988165226|\n",
      "+------------+----+----+-------------+--------------------+------------------+----------+------------+-----------------+---------+-------------+--------------------+----------------------------------+----------------------------------+-----------+------------------+\n",
      "only showing top 5 rows\n",
      "\n"
     ]
    },
    {
     "name": "stderr",
     "output_type": "stream",
     "text": [
      "                                                                                \r"
     ]
    }
   ],
   "source": [
    "grouped_sdf=grouped_sdf.withColumn('mean_trans_val', grouped_sdf.revenue/grouped_sdf.num_trans)\n",
    "grouped_sdf.show(5)"
   ]
  },
  {
   "cell_type": "code",
   "execution_count": 5,
   "metadata": {},
   "outputs": [
    {
     "name": "stderr",
     "output_type": "stream",
     "text": [
      "24/10/01 19:42:12 WARN RowBasedKeyValueBatch: Calling spill() on RowBasedKeyValueBatch. Will not spill but return 0.\n",
      "24/10/01 19:42:12 WARN RowBasedKeyValueBatch: Calling spill() on RowBasedKeyValueBatch. Will not spill but return 0.\n",
      "24/10/01 19:42:12 WARN RowBasedKeyValueBatch: Calling spill() on RowBasedKeyValueBatch. Will not spill but return 0.\n",
      "24/10/01 19:42:12 WARN RowBasedKeyValueBatch: Calling spill() on RowBasedKeyValueBatch. Will not spill but return 0.\n",
      "24/10/01 19:42:12 WARN RowBasedKeyValueBatch: Calling spill() on RowBasedKeyValueBatch. Will not spill but return 0.\n",
      "24/10/01 19:42:13 WARN RowBasedKeyValueBatch: Calling spill() on RowBasedKeyValueBatch. Will not spill but return 0.\n",
      "24/10/01 19:42:13 WARN RowBasedKeyValueBatch: Calling spill() on RowBasedKeyValueBatch. Will not spill but return 0.\n",
      "24/10/01 19:42:13 WARN RowBasedKeyValueBatch: Calling spill() on RowBasedKeyValueBatch. Will not spill but return 0.\n",
      "24/10/01 19:42:13 WARN RowBasedKeyValueBatch: Calling spill() on RowBasedKeyValueBatch. Will not spill but return 0.\n",
      "24/10/01 19:42:13 WARN RowBasedKeyValueBatch: Calling spill() on RowBasedKeyValueBatch. Will not spill but return 0.\n",
      "24/10/01 19:42:14 WARN RowBasedKeyValueBatch: Calling spill() on RowBasedKeyValueBatch. Will not spill but return 0.\n",
      "24/10/01 19:42:14 WARN RowBasedKeyValueBatch: Calling spill() on RowBasedKeyValueBatch. Will not spill but return 0.\n",
      "24/10/01 19:42:25 WARN RowBasedKeyValueBatch: Calling spill() on RowBasedKeyValueBatch. Will not spill but return 0.\n",
      "24/10/01 19:42:25 WARN RowBasedKeyValueBatch: Calling spill() on RowBasedKeyValueBatch. Will not spill but return 0.\n",
      "24/10/01 19:42:47 WARN RowBasedKeyValueBatch: Calling spill() on RowBasedKeyValueBatch. Will not spill but return 0.\n",
      "24/10/01 19:42:47 WARN RowBasedKeyValueBatch: Calling spill() on RowBasedKeyValueBatch. Will not spill but return 0.\n",
      "24/10/01 19:42:47 WARN RowBasedKeyValueBatch: Calling spill() on RowBasedKeyValueBatch. Will not spill but return 0.\n",
      "24/10/01 19:42:47 WARN RowBasedKeyValueBatch: Calling spill() on RowBasedKeyValueBatch. Will not spill but return 0.\n",
      "24/10/01 19:42:47 WARN RowBasedKeyValueBatch: Calling spill() on RowBasedKeyValueBatch. Will not spill but return 0.\n",
      "24/10/01 19:42:47 WARN RowBasedKeyValueBatch: Calling spill() on RowBasedKeyValueBatch. Will not spill but return 0.\n",
      "24/10/01 19:42:47 WARN RowBasedKeyValueBatch: Calling spill() on RowBasedKeyValueBatch. Will not spill but return 0.\n",
      "24/10/01 19:42:47 WARN RowBasedKeyValueBatch: Calling spill() on RowBasedKeyValueBatch. Will not spill but return 0.\n",
      "24/10/01 19:42:47 WARN RowBasedKeyValueBatch: Calling spill() on RowBasedKeyValueBatch. Will not spill but return 0.\n",
      "24/10/01 19:42:48 WARN RowBasedKeyValueBatch: Calling spill() on RowBasedKeyValueBatch. Will not spill but return 0.\n",
      "24/10/01 19:42:48 WARN RowBasedKeyValueBatch: Calling spill() on RowBasedKeyValueBatch. Will not spill but return 0.\n",
      "24/10/01 19:42:48 WARN RowBasedKeyValueBatch: Calling spill() on RowBasedKeyValueBatch. Will not spill but return 0.\n",
      "24/10/01 19:42:51 WARN RowBasedKeyValueBatch: Calling spill() on RowBasedKeyValueBatch. Will not spill but return 0.\n",
      "24/10/01 19:42:51 WARN RowBasedKeyValueBatch: Calling spill() on RowBasedKeyValueBatch. Will not spill but return 0.\n",
      "24/10/01 19:42:52 WARN RowBasedKeyValueBatch: Calling spill() on RowBasedKeyValueBatch. Will not spill but return 0.\n",
      "24/10/01 19:42:52 WARN RowBasedKeyValueBatch: Calling spill() on RowBasedKeyValueBatch. Will not spill but return 0.\n",
      "24/10/01 19:42:52 WARN RowBasedKeyValueBatch: Calling spill() on RowBasedKeyValueBatch. Will not spill but return 0.\n",
      "24/10/01 19:42:52 WARN RowBasedKeyValueBatch: Calling spill() on RowBasedKeyValueBatch. Will not spill but return 0.\n",
      "24/10/01 19:42:52 WARN RowBasedKeyValueBatch: Calling spill() on RowBasedKeyValueBatch. Will not spill but return 0.\n",
      "24/10/01 19:42:52 WARN RowBasedKeyValueBatch: Calling spill() on RowBasedKeyValueBatch. Will not spill but return 0.\n",
      "24/10/01 19:42:52 WARN RowBasedKeyValueBatch: Calling spill() on RowBasedKeyValueBatch. Will not spill but return 0.\n",
      "24/10/01 19:42:52 WARN RowBasedKeyValueBatch: Calling spill() on RowBasedKeyValueBatch. Will not spill but return 0.\n",
      "24/10/01 19:42:52 WARN RowBasedKeyValueBatch: Calling spill() on RowBasedKeyValueBatch. Will not spill but return 0.\n",
      "24/10/01 19:42:53 WARN RowBasedKeyValueBatch: Calling spill() on RowBasedKeyValueBatch. Will not spill but return 0.\n",
      "                                                                                \r"
     ]
    }
   ],
   "source": [
    "grouped_sdf.coalesce(1).write.csv('../data/curated/revenue.csv', header=True)"
   ]
  }
 ],
 "metadata": {
  "kernelspec": {
   "display_name": "Python 3",
   "language": "python",
   "name": "python3"
  },
  "language_info": {
   "codemirror_mode": {
    "name": "ipython",
    "version": 3
   },
   "file_extension": ".py",
   "mimetype": "text/x-python",
   "name": "python",
   "nbconvert_exporter": "python",
   "pygments_lexer": "ipython3",
   "version": "3.10.12"
  }
 },
 "nbformat": 4,
 "nbformat_minor": 2
}
