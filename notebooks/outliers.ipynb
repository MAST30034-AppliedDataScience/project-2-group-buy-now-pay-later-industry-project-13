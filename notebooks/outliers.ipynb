{
 "cells": [
  {
   "cell_type": "markdown",
   "metadata": {},
   "source": [
    "# Project 2 - Group 13 - Outlier Analysis"
   ]
  },
  {
   "cell_type": "code",
   "execution_count": 1,
   "metadata": {},
   "outputs": [
    {
     "name": "stderr",
     "output_type": "stream",
     "text": [
      "your 131072x1 screen size is bogus. expect trouble\n",
      "24/09/19 13:29:32 WARN Utils: Your hostname, AshwinHPEnvy resolves to a loopback address: 127.0.1.1; using 10.255.255.254 instead (on interface lo)\n",
      "24/09/19 13:29:32 WARN Utils: Set SPARK_LOCAL_IP if you need to bind to another address\n",
      "Setting default log level to \"WARN\".\n",
      "To adjust logging level use sc.setLogLevel(newLevel). For SparkR, use setLogLevel(newLevel).\n",
      "24/09/19 13:29:33 WARN NativeCodeLoader: Unable to load native-hadoop library for your platform... using builtin-java classes where applicable\n"
     ]
    }
   ],
   "source": [
    "from pyspark.sql import SparkSession\n",
    "\n",
    "# Create a spark session (which will run spark jobs)\n",
    "spark = (\n",
    "    SparkSession.builder.appName(\"MAST30034 Project 2\")\n",
    "    .config(\"spark.sql.repl.eagerEval.enabled\", True) \n",
    "    .config(\"spark.sql.parquet.cacheMetadata\", \"true\")\n",
    "    .config(\"spark.sql.session.timeZone\", \"Etc/UTC\")\n",
    "    .config(\"spark.executor.memory\", \"8g\")\n",
    "    .config(\"spark.driver.memory\", \"8g\")\n",
    "    .getOrCreate()\n",
    ")"
   ]
  },
  {
   "cell_type": "code",
   "execution_count": 2,
   "metadata": {},
   "outputs": [
    {
     "name": "stderr",
     "output_type": "stream",
     "text": [
      "                                                                                \r"
     ]
    }
   ],
   "source": [
    "trans_final_sdf = spark.read.parquet('../data/merged/transactions_POA_PI.parquet')"
   ]
  },
  {
   "cell_type": "markdown",
   "metadata": {},
   "source": [
    "## 1. Impute null values"
   ]
  },
  {
   "cell_type": "code",
   "execution_count": 3,
   "metadata": {},
   "outputs": [
    {
     "name": "stdout",
     "output_type": "stream",
     "text": [
      "root\n",
      " |-- user_id: long (nullable = true)\n",
      " |-- merchant_abn: long (nullable = true)\n",
      " |-- dollar_value: double (nullable = true)\n",
      " |-- order_id: string (nullable = true)\n",
      " |-- order_datetime: date (nullable = true)\n",
      " |-- merchant_name: string (nullable = true)\n",
      " |-- tags: string (nullable = true)\n",
      " |-- consumer_id: long (nullable = true)\n",
      " |-- name: string (nullable = true)\n",
      " |-- address: string (nullable = true)\n",
      " |-- state: string (nullable = true)\n",
      " |-- postcode: integer (nullable = true)\n",
      " |-- gender: string (nullable = true)\n",
      " |-- consumer_fraud_order_datetime: date (nullable = true)\n",
      " |-- consumer_fraud_probability: double (nullable = true)\n",
      " |-- merchant_fraud_order_datetime: date (nullable = true)\n",
      " |-- merchant_fraud_probability: double (nullable = true)\n",
      " |-- LOCALITY_NAME: string (nullable = true)\n",
      " |-- list_SA2_CODE: array (nullable = true)\n",
      " |    |-- element: integer (containsNull = true)\n",
      " |-- list_ERP: array (nullable = true)\n",
      " |    |-- element: integer (containsNull = true)\n",
      " |-- list_num_earners: array (nullable = true)\n",
      " |    |-- element: integer (containsNull = true)\n",
      " |-- list_total_income_($M): array (nullable = true)\n",
      " |    |-- element: double (containsNull = true)\n",
      " |-- list_mean_income: array (nullable = true)\n",
      " |    |-- element: double (containsNull = true)\n",
      " |-- postcode_ERP: integer (nullable = true)\n",
      " |-- postcode_num_earners: integer (nullable = true)\n",
      " |-- postcode_total_income_($M): double (nullable = true)\n",
      " |-- postcode_mean_income: double (nullable = true)\n",
      "\n"
     ]
    }
   ],
   "source": [
    "trans_final_sdf.printSchema()"
   ]
  },
  {
   "cell_type": "code",
   "execution_count": 4,
   "metadata": {},
   "outputs": [],
   "source": [
    "from pyspark.sql import functions as F"
   ]
  },
  {
   "cell_type": "code",
   "execution_count": 5,
   "metadata": {},
   "outputs": [
    {
     "name": "stderr",
     "output_type": "stream",
     "text": [
      "24/09/19 13:29:39 WARN SparkStringUtils: Truncated the string representation of a plan since it was too large. This behavior can be adjusted by setting 'spark.sql.debug.maxToStringFields'.\n",
      "                                                                                \r"
     ]
    },
    {
     "name": "stdout",
     "output_type": "stream",
     "text": [
      "+-------+------------+------------+--------+--------------+-------------+------+-----------+----+-------+-----+--------+------+-----------------------------+--------------------------+-----------------------------+--------------------------+-------------+-------------+--------+----------------+----------------------+----------------+------------+--------------------+--------------------------+--------------------+\n",
      "|user_id|merchant_abn|dollar_value|order_id|order_datetime|merchant_name|  tags|consumer_id|name|address|state|postcode|gender|consumer_fraud_order_datetime|consumer_fraud_probability|merchant_fraud_order_datetime|merchant_fraud_probability|LOCALITY_NAME|list_SA2_CODE|list_ERP|list_num_earners|list_total_income_($M)|list_mean_income|postcode_ERP|postcode_num_earners|postcode_total_income_($M)|postcode_mean_income|\n",
      "+-------+------------+------------+--------+--------------+-------------+------+-----------+----+-------+-----+--------+------+-----------------------------+--------------------------+-----------------------------+--------------------------+-------------+-------------+--------+----------------+----------------------+----------------+------------+--------------------+--------------------------+--------------------+\n",
      "|      0|           0|           0|       0|             0|       580863|580863|          0|   0|      0|    0|       0|     0|                     14115157|                  14115157|                     14191623|                  14191623|      2337907|      2337907| 2337907|         2337907|               2337907|         2337907|     2337907|             2337907|                   2337907|             2337907|\n",
      "+-------+------------+------------+--------+--------------+-------------+------+-----------+----+-------+-----+--------+------+-----------------------------+--------------------------+-----------------------------+--------------------------+-------------+-------------+--------+----------------+----------------------+----------------+------------+--------------------+--------------------------+--------------------+\n",
      "\n"
     ]
    }
   ],
   "source": [
    "# Count the number of null values in each column\n",
    "null_counts = trans_final_sdf.select([F.sum(F.col(c).isNull().cast(\"int\")).alias(c) for c in trans_final_sdf.columns])\n",
    "null_counts.show()"
   ]
  },
  {
   "cell_type": "code",
   "execution_count": 6,
   "metadata": {},
   "outputs": [],
   "source": [
    "# impute null values as 0 in the fraud probability rows (as these transactions were not fraudulent)\n",
    "trans_final_sdf = trans_final_sdf.fillna(\n",
    "    {'consumer_fraud_probability': 0, 'merchant_fraud_probability': 0}\n",
    ")"
   ]
  },
  {
   "cell_type": "code",
   "execution_count": 7,
   "metadata": {},
   "outputs": [
    {
     "name": "stdout",
     "output_type": "stream",
     "text": [
      "root\n",
      " |-- user_id: long (nullable = true)\n",
      " |-- merchant_abn: long (nullable = true)\n",
      " |-- dollar_value: double (nullable = true)\n",
      " |-- order_id: string (nullable = true)\n",
      " |-- order_datetime: date (nullable = true)\n",
      " |-- merchant_name: string (nullable = true)\n",
      " |-- tags: string (nullable = true)\n",
      " |-- consumer_id: long (nullable = true)\n",
      " |-- name: string (nullable = true)\n",
      " |-- address: string (nullable = true)\n",
      " |-- state: string (nullable = true)\n",
      " |-- postcode: integer (nullable = true)\n",
      " |-- gender: string (nullable = true)\n",
      " |-- consumer_fraud_probability: double (nullable = false)\n",
      " |-- merchant_fraud_probability: double (nullable = false)\n",
      " |-- LOCALITY_NAME: string (nullable = true)\n",
      " |-- list_SA2_CODE: array (nullable = true)\n",
      " |    |-- element: integer (containsNull = true)\n",
      " |-- list_ERP: array (nullable = true)\n",
      " |    |-- element: integer (containsNull = true)\n",
      " |-- list_num_earners: array (nullable = true)\n",
      " |    |-- element: integer (containsNull = true)\n",
      " |-- list_total_income_($M): array (nullable = true)\n",
      " |    |-- element: double (containsNull = true)\n",
      " |-- list_mean_income: array (nullable = true)\n",
      " |    |-- element: double (containsNull = true)\n",
      " |-- postcode_ERP: integer (nullable = true)\n",
      " |-- postcode_num_earners: integer (nullable = true)\n",
      " |-- postcode_total_income_($M): double (nullable = true)\n",
      " |-- postcode_mean_income: double (nullable = true)\n",
      "\n"
     ]
    }
   ],
   "source": [
    "# Remove rows with null \"merchant_name\" (and therefore tags)\n",
    "trans_final_sdf = trans_final_sdf.filter(trans_final_sdf.merchant_name.isNotNull())\n",
    "\n",
    "# Remove 'consumer_fraud_order_datetime' and 'merchant_fraud_order_datetime' columns, given that \n",
    "trans_final_sdf = trans_final_sdf.drop(\"consumer_fraud_order_datetime\", \"merchant_fraud_order_datetime\")\n",
    "\n",
    "trans_final_sdf.printSchema()"
   ]
  },
  {
   "cell_type": "markdown",
   "metadata": {},
   "source": [
    "## 2. Conduct outlier analysis"
   ]
  },
  {
   "cell_type": "code",
   "execution_count": 8,
   "metadata": {},
   "outputs": [
    {
     "name": "stderr",
     "output_type": "stream",
     "text": [
      "[Stage 4:================================================>        (12 + 2) / 14]\r"
     ]
    },
    {
     "name": "stdout",
     "output_type": "stream",
     "text": [
      "+------------------------------+------------------------------+------------------------------+------------------------------+\n",
      "|max_merchant_fraud_probability|min_merchant_fraud_probability|max_consumer_fraud_probability|min_consumer_fraud_probability|\n",
      "+------------------------------+------------------------------+------------------------------+------------------------------+\n",
      "|             91.09606847149965|                           0.0|              97.6298077657765|                           0.0|\n",
      "+------------------------------+------------------------------+------------------------------+------------------------------+\n",
      "\n"
     ]
    },
    {
     "name": "stderr",
     "output_type": "stream",
     "text": [
      "                                                                                \r"
     ]
    }
   ],
   "source": [
    "# Cast fraud probability columns to double\n",
    "trans_final_sdf = trans_final_sdf.withColumn(\"merchant_fraud_probability\", F.col(\"merchant_fraud_probability\").cast(\"double\"))\n",
    "trans_final_sdf = trans_final_sdf.withColumn(\"consumer_fraud_probability\", F.col(\"consumer_fraud_probability\").cast(\"double\"))\n",
    "\n",
    "# Calculate the maximum and minimum values of fraud probabilities\n",
    "fraud_stats = trans_final_sdf.agg(\n",
    "    F.max(\"merchant_fraud_probability\").alias(\"max_merchant_fraud_probability\"),\n",
    "    F.min(\"merchant_fraud_probability\").alias(\"min_merchant_fraud_probability\"),\n",
    "    F.max(\"consumer_fraud_probability\").alias(\"max_consumer_fraud_probability\"),\n",
    "    F.min(\"consumer_fraud_probability\").alias(\"min_consumer_fraud_probability\")\n",
    ")\n",
    "\n",
    "# Show the results\n",
    "fraud_stats.show()"
   ]
  },
  {
   "cell_type": "code",
   "execution_count": 9,
   "metadata": {},
   "outputs": [],
   "source": [
    "import matplotlib.pyplot as plt\n",
    "import seaborn as sns"
   ]
  },
  {
   "cell_type": "code",
   "execution_count": 10,
   "metadata": {},
   "outputs": [
    {
     "name": "stderr",
     "output_type": "stream",
     "text": [
      "                                                                                \r"
     ]
    },
    {
     "data": {
      "image/png": "[encoded data removed]",
      "text/plain": [
       "<Figure size 1400x600 with 1 Axes>"
      ]
     },
     "metadata": {},
     "output_type": "display_data"
    }
   ],
   "source": [
    "# Analyse the distribution of the dollar values across all transactions  \n",
    "\n",
    "transactions_df_sampled = trans_final_sdf.sample(fraction=0.05, seed=42)\n",
    "\n",
    "transactions_df_pd = transactions_df_sampled.select(\"dollar_value\").toPandas()\n",
    "\n",
    "plt.figure(figsize=(14, 6))\n",
    "\n",
    "sns.histplot(transactions_df_pd['dollar_value'], color='red', kde=True)\n",
    "plt.title('Histogram of Dollar Values')\n",
    "plt.xlabel('Dollar Value')\n",
    "plt.ylabel('Frequency')\n",
    "plt.show()"
   ]
  },
  {
   "cell_type": "code",
   "execution_count": 11,
   "metadata": {},
   "outputs": [
    {
     "name": "stdout",
     "output_type": "stream",
     "text": [
      "Number of transactions with dollar value > $40000: 76\n"
     ]
    },
    {
     "name": "stderr",
     "output_type": "stream",
     "text": [
      "                                                                                \r"
     ]
    },
    {
     "name": "stdout",
     "output_type": "stream",
     "text": [
      "+-------+------------+------------------+--------------------+--------------+--------------------+--------------------+-----------+--------------------+--------------------+-----+--------+-----------+--------------------------+--------------------------+--------------------+--------------------+--------------------+--------------------+----------------------+--------------------+------------+--------------------+--------------------------+--------------------+\n",
      "|user_id|merchant_abn|      dollar_value|            order_id|order_datetime|       merchant_name|                tags|consumer_id|                name|             address|state|postcode|     gender|consumer_fraud_probability|merchant_fraud_probability|       LOCALITY_NAME|       list_SA2_CODE|            list_ERP|    list_num_earners|list_total_income_($M)|    list_mean_income|postcode_ERP|postcode_num_earners|postcode_total_income_($M)|postcode_mean_income|\n",
      "+-------+------------+------------------+--------------------+--------------+--------------------+--------------------+-----------+--------------------+--------------------+-----+--------+-----------+--------------------------+--------------------------+--------------------+--------------------+--------------------+--------------------+----------------------+--------------------+------------+--------------------+--------------------------+--------------------+\n",
      "|  15790| 83199298021|47538.554825796426|0ab97f87-a86b-4ba...|    2021-12-30|Ligula Elit Preti...|[[antique shops -...|     430052|      Rachel Chapman|    2672 Keith Walks|   SA|    5655|     Female|         71.77065889280253|         23.99859726586608|          BOCKELBERG|[406011134, 40602...|        [3837, 1982]|         [1906, 944]|          [99.6, 49.8]|  [52271.0, 52729.0]|        5819|                2850|        149.39999999999998|   52421.05263157894|\n",
      "|  15790| 83199298021|47538.554825796426|0ab97f87-a86b-4ba...|    2021-12-30|Ligula Elit Preti...|[[antique shops -...|     430052|      Rachel Chapman|    2672 Keith Walks|   SA|    5655|     Female|         71.77065889280253|         23.99859726586608|          BOCKELBERG|[406011134, 40602...|        [3837, 1982]|         [1906, 944]|          [99.6, 49.8]|  [52271.0, 52729.0]|        5819|                2850|        149.39999999999998|   52421.05263157894|\n",
      "|  15800| 51425051982| 41487.86544895297|22f3f4e5-92dc-47e...|    2021-10-07|     Sem Corporation|((antique shops -...|     323507|      Pamela Coleman|140 Parrish Corne...|   SA|    5942|     Female|         74.61775413435402|                       0.0|                NULL|                NULL|                NULL|                NULL|                  NULL|                NULL|        NULL|                NULL|                      NULL|                NULL|\n",
      "|  15800| 51425051982| 41487.86544895297|22f3f4e5-92dc-47e...|    2021-10-07|     Sem Corporation|((antique shops -...|     323507|      Pamela Coleman|140 Parrish Corne...|   SA|    5942|     Female|         74.61775413435402|                       0.0|                NULL|                NULL|                NULL|                NULL|                  NULL|                NULL|        NULL|                NULL|                      NULL|                NULL|\n",
      "|  20994| 79100970961|49913.303655381416|58146ab6-3f7d-4d2...|    2022-08-19|Nunc Quisque Orna...|[[antique shops -...|    1429753|   Benjamin Williams|32982 Hall Wells ...|   SA|    5413|       Male|                       0.0|                       0.0|             APOINGA|[405021118, 40502...|        [4141, 5130]|        [2136, 2833]|         [89.8, 146.4]|  [42051.0, 51681.0]|        9271|                4969|                     236.2|  47534.715234453615|\n",
      "|  21751| 83199298021| 71382.17605383882|fe9edd35-c895-410...|    2022-09-23|Ligula Elit Preti...|[[antique shops -...|    1182408|      Justin Charles|6833 Timothy Clif...|  TAS|    7163|       Male|                       0.0|                       0.0|           FLOWERPOT|         [603021069]|              [3585]|              [1962]|               [104.0]|           [53030.0]|        3585|                1962|                     104.0|             53030.0|\n",
      "|   4473| 96730987906| 44323.16186139491|16a4c4cf-b669-483...|    2022-09-19|Mattis Ornare Lec...|[[antique shops -...|     135321|        Mark Holland| 48001 Jonathan Neck|  VIC|    3925|       Male|                       0.0|                       0.0|          BACK BEACH|[205031093, 20503...|      [28254, 14273]|       [13355, 6891]|        [683.1, 340.1]|  [51152.0, 49353.0]|       42527|               20246|                    1023.2|   50538.37795120024|\n",
      "|   6143| 11149063370|  48780.4794246061|a2684111-3703-4f3...|    2022-08-06|     Et Arcu Limited|([art dealers and...|     362845|      Jonathan Mccoy|970 Roberts Manor...|  TAS|    7109|       Male|                       0.0|                       0.0|    BIG LAGOON BEACH|[603021072, 60104...|[10093, 8664, 506...|[5143, 4803, 2502...|  [272.4, 284.5, 14...|[52973.0, 59237.0...|       28115|               14482|                     795.0|   54895.73263361414|\n",
      "|   6383| 14530561097| 46001.13901942742|00f150fa-dc82-43d...|    2021-09-15|        Duis At Inc.|[[jewelry, watch,...|      25238|        Madison West|    275 Patton Plaza|  QLD|    4230|Undisclosed|          66.2676451623754|         80.80054474543395|                NULL|                NULL|                NULL|                NULL|                  NULL|                NULL|        NULL|                NULL|                      NULL|                NULL|\n",
      "|   6383| 14530561097| 46001.13901942742|00f150fa-dc82-43d...|    2021-09-15|        Duis At Inc.|[[jewelry, watch,...|      25238|        Madison West|    275 Patton Plaza|  QLD|    4230|Undisclosed|          66.2676451623754|         80.80054474543395|                NULL|                NULL|                NULL|                NULL|                  NULL|                NULL|        NULL|                NULL|                      NULL|                NULL|\n",
      "|    230| 11149063370|47346.113374357374|6c3eb0dc-1235-4e1...|    2021-08-28|     Et Arcu Limited|([art dealers and...|     187071|       Fernando Reed|8652 Charles Vill...|  NSW|    2791|       Male|         86.28328808934151|         56.43761254995139|             CARCOAR|         [103041076]|              [7662]|              [4070]|               [240.5]|           [59097.0]|        7662|                4070|                     240.5|             59097.0|\n",
      "|    230| 11149063370|47346.113374357374|6c3eb0dc-1235-4e1...|    2021-08-28|     Et Arcu Limited|([art dealers and...|     187071|       Fernando Reed|8652 Charles Vill...|  NSW|    2791|       Male|         86.28328808934151|         56.43761254995139|             CARCOAR|         [103041076]|              [7662]|              [4070]|               [240.5]|           [59097.0]|        7662|                4070|                     240.5|             59097.0|\n",
      "|  18658| 97884414539| 44615.02252113347|b89f04f6-13fb-4ec...|    2021-10-19|      Ut Corporation|((antique shops -...|     288499|      Michael George|     905 George Isle|  VIC|    3216|       Male|         82.98609082999361|         89.79919971536573|             BELMONT|[203021037, 20302...|[14993, 26663, 25...|[8728, 14382, 145...|  [506.1, 946.08500...|[57985.0, 65782.5...|       79529|               45268|        2967.9754999999996|   65564.53786339135|\n",
      "|  18658| 97884414539| 44615.02252113347|b89f04f6-13fb-4ec...|    2021-10-19|      Ut Corporation|((antique shops -...|     288499|      Michael George|     905 George Isle|  VIC|    3216|       Male|         82.98609082999361|         89.79919971536573|             BELMONT|[203021037, 20302...|[14993, 26663, 25...|[8728, 14382, 145...|  [506.1, 946.08500...|[57985.0, 65782.5...|       79529|               45268|        2967.9754999999996|   65564.53786339135|\n",
      "|  22239| 67264251405|51876.637563877644|09206be9-492c-414...|    2021-10-19|Elit Dictum Eu Fo...|((art dealers and...|     184299|      George Mendoza|156 Alexander Vil...|  VIC|    3813|       Male|         94.70342477508035|         18.21089142894488|              BUNYIP|         [212011547]|             [10193]|              [6044]|   [400.1629999999999]| [66208.30575777628]|       10193|                6044|         400.1629999999999|   66208.30575777628|\n",
      "|  22239| 67264251405|51876.637563877644|09206be9-492c-414...|    2021-10-19|Elit Dictum Eu Fo...|((art dealers and...|     184299|      George Mendoza|156 Alexander Vil...|  VIC|    3813|       Male|         94.70342477508035|         18.21089142894488|              BUNYIP|         [212011547]|             [10193]|              [6044]|   [400.1629999999999]| [66208.30575777628]|       10193|                6044|         400.1629999999999|   66208.30575777628|\n",
      "|  10725| 56554875815| 48194.87652438341|f2ac7c10-e16e-4a5...|    2022-03-07|Ipsum Porta Elit ...|([antIque shops -...|     687415|        Michael Holt|     37716 Sosa Cove|  VIC|    3522|       Male|                       0.0|                       0.0|       EAST GLENHOPE|         [204011060]|              [4566]|              [2428]|               [144.7]|           [59585.0]|        4566|                2428|                     144.7|             59585.0|\n",
      "|   5187| 99358609752| 43352.48820023092|d85d81f3-4d59-414...|    2021-07-15|Egestas Nunc Cons...|([antique shops -...|    1332453|      Carl Hernandez|56389 Chan Wells ...|   WA|    6158|       Male|                       0.0|                       0.0|         E FREMANTLE|         [507021164]|              [8222]|              [4960]|               [496.4]|          [100078.0]|        8222|                4960|                     496.4|            100078.0|\n",
      "|  15110| 11149063370| 44013.84478981606|91b9b445-e6e5-4a3...|    2021-05-21|     Et Arcu Limited|([art dealers and...|     956570|      Antonio Nelson|060 Kevin Circle ...|  QLD|    4313|       Male|         66.45289563935754|                       0.0|              BIARRA|[313031370, 31002...|        [6016, 5194]|        [3273, 2393]|        [164.5, 118.5]|  [50245.0, 49501.0]|       11210|                5666|                     283.0|   49947.05259442287|\n",
      "|   1433| 91880575299|41393.611025980696|fa3eb43d-51da-492...|    2022-05-20|       At Foundation|((antique shops -...|     627256|      Jennifer Perez|2790 Susan Shore ...|   SA|    5066|     Female|                       0.0|                       0.0|            BEAUMONT|[401031012, 40103...|[10527, 17074, 19...|[6691, 11024, 12467]|  [619.9, 1012.8, 1...|[92642.0, 91874.0...|       47444|               30182|        2747.7999999999997|    91041.0178251938|\n",
      "|   7900| 79931898050|44096.576919400875|3ae9691d-bda8-42a...|    2022-07-31|Nascetur Ridiculu...|[(antique shops -...|    1220046| Christopher Meadows|124 Joyce Crossro...|  NSW|    1119|       Male|                       0.0|                       0.0|                NULL|                NULL|                NULL|                NULL|                  NULL|                NULL|        NULL|                NULL|                      NULL|                NULL|\n",
      "|  10659| 54860127682| 41702.17398512981|b204d8b2-d673-421...|    2022-07-21|Laoreet Posuere E...|[(antique shops -...|     254861|        Steve Hooper|260 Jacob Forks S...|  VIC|    3178|       Male|                       0.0|                       0.0|            ROWVILLE|         [211011256]|             [15702]|              [9831]|               [611.0]|           [62155.0]|       15702|                9831|                     611.0|             62155.0|\n",
      "|  16087| 83199298021| 42011.69531243195|fb613f0f-c399-42b...|    2022-08-01|Ligula Elit Preti...|[[antique shops -...|     913653|        Dawn Escobar|81221 Carter Dale...|  NSW|    1150|     Female|                       0.0|                       0.0|                NULL|                NULL|                NULL|                NULL|                  NULL|                NULL|        NULL|                NULL|                      NULL|                NULL|\n",
      "|   7047| 41001282470| 51787.36859069319|671d3761-8ef7-4ff...|    2022-04-18|              Eu Ltd|((antique shops -...|     244869|     Derrick Jackson|26633 Nicholas Glens|  TAS|    7466|       Male|                       0.0|                       0.0|          GORMANSTON|         [604031097]|              [4359]|              [1970]|               [120.5]|           [61155.0]|        4359|                1970|                     120.5|             61155.0|\n",
      "|   3489| 58495294020|64309.577211019314|c8ec3d69-eb75-442...|    2022-04-22|Diam Nunc Associates|((jewelry, watch,...|     658082|    Marcus Hernandez|   7394 Steven Mills|  VIC|    3082|       Male|                       0.0|                       0.0|           MILL PARK|         [209041220]|             [17449]|             [10867]|               [637.6]|           [58673.0]|       17449|               10867|                     637.6|             58673.0|\n",
      "|  12934| 74837094867| 40830.23507998117|fa6ec1f1-fbe1-437...|    2022-07-07|Quisque Ornare To...|([antique shops -...|      23166|        Briana Smith| 84390 Susan Orchard|  VIC|    3037|     Female|                       0.0|                       0.0|          BAIRNSDALE|[213041575, 21301...|[16143, 16927, 80...|[8649, 10915, 443...|  [665.106000000001...|[76899.7571973640...|       72785|               41744|        2690.2060000000015|   64445.33346109624|\n",
      "|  20118| 86889657711|42835.547522320136|e01d91c3-a38c-4e9...|    2021-09-05|Accumsan Corporation|[(jewelRy, watch,...|    1422382|        Joann Wilson|3379 Andrew Hollo...|  NSW|    2020|Undisclosed|         80.34030486265003|         63.21222581102351|              MASCOT|         [117011635]|             [23036]|             [12180]|  [1138.9719999999977]| [93511.65845648585]|       23036|               12180|        1138.9719999999977|   93511.65845648585|\n",
      "|  20118| 86889657711|42835.547522320136|e01d91c3-a38c-4e9...|    2021-09-05|Accumsan Corporation|[(jewelRy, watch,...|    1422382|        Joann Wilson|3379 Andrew Hollo...|  NSW|    2020|Undisclosed|         80.34030486265003|         63.21222581102351|              MASCOT|         [117011635]|             [23036]|             [12180]|  [1138.9719999999977]| [93511.65845648585]|       23036|               12180|        1138.9719999999977|   93511.65845648585|\n",
      "|   5233| 15043504837| 47381.93709086238|d4afd2e7-0362-48b...|    2021-08-29|   Odio Incorporated|([jewelry, watch,...|     596242|         Ryan Harris|2199 Nelson Roads...|  VIC|    3597|       Male|         85.87123303878818|         59.77648897297805|            HAYSDALE|         [215031405]|              [6512]|              [3739]|               [192.9]|           [51604.0]|        6512|                3739|                     192.9|             51604.0|\n",
      "|   5233| 15043504837| 47381.93709086238|d4afd2e7-0362-48b...|    2021-08-29|   Odio Incorporated|([jewelry, watch,...|     596242|         Ryan Harris|2199 Nelson Roads...|  VIC|    3597|       Male|         85.87123303878818|         59.77648897297805|            HAYSDALE|         [215031405]|              [6512]|              [3739]|               [192.9]|           [51604.0]|        6512|                3739|                     192.9|             51604.0|\n",
      "|  19479| 19492220327| 43409.81048920675|f4c3c596-4768-441...|    2021-05-20|Commodo Ipsum Ind...|([jewelry, watch,...|    1258804|        Sarah Carter|889 Calderon Fork...|  NSW|    2219|     Female|                       0.0|                       0.0|         DOLLS POINT|         [119041382]|             [16720]|             [10029]|               [741.2]|           [73904.0]|       16720|               10029|                     741.2|             73904.0|\n",
      "|  23700| 11590404675| 65660.03308418578|1d8f2322-d8c8-46c...|    2021-08-26|         Arcu Sed PC|((antique shops -...|    1319595|       Angela Harris|   572 Shannon Plaza|  NSW|    1212|Undisclosed|         75.16555491373008|                       0.0|                NULL|                NULL|                NULL|                NULL|                  NULL|                NULL|        NULL|                NULL|                      NULL|                NULL|\n",
      "|  23700| 11590404675| 65660.03308418578|1d8f2322-d8c8-46c...|    2021-08-26|         Arcu Sed PC|((antique shops -...|    1319595|       Angela Harris|   572 Shannon Plaza|  NSW|    1212|Undisclosed|         75.16555491373008|                       0.0|                NULL|                NULL|                NULL|                NULL|                  NULL|                NULL|        NULL|                NULL|                      NULL|                NULL|\n",
      "|  18916| 83199298021| 59223.92657075801|61fe4fa3-f199-4a1...|    2021-08-08|Ligula Elit Preti...|[[antique shops -...|    1380769|         Tracy Short|   1636 Davis Plains|   WA|    6913|     Female|         62.63626896954548|                       0.0|                NULL|                NULL|                NULL|                NULL|                  NULL|                NULL|        NULL|                NULL|                      NULL|                NULL|\n",
      "|  10428| 54860127682|51618.337208028475|572fa5c4-72f8-4ad...|    2021-07-17|Laoreet Posuere E...|[(antique shops -...|    1277505|       Richard Jones|   5032 William Glen|   SA|    5069|       Male|                       0.0|                       0.0|        COLLEGE PARK|         [401051019]|             [14085]|              [8713]|               [749.9]|           [86072.0]|       14085|                8713|                     749.9|             86072.0|\n",
      "|  11175| 31334588839| 41160.91552130273|0a6929d0-2a76-46e...|    2021-04-01|Lacus Aliquam Cor...|[(antique shops -...|    1177532|   Michael Rodriguez|14036 Jason Mall ...|  QLD|    4406|       Male|        42.538782269783056|                       0.0|              BAIGIN|[307011178, 30702...|       [3971, 17682]|        [1709, 9451]|         [46.4, 500.7]|  [27168.0, 52979.0]|       21653|               11160|                     547.1|  49023.297491039426|\n",
      "|  13492| 83199298021|42423.651280322534|f387a556-8246-445...|    2021-03-25|Ligula Elit Preti...|[[antique shops -...|     622623|  Melissa Richardson|    97727 Jason Club|  NSW|    1158|     Female|                       0.0|         69.08556869902988|                NULL|                NULL|                NULL|                NULL|                  NULL|                NULL|        NULL|                NULL|                      NULL|                NULL|\n",
      "|  23291| 86889657711|  49159.6984712506|878bcb4a-e977-482...|    2021-03-14|Accumsan Corporation|[(jewelRy, watch,...|     891091|      Ryan Rodriguez|   1347 Clark Summit|  VIC|    3911|       Male|         70.80861807150015|                       0.0|              BAXTER|[214011374, 21402...|      [25563, 18809]|      [14805, 11353]|        [942.8, 710.6]|  [63682.0, 62592.0]|       44372|               26158|                    1653.4|  63208.196345286335|\n",
      "|  16391| 58495294020| 57541.59534772687|8717210d-9072-4e3...|    2021-03-13|Diam Nunc Associates|((jewelry, watch,...|     537248|    Dr. Caleb Briggs|27541 Summers All...|  VIC|    3803|       Male|                       0.0|                       0.0|              HALLAM|         [212021297]|             [11765]|              [5864]|               [295.8]|           [50437.0]|       11765|                5864|                     295.8|             50437.0|\n",
      "|   6305| 79931898050| 43307.22898694161|e72de52e-e02f-461...|    2021-04-27|Nascetur Ridiculu...|[(antique shops -...|       6834|     Allison Stevens| 60866 Miller Avenue|  NSW|    1193|     Female|        56.674892267653156|                       0.0|                NULL|                NULL|                NULL|                NULL|                  NULL|                NULL|        NULL|                NULL|                      NULL|                NULL|\n",
      "|   4959| 96730987906|47565.235061210646|54daec36-b828-45c...|    2022-06-04|Mattis Ornare Lec...|[[antique shops -...|    1018399|  Christopher Wilcox|  9410 Francis Field|   WA|    6391|       Male|                       0.0|                       0.0|            ABERCORN|[509031250, 50903...|        [5038, 2487]|        [3057, 1370]|        [177.7, 100.9]|  [58130.0, 73658.0]|        7525|                4427|                     278.6|   62932.00813191778|\n",
      "|  15504| 83199298021|  57996.7495260236|dfd47864-2440-4de...|    2022-06-19|Ligula Elit Preti...|[[antique shops -...|    1253388|           John Diaz|13195 Cole Spring...|   SA|    5271|       Male|                       0.0|                       0.0|         BOOL LAGOON|[407021157, 40702...|[7066, 6470, 3996...|[4456, 4099, 2361...|  [235.3, 225.3, 13...|[52796.0, 54971.0...|       19990|               12379|                     687.7|   55553.76040067857|\n",
      "|   4744| 72058040180| 49035.29628860688|e558ffd1-c93c-444...|    2022-08-24|      Mi Corporation|[(antique shops -...|     992327|         David Jones|    662 Lawson Falls|   WA|    6904|       Male|                       0.0|                       0.0|                NULL|                NULL|                NULL|                NULL|                  NULL|                NULL|        NULL|                NULL|                      NULL|                NULL|\n",
      "|  16065| 97884414539|  48085.9045835122|995b8136-4ba5-4e5...|    2022-08-10|      Ut Corporation|((antique shops -...|      62166|  Dustin Goodman DDS| 53941 Moran Islands|   WA|    6100|       Male|                       0.0|                       0.0|            BURSWOOD|         [506021123]|             [17643]|             [10530]|               [784.4]|           [74496.0]|       17643|               10530|                     784.4|             74496.0|\n",
      "|  18714| 30137717102| 41445.32055730012|a34fadf7-a5be-461...|    2021-11-14|    Tempus Risus LLC|([antique shops -...|     550572|         Kevin Reyes|  224 Walker Estates|  NSW|    2071|       Male|         83.78813794627237|                       0.0|           E KILLARA|         [121031407]|             [23277]|             [15116]|              [1594.1]|          [105459.0]|       23277|               15116|                    1594.1|            105459.0|\n",
      "|  18714| 30137717102| 41445.32055730012|a34fadf7-a5be-461...|    2021-11-14|    Tempus Risus LLC|([antique shops -...|     550572|         Kevin Reyes|  224 Walker Estates|  NSW|    2071|       Male|         83.78813794627237|                       0.0|           E KILLARA|         [121031407]|             [23277]|             [15116]|              [1594.1]|          [105459.0]|       23277|               15116|                    1594.1|            105459.0|\n",
      "|   5965| 11149063370| 43965.46355720679|fdb38c15-1057-47c...|    2021-11-14|     Et Arcu Limited|([art dealers and...|    1217876|        Abigail Pham|34654 Coffey Gard...|   WA|    6409|     Female|         69.37164467869053|        52.407803322764764|            BUNGULLA|         [509021237]|              [3865]|              [2091]|               [127.9]|           [61161.0]|        3865|                2091|                     127.9|             61161.0|\n",
      "|   5965| 11149063370| 43965.46355720679|fdb38c15-1057-47c...|    2021-11-14|     Et Arcu Limited|([art dealers and...|    1217876|        Abigail Pham|34654 Coffey Gard...|   WA|    6409|     Female|         69.37164467869053|        52.407803322764764|            BUNGULLA|         [509021237]|              [3865]|              [2091]|               [127.9]|           [61161.0]|        3865|                2091|                     127.9|             61161.0|\n",
      "|  19497| 11149063370| 47782.59915453614|a2251488-b449-49f...|    2022-03-17|     Et Arcu Limited|([art dealers and...|    1329846|     Barbara Roberts|       636 Wood Walk|   WA|    6174|     Female|                       0.0|                       0.0|ANSTEYS BEACH ESTATE|         [507051191]|             [24656]|             [13027]|               [979.6]|           [75196.0]|       24656|               13027|                     979.6|             75196.0|\n",
      "|  12663| 47047735645| 40896.25782166824|eb6dbb76-2682-45e...|    2022-04-24|Aenean Gravida In...|((antique shops -...|     990352|        Tony Coleman| 35068 Caleb Heights|  VIC|    3053|       Male|                       0.0|                       0.0|           BRUNSWICK|         [206041117]|             [21376]|              [9402]|               [573.4]|           [60988.0]|       21376|                9402|                     573.4|             60988.0|\n",
      "|  22497| 83199298021| 51734.31812727246|47bd0ada-002e-469...|    2022-04-03|Ligula Elit Preti...|[[antique shops -...|    1066024|   Christina Wallace|87882 Davis Shore...|  NSW|    2747|     Female|                       0.0|                       0.0|             CADDENS|[124031457, 12403...|[16308, 14796, 23...|[8890, 8284, 1211...|  [539.9, 531.44349...|[60727.0, 64153.0...|       80957|               41715|                  2504.854|  60046.841663670144|\n",
      "|   3513| 83199298021|44471.999391282814|4463230f-9745-4a4...|    2022-02-27|Ligula Elit Preti...|[[antique shops -...|    1454256|         Ryan Wright|6031 Patrick Lane...|   WA|    6350|       Male|         75.16981192247916|        26.025158824861773|          DUMBLEYUNG|         [509031247]|              [4355]|              [2915]|               [158.9]|           [54507.0]|        4355|                2915|                     158.9|             54507.0|\n",
      "|   3513| 83199298021|44471.999391282814|4463230f-9745-4a4...|    2022-02-27|Ligula Elit Preti...|[[antique shops -...|    1454256|         Ryan Wright|6031 Patrick Lane...|   WA|    6350|       Male|         75.16981192247916|        26.025158824861773|          DUMBLEYUNG|         [509031247]|              [4355]|              [2915]|               [158.9]|           [54507.0]|        4355|                2915|                     158.9|             54507.0|\n",
      "|  22957| 89109402284| 43415.16340467725|45030f06-09fc-4f3...|    2022-02-12|Interdum Feugiat ...|[[antique shops -...|    1187984|       Nicholas Wang|71296 Jeffrey Mou...|  VIC|    3178|       Male|         82.79065699075498|         29.07408314204997|            ROWVILLE|         [211011256]|             [15702]|              [9831]|               [611.0]|           [62155.0]|       15702|                9831|                     611.0|             62155.0|\n",
      "|  22957| 89109402284| 43415.16340467725|45030f06-09fc-4f3...|    2022-02-12|Interdum Feugiat ...|[[antique shops -...|    1187984|       Nicholas Wang|71296 Jeffrey Mou...|  VIC|    3178|       Male|         82.79065699075498|         29.07408314204997|            ROWVILLE|         [211011256]|             [15702]|              [9831]|               [611.0]|           [62155.0]|       15702|                9831|                     611.0|             62155.0|\n",
      "|  16556| 35575706403|50209.505438673325|d444e831-764d-4ca...|    2022-02-20|   Tempus Mauris Ltd|[[antique shops -...|    1243659|        Kyle Jackson|24519 Thompson Ju...|  QLD|    4743|       Male|         89.65663294494827|         91.09606847149965|             GLENDEN|         [312011338]|              [9119]|              [3925]|               [336.0]|           [85615.0]|        9119|                3925|                     336.0|             85615.0|\n",
      "|  16556| 35575706403|50209.505438673325|d444e831-764d-4ca...|    2022-02-20|   Tempus Mauris Ltd|[[antique shops -...|    1243659|        Kyle Jackson|24519 Thompson Ju...|  QLD|    4743|       Male|         89.65663294494827|         91.09606847149965|             GLENDEN|         [312011338]|              [9119]|              [3925]|               [336.0]|           [85615.0]|        9119|                3925|                     336.0|             85615.0|\n",
      "|  17900| 11149063370| 42797.34835914282|b0bdd444-223a-4b4...|    2022-02-25|     Et Arcu Limited|([art dealers and...|     476053|      Angela Fuentes|1847 John Bridge ...|  NSW|    2805|     Female|         92.73262811161372|         51.01538421455241|              BANDON|         [103021064]|              [5738]|              [2832]|               [125.0]|           [44150.0]|        5738|                2832|                     125.0|             44150.0|\n",
      "|  17900| 11149063370| 42797.34835914282|b0bdd444-223a-4b4...|    2022-02-25|     Et Arcu Limited|([art dealers and...|     476053|      Angela Fuentes|1847 John Bridge ...|  NSW|    2805|     Female|         92.73262811161372|         51.01538421455241|              BANDON|         [103021064]|              [5738]|              [2832]|               [125.0]|           [44150.0]|        5738|                2832|                     125.0|             44150.0|\n",
      "|  16469| 83199298021|54703.721746700794|90506a27-793e-410...|    2021-07-10|Ligula Elit Preti...|[[antique shops -...|    1370812|        Ruth Roberts|58933 Francisco D...|  QLD|    4153|     Female|                       0.0|                       0.0|             BELMONT|         [301011002]|              [7830]|              [4882]|               [422.8]|           [86609.0]|        7830|                4882|                     422.8|             86609.0|\n",
      "|  14419| 44345785419|41006.306948000885|3cb6cb7f-cea2-455...|    2021-08-09| Phasellus Nulla LLC|[(jewelry, watch,...|     681628|      Matthew Watson|2558 Porter Garde...|   NT|     909|       Male|        52.347634290517455|                       0.0|                NULL|                NULL|                NULL|                NULL|                  NULL|                NULL|        NULL|                NULL|                      NULL|                NULL|\n",
      "|  23065| 31334588839| 49573.70829994781|0cdc76cc-a0f3-447...|    2021-06-19|Lacus Aliquam Cor...|[(antique shops -...|    1494645|      Ronald Roberts|   7303 Ariana Mount|  VIC|    8009|       Male|                       0.0|                       0.0|                NULL|                NULL|                NULL|                NULL|                  NULL|                NULL|        NULL|                NULL|                      NULL|                NULL|\n",
      "|  17231| 54860127682| 49618.06542862859|0d365b1c-ef18-423...|    2021-07-20|Laoreet Posuere E...|[(antique shops -...|     148487|       Shelly Haynes|107 Watkins Under...|  NSW|    2477|     Female|         65.01723041937254|                       0.0|          ALSTONVALE|         [112011237]|             [18783]|             [10618]|               [589.8]|           [55548.0]|       18783|               10618|                     589.8|             55548.0|\n",
      "|     67| 29253286472| 41981.31422751512|dd9555de-7814-4e4...|    2021-07-03|  Fusce Incorporated|[(jewelry, watch,...|     845250|         Julia Munoz| 585 Shepherd Forges|  NSW|    2070|     Female|         53.48045295625143|                       0.0|         E LINDFIELD|         [121031408]|             [25283]|             [16469]|              [2007.6]|          [121901.0]|       25283|               16469|                    2007.6|            121901.0|\n",
      "|   3101| 91880575299|105193.88578925544|2ab65c8f-11b2-41c...|    2021-04-17|       At Foundation|((antique shops -...|      27622|Christopher Roberson| 6757 Reginald Haven|   WA|    6484|       Male|         91.42192091901347|         32.99497823665355|           BULLFINCH|         [509021242]|              [3062]|              [1658]|                [98.3]|           [59266.0]|        3062|                1658|                      98.3|             59266.0|\n",
      "|  11702| 53918538787|  77134.2146046811|8584d8d1-061b-41c...|    2021-07-27|      In Tempus Inc.|[(antique shops -...|     165107|        Ana Robinson|77844 Garcia Vall...|  TAS|    7466|     Female|         74.19676899973965|                       0.0|          GORMANSTON|         [604031097]|              [4359]|              [1970]|               [120.5]|           [61155.0]|        4359|                1970|                     120.5|             61155.0|\n",
      "|  11702| 53918538787|  77134.2146046811|8584d8d1-061b-41c...|    2021-07-27|      In Tempus Inc.|[(antique shops -...|     165107|        Ana Robinson|77844 Garcia Vall...|  TAS|    7466|     Female|         74.19676899973965|                       0.0|          GORMANSTON|         [604031097]|              [4359]|              [1970]|               [120.5]|           [61155.0]|        4359|                1970|                     120.5|             61155.0|\n",
      "|   3205| 83199298021| 44271.10632539127|2e65f36e-d45e-479...|    2021-06-07|Ligula Elit Preti...|[[antique shops -...|      24852| Caitlin Cummings MD|822 Taylor Forge ...|   WA|    6165|Undisclosed|                       0.0|                       0.0|FLINDERS PRECINCT...|[507031173, 50703...|            [25, 80]|            [25, 80]|  [11.6469999999999...|[465879.999999999...|         105|                 105|        23.245999999999988|   221390.4761904761|\n",
      "|  18438| 64143552561| 49956.04011941749|dcc299e7-e991-494...|    2021-05-17|Fusce Feugiat Ass...|([jewelry, watch,...|     270019|         Ronald Hill|32012 Foley Manor...|  VIC|    3483|       Male|          63.5221771051038|                       0.0|            BALLAPUR|         [215031400]|              [6044]|              [3465]|               [186.0]|           [53684.0]|        6044|                3465|                     186.0|             53684.0|\n",
      "|   2310| 79100970961| 41689.73039921748|a40ffe64-0e3a-489...|    2022-01-02|Nunc Quisque Orna...|[[antique shops -...|     526977|         Aaron Stark|925 Lopez Lodge A...|  VIC|    3677|Undisclosed|         87.96418126148595|          67.1177397510102|          WANGARATTA|         [204021066]|             [19969]|             [10680]|               [596.9]|           [55891.0]|       19969|               10680|                     596.9|             55891.0|\n",
      "|   2310| 79100970961| 41689.73039921748|a40ffe64-0e3a-489...|    2022-01-02|Nunc Quisque Orna...|[[antique shops -...|     526977|         Aaron Stark|925 Lopez Lodge A...|  VIC|    3677|Undisclosed|         87.96418126148595|          67.1177397510102|          WANGARATTA|         [204021066]|             [19969]|             [10680]|               [596.9]|           [55891.0]|       19969|               10680|                     596.9|             55891.0|\n",
      "|  23234| 97217894162|  41147.6034320986|5a490f07-47f7-435...|    2022-01-15|  Varius Corporation|[(antique shops -...|     910081|         John Chavez|    968 Morgan Inlet|  QLD|    4215|       Male|         80.78861807908018|                       0.0|    ANGLERS PARADISE|[309031238, 30909...|      [19367, 19699]|      [10199, 10941]|        [514.9, 630.9]|  [50486.0, 57663.0]|       39066|               21140|                    1145.8|  54200.567644276256|\n",
      "|  23234| 97217894162|  41147.6034320986|5a490f07-47f7-435...|    2022-01-15|  Varius Corporation|[(antique shops -...|     910081|         John Chavez|    968 Morgan Inlet|  QLD|    4215|       Male|         80.78861807908018|                       0.0|    ANGLERS PARADISE|[309031238, 30909...|      [19367, 19699]|      [10199, 10941]|        [514.9, 630.9]|  [50486.0, 57663.0]|       39066|               21140|                    1145.8|  54200.567644276256|\n",
      "|  12517| 31334588839| 45917.83769330195|5f196a65-8810-472...|    2022-04-27|Lacus Aliquam Cor...|[(antique shops -...|     429310|        Rhonda Duran|98874 Nicholas Ri...|  NSW|    2711|     Female|                       0.0|                       0.0|            BOOLIGAL|[109021179, 10903...|[3650, 6861, 2848...|[2021, 3345, 1683...|  [94.7, 139.2, 81....|[46847.0, 41610.0...|       26268|               14844|                     735.5|    49548.6391808138|\n",
      "|   2376| 83199298021| 55971.96573919112|8a077533-d8e0-486...|    2022-04-02|Ligula Elit Preti...|[[antique shops -...|     826806|     Jennifer Henson|  84274 Debra Divide|   SA|    5172|     Female|                       0.0|                       0.0|       DINGABLEDINGA|[407011147, 40304...|        [8376, 3691]|        [4446, 2243]|        [234.3, 126.9]|  [52688.0, 56593.0]|       12067|                6689|        361.20000000000005|   53999.10300493348|\n",
      "|   4105| 54860127682|41905.749543420636|640a934c-71c9-410...|    2022-04-25|Laoreet Posuere E...|[(antique shops -...|     147109|     Brittany Briggs|2267 Richardson P...|  NSW|    2400|Undisclosed|                       0.0|                       0.0|              ASHLEY|[110031195, 11003...|        [8035, 5288]|        [4205, 2578]|         [239.7, 44.3]|  [57010.0, 17189.0]|       13323|                6783|                     284.0|   41869.37933067964|\n",
      "+-------+------------+------------------+--------------------+--------------+--------------------+--------------------+-----------+--------------------+--------------------+-----+--------+-----------+--------------------------+--------------------------+--------------------+--------------------+--------------------+--------------------+----------------------+--------------------+------------+--------------------+--------------------------+--------------------+\n",
      "\n"
     ]
    }
   ],
   "source": [
    "high_value_count = trans_final_sdf.filter(trans_final_sdf.dollar_value > 40000).count()\n",
    "\n",
    "print(f\"Number of transactions with dollar value > $40000: {high_value_count}\")\n",
    "\n",
    "trans_final_sdf.filter(trans_final_sdf.dollar_value > 40000).show(100)"
   ]
  },
  {
   "cell_type": "code",
   "execution_count": 12,
   "metadata": {},
   "outputs": [
    {
     "name": "stderr",
     "output_type": "stream",
     "text": [
      "[Stage 15:>                                                         (0 + 1) / 1]\r"
     ]
    },
    {
     "name": "stdout",
     "output_type": "stream",
     "text": [
      "+-------+------------+------------------+--------------------+--------------+--------------------+--------------------+-----------+----------------+--------------------+-----+--------+-----------+--------------------------+--------------------------+--------------------+--------------------+--------------------+--------------------+----------------------+--------------------+------------+--------------------+--------------------------+--------------------+\n",
      "|user_id|merchant_abn|      dollar_value|            order_id|order_datetime|       merchant_name|                tags|consumer_id|            name|             address|state|postcode|     gender|consumer_fraud_probability|merchant_fraud_probability|       LOCALITY_NAME|       list_SA2_CODE|            list_ERP|    list_num_earners|list_total_income_($M)|    list_mean_income|postcode_ERP|postcode_num_earners|postcode_total_income_($M)|postcode_mean_income|\n",
      "+-------+------------+------------------+--------------------+--------------+--------------------+--------------------+-----------+----------------+--------------------+-----+--------+-----------+--------------------------+--------------------------+--------------------+--------------------+--------------------+--------------------+----------------------+--------------------+------------+--------------------+--------------------------+--------------------+\n",
      "|   1020| 37718833659|11115.463633097472|aef0e9c3-72a5-476...|    2021-11-07|             Est LLC|([equipment, tool...|     529293|   William Davis|39788 Bell Flat A...|  VIC|    3919|       Male|        31.260338994577967|                       0.0|          CRIB POINT|         [214021379]|             [23973]|             [12729]|               [742.1]|           [58300.0]|       23973|               12729|                     742.1|             58300.0|\n",
      "|  12010| 93260930990|10854.078138744217|d8fa51af-9637-49d...|    2021-11-07|Pede Cras Vulputa...|[[telecom], [b], ...|    1032430| William Rodgers|70383 Brown Mountain|  NSW|    2520|       Male|         32.80316024143978|                       0.0|                NULL|                NULL|                NULL|                NULL|                  NULL|                NULL|        NULL|                NULL|                      NULL|                NULL|\n",
      "|   5369| 24015576448|11789.425948910024|01ea2b29-d7af-48f...|    2021-11-09|Mi Eleifend Assoc...|[(motor vehicle s...|     524662|Bethany Campbell|1502 Garcia Throu...|   WA|    6628|     Female|           36.191343302316|                       0.0|              TARDUN|         [511041292]|              [5860]|              [3246]|               [178.3]|           [54919.0]|        5860|                3246|                     178.3|             54919.0|\n",
      "|  10711| 31385641294|13128.558260057094|adaa697b-7b0d-475...|    2021-10-15|    Semper Auctor PC|[(motor vehicle s...|    1342845|      Kyle Russo|03691 John Throug...|   WA|    6916|       Male|         34.99933701894774|                       0.0|                NULL|                NULL|                NULL|                NULL|                  NULL|                NULL|        NULL|                NULL|                      NULL|                NULL|\n",
      "|   2013| 37718833659|11671.830554195472|bc220f76-1c10-4d3...|    2021-12-30|             Est LLC|([equipment, tool...|     730905|    Tara Johnson|88972 Caitlin Fre...|   SA|    5310|     Female|        31.185079752922203|                       0.0|               BAYAH|[407031161, 40703...|        [2944, 1796]|         [1740, 972]|          [71.4, 40.3]|  [41048.0, 41437.0]|        4740|                2712|                     111.7|   41187.31563421829|\n",
      "|   5167| 24015576448|10813.525801828779|060fe3ec-dd6d-447...|    2021-11-04|Mi Eleifend Assoc...|[(motor vehicle s...|    1248492|        Ryan Roy|4930 Young Course...|  NSW|    2324|       Male|        35.649478603998375|                       0.0|      ARM COVE NORTH|[106031123, 10603...|[5800, 5790, 1805...|[3539, 2823, 9812...|  [259.9, 127.9, 64...|[73449.0, 45316.0...|       66199|               33724|        2025.7195000000006|   60067.59281224056|\n",
      "|  10440| 31385641294|10100.420163288612|c96a4dc3-3175-46f...|    2021-11-04|    Semper Auctor PC|[(motor vehicle s...|    1472603| Jeffery Johnson|11634 King Key Su...|  NSW|    2261|       Male|         35.28150454301484|                       0.0|          BATEAU BAY|[102021047, 10202...|[16225, 22931, 15...|[9073, 11699, 10758]|  [537.6, 665.0, 63...|[59255.0, 56847.0...|       55126|               31530|                    1833.1|   58138.28100222011|\n",
      "|   9225| 12771097467|10079.762907752396|857a138e-f8dc-427...|    2021-10-22|    At Pretium Corp.|([motor vehicle s...|     102458|     Amy Maxwell|7297 Newman Hills...|   WA|    6511|     Female|        31.046344288157645|                       0.0|           CERVANTES|         [509021239]|              [9812]|              [5286]|               [302.1]|           [57149.0]|        9812|                5286|                     302.1|             57149.0|\n",
      "|   5066| 70713877189|11790.126088212328|b764213d-64aa-4f8...|    2021-10-30|Praesent Eu Incor...|([equipment, tool...|      74993|      Tasha Best|403 Oconnor Point...|  NSW|    2347|     Female|         37.75973858544202|                       0.0|              BANOON|[110021193, 11004...|       [5744, 19564]|       [2787, 10593]|         [65.1, 523.0]|  [23344.0, 49371.0]|       25308|               13380|                     588.1|   43953.66218236173|\n",
      "|   7583| 35911782646|10633.841497266012|9a30ee90-e860-4d8...|    2021-09-30|Semper Nam Tempor...|((telecom), (b), ...|    1483792|  Jeffrey Norton|49314 Jones Port ...|  NSW|    2052|       Male|        33.501494449964746|                       0.0|                NULL|                NULL|                NULL|                NULL|                  NULL|                NULL|        NULL|                NULL|                      NULL|                NULL|\n",
      "|   4549| 48290289285|10525.981596231417|a2df1e58-b4a7-4f1...|    2021-10-14|Sed Dolor Corpora...|[(telEcom), (c), ...|    1110235|  Jonathan Klein| 37140 Rachel Common|   WA|    6423|       Male|        31.704738653846327|                       0.0|            BODALLIN|         [509021242]|              [3062]|              [1658]|                [98.3]|           [59266.0]|        3062|                1658|                      98.3|             59266.0|\n",
      "|  12500| 31385641294|11656.604868656199|7f5e1ca5-8b67-4a3...|    2021-10-23|    Semper Auctor PC|[(motor vehicle s...|     531318|   Nicole Mccall|43808 Stafford Mills|  QLD|    4208|Undisclosed|         36.80117920267603|                       0.0|           GILBERTON|[309071558, 30907...|[7995, 5203, 1149...|[4865, 2770, 6333...|  [373.885999999999...|[76852.2096608426...|       37335|               20749|        1432.7070000000003|   69049.44816617669|\n",
      "|  23100| 82368304209|11079.959621125248|33b24ff0-93b3-491...|    2021-10-08|    Nec Incorporated|[[telecom], [a], ...|     183231|  Caitlyn Miller|259 Donna Squares...|   WA|    6057|     Female|         32.09440050018819|                       0.0|HAVENVALE GARDENS...|[506051139, 50605...|      [12847, 15901]|        [7296, 9485]|        [481.2, 692.2]|  [65960.0, 72980.0]|       28748|               16781|                    1173.4|   69924.31917049043|\n",
      "|  16258| 54785263912| 13686.17808115969|2d875869-938c-4c4...|    2021-11-01|Eget Tincidunt Du...|((motor vehicle s...|     890391|   Donna Clayton|83453 Katherine F...|   WA|    6931|Undisclosed|         44.25820651164421|                       0.0|                NULL|                NULL|                NULL|                NULL|                  NULL|                NULL|        NULL|                NULL|                      NULL|                NULL|\n",
      "|   7963| 92482981458|11224.079134057885|9beb1cb1-4a2c-418...|    2021-11-03|Rutrum Non Hendre...|((telecOm), (c), ...|     955231|    Tyler Miller|893 Key Dam Suite...|  QLD|    4809|       Male|        32.934560767244164|                       0.0|                 AYR|         [318011461]|              [7830]|              [4619]|               [253.8]|           [54952.0]|        7830|                4619|                     253.8|             54952.0|\n",
      "|   4603| 90522979771|10080.828649107654|cf5b2e57-64a7-4e7...|    2021-09-25|Curabitur Consequ...|([telecom], [b], ...|     597790|   Michael Brown| 7559 Nicholas Lodge|  NSW|    2080|       Male|        33.154079287769086|                       0.0|    MOUNT KURING-GAI|         [121021403]|             [22837]|             [13566]|   [1161.625000000003]| [85627.67212148038]|       22837|               13566|         1161.625000000003|   85627.67212148038|\n",
      "|     43| 31385641294|10146.097139707528|ac93cd0f-cbca-405...|    2022-08-21|    Semper Auctor PC|[(motor vehicle s...|    1246262| Andrea Lawrence|  84910 Tammie Plaza|  VIC|    3925|     Female|                       0.0|                       0.0|          BACK BEACH|[205031093, 20503...|      [28254, 14273]|       [13355, 6891]|        [683.1, 340.1]|  [51152.0, 49353.0]|       42527|               20246|                    1023.2|   50538.37795120024|\n",
      "|  22400| 86081102504|10520.701243923164|5a37784c-0ea8-4a1...|    2022-10-01|Lorem Fringilla L...|([motOR vehicle s...|     552234|Melissa Thompson|  7003 Gwendolyn Way|  NSW|    2784|     Female|                       0.0|                       0.0|          BULLABURRA|         [124011453]|             [11512]|              [6660]|               [410.7]|           [61669.0]|       11512|                6660|                     410.7|             61669.0|\n",
      "|  22539| 88539253623|11094.857821730388|7d05797c-6a62-4ab...|    2022-10-24|Purus Mauris Company|[[furniture, home...|    1498459|     Jamie Olson|    4794 Eric Stream|  NSW|    2877|     Female|                       0.0|                       0.0|             ARUNDEL|[105011093, 10501...|  [4156, 4561, 6392]|  [2222, 2671, 3430]|  [145.0, 108.4, 10...|[65267.0, 40566.0...|       15109|                8323|                     360.1|   43265.64940526253|\n",
      "|   2091| 54785263912|13362.045798209301|20731e01-2208-488...|    2022-10-16|Eget Tincidunt Du...|((motor vehicle s...|    1233553|      Sarah Ward|04069 Craig Neck ...|  VIC|    3283|     Female|                       0.0|                       0.0|             ATTUNGA|         [217041478]|             [10148]|              [5944]|               [344.8]|           [58003.0]|       10148|                5944|                     344.8|             58003.0|\n",
      "+-------+------------+------------------+--------------------+--------------+--------------------+--------------------+-----------+----------------+--------------------+-----+--------+-----------+--------------------------+--------------------------+--------------------+--------------------+--------------------+--------------------+----------------------+--------------------+------------+--------------------+--------------------------+--------------------+\n",
      "only showing top 20 rows\n",
      "\n"
     ]
    },
    {
     "name": "stderr",
     "output_type": "stream",
     "text": [
      "                                                                                \r"
     ]
    }
   ],
   "source": [
    "# Filter the rows where dollar_value > 10000 and tags do not include specific strings\n",
    "filtered_df = trans_final_sdf.filter(\n",
    "    (trans_final_sdf.dollar_value > 10000) &\n",
    "    (~trans_final_sdf.tags.rlike(\"(?i)jewelry\")) &   # Case-insensitive match\n",
    "    (~trans_final_sdf.tags.rlike(\"(?i)antique shops\")) &\n",
    "    (~trans_final_sdf.tags.rlike(\"(?i)art dealers\"))\n",
    ")\n",
    "\n",
    "# Show the filtered entries\n",
    "filtered_df.show()\n",
    "\n",
    "# Potentially, could consider removing large entries as these are bad for a BNPL firm (we take on much more credit risk). However, all these entry values seem reasonable given the types of firms that are mentioned."
   ]
  },
  {
   "cell_type": "code",
   "execution_count": 26,
   "metadata": {},
   "outputs": [],
   "source": [
    "# add is_fraud flag for entries with fraud_probability > 90\n",
    "\n",
    "trans_final_sdf = trans_final_sdf.withColumn(\n",
    "    \"is_fraud\", \n",
    "    (F.col(\"consumer_fraud_probability\") > 25) | (F.col(\"merchant_fraud_probability\") > 25\n",
    "    )\n",
    ")"
   ]
  },
  {
   "cell_type": "code",
   "execution_count": 27,
   "metadata": {},
   "outputs": [
    {
     "name": "stdout",
     "output_type": "stream",
     "text": [
      "Fraud rate: 0.0734%\n",
      "9999\n"
     ]
    }
   ],
   "source": [
    "# calculate and output fraud_rate\n",
    "total_transactions = trans_final_sdf.count()\n",
    "fraudulent_transactions = trans_final_sdf.filter(F.col(\"is_fraud\") == True).count()\n",
    "fraud_rate = (fraudulent_transactions / total_transactions) * 100\n",
    "\n",
    "# show the fraud rate\n",
    "print(f\"Fraud rate: {fraud_rate:.4f}%\")\n",
    "print(fraudulent_transactions)"
   ]
  },
  {
   "cell_type": "code",
   "execution_count": 28,
   "metadata": {},
   "outputs": [
    {
     "name": "stderr",
     "output_type": "stream",
     "text": [
      "                                                                                \r"
     ]
    }
   ],
   "source": [
    "# write to new parquet \n",
    "trans_final_sdf.write.mode(\"overwrite\").parquet(\"../data/merged/merged_transactions_with_outliers.parquet\")"
   ]
  }
 ],
 "metadata": {
  "kernelspec": {
   "display_name": "Python 3",
   "language": "python",
   "name": "python3"
  },
  "language_info": {
   "codemirror_mode": {
    "name": "ipython",
    "version": 3
   },
   "file_extension": ".py",
   "mimetype": "text/x-python",
   "name": "python",
   "nbconvert_exporter": "python",
   "pygments_lexer": "ipython3",
   "version": "3.10.12"
  }
 },
 "nbformat": 4,
 "nbformat_minor": 2
}
