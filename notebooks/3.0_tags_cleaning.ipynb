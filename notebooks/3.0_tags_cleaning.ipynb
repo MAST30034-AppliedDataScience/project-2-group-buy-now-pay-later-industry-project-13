{
 "cells": [
  {
   "cell_type": "markdown",
   "metadata": {},
   "source": [
    "## This notebook is to clean up the 'tags' column"
   ]
  },
  {
   "cell_type": "markdown",
   "metadata": {},
   "source": [
    "### 0 - Import neccesary modules and begin spark"
   ]
  },
  {
   "cell_type": "code",
   "execution_count": 1,
   "metadata": {},
   "outputs": [
    {
     "name": "stderr",
     "output_type": "stream",
     "text": [
      "your 131072x1 screen size is bogus. expect trouble\n",
      "24/10/01 19:18:13 WARN Utils: Your hostname, AshwinHPEnvy resolves to a loopback address: 127.0.1.1; using 10.255.255.254 instead (on interface lo)\n",
      "24/10/01 19:18:13 WARN Utils: Set SPARK_LOCAL_IP if you need to bind to another address\n",
      "Setting default log level to \"WARN\".\n",
      "To adjust logging level use sc.setLogLevel(newLevel). For SparkR, use setLogLevel(newLevel).\n",
      "24/10/01 19:18:14 WARN NativeCodeLoader: Unable to load native-hadoop library for your platform... using builtin-java classes where applicable\n",
      "24/10/01 19:18:15 WARN Utils: Service 'SparkUI' could not bind on port 4040. Attempting port 4041.\n"
     ]
    }
   ],
   "source": [
    "from pyspark.sql import SparkSession, functions as F\n",
    "from pyspark.sql.types import DoubleType\n",
    "\n",
    "# Create a spark session (which will run spark jobs)\n",
    "spark = (\n",
    "    SparkSession.builder.appName(\"MAST30034 Project 2\")\n",
    "    .config(\"spark.sql.repl.eagerEval.enabled\", True) \n",
    "    .config(\"spark.sql.parquet.cacheMetadata\", \"true\")\n",
    "    .config(\"spark.sql.session.timeZone\", \"Etc/UTC\")\n",
    "    .config(\"spark.executor.memory\", \"8g\")\n",
    "    .config(\"spark.driver.memory\", \"8g\")\n",
    "    .getOrCreate()\n",
    ")"
   ]
  },
  {
   "cell_type": "markdown",
   "metadata": {},
   "source": [
    "### 1. Clean up 'tags' column"
   ]
  },
  {
   "cell_type": "markdown",
   "metadata": {},
   "source": [
    "#### 1.1 - Load in data"
   ]
  },
  {
   "cell_type": "code",
   "execution_count": 2,
   "metadata": {},
   "outputs": [
    {
     "name": "stderr",
     "output_type": "stream",
     "text": [
      "                                                                                \r"
     ]
    }
   ],
   "source": [
    "# Load in data after outliers analysis\n",
    "tags_df = spark.read.parquet('../data/merged/merged_transactions_with_outliers.parquet')"
   ]
  },
  {
   "cell_type": "markdown",
   "metadata": {},
   "source": [
    "#### 1.2 - Lower case and change brackets"
   ]
  },
  {
   "cell_type": "code",
   "execution_count": 3,
   "metadata": {},
   "outputs": [
    {
     "name": "stderr",
     "output_type": "stream",
     "text": [
      "24/10/01 19:18:27 WARN SparkStringUtils: Truncated the string representation of a plan since it was too large. This behavior can be adjusted by setting 'spark.sql.debug.maxToStringFields'.\n",
      "                                                                                \r"
     ]
    },
    {
     "name": "stdout",
     "output_type": "stream",
     "text": [
      "+-------+------------+------------------+------------------------------------+--------------+-------------------------------------+------------------------------------------------------------------------------------------+-----------+-----------------+-----------------------------+-----+--------+-----------+--------------------------+--------------------------+--------------+------------------------------------------------------------------+---------------------------------------+------------------------------------+------------------------------------------+------------------------------------------------------+------------+--------------------+--------------------------+--------------------+--------+\n",
      "|user_id|merchant_abn|dollar_value      |order_id                            |order_datetime|merchant_name                        |tags                                                                                      |consumer_id|name             |address                      |state|postcode|gender     |consumer_fraud_probability|merchant_fraud_probability|LOCALITY_NAME |list_SA2_CODE                                                     |list_ERP                               |list_num_earners                    |list_total_income_($M)                    |list_mean_income                                      |postcode_ERP|postcode_num_earners|postcode_total_income_($M)|postcode_mean_income|is_fraud|\n",
      "+-------+------------+------------------+------------------------------------+--------------+-------------------------------------+------------------------------------------------------------------------------------------+-----------+-----------------+-----------------------------+-----+--------+-----------+--------------------------+--------------------------+--------------+------------------------------------------------------------------+---------------------------------------+------------------------------------+------------------------------------------+------------------------------------------------------+------------+--------------------+--------------------------+--------------------+--------+\n",
      "|1      |20939962818 |219.99544086086206|42fbb736-43eb-4712-81f6-b45df34a492a|2021-12-22    |Semper Cursus Institute              |[[opticians, optical goods, and eyeglasses], [c], [take rate: 2.59]]                      |1195503    |Yolanda Williams |413 Haney Gardens Apt. 742   |WA   |6935    |Female     |0.0                       |0.0                       |NULL          |NULL                                                              |NULL                                   |NULL                                |NULL                                      |NULL                                                  |NULL        |NULL                |NULL                      |NULL                |false   |\n",
      "|14936  |38523562929 |56.450082555271926|ff62019c-5864-42ec-9e47-6ad3f4f6a08f|2021-12-22    |Sed Dictum Corp.                     |[[cable, satellite, and  other pay television and radio services], [a], [take rate: 6.56]]|986886     |Maria Riley      |416 Phillip View Suite 130   |SA   |5157    |Female     |0.0                       |0.0                       |ASHBOURNE     |[407011147, 403041075, 401021008]                                 |[8376, 2824, 7111]                     |[4446, 1754, 4110]                  |[234.3, 115.0, 236.7]                     |[52688.0, 65560.0, 57603.0]                           |18311       |10310               |586.0                     |56838.0213385063    |false   |\n",
      "|3      |30415756696 |520.1489211494473 |224d7a02-2b87-485e-bb7f-dd38185d8224|2021-12-22    |Nec Mollis PC                        |[[music shops - musical instruments, pianos, and sheet music], [c], [take rate: 1.70]]    |1194530    |Jill Jones MD    |40693 Henry Greens           |NT   |862     |Female     |0.0                       |0.0                       |ALROY DOWNS   |[702021055, 702051066]                                            |[2526, 4852]                           |[342, 768]                          |[15.9, 34.4]                              |[46619.0, 44778.0]                                    |7378        |1110                |50.3                      |45315.31531531532   |false   |\n",
      "|14936  |52594457116 |843.8007122644797 |db5fc5fb-3a68-4290-8f94-dbfe3e0ab7d8|2021-12-22    |Vel Turpis Aliquam Company           |[[bicycle shops - sales and service], [a], [take rate: 5.51]]                             |986886     |Maria Riley      |416 Phillip View Suite 130   |SA   |5157    |Female     |0.0                       |0.0                       |ASHBOURNE     |[407011147, 403041075, 401021008]                                 |[8376, 2824, 7111]                     |[4446, 1754, 4110]                  |[234.3, 115.0, 236.7]                     |[52688.0, 65560.0, 57603.0]                           |18311       |10310               |586.0                     |56838.0213385063    |false   |\n",
      "|4      |89726005175 |67.7650926085944  |1f600976-0a4e-4da9-b616-5d533b014274|2021-12-22    |Est Nunc Consulting                  |[[tent and awning shops], [a], [take rate: 6.01]]                                         |154128     |Lindsay Jimenez  |00653 Davenport Crossroad    |NSW  |2780    |Female     |0.0                       |0.0                       |KATOOMBA      |[124011452]                                                       |[13360]                                |[7532]                              |[420.8]                                   |[55865.0]                                             |13360       |7532                |420.8                     |55865.0             |false   |\n",
      "|4      |36800720158 |421.010158138363  |614f5c42-2687-450a-a870-bd4d7ea95ad0|2021-12-22    |A Felis Ullamcorper Corporation      |[[florists supplies, nursery stock, and flowers], [a], [take rate: 6.04]]                 |154128     |Lindsay Jimenez  |00653 Davenport Crossroad    |NSW  |2780    |Female     |0.0                       |0.0                       |KATOOMBA      |[124011452]                                                       |[13360]                                |[7532]                              |[420.8]                                   |[55865.0]                                             |13360       |7532                |420.8                     |55865.0             |false   |\n",
      "|14938  |45433476494 |586.9704401746386 |318474e0-afbe-4ae6-bf32-0135e7914696|2021-12-22    |Adipiscing Elit Foundation           |[[computers, computer peripheral equipment,  and software], [a], [take rate: 5.82]]       |267457     |Jasmine Ford     |1309 Karen Extension         |NSW  |2625    |Undisclosed|0.0                       |0.0                       |BELAS CORNER  |[101031016]                                                       |[8381]                                 |[4609]                              |[261.6]                                   |[56759.0]                                             |8381        |4609                |261.6                     |56759.0             |false   |\n",
      "|5      |79269463423 |25.91923351919785 |b978460b-9964-4ae4-b16a-650c5d2a4af4|2021-12-22    |Egestas Fusce Aliquet Company        |[[shoe shops], [a], [take rate: 6.44]]                                                    |712975     |Rebecca Blanchard|9271 Michael Manors Suite 651|WA   |6355    |Female     |0.0                       |0.0                       |DUNN ROCK     |[509031247]                                                       |[4355]                                 |[2915]                              |[158.9]                                   |[54507.0]                                             |4355        |2915                |158.9                     |54507.0             |false   |\n",
      "|14939  |80324045558 |2.8687032968277535|f8128d02-6069-4607-9b4d-4ad44daf255f|2021-12-22    |Ipsum Dolor Sit Corporation          |[[gift, card, novelty, and souvenir shops], [c], [take rate: 1.47]]                       |764252     |Cassandra Myers  |910 Payne Heights Suite 818  |VIC  |3885    |Female     |0.0                       |0.0                       |BRUMBY        |[205021080, 205021085, 205021082]                                 |[0, 6685, 8499]                        |[0, 3278, 4784]                     |[0.0, 155.0, 229.6]                       |[0.0, 47290.0, 47983.0]                               |15184       |8062                |384.6                     |47705.28404862317   |false   |\n",
      "|6      |91923722701 |12.104755062892343|9920a42f-4f28-438b-8196-c9ab6741c26e|2021-12-22    |Euismod Urna Institute               |[[tent and awning shops], [b], [take rate: 5.05]]                                         |407340     |Karen Chapman    |2706 Stewart Oval Suite 588  |NSW  |2033    |Female     |0.0                       |0.0                       |KENSINGTON    |[118021564]                                                       |[13810]                                |[7361]                              |[605.4]                                   |[82246.0]                                             |13810       |7361                |605.4                     |82246.0             |false   |\n",
      "|14939  |63290521567 |18.74547423589471 |c0da5ba4-1038-477d-a553-6f000c447130|2021-12-22    |Vehicula Pellentesque Corporation    |[[artist supply and craft shops], [a], [take rate: 6.48]]                                 |764252     |Cassandra Myers  |910 Payne Heights Suite 818  |VIC  |3885    |Female     |0.0                       |0.0                       |BRUMBY        |[205021080, 205021085, 205021082]                                 |[0, 6685, 8499]                        |[0, 3278, 4784]                     |[0.0, 155.0, 229.6]                       |[0.0, 47290.0, 47983.0]                               |15184       |8062                |384.6                     |47705.28404862317   |false   |\n",
      "|6      |52065114842 |24.75145095029244 |046afeab-84c0-4bec-a8dd-965809b0c36b|2021-12-22    |Gravida Non PC                       |[[digital goods: books, movies, music], [b], [take rate: 3.98]]                           |407340     |Karen Chapman    |2706 Stewart Oval Suite 588  |NSW  |2033    |Female     |0.0                       |0.0                       |KENSINGTON    |[118021564]                                                       |[13810]                                |[7361]                              |[605.4]                                   |[82246.0]                                             |13810       |7361                |605.4                     |82246.0             |false   |\n",
      "|14942  |85529538986 |741.1614356359979 |e651c10b-545f-4e8f-920f-932507477cd3|2021-12-22    |Sed Neque Associates                 |[[tent and awning shops], [b], [take rate: 4.12]]                                         |406485     |Phillip Wallace  |378 Miller Vista Apt. 281    |QLD  |4509    |Undisclosed|0.0                       |0.0                       |MANGO HILL    |[314021579, 314021578]                                            |[24279, 16933]                         |[12328, 9462]                       |[731.4620000000006, 591.9245000000005]    |[59333.38741077227, 62558.07440287471]                |41212       |21790               |1323.386500000001         |60733.66223038095   |false   |\n",
      "|6      |49891706470 |33.502542106680046|0d8a7253-34d8-4d4b-b709-c9fe664761af|2021-12-22    |Non Vestibulum Industries            |[[tent and awning shops], [a], [take rate: 5.80]]                                         |407340     |Karen Chapman    |2706 Stewart Oval Suite 588  |NSW  |2033    |Female     |0.0                       |0.0                       |KENSINGTON    |[118021564]                                                       |[13810]                                |[7361]                              |[605.4]                                   |[82246.0]                                             |13810       |7361                |605.4                     |82246.0             |false   |\n",
      "|14943  |42355028515 |211.16559767695156|13af6f5c-d5e7-4018-9807-acc74cad704e|2021-12-22    |Eu Inc.                              |[[lawn and garden supply outlets, including nurseries], [a], [take rate: 5.97]]           |37167      |Alicia Brown     |051 Barker Mount Apt. 156    |NSW  |1565    |Female     |0.0                       |0.0                       |NULL          |NULL                                                              |NULL                                   |NULL                                |NULL                                      |NULL                                                  |NULL        |NULL                |NULL                      |NULL                |false   |\n",
      "|7      |49505931725 |115.46599358090947|ead5e0ad-6929-4b85-a782-92c24db61061|2021-12-22    |Suspendisse Ac Associates            |[[digital goods: books, movies, music], [b], [take rate: 4.70]]                           |511685     |Andrea Jones     |122 Brandon Cliff            |QLD  |4606    |Female     |0.0                       |0.0                       |CHELMSFORD    |[319021506]                                                       |[9814]                                 |[4104]                              |[173.7]                                   |[42321.0]                                             |9814        |4104                |173.7                     |42321.0             |false   |\n",
      "|14944  |32361057556 |211.27164979482495|499a2231-7bc4-415f-8757-09be9253c6e1|2021-12-22    |Orci In Consequat Corporation        |[[gift, card, novelty, and souvenir shops], [a], [take rate: 6.61]]                       |1106384    |Danny Wood       |081 Charlene Roads Apt. 073  |SA   |5017    |Male       |0.0                       |0.0                       |OSBORNE       |[404021100]                                                       |[15268]                                |[8067]                              |[491.1]                                   |[60873.0]                                             |15268       |8067                |491.1                     |60873.0             |false   |\n",
      "|8      |89502033586 |5.025871374417006 |b56819ba-1be2-43f4-85a1-e91708e6a2f4|2021-12-22    |Adipiscing Enim LLC                  |[[digital goods: books, movies, music], [a], [take rate: 5.98]]                           |448088     |Stephen Williams |6804 Wright Crest Suite 311  |WA   |6056    |Male       |0.0                       |0.0                       |BALFOUR ESTATE|[504031066, 504021051, 504021054, 504031067, 504031068, 504031065]|[11793, 6245, 13964, 7484, 14123, 6168]|[5853, 3422, 7118, 4145, 7257, 3224]|[382.3, 240.7, 439.7, 274.4, 547.8, 201.6]|[65316.0, 70328.0, 61774.0, 66199.0, 75482.0, 62534.0]|59777       |31019               |2086.5                    |67265.22453979819   |false   |\n",
      "|14944  |11422053652 |1025.74820899635  |4a6aa07c-9087-4425-afee-55b8b2abfb03|2021-12-22    |Aptent Taciti Consulting             |[[shoe shops], [b], [take rate: 4.74]]                                                    |1106384    |Danny Wood       |081 Charlene Roads Apt. 073  |SA   |5017    |Male       |0.0                       |0.0                       |OSBORNE       |[404021100]                                                       |[15268]                                |[8067]                              |[491.1]                                   |[60873.0]                                             |15268       |8067                |491.1                     |60873.0             |false   |\n",
      "|8      |23255291705 |56.49084627403317 |4f3297a4-51f5-426a-adc2-4482bd73046d|2021-12-22    |Interdum Nunc Sollicitudin Foundation|[[cable, satellite, and other pay television and radio services], [a], [take rate: 6.60]] |448088     |Stephen Williams |6804 Wright Crest Suite 311  |WA   |6056    |Male       |0.0                       |0.0                       |BALFOUR ESTATE|[504031066, 504021051, 504021054, 504031067, 504031068, 504031065]|[11793, 6245, 13964, 7484, 14123, 6168]|[5853, 3422, 7118, 4145, 7257, 3224]|[382.3, 240.7, 439.7, 274.4, 547.8, 201.6]|[65316.0, 70328.0, 61774.0, 66199.0, 75482.0, 62534.0]|59777       |31019               |2086.5                    |67265.22453979819   |false   |\n",
      "+-------+------------+------------------+------------------------------------+--------------+-------------------------------------+------------------------------------------------------------------------------------------+-----------+-----------------+-----------------------------+-----+--------+-----------+--------------------------+--------------------------+--------------+------------------------------------------------------------------+---------------------------------------+------------------------------------+------------------------------------------+------------------------------------------------------+------------+--------------------+--------------------------+--------------------+--------+\n",
      "only showing top 20 rows\n",
      "\n"
     ]
    }
   ],
   "source": [
    "# Lower case and change () to [] using regular expression\n",
    "tags_df = tags_df.withColumn('tags',\n",
    "                             F.lower(F.regexp_replace(F.regexp_replace(tags_df['tags'], \\\n",
    "                                                                       r'\\(', '['), r'\\)', ']')))\n",
    "\n",
    "tags_df.show(truncate = False)"
   ]
  },
  {
   "cell_type": "markdown",
   "metadata": {},
   "source": [
    "#### 1.3 - Split 'tags' column into 3 components: 'description', 'revenue_band' and 'take_rate'"
   ]
  },
  {
   "cell_type": "code",
   "execution_count": 4,
   "metadata": {},
   "outputs": [
    {
     "name": "stderr",
     "output_type": "stream",
     "text": [
      "[Stage 2:>                                                          (0 + 1) / 1]\r"
     ]
    },
    {
     "name": "stdout",
     "output_type": "stream",
     "text": [
      "+-------+------------+------------------+------------------------------------+--------------+-------------------------------------+-----------+-----------------+-----------------------------+-----+--------+-----------+--------------------------+--------------------------+--------------+------------------------------------------------------------------+---------------------------------------+------------------------------------+------------------------------------------+------------------------------------------------------+------------+--------------------+--------------------------+--------------------+--------+---------------------------------------------------------------+------------+------------------+\n",
      "|user_id|merchant_abn|dollar_value      |order_id                            |order_datetime|merchant_name                        |consumer_id|name             |address                      |state|postcode|gender     |consumer_fraud_probability|merchant_fraud_probability|LOCALITY_NAME |list_SA2_CODE                                                     |list_ERP                               |list_num_earners                    |list_total_income_($M)                    |list_mean_income                                      |postcode_ERP|postcode_num_earners|postcode_total_income_($M)|postcode_mean_income|is_fraud|description                                                    |revenue_band|take_rate         |\n",
      "+-------+------------+------------------+------------------------------------+--------------+-------------------------------------+-----------+-----------------+-----------------------------+-----+--------+-----------+--------------------------+--------------------------+--------------+------------------------------------------------------------------+---------------------------------------+------------------------------------+------------------------------------------+------------------------------------------------------+------------+--------------------+--------------------------+--------------------+--------+---------------------------------------------------------------+------------+------------------+\n",
      "|1      |20939962818 |219.99544086086206|42fbb736-43eb-4712-81f6-b45df34a492a|2021-12-22    |Semper Cursus Institute              |1195503    |Yolanda Williams |413 Haney Gardens Apt. 742   |WA   |6935    |Female     |0.0                       |0.0                       |NULL          |NULL                                                              |NULL                                   |NULL                                |NULL                                      |NULL                                                  |NULL        |NULL                |NULL                      |NULL                |false   |[opticians, optical goods, and eyeglasses                      |, [c        |, [take rate: 2.59|\n",
      "|14936  |38523562929 |56.450082555271926|ff62019c-5864-42ec-9e47-6ad3f4f6a08f|2021-12-22    |Sed Dictum Corp.                     |986886     |Maria Riley      |416 Phillip View Suite 130   |SA   |5157    |Female     |0.0                       |0.0                       |ASHBOURNE     |[407011147, 403041075, 401021008]                                 |[8376, 2824, 7111]                     |[4446, 1754, 4110]                  |[234.3, 115.0, 236.7]                     |[52688.0, 65560.0, 57603.0]                           |18311       |10310               |586.0                     |56838.0213385063    |false   |[cable, satellite, and  other pay television and radio services|, [a        |, [take rate: 6.56|\n",
      "|3      |30415756696 |520.1489211494473 |224d7a02-2b87-485e-bb7f-dd38185d8224|2021-12-22    |Nec Mollis PC                        |1194530    |Jill Jones MD    |40693 Henry Greens           |NT   |862     |Female     |0.0                       |0.0                       |ALROY DOWNS   |[702021055, 702051066]                                            |[2526, 4852]                           |[342, 768]                          |[15.9, 34.4]                              |[46619.0, 44778.0]                                    |7378        |1110                |50.3                      |45315.31531531532   |false   |[music shops - musical instruments, pianos, and sheet music    |, [c        |, [take rate: 1.70|\n",
      "|14936  |52594457116 |843.8007122644797 |db5fc5fb-3a68-4290-8f94-dbfe3e0ab7d8|2021-12-22    |Vel Turpis Aliquam Company           |986886     |Maria Riley      |416 Phillip View Suite 130   |SA   |5157    |Female     |0.0                       |0.0                       |ASHBOURNE     |[407011147, 403041075, 401021008]                                 |[8376, 2824, 7111]                     |[4446, 1754, 4110]                  |[234.3, 115.0, 236.7]                     |[52688.0, 65560.0, 57603.0]                           |18311       |10310               |586.0                     |56838.0213385063    |false   |[bicycle shops - sales and service                             |, [a        |, [take rate: 5.51|\n",
      "|4      |89726005175 |67.7650926085944  |1f600976-0a4e-4da9-b616-5d533b014274|2021-12-22    |Est Nunc Consulting                  |154128     |Lindsay Jimenez  |00653 Davenport Crossroad    |NSW  |2780    |Female     |0.0                       |0.0                       |KATOOMBA      |[124011452]                                                       |[13360]                                |[7532]                              |[420.8]                                   |[55865.0]                                             |13360       |7532                |420.8                     |55865.0             |false   |[tent and awning shops                                         |, [a        |, [take rate: 6.01|\n",
      "|4      |36800720158 |421.010158138363  |614f5c42-2687-450a-a870-bd4d7ea95ad0|2021-12-22    |A Felis Ullamcorper Corporation      |154128     |Lindsay Jimenez  |00653 Davenport Crossroad    |NSW  |2780    |Female     |0.0                       |0.0                       |KATOOMBA      |[124011452]                                                       |[13360]                                |[7532]                              |[420.8]                                   |[55865.0]                                             |13360       |7532                |420.8                     |55865.0             |false   |[florists supplies, nursery stock, and flowers                 |, [a        |, [take rate: 6.04|\n",
      "|14938  |45433476494 |586.9704401746386 |318474e0-afbe-4ae6-bf32-0135e7914696|2021-12-22    |Adipiscing Elit Foundation           |267457     |Jasmine Ford     |1309 Karen Extension         |NSW  |2625    |Undisclosed|0.0                       |0.0                       |BELAS CORNER  |[101031016]                                                       |[8381]                                 |[4609]                              |[261.6]                                   |[56759.0]                                             |8381        |4609                |261.6                     |56759.0             |false   |[computers, computer peripheral equipment,  and software       |, [a        |, [take rate: 5.82|\n",
      "|5      |79269463423 |25.91923351919785 |b978460b-9964-4ae4-b16a-650c5d2a4af4|2021-12-22    |Egestas Fusce Aliquet Company        |712975     |Rebecca Blanchard|9271 Michael Manors Suite 651|WA   |6355    |Female     |0.0                       |0.0                       |DUNN ROCK     |[509031247]                                                       |[4355]                                 |[2915]                              |[158.9]                                   |[54507.0]                                             |4355        |2915                |158.9                     |54507.0             |false   |[shoe shops                                                    |, [a        |, [take rate: 6.44|\n",
      "|14939  |80324045558 |2.8687032968277535|f8128d02-6069-4607-9b4d-4ad44daf255f|2021-12-22    |Ipsum Dolor Sit Corporation          |764252     |Cassandra Myers  |910 Payne Heights Suite 818  |VIC  |3885    |Female     |0.0                       |0.0                       |BRUMBY        |[205021080, 205021085, 205021082]                                 |[0, 6685, 8499]                        |[0, 3278, 4784]                     |[0.0, 155.0, 229.6]                       |[0.0, 47290.0, 47983.0]                               |15184       |8062                |384.6                     |47705.28404862317   |false   |[gift, card, novelty, and souvenir shops                       |, [c        |, [take rate: 1.47|\n",
      "|6      |91923722701 |12.104755062892343|9920a42f-4f28-438b-8196-c9ab6741c26e|2021-12-22    |Euismod Urna Institute               |407340     |Karen Chapman    |2706 Stewart Oval Suite 588  |NSW  |2033    |Female     |0.0                       |0.0                       |KENSINGTON    |[118021564]                                                       |[13810]                                |[7361]                              |[605.4]                                   |[82246.0]                                             |13810       |7361                |605.4                     |82246.0             |false   |[tent and awning shops                                         |, [b        |, [take rate: 5.05|\n",
      "|14939  |63290521567 |18.74547423589471 |c0da5ba4-1038-477d-a553-6f000c447130|2021-12-22    |Vehicula Pellentesque Corporation    |764252     |Cassandra Myers  |910 Payne Heights Suite 818  |VIC  |3885    |Female     |0.0                       |0.0                       |BRUMBY        |[205021080, 205021085, 205021082]                                 |[0, 6685, 8499]                        |[0, 3278, 4784]                     |[0.0, 155.0, 229.6]                       |[0.0, 47290.0, 47983.0]                               |15184       |8062                |384.6                     |47705.28404862317   |false   |[artist supply and craft shops                                 |, [a        |, [take rate: 6.48|\n",
      "|6      |52065114842 |24.75145095029244 |046afeab-84c0-4bec-a8dd-965809b0c36b|2021-12-22    |Gravida Non PC                       |407340     |Karen Chapman    |2706 Stewart Oval Suite 588  |NSW  |2033    |Female     |0.0                       |0.0                       |KENSINGTON    |[118021564]                                                       |[13810]                                |[7361]                              |[605.4]                                   |[82246.0]                                             |13810       |7361                |605.4                     |82246.0             |false   |[digital goods: books, movies, music                           |, [b        |, [take rate: 3.98|\n",
      "|14942  |85529538986 |741.1614356359979 |e651c10b-545f-4e8f-920f-932507477cd3|2021-12-22    |Sed Neque Associates                 |406485     |Phillip Wallace  |378 Miller Vista Apt. 281    |QLD  |4509    |Undisclosed|0.0                       |0.0                       |MANGO HILL    |[314021579, 314021578]                                            |[24279, 16933]                         |[12328, 9462]                       |[731.4620000000006, 591.9245000000005]    |[59333.38741077227, 62558.07440287471]                |41212       |21790               |1323.386500000001         |60733.66223038095   |false   |[tent and awning shops                                         |, [b        |, [take rate: 4.12|\n",
      "|6      |49891706470 |33.502542106680046|0d8a7253-34d8-4d4b-b709-c9fe664761af|2021-12-22    |Non Vestibulum Industries            |407340     |Karen Chapman    |2706 Stewart Oval Suite 588  |NSW  |2033    |Female     |0.0                       |0.0                       |KENSINGTON    |[118021564]                                                       |[13810]                                |[7361]                              |[605.4]                                   |[82246.0]                                             |13810       |7361                |605.4                     |82246.0             |false   |[tent and awning shops                                         |, [a        |, [take rate: 5.80|\n",
      "|14943  |42355028515 |211.16559767695156|13af6f5c-d5e7-4018-9807-acc74cad704e|2021-12-22    |Eu Inc.                              |37167      |Alicia Brown     |051 Barker Mount Apt. 156    |NSW  |1565    |Female     |0.0                       |0.0                       |NULL          |NULL                                                              |NULL                                   |NULL                                |NULL                                      |NULL                                                  |NULL        |NULL                |NULL                      |NULL                |false   |[lawn and garden supply outlets, including nurseries           |, [a        |, [take rate: 5.97|\n",
      "|7      |49505931725 |115.46599358090947|ead5e0ad-6929-4b85-a782-92c24db61061|2021-12-22    |Suspendisse Ac Associates            |511685     |Andrea Jones     |122 Brandon Cliff            |QLD  |4606    |Female     |0.0                       |0.0                       |CHELMSFORD    |[319021506]                                                       |[9814]                                 |[4104]                              |[173.7]                                   |[42321.0]                                             |9814        |4104                |173.7                     |42321.0             |false   |[digital goods: books, movies, music                           |, [b        |, [take rate: 4.70|\n",
      "|14944  |32361057556 |211.27164979482495|499a2231-7bc4-415f-8757-09be9253c6e1|2021-12-22    |Orci In Consequat Corporation        |1106384    |Danny Wood       |081 Charlene Roads Apt. 073  |SA   |5017    |Male       |0.0                       |0.0                       |OSBORNE       |[404021100]                                                       |[15268]                                |[8067]                              |[491.1]                                   |[60873.0]                                             |15268       |8067                |491.1                     |60873.0             |false   |[gift, card, novelty, and souvenir shops                       |, [a        |, [take rate: 6.61|\n",
      "|8      |89502033586 |5.025871374417006 |b56819ba-1be2-43f4-85a1-e91708e6a2f4|2021-12-22    |Adipiscing Enim LLC                  |448088     |Stephen Williams |6804 Wright Crest Suite 311  |WA   |6056    |Male       |0.0                       |0.0                       |BALFOUR ESTATE|[504031066, 504021051, 504021054, 504031067, 504031068, 504031065]|[11793, 6245, 13964, 7484, 14123, 6168]|[5853, 3422, 7118, 4145, 7257, 3224]|[382.3, 240.7, 439.7, 274.4, 547.8, 201.6]|[65316.0, 70328.0, 61774.0, 66199.0, 75482.0, 62534.0]|59777       |31019               |2086.5                    |67265.22453979819   |false   |[digital goods: books, movies, music                           |, [a        |, [take rate: 5.98|\n",
      "|14944  |11422053652 |1025.74820899635  |4a6aa07c-9087-4425-afee-55b8b2abfb03|2021-12-22    |Aptent Taciti Consulting             |1106384    |Danny Wood       |081 Charlene Roads Apt. 073  |SA   |5017    |Male       |0.0                       |0.0                       |OSBORNE       |[404021100]                                                       |[15268]                                |[8067]                              |[491.1]                                   |[60873.0]                                             |15268       |8067                |491.1                     |60873.0             |false   |[shoe shops                                                    |, [b        |, [take rate: 4.74|\n",
      "|8      |23255291705 |56.49084627403317 |4f3297a4-51f5-426a-adc2-4482bd73046d|2021-12-22    |Interdum Nunc Sollicitudin Foundation|448088     |Stephen Williams |6804 Wright Crest Suite 311  |WA   |6056    |Male       |0.0                       |0.0                       |BALFOUR ESTATE|[504031066, 504021051, 504021054, 504031067, 504031068, 504031065]|[11793, 6245, 13964, 7484, 14123, 6168]|[5853, 3422, 7118, 4145, 7257, 3224]|[382.3, 240.7, 439.7, 274.4, 547.8, 201.6]|[65316.0, 70328.0, 61774.0, 66199.0, 75482.0, 62534.0]|59777       |31019               |2086.5                    |67265.22453979819   |false   |[cable, satellite, and other pay television and radio services |, [a        |, [take rate: 6.60|\n",
      "+-------+------------+------------------+------------------------------------+--------------+-------------------------------------+-----------+-----------------+-----------------------------+-----+--------+-----------+--------------------------+--------------------------+--------------+------------------------------------------------------------------+---------------------------------------+------------------------------------+------------------------------------------+------------------------------------------------------+------------+--------------------+--------------------------+--------------------+--------+---------------------------------------------------------------+------------+------------------+\n",
      "only showing top 20 rows\n",
      "\n"
     ]
    },
    {
     "name": "stderr",
     "output_type": "stream",
     "text": [
      "                                                                                \r"
     ]
    }
   ],
   "source": [
    "# 1. Remove [] on the 2 ends\n",
    "tags_df = tags_df.withColumn('tags', F.regexp_replace(F.col('tags'), r'^\\[|\\]$', ''))\n",
    "\n",
    "# 2. Split by ]\n",
    "split_col = F.split(F.col('tags'), r'\\]')\n",
    "\n",
    "# 3. Assign split into new columns\n",
    "tags_df = tags_df.withColumn('description', split_col[0]) \\\n",
    "                 .withColumn('revenue_band', split_col[1]) \\\n",
    "                 .withColumn('take_rate', split_col[2])\n",
    "\n",
    "# drop big and obselete 'tags' column\n",
    "tags_df = tags_df.drop('tags')\n",
    "tags_df.show(truncate = False)"
   ]
  },
  {
   "cell_type": "markdown",
   "metadata": {},
   "source": [
    "##### 1.3.1 - Clean up the 3 new columns"
   ]
  },
  {
   "cell_type": "code",
   "execution_count": 5,
   "metadata": {},
   "outputs": [
    {
     "name": "stderr",
     "output_type": "stream",
     "text": [
      "[Stage 3:>                                                          (0 + 1) / 1]\r"
     ]
    },
    {
     "name": "stdout",
     "output_type": "stream",
     "text": [
      "+-------+------------+------------------+------------------------------------+--------------+-------------------------------------+-----------+-----------------+-----------------------------+-----+--------+-----------+--------------------------+--------------------------+--------------+------------------------------------------------------------------+---------------------------------------+------------------------------------+------------------------------------------+------------------------------------------------------+------------+--------------------+--------------------------+--------------------+--------+---------------------------------------------------------+------------+---------+\n",
      "|user_id|merchant_abn|dollar_value      |order_id                            |order_datetime|merchant_name                        |consumer_id|name             |address                      |state|postcode|gender     |consumer_fraud_probability|merchant_fraud_probability|LOCALITY_NAME |list_SA2_CODE                                                     |list_ERP                               |list_num_earners                    |list_total_income_($M)                    |list_mean_income                                      |postcode_ERP|postcode_num_earners|postcode_total_income_($M)|postcode_mean_income|is_fraud|description                                              |revenue_band|take_rate|\n",
      "+-------+------------+------------------+------------------------------------+--------------+-------------------------------------+-----------+-----------------+-----------------------------+-----+--------+-----------+--------------------------+--------------------------+--------------+------------------------------------------------------------------+---------------------------------------+------------------------------------+------------------------------------------+------------------------------------------------------+------------+--------------------+--------------------------+--------------------+--------+---------------------------------------------------------+------------+---------+\n",
      "|1      |20939962818 |219.99544086086206|42fbb736-43eb-4712-81f6-b45df34a492a|2021-12-22    |Semper Cursus Institute              |1195503    |Yolanda Williams |413 Haney Gardens Apt. 742   |WA   |6935    |Female     |0.0                       |0.0                       |NULL          |NULL                                                              |NULL                                   |NULL                                |NULL                                      |NULL                                                  |NULL        |NULL                |NULL                      |NULL                |false   |opticians, optical goods, eyeglasses                     |c           |2.59     |\n",
      "|14936  |38523562929 |56.450082555271926|ff62019c-5864-42ec-9e47-6ad3f4f6a08f|2021-12-22    |Sed Dictum Corp.                     |986886     |Maria Riley      |416 Phillip View Suite 130   |SA   |5157    |Female     |0.0                       |0.0                       |ASHBOURNE     |[407011147, 403041075, 401021008]                                 |[8376, 2824, 7111]                     |[4446, 1754, 4110]                  |[234.3, 115.0, 236.7]                     |[52688.0, 65560.0, 57603.0]                           |18311       |10310               |586.0                     |56838.0213385063    |false   |cable, satellite, other pay television and radio services|a           |6.56     |\n",
      "|3      |30415756696 |520.1489211494473 |224d7a02-2b87-485e-bb7f-dd38185d8224|2021-12-22    |Nec Mollis PC                        |1194530    |Jill Jones MD    |40693 Henry Greens           |NT   |862     |Female     |0.0                       |0.0                       |ALROY DOWNS   |[702021055, 702051066]                                            |[2526, 4852]                           |[342, 768]                          |[15.9, 34.4]                              |[46619.0, 44778.0]                                    |7378        |1110                |50.3                      |45315.31531531532   |false   |music shops - musical instruments, pianos, sheet music   |c           |1.7      |\n",
      "|14936  |52594457116 |843.8007122644797 |db5fc5fb-3a68-4290-8f94-dbfe3e0ab7d8|2021-12-22    |Vel Turpis Aliquam Company           |986886     |Maria Riley      |416 Phillip View Suite 130   |SA   |5157    |Female     |0.0                       |0.0                       |ASHBOURNE     |[407011147, 403041075, 401021008]                                 |[8376, 2824, 7111]                     |[4446, 1754, 4110]                  |[234.3, 115.0, 236.7]                     |[52688.0, 65560.0, 57603.0]                           |18311       |10310               |586.0                     |56838.0213385063    |false   |bicycle shops - sales and service                        |a           |5.51     |\n",
      "|4      |89726005175 |67.7650926085944  |1f600976-0a4e-4da9-b616-5d533b014274|2021-12-22    |Est Nunc Consulting                  |154128     |Lindsay Jimenez  |00653 Davenport Crossroad    |NSW  |2780    |Female     |0.0                       |0.0                       |KATOOMBA      |[124011452]                                                       |[13360]                                |[7532]                              |[420.8]                                   |[55865.0]                                             |13360       |7532                |420.8                     |55865.0             |false   |tent and awning shops                                    |a           |6.01     |\n",
      "|4      |36800720158 |421.010158138363  |614f5c42-2687-450a-a870-bd4d7ea95ad0|2021-12-22    |A Felis Ullamcorper Corporation      |154128     |Lindsay Jimenez  |00653 Davenport Crossroad    |NSW  |2780    |Female     |0.0                       |0.0                       |KATOOMBA      |[124011452]                                                       |[13360]                                |[7532]                              |[420.8]                                   |[55865.0]                                             |13360       |7532                |420.8                     |55865.0             |false   |florists supplies, nursery stock, flowers                |a           |6.04     |\n",
      "|14938  |45433476494 |586.9704401746386 |318474e0-afbe-4ae6-bf32-0135e7914696|2021-12-22    |Adipiscing Elit Foundation           |267457     |Jasmine Ford     |1309 Karen Extension         |NSW  |2625    |Undisclosed|0.0                       |0.0                       |BELAS CORNER  |[101031016]                                                       |[8381]                                 |[4609]                              |[261.6]                                   |[56759.0]                                             |8381        |4609                |261.6                     |56759.0             |false   |computers, computer peripheral equipment, software       |a           |5.82     |\n",
      "|5      |79269463423 |25.91923351919785 |b978460b-9964-4ae4-b16a-650c5d2a4af4|2021-12-22    |Egestas Fusce Aliquet Company        |712975     |Rebecca Blanchard|9271 Michael Manors Suite 651|WA   |6355    |Female     |0.0                       |0.0                       |DUNN ROCK     |[509031247]                                                       |[4355]                                 |[2915]                              |[158.9]                                   |[54507.0]                                             |4355        |2915                |158.9                     |54507.0             |false   |shoe shops                                               |a           |6.44     |\n",
      "|14939  |80324045558 |2.8687032968277535|f8128d02-6069-4607-9b4d-4ad44daf255f|2021-12-22    |Ipsum Dolor Sit Corporation          |764252     |Cassandra Myers  |910 Payne Heights Suite 818  |VIC  |3885    |Female     |0.0                       |0.0                       |BRUMBY        |[205021080, 205021085, 205021082]                                 |[0, 6685, 8499]                        |[0, 3278, 4784]                     |[0.0, 155.0, 229.6]                       |[0.0, 47290.0, 47983.0]                               |15184       |8062                |384.6                     |47705.28404862317   |false   |gift, card, novelty, souvenir shops                      |c           |1.47     |\n",
      "|6      |91923722701 |12.104755062892343|9920a42f-4f28-438b-8196-c9ab6741c26e|2021-12-22    |Euismod Urna Institute               |407340     |Karen Chapman    |2706 Stewart Oval Suite 588  |NSW  |2033    |Female     |0.0                       |0.0                       |KENSINGTON    |[118021564]                                                       |[13810]                                |[7361]                              |[605.4]                                   |[82246.0]                                             |13810       |7361                |605.4                     |82246.0             |false   |tent and awning shops                                    |b           |5.05     |\n",
      "|14939  |63290521567 |18.74547423589471 |c0da5ba4-1038-477d-a553-6f000c447130|2021-12-22    |Vehicula Pellentesque Corporation    |764252     |Cassandra Myers  |910 Payne Heights Suite 818  |VIC  |3885    |Female     |0.0                       |0.0                       |BRUMBY        |[205021080, 205021085, 205021082]                                 |[0, 6685, 8499]                        |[0, 3278, 4784]                     |[0.0, 155.0, 229.6]                       |[0.0, 47290.0, 47983.0]                               |15184       |8062                |384.6                     |47705.28404862317   |false   |artist supply and craft shops                            |a           |6.48     |\n",
      "|6      |52065114842 |24.75145095029244 |046afeab-84c0-4bec-a8dd-965809b0c36b|2021-12-22    |Gravida Non PC                       |407340     |Karen Chapman    |2706 Stewart Oval Suite 588  |NSW  |2033    |Female     |0.0                       |0.0                       |KENSINGTON    |[118021564]                                                       |[13810]                                |[7361]                              |[605.4]                                   |[82246.0]                                             |13810       |7361                |605.4                     |82246.0             |false   |digital goods: books, movies, music                      |b           |3.98     |\n",
      "|14942  |85529538986 |741.1614356359979 |e651c10b-545f-4e8f-920f-932507477cd3|2021-12-22    |Sed Neque Associates                 |406485     |Phillip Wallace  |378 Miller Vista Apt. 281    |QLD  |4509    |Undisclosed|0.0                       |0.0                       |MANGO HILL    |[314021579, 314021578]                                            |[24279, 16933]                         |[12328, 9462]                       |[731.4620000000006, 591.9245000000005]    |[59333.38741077227, 62558.07440287471]                |41212       |21790               |1323.386500000001         |60733.66223038095   |false   |tent and awning shops                                    |b           |4.12     |\n",
      "|6      |49891706470 |33.502542106680046|0d8a7253-34d8-4d4b-b709-c9fe664761af|2021-12-22    |Non Vestibulum Industries            |407340     |Karen Chapman    |2706 Stewart Oval Suite 588  |NSW  |2033    |Female     |0.0                       |0.0                       |KENSINGTON    |[118021564]                                                       |[13810]                                |[7361]                              |[605.4]                                   |[82246.0]                                             |13810       |7361                |605.4                     |82246.0             |false   |tent and awning shops                                    |a           |5.8      |\n",
      "|14943  |42355028515 |211.16559767695156|13af6f5c-d5e7-4018-9807-acc74cad704e|2021-12-22    |Eu Inc.                              |37167      |Alicia Brown     |051 Barker Mount Apt. 156    |NSW  |1565    |Female     |0.0                       |0.0                       |NULL          |NULL                                                              |NULL                                   |NULL                                |NULL                                      |NULL                                                  |NULL        |NULL                |NULL                      |NULL                |false   |lawn and garden supply outlets, including nurseries      |a           |5.97     |\n",
      "|7      |49505931725 |115.46599358090947|ead5e0ad-6929-4b85-a782-92c24db61061|2021-12-22    |Suspendisse Ac Associates            |511685     |Andrea Jones     |122 Brandon Cliff            |QLD  |4606    |Female     |0.0                       |0.0                       |CHELMSFORD    |[319021506]                                                       |[9814]                                 |[4104]                              |[173.7]                                   |[42321.0]                                             |9814        |4104                |173.7                     |42321.0             |false   |digital goods: books, movies, music                      |b           |4.7      |\n",
      "|14944  |32361057556 |211.27164979482495|499a2231-7bc4-415f-8757-09be9253c6e1|2021-12-22    |Orci In Consequat Corporation        |1106384    |Danny Wood       |081 Charlene Roads Apt. 073  |SA   |5017    |Male       |0.0                       |0.0                       |OSBORNE       |[404021100]                                                       |[15268]                                |[8067]                              |[491.1]                                   |[60873.0]                                             |15268       |8067                |491.1                     |60873.0             |false   |gift, card, novelty, souvenir shops                      |a           |6.61     |\n",
      "|8      |89502033586 |5.025871374417006 |b56819ba-1be2-43f4-85a1-e91708e6a2f4|2021-12-22    |Adipiscing Enim LLC                  |448088     |Stephen Williams |6804 Wright Crest Suite 311  |WA   |6056    |Male       |0.0                       |0.0                       |BALFOUR ESTATE|[504031066, 504021051, 504021054, 504031067, 504031068, 504031065]|[11793, 6245, 13964, 7484, 14123, 6168]|[5853, 3422, 7118, 4145, 7257, 3224]|[382.3, 240.7, 439.7, 274.4, 547.8, 201.6]|[65316.0, 70328.0, 61774.0, 66199.0, 75482.0, 62534.0]|59777       |31019               |2086.5                    |67265.22453979819   |false   |digital goods: books, movies, music                      |a           |5.98     |\n",
      "|14944  |11422053652 |1025.74820899635  |4a6aa07c-9087-4425-afee-55b8b2abfb03|2021-12-22    |Aptent Taciti Consulting             |1106384    |Danny Wood       |081 Charlene Roads Apt. 073  |SA   |5017    |Male       |0.0                       |0.0                       |OSBORNE       |[404021100]                                                       |[15268]                                |[8067]                              |[491.1]                                   |[60873.0]                                             |15268       |8067                |491.1                     |60873.0             |false   |shoe shops                                               |b           |4.74     |\n",
      "|8      |23255291705 |56.49084627403317 |4f3297a4-51f5-426a-adc2-4482bd73046d|2021-12-22    |Interdum Nunc Sollicitudin Foundation|448088     |Stephen Williams |6804 Wright Crest Suite 311  |WA   |6056    |Male       |0.0                       |0.0                       |BALFOUR ESTATE|[504031066, 504021051, 504021054, 504031067, 504031068, 504031065]|[11793, 6245, 13964, 7484, 14123, 6168]|[5853, 3422, 7118, 4145, 7257, 3224]|[382.3, 240.7, 439.7, 274.4, 547.8, 201.6]|[65316.0, 70328.0, 61774.0, 66199.0, 75482.0, 62534.0]|59777       |31019               |2086.5                    |67265.22453979819   |false   |cable, satellite, other pay television and radio services|a           |6.6      |\n",
      "+-------+------------+------------------+------------------------------------+--------------+-------------------------------------+-----------+-----------------+-----------------------------+-----+--------+-----------+--------------------------+--------------------------+--------------+------------------------------------------------------------------+---------------------------------------+------------------------------------+------------------------------------------+------------------------------------------------------+------------+--------------------+--------------------------+--------------------+--------+---------------------------------------------------------+------------+---------+\n",
      "only showing top 20 rows\n",
      "\n"
     ]
    },
    {
     "name": "stderr",
     "output_type": "stream",
     "text": [
      "                                                                                \r"
     ]
    }
   ],
   "source": [
    "# 1. Clean up 'description': Remove unnecessary characters, ', and'\n",
    "tags_df = tags_df.withColumn('description', F.regexp_replace(F.col('description'), r'\\[', '')) \\\n",
    "                 .withColumn('description', F.regexp_replace(F.col('description'), r'\\s+', ' ')) \\\n",
    "                 .withColumn('description', F.regexp_replace(F.col('description'), r'\\s,', ',')) \\\n",
    "                 .withColumn('description', F.regexp_replace(F.col('description'), r', and', ','))\n",
    "\n",
    "# 2. 'revenue_band': Retain only the letter\n",
    "tags_df = tags_df.withColumn('revenue_band', F.regexp_replace(F.col('revenue_band'), r'[^a-zA-Z]', ''))\n",
    "\n",
    "# 3. 'take_rate': Retain only the digits, and cast to double\n",
    "tags_df = tags_df.withColumn('take_rate', F.regexp_replace(F.col('take_rate'), r'[^0-9.]', ''))\n",
    "tags_df = tags_df.withColumn('take_rate', F.col('take_rate').cast(DoubleType()))\n",
    "\n",
    "tags_df.show(truncate = False)"
   ]
  },
  {
   "cell_type": "markdown",
   "metadata": {},
   "source": [
    "##### 1.3.2 - Count the number of unique description"
   ]
  },
  {
   "cell_type": "code",
   "execution_count": 6,
   "metadata": {},
   "outputs": [
    {
     "name": "stderr",
     "output_type": "stream",
     "text": [
      "                                                                                \r"
     ]
    },
    {
     "name": "stdout",
     "output_type": "stream",
     "text": [
      "Number of unique tags = 25\n"
     ]
    },
    {
     "name": "stderr",
     "output_type": "stream",
     "text": [
      "                                                                                \r"
     ]
    },
    {
     "name": "stdout",
     "output_type": "stream",
     "text": [
      "Total count (should be equal to number of transactions) = 13614854\n"
     ]
    },
    {
     "name": "stderr",
     "output_type": "stream",
     "text": [
      "                                                                                \r"
     ]
    },
    {
     "name": "stdout",
     "output_type": "stream",
     "text": [
      "+---------------------------------------------------------------------------------+-------+-----+\n",
      "|description                                                                      |count  |index|\n",
      "+---------------------------------------------------------------------------------+-------+-----+\n",
      "|tent and awning shops                                                            |1816901|0    |\n",
      "|gift, card, novelty, souvenir shops                                              |1640025|1    |\n",
      "|digital goods: books, movies, music                                              |1283763|2    |\n",
      "|watch, clock, jewelry repair shops                                               |1031486|3    |\n",
      "|cable, satellite, other pay television and radio services                        |957072 |4    |\n",
      "|florists supplies, nursery stock, flowers                                        |881774 |5    |\n",
      "|opticians, optical goods, eyeglasses                                             |843893 |6    |\n",
      "|computers, computer peripheral equipment, software                               |718427 |7    |\n",
      "|computer programming, data processing, integrated systems design services        |518597 |8    |\n",
      "|furniture, home furnishings and equipment shops, manufacturers, except appliances|498133 |9    |\n",
      "|artist supply and craft shops                                                    |472181 |10   |\n",
      "|shoe shops                                                                       |432531 |11   |\n",
      "|books, periodicals, newspapers                                                   |394619 |12   |\n",
      "|lawn and garden supply outlets, including nurseries                              |347329 |13   |\n",
      "|music shops - musical instruments, pianos, sheet music                           |317822 |14   |\n",
      "|motor vehicle supplies and new parts                                             |307024 |15   |\n",
      "|health and beauty spas                                                           |245763 |16   |\n",
      "|hobby, toy and game shops                                                        |235543 |17   |\n",
      "|bicycle shops - sales and service                                                |224738 |18   |\n",
      "|antique shops - sales, repairs, restoration services                             |178761 |19   |\n",
      "|stationery, office supplies and printing and writing paper                       |171437 |20   |\n",
      "|equipment, tool, furniture, appliance rent al and leasing                        |36695  |21   |\n",
      "|telecom                                                                          |34218  |22   |\n",
      "|art dealers and galleries                                                        |21225  |23   |\n",
      "|jewelry, watch, clock, silverware shops                                          |4897   |24   |\n",
      "+---------------------------------------------------------------------------------+-------+-----+\n",
      "\n"
     ]
    }
   ],
   "source": [
    "# Count the number of each description\n",
    "tag_counts_df = tags_df.groupBy('description').count()\n",
    "\n",
    "tag_counts_df = tag_counts_df.orderBy('count', ascending = False)  #  order by the count\n",
    "\n",
    "#  create index column to allocate to segments later\n",
    "tag_counts_df = tag_counts_df.withColumn('index', F.monotonically_increasing_id())  \n",
    "\n",
    "print(\"Number of unique tags =\", tag_counts_df.count())\n",
    "print(\"Total count (should be equal to number of transactions) =\", tag_counts_df.agg(F.sum('count')).collect()[0][0])\n",
    "tag_counts_df.show(n = tag_counts_df.count(), truncate = False)"
   ]
  },
  {
   "cell_type": "markdown",
   "metadata": {},
   "source": [
    "### 2 - Create industry segments"
   ]
  },
  {
   "cell_type": "code",
   "execution_count": 7,
   "metadata": {},
   "outputs": [
    {
     "name": "stderr",
     "output_type": "stream",
     "text": [
      "                                                                                \r"
     ]
    },
    {
     "name": "stdout",
     "output_type": "stream",
     "text": [
      "+---------------------------------------------------------------------------------+-------+-----+---------------------------+\n",
      "|description                                                                      |count  |index|segment                    |\n",
      "+---------------------------------------------------------------------------------+-------+-----+---------------------------+\n",
      "|tent and awning shops                                                            |1816901|0    |retail                     |\n",
      "|gift, card, novelty, souvenir shops                                              |1640025|1    |retail                     |\n",
      "|digital goods: books, movies, music                                              |1283763|2    |retail                     |\n",
      "|watch, clock, jewelry repair shops                                               |1031486|3    |luxury products + services |\n",
      "|cable, satellite, other pay television and radio services                        |957072 |4    |technology + media services|\n",
      "|florists supplies, nursery stock, flowers                                        |881774 |5    |retail                     |\n",
      "|opticians, optical goods, eyeglasses                                             |843893 |6    |health + beauty            |\n",
      "|computers, computer peripheral equipment, software                               |718427 |7    |retail                     |\n",
      "|computer programming, data processing, integrated systems design services        |518597 |8    |technology + media services|\n",
      "|furniture, home furnishings and equipment shops, manufacturers, except appliances|498133 |9    |retail                     |\n",
      "|artist supply and craft shops                                                    |472181 |10   |retail                     |\n",
      "|shoe shops                                                                       |432531 |11   |retail                     |\n",
      "|books, periodicals, newspapers                                                   |394619 |12   |retail                     |\n",
      "|lawn and garden supply outlets, including nurseries                              |347329 |13   |retail                     |\n",
      "|music shops - musical instruments, pianos, sheet music                           |317822 |14   |retail                     |\n",
      "|motor vehicle supplies and new parts                                             |307024 |15   |retail                     |\n",
      "|health and beauty spas                                                           |245763 |16   |health + beauty            |\n",
      "|hobby, toy and game shops                                                        |235543 |17   |retail                     |\n",
      "|bicycle shops - sales and service                                                |224738 |18   |retail                     |\n",
      "|antique shops - sales, repairs, restoration services                             |178761 |19   |luxury products + services |\n",
      "|stationery, office supplies and printing and writing paper                       |171437 |20   |retail                     |\n",
      "|equipment, tool, furniture, appliance rent al and leasing                        |36695  |21   |rental services            |\n",
      "|telecom                                                                          |34218  |22   |technology + media services|\n",
      "|art dealers and galleries                                                        |21225  |23   |luxury products + services |\n",
      "|jewelry, watch, clock, silverware shops                                          |4897   |24   |luxury products + services |\n",
      "+---------------------------------------------------------------------------------+-------+-----+---------------------------+\n",
      "\n"
     ]
    }
   ],
   "source": [
    "# CHANGE THIS MAPPING IN IF SEGMENTS CHANGE\n",
    "\n",
    "# Map descriptions to their respective segments\n",
    "segment_mapping = {\"retail\": [0, 1, 2, 5, 7, 9, 10, 11, 12, 13, 14, 15, 17, 18, 20],\n",
    "                   \"technology + media services\": [4, 8, 22],\n",
    "                   \"health + beauty\": [6, 16],\n",
    "                   \"luxury products + services\": [3, 19, 23, 24],\n",
    "                   \"rental services\": [21]\n",
    "                   }\n",
    "\n",
    "# Assign the descriptions to segments using the index mappings\n",
    "segment_conditions = F.when(F.col(\"index\").isin(segment_mapping[\"retail\"]), \"retail\")\\\n",
    ".when(F.col(\"index\").isin(segment_mapping[\"technology + media services\"]), \"technology + media services\")\\\n",
    ".when(F.col(\"index\").isin(segment_mapping[\"health + beauty\"]), \"health + beauty\")\\\n",
    ".when(F.col(\"index\").isin(segment_mapping[\"luxury products + services\"]), \"luxury products + services\")\\\n",
    ".when(F.col(\"index\").isin(segment_mapping[\"rental services\"]), \"rental services\")\\\n",
    ".otherwise(\"Unknown\")\n",
    "\n",
    "tag_counts_df = tag_counts_df.withColumn(\"segment\", segment_conditions)\n",
    "tag_counts_df.show(n = tag_counts_df.count(), truncate = False)"
   ]
  },
  {
   "cell_type": "markdown",
   "metadata": {},
   "source": [
    "### 3 - Merge the two tables on 'description' column"
   ]
  },
  {
   "cell_type": "code",
   "execution_count": 8,
   "metadata": {},
   "outputs": [
    {
     "name": "stderr",
     "output_type": "stream",
     "text": [
      "                                                                                \r"
     ]
    },
    {
     "name": "stdout",
     "output_type": "stream",
     "text": [
      "+---------------------------------------------------------+-------+------------+------------------+------------------------------------+--------------+-------------------------------------+-----------+-----------------+-----------------------------+-----+--------+-----------+--------------------------+--------------------------+--------------+------------------------------------------------------------------+---------------------------------------+------------------------------------+------------------------------------------+------------------------------------------------------+------------+--------------------+--------------------------+--------------------+--------+------------+---------+---------------------------+\n",
      "|description                                              |user_id|merchant_abn|dollar_value      |order_id                            |order_datetime|merchant_name                        |consumer_id|name             |address                      |state|postcode|gender     |consumer_fraud_probability|merchant_fraud_probability|LOCALITY_NAME |list_SA2_CODE                                                     |list_ERP                               |list_num_earners                    |list_total_income_($M)                    |list_mean_income                                      |postcode_ERP|postcode_num_earners|postcode_total_income_($M)|postcode_mean_income|is_fraud|revenue_band|take_rate|industry_segment           |\n",
      "+---------------------------------------------------------+-------+------------+------------------+------------------------------------+--------------+-------------------------------------+-----------+-----------------+-----------------------------+-----+--------+-----------+--------------------------+--------------------------+--------------+------------------------------------------------------------------+---------------------------------------+------------------------------------+------------------------------------------+------------------------------------------------------+------------+--------------------+--------------------------+--------------------+--------+------------+---------+---------------------------+\n",
      "|digital goods: books, movies, music                      |6      |52065114842 |24.75145095029244 |046afeab-84c0-4bec-a8dd-965809b0c36b|2021-12-22    |Gravida Non PC                       |407340     |Karen Chapman    |2706 Stewart Oval Suite 588  |NSW  |2033    |Female     |0.0                       |0.0                       |KENSINGTON    |[118021564]                                                       |[13810]                                |[7361]                              |[605.4]                                   |[82246.0]                                             |13810       |7361                |605.4                     |82246.0             |false   |b           |3.98     |retail                     |\n",
      "|digital goods: books, movies, music                      |7      |49505931725 |115.46599358090947|ead5e0ad-6929-4b85-a782-92c24db61061|2021-12-22    |Suspendisse Ac Associates            |511685     |Andrea Jones     |122 Brandon Cliff            |QLD  |4606    |Female     |0.0                       |0.0                       |CHELMSFORD    |[319021506]                                                       |[9814]                                 |[4104]                              |[173.7]                                   |[42321.0]                                             |9814        |4104                |173.7                     |42321.0             |false   |b           |4.7      |retail                     |\n",
      "|digital goods: books, movies, music                      |8      |89502033586 |5.025871374417006 |b56819ba-1be2-43f4-85a1-e91708e6a2f4|2021-12-22    |Adipiscing Enim LLC                  |448088     |Stephen Williams |6804 Wright Crest Suite 311  |WA   |6056    |Male       |0.0                       |0.0                       |BALFOUR ESTATE|[504031066, 504021051, 504021054, 504031067, 504031068, 504031065]|[11793, 6245, 13964, 7484, 14123, 6168]|[5853, 3422, 7118, 4145, 7257, 3224]|[382.3, 240.7, 439.7, 274.4, 547.8, 201.6]|[65316.0, 70328.0, 61774.0, 66199.0, 75482.0, 62534.0]|59777       |31019               |2086.5                    |67265.22453979819   |false   |a           |5.98     |retail                     |\n",
      "|cable, satellite, other pay television and radio services|14936  |38523562929 |56.450082555271926|ff62019c-5864-42ec-9e47-6ad3f4f6a08f|2021-12-22    |Sed Dictum Corp.                     |986886     |Maria Riley      |416 Phillip View Suite 130   |SA   |5157    |Female     |0.0                       |0.0                       |ASHBOURNE     |[407011147, 403041075, 401021008]                                 |[8376, 2824, 7111]                     |[4446, 1754, 4110]                  |[234.3, 115.0, 236.7]                     |[52688.0, 65560.0, 57603.0]                           |18311       |10310               |586.0                     |56838.0213385063    |false   |a           |6.56     |technology + media services|\n",
      "|cable, satellite, other pay television and radio services|8      |23255291705 |56.49084627403317 |4f3297a4-51f5-426a-adc2-4482bd73046d|2021-12-22    |Interdum Nunc Sollicitudin Foundation|448088     |Stephen Williams |6804 Wright Crest Suite 311  |WA   |6056    |Male       |0.0                       |0.0                       |BALFOUR ESTATE|[504031066, 504021051, 504021054, 504031067, 504031068, 504031065]|[11793, 6245, 13964, 7484, 14123, 6168]|[5853, 3422, 7118, 4145, 7257, 3224]|[382.3, 240.7, 439.7, 274.4, 547.8, 201.6]|[65316.0, 70328.0, 61774.0, 66199.0, 75482.0, 62534.0]|59777       |31019               |2086.5                    |67265.22453979819   |false   |a           |6.6      |technology + media services|\n",
      "|opticians, optical goods, eyeglasses                     |1      |20939962818 |219.99544086086206|42fbb736-43eb-4712-81f6-b45df34a492a|2021-12-22    |Semper Cursus Institute              |1195503    |Yolanda Williams |413 Haney Gardens Apt. 742   |WA   |6935    |Female     |0.0                       |0.0                       |NULL          |NULL                                                              |NULL                                   |NULL                                |NULL                                      |NULL                                                  |NULL        |NULL                |NULL                      |NULL                |false   |c           |2.59     |health + beauty            |\n",
      "|computers, computer peripheral equipment, software       |14938  |45433476494 |586.9704401746386 |318474e0-afbe-4ae6-bf32-0135e7914696|2021-12-22    |Adipiscing Elit Foundation           |267457     |Jasmine Ford     |1309 Karen Extension         |NSW  |2625    |Undisclosed|0.0                       |0.0                       |BELAS CORNER  |[101031016]                                                       |[8381]                                 |[4609]                              |[261.6]                                   |[56759.0]                                             |8381        |4609                |261.6                     |56759.0             |false   |a           |5.82     |retail                     |\n",
      "|tent and awning shops                                    |4      |89726005175 |67.7650926085944  |1f600976-0a4e-4da9-b616-5d533b014274|2021-12-22    |Est Nunc Consulting                  |154128     |Lindsay Jimenez  |00653 Davenport Crossroad    |NSW  |2780    |Female     |0.0                       |0.0                       |KATOOMBA      |[124011452]                                                       |[13360]                                |[7532]                              |[420.8]                                   |[55865.0]                                             |13360       |7532                |420.8                     |55865.0             |false   |a           |6.01     |retail                     |\n",
      "|tent and awning shops                                    |6      |91923722701 |12.104755062892343|9920a42f-4f28-438b-8196-c9ab6741c26e|2021-12-22    |Euismod Urna Institute               |407340     |Karen Chapman    |2706 Stewart Oval Suite 588  |NSW  |2033    |Female     |0.0                       |0.0                       |KENSINGTON    |[118021564]                                                       |[13810]                                |[7361]                              |[605.4]                                   |[82246.0]                                             |13810       |7361                |605.4                     |82246.0             |false   |b           |5.05     |retail                     |\n",
      "|tent and awning shops                                    |14942  |85529538986 |741.1614356359979 |e651c10b-545f-4e8f-920f-932507477cd3|2021-12-22    |Sed Neque Associates                 |406485     |Phillip Wallace  |378 Miller Vista Apt. 281    |QLD  |4509    |Undisclosed|0.0                       |0.0                       |MANGO HILL    |[314021579, 314021578]                                            |[24279, 16933]                         |[12328, 9462]                       |[731.4620000000006, 591.9245000000005]    |[59333.38741077227, 62558.07440287471]                |41212       |21790               |1323.386500000001         |60733.66223038095   |false   |b           |4.12     |retail                     |\n",
      "|tent and awning shops                                    |6      |49891706470 |33.502542106680046|0d8a7253-34d8-4d4b-b709-c9fe664761af|2021-12-22    |Non Vestibulum Industries            |407340     |Karen Chapman    |2706 Stewart Oval Suite 588  |NSW  |2033    |Female     |0.0                       |0.0                       |KENSINGTON    |[118021564]                                                       |[13810]                                |[7361]                              |[605.4]                                   |[82246.0]                                             |13810       |7361                |605.4                     |82246.0             |false   |a           |5.8      |retail                     |\n",
      "|tent and awning shops                                    |14945  |17324645993 |7.9757515015490155|40242d9d-a09e-4e71-bd6d-f1df970c41ef|2021-12-22    |Eget Metus In Corporation            |1428075    |Brenda Porter    |02377 Annette Land           |TAS  |7258    |Female     |0.0                       |0.0                       |BREADALBANE   |[602031058, 602031062, 602011052]                                 |[4537, 5736, 5171]                     |[2545, 3079, 2802]                  |[145.4, 182.0, 168.2]                     |[57138.0, 59094.0, 60030.0]                           |15444       |8426                |495.59999999999997        |58817.944457631136  |false   |a           |5.73     |retail                     |\n",
      "|artist supply and craft shops                            |14939  |63290521567 |18.74547423589471 |c0da5ba4-1038-477d-a553-6f000c447130|2021-12-22    |Vehicula Pellentesque Corporation    |764252     |Cassandra Myers  |910 Payne Heights Suite 818  |VIC  |3885    |Female     |0.0                       |0.0                       |BRUMBY        |[205021080, 205021085, 205021082]                                 |[0, 6685, 8499]                        |[0, 3278, 4784]                     |[0.0, 155.0, 229.6]                       |[0.0, 47290.0, 47983.0]                               |15184       |8062                |384.6                     |47705.28404862317   |false   |a           |6.48     |retail                     |\n",
      "|gift, card, novelty, souvenir shops                      |14939  |80324045558 |2.8687032968277535|f8128d02-6069-4607-9b4d-4ad44daf255f|2021-12-22    |Ipsum Dolor Sit Corporation          |764252     |Cassandra Myers  |910 Payne Heights Suite 818  |VIC  |3885    |Female     |0.0                       |0.0                       |BRUMBY        |[205021080, 205021085, 205021082]                                 |[0, 6685, 8499]                        |[0, 3278, 4784]                     |[0.0, 155.0, 229.6]                       |[0.0, 47290.0, 47983.0]                               |15184       |8062                |384.6                     |47705.28404862317   |false   |c           |1.47     |retail                     |\n",
      "|gift, card, novelty, souvenir shops                      |14944  |32361057556 |211.27164979482495|499a2231-7bc4-415f-8757-09be9253c6e1|2021-12-22    |Orci In Consequat Corporation        |1106384    |Danny Wood       |081 Charlene Roads Apt. 073  |SA   |5017    |Male       |0.0                       |0.0                       |OSBORNE       |[404021100]                                                       |[15268]                                |[8067]                              |[491.1]                                   |[60873.0]                                             |15268       |8067                |491.1                     |60873.0             |false   |a           |6.61     |retail                     |\n",
      "|shoe shops                                               |5      |79269463423 |25.91923351919785 |b978460b-9964-4ae4-b16a-650c5d2a4af4|2021-12-22    |Egestas Fusce Aliquet Company        |712975     |Rebecca Blanchard|9271 Michael Manors Suite 651|WA   |6355    |Female     |0.0                       |0.0                       |DUNN ROCK     |[509031247]                                                       |[4355]                                 |[2915]                              |[158.9]                                   |[54507.0]                                             |4355        |2915                |158.9                     |54507.0             |false   |a           |6.44     |retail                     |\n",
      "|shoe shops                                               |14944  |11422053652 |1025.74820899635  |4a6aa07c-9087-4425-afee-55b8b2abfb03|2021-12-22    |Aptent Taciti Consulting             |1106384    |Danny Wood       |081 Charlene Roads Apt. 073  |SA   |5017    |Male       |0.0                       |0.0                       |OSBORNE       |[404021100]                                                       |[15268]                                |[8067]                              |[491.1]                                   |[60873.0]                                             |15268       |8067                |491.1                     |60873.0             |false   |b           |4.74     |retail                     |\n",
      "|florists supplies, nursery stock, flowers                |4      |36800720158 |421.010158138363  |614f5c42-2687-450a-a870-bd4d7ea95ad0|2021-12-22    |A Felis Ullamcorper Corporation      |154128     |Lindsay Jimenez  |00653 Davenport Crossroad    |NSW  |2780    |Female     |0.0                       |0.0                       |KATOOMBA      |[124011452]                                                       |[13360]                                |[7532]                              |[420.8]                                   |[55865.0]                                             |13360       |7532                |420.8                     |55865.0             |false   |a           |6.04     |retail                     |\n",
      "|lawn and garden supply outlets, including nurseries      |14943  |42355028515 |211.16559767695156|13af6f5c-d5e7-4018-9807-acc74cad704e|2021-12-22    |Eu Inc.                              |37167      |Alicia Brown     |051 Barker Mount Apt. 156    |NSW  |1565    |Female     |0.0                       |0.0                       |NULL          |NULL                                                              |NULL                                   |NULL                                |NULL                                      |NULL                                                  |NULL        |NULL                |NULL                      |NULL                |false   |a           |5.97     |retail                     |\n",
      "|music shops - musical instruments, pianos, sheet music   |3      |30415756696 |520.1489211494473 |224d7a02-2b87-485e-bb7f-dd38185d8224|2021-12-22    |Nec Mollis PC                        |1194530    |Jill Jones MD    |40693 Henry Greens           |NT   |862     |Female     |0.0                       |0.0                       |ALROY DOWNS   |[702021055, 702051066]                                            |[2526, 4852]                           |[342, 768]                          |[15.9, 34.4]                              |[46619.0, 44778.0]                                    |7378        |1110                |50.3                      |45315.31531531532   |false   |c           |1.7      |retail                     |\n",
      "+---------------------------------------------------------+-------+------------+------------------+------------------------------------+--------------+-------------------------------------+-----------+-----------------+-----------------------------+-----+--------+-----------+--------------------------+--------------------------+--------------+------------------------------------------------------------------+---------------------------------------+------------------------------------+------------------------------------------+------------------------------------------------------+------------+--------------------+--------------------------+--------------------+--------+------------+---------+---------------------------+\n",
      "only showing top 20 rows\n",
      "\n"
     ]
    }
   ],
   "source": [
    "tag_counts_df = tag_counts_df.withColumnRenamed(\"segment\", \"industry_segment\")\n",
    "\n",
    "# Join ON 'description'\n",
    "tags_df = tags_df.join(tag_counts_df, on = \"description\", how = \"left\")\n",
    "\n",
    "tags_df = tags_df.drop('count')\n",
    "tags_df = tags_df.drop('index')\n",
    "\n",
    "tags_df.show(truncate = False)"
   ]
  },
  {
   "cell_type": "markdown",
   "metadata": {},
   "source": [
    "### 4 - Save data"
   ]
  },
  {
   "cell_type": "code",
   "execution_count": 9,
   "metadata": {},
   "outputs": [
    {
     "name": "stderr",
     "output_type": "stream",
     "text": [
      "                                                                                \r"
     ]
    }
   ],
   "source": [
    "tags_df.write.mode(\"overwrite\").parquet(\"../data/merged/merged_transactions_with_tags.parquet\")"
   ]
  }
 ],
 "metadata": {
  "kernelspec": {
   "display_name": "Python 3",
   "language": "python",
   "name": "python3"
  },
  "language_info": {
   "codemirror_mode": {
    "name": "ipython",
    "version": 3
   },
   "file_extension": ".py",
   "mimetype": "text/x-python",
   "name": "python",
   "nbconvert_exporter": "python",
   "pygments_lexer": "ipython3",
   "version": "3.10.12"
  }
 },
 "nbformat": 4,
 "nbformat_minor": 2
}
