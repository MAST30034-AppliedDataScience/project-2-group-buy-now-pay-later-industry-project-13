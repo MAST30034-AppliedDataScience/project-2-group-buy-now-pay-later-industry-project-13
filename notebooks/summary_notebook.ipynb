{
 "cells": [
  {
   "cell_type": "markdown",
   "metadata": {},
   "source": [
    "## Buy now pay later project 13 Summary Notebook"
   ]
  },
  {
   "cell_type": "markdown",
   "metadata": {},
   "source": [
    "(Please use README file to see requrired data and order to run notebooks)"
   ]
  },
  {
   "cell_type": "markdown",
   "metadata": {},
   "source": [
    "### Overall approach taken:\n",
    "Problem: Buy Now, Pay Later industry is always growing -> choosing which merchants to go onboard is very stratigically significant\n",
    "\n",
    "Solution: Use data and analytics to develop a system to rank merchants, aiding in selection of merchants process\n",
    "\n",
    "Approach:\n",
    "1. Identify and define ideal merchant: merchant that maximise revenue and minimise credit risk\n",
    "2. Maximising revenue: merchant's current revenue, take rate -> use forcasted revenue to capitalise on future performance revenue growth\n",
    "3. Minimise credit risk: merchant's fraud rate, size of customer base -> diverse base reduces risk to individual customers, as well as diversificaiton across firms\n",
    "4. Heuristics, in order of importance: take rate, fraud rate, revenue, customer base, revenue growth, segmentations \n",
    "5. Use data and analytics to forecast future heuristics to rank the merchants\n",
    "6. Recommendations after ranking:\n",
    "- Retail merchants: lowest fraud rates and highest customer base\n",
    "- Luxury products and services merchants: highest take rate and revenue, but modestly high fraud rate -> onboard merchants should be priced accordingly to compensate for risk\n",
    "- Larger merchants with greater revenue scale are more attractive: although less revenue growth, diverse customer base and low fraud rates -> less credit risk"
   ]
  },
  {
   "cell_type": "markdown",
   "metadata": {},
   "source": [
    "### Issues that we ran into:\n",
    "1. Consistency in time aggregations for models to ensire valuable insights created (planned to do weekly data but models can only use daily data)\n",
    "2. Models used had overwhelmingly long run time. Thus, less time available for fine-tuning and tweaking of the models\n",
    "3. Segments were arbitrarily produced based on tags, and may not be the most accurate representation of merchants "
   ]
  },
  {
   "cell_type": "markdown",
   "metadata": {},
   "source": [
    "### Limitations and assumptions made:"
   ]
  },
  {
   "cell_type": "markdown",
   "metadata": {},
   "source": [
    "#### Limitations:\n",
    "1. Results completely dependent on accuracy and completeness of given dataset\n",
    "2. BNPL space continueally changing -> merchants and/or customers trends and behaviors can change and impact merchants' value over time"
   ]
  },
  {
   "cell_type": "markdown",
   "metadata": {},
   "source": [
    "#### Assumptions made:\n",
    "1. Datasets given are accurate and complete\n",
    "2. Information on industry segments were not given\n",
    "3. There are sufficient computational resources to run all models in a timely manner"
   ]
  }
 ],
 "metadata": {
  "language_info": {
   "name": "python"
  }
 },
 "nbformat": 4,
 "nbformat_minor": 2
}
