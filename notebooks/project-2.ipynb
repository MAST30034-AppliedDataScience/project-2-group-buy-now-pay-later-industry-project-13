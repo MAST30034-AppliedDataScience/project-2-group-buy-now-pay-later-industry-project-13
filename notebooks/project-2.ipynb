{
 "cells": [
  {
   "cell_type": "markdown",
   "metadata": {},
   "source": [
    "# Project 2 - Group 13"
   ]
  },
  {
   "cell_type": "markdown",
   "metadata": {},
   "source": [
    "## 0 - Begin Spark"
   ]
  },
  {
   "cell_type": "code",
   "execution_count": 176,
   "metadata": {},
   "outputs": [],
   "source": [
    "from pyspark.sql import SparkSession\n",
    "\n",
    "# Create a spark session (which will run spark jobs)\n",
    "spark = (\n",
    "    SparkSession.builder.appName(\"MAST30034 Project 2\")\n",
    "    .config(\"spark.sql.repl.eagerEval.enabled\", True) \n",
    "    .config(\"spark.sql.parquet.cacheMetadata\", \"true\")\n",
    "    .config(\"spark.sql.session.timeZone\", \"Etc/UTC\")\n",
    "    .config(\"spark.executor.memory\", \"2g\")\n",
    "    .config(\"spark.driver.memory\", \"2g\")\n",
    "    .getOrCreate()\n",
    ")"
   ]
  },
  {
   "cell_type": "markdown",
   "metadata": {},
   "source": [
    "## 1 - Data cleaning"
   ]
  },
  {
   "cell_type": "markdown",
   "metadata": {},
   "source": [
    "### 1.1 - Consumer fraud probability"
   ]
  },
  {
   "cell_type": "code",
   "execution_count": 177,
   "metadata": {},
   "outputs": [
    {
     "name": "stdout",
     "output_type": "stream",
     "text": [
      "Number of entires = 34864\n"
     ]
    },
    {
     "data": {
      "text/html": [
       "<table border='1'>\n",
       "<tr><th>user_id</th><th>consumer_datetime</th><th>fraud_probability</th></tr>\n",
       "<tr><td>6228</td><td>2021-12-19</td><td>97.6298077657765</td></tr>\n",
       "<tr><td>21419</td><td>2021-12-10</td><td>99.24738020302328</td></tr>\n",
       "<tr><td>5606</td><td>2021-10-17</td><td>84.05825045251777</td></tr>\n",
       "<tr><td>3101</td><td>2021-04-17</td><td>91.42192091901347</td></tr>\n",
       "<tr><td>22239</td><td>2021-10-19</td><td>94.70342477508035</td></tr>\n",
       "</table>\n"
      ],
      "text/plain": [
       "+-------+-----------------+-----------------+\n",
       "|user_id|consumer_datetime|fraud_probability|\n",
       "+-------+-----------------+-----------------+\n",
       "|   6228|       2021-12-19| 97.6298077657765|\n",
       "|  21419|       2021-12-10|99.24738020302328|\n",
       "|   5606|       2021-10-17|84.05825045251777|\n",
       "|   3101|       2021-04-17|91.42192091901347|\n",
       "|  22239|       2021-10-19|94.70342477508035|\n",
       "+-------+-----------------+-----------------+"
      ]
     },
     "execution_count": 177,
     "metadata": {},
     "output_type": "execute_result"
    }
   ],
   "source": [
    "consumer_fraud_probability_df = spark.read.csv('../data/tables/tables/consumer_fraud_probability.csv', header = True)\n",
    "consumer_fraud_probability_df = consumer_fraud_probability_df.withColumnRenamed('order_datetime', 'consumer_datetime')\n",
    "print(f'Number of entires = {consumer_fraud_probability_df.count()}')\n",
    "consumer_fraud_probability_df.limit(5)"
   ]
  },
  {
   "cell_type": "markdown",
   "metadata": {},
   "source": [
    "### 1.2 - Consumer user details"
   ]
  },
  {
   "cell_type": "code",
   "execution_count": 178,
   "metadata": {},
   "outputs": [
    {
     "name": "stdout",
     "output_type": "stream",
     "text": [
      "Number of entires = 499999\n"
     ]
    },
    {
     "data": {
      "text/html": [
       "<table border='1'>\n",
       "<tr><th>user_id</th><th>consumer_id</th></tr>\n",
       "<tr><td>1</td><td>1195503</td></tr>\n",
       "<tr><td>2</td><td>179208</td></tr>\n",
       "<tr><td>3</td><td>1194530</td></tr>\n",
       "<tr><td>4</td><td>154128</td></tr>\n",
       "<tr><td>5</td><td>712975</td></tr>\n",
       "</table>\n"
      ],
      "text/plain": [
       "+-------+-----------+\n",
       "|user_id|consumer_id|\n",
       "+-------+-----------+\n",
       "|      1|    1195503|\n",
       "|      2|     179208|\n",
       "|      3|    1194530|\n",
       "|      4|     154128|\n",
       "|      5|     712975|\n",
       "+-------+-----------+"
      ]
     },
     "execution_count": 178,
     "metadata": {},
     "output_type": "execute_result"
    }
   ],
   "source": [
    "consumer_user_details_df = spark.read.parquet('../data/tables/tables/consumer_user_details.parquet')\n",
    "print(f'Number of entires = {consumer_user_details_df.count()}')\n",
    "consumer_user_details_df.limit(5)"
   ]
  },
  {
   "cell_type": "markdown",
   "metadata": {},
   "source": [
    "### 1.3 - Merchant fraud probability"
   ]
  },
  {
   "cell_type": "code",
   "execution_count": 179,
   "metadata": {},
   "outputs": [
    {
     "name": "stdout",
     "output_type": "stream",
     "text": [
      "Number of entires = 114\n"
     ]
    },
    {
     "data": {
      "text/html": [
       "<table border='1'>\n",
       "<tr><th>merchant_abn</th><th>merchant_datetime</th><th>fraud_probability</th></tr>\n",
       "<tr><td>19492220327</td><td>2021-11-28</td><td>44.403658647495355</td></tr>\n",
       "<tr><td>31334588839</td><td>2021-10-02</td><td>42.75530083865367</td></tr>\n",
       "<tr><td>19492220327</td><td>2021-12-22</td><td>38.867790051131095</td></tr>\n",
       "<tr><td>82999039227</td><td>2021-12-19</td><td>94.1347004808891</td></tr>\n",
       "<tr><td>90918180829</td><td>2021-09-02</td><td>43.32551731714902</td></tr>\n",
       "</table>\n"
      ],
      "text/plain": [
       "+------------+-----------------+------------------+\n",
       "|merchant_abn|merchant_datetime| fraud_probability|\n",
       "+------------+-----------------+------------------+\n",
       "| 19492220327|       2021-11-28|44.403658647495355|\n",
       "| 31334588839|       2021-10-02| 42.75530083865367|\n",
       "| 19492220327|       2021-12-22|38.867790051131095|\n",
       "| 82999039227|       2021-12-19|  94.1347004808891|\n",
       "| 90918180829|       2021-09-02| 43.32551731714902|\n",
       "+------------+-----------------+------------------+"
      ]
     },
     "execution_count": 179,
     "metadata": {},
     "output_type": "execute_result"
    }
   ],
   "source": [
    "merchant_fraud_probability_df = spark.read.csv('../data/tables/tables/merchant_fraud_probability.csv', header = True)\n",
    "merchant_fraud_probability_df = merchant_fraud_probability_df.withColumnRenamed('order_datetime', 'merchant_datetime')\n",
    "\n",
    "print(f'Number of entires = {merchant_fraud_probability_df.count()}')\n",
    "merchant_fraud_probability_df.limit(5)"
   ]
  },
  {
   "cell_type": "markdown",
   "metadata": {},
   "source": [
    "### 1.4 - TBL Consumer"
   ]
  },
  {
   "cell_type": "code",
   "execution_count": 180,
   "metadata": {},
   "outputs": [
    {
     "name": "stderr",
     "output_type": "stream",
     "text": [
      "24/09/01 14:43:00 WARN TaskSetManager: Stage 596 contains a task of very large size (2276 KiB). The maximum recommended task size is 1000 KiB.\n"
     ]
    },
    {
     "name": "stdout",
     "output_type": "stream",
     "text": [
      "Number of entires = 499999\n"
     ]
    },
    {
     "name": "stderr",
     "output_type": "stream",
     "text": [
      "24/09/01 14:43:01 WARN TaskSetManager: Stage 599 contains a task of very large size (2276 KiB). The maximum recommended task size is 1000 KiB.\n",
      "24/09/01 14:43:01 WARN TaskSetManager: Stage 600 contains a task of very large size (2276 KiB). The maximum recommended task size is 1000 KiB.\n"
     ]
    },
    {
     "data": {
      "text/html": [
       "<table border='1'>\n",
       "<tr><th>name</th><th>address</th><th>state</th><th>postcode</th><th>gender</th><th>consumer_id</th></tr>\n",
       "<tr><td>Yolanda Williams</td><td>413 Haney Gardens...</td><td>WA</td><td>6935</td><td>Female</td><td>1195503</td></tr>\n",
       "<tr><td>Mary Smith</td><td>3764 Amber Oval</td><td>NSW</td><td>2782</td><td>Female</td><td>179208</td></tr>\n",
       "<tr><td>Jill Jones MD</td><td>40693 Henry Greens</td><td>NT</td><td>862</td><td>Female</td><td>1194530</td></tr>\n",
       "<tr><td>Lindsay Jimenez</td><td>00653 Davenport C...</td><td>NSW</td><td>2780</td><td>Female</td><td>154128</td></tr>\n",
       "<tr><td>Rebecca Blanchard</td><td>9271 Michael Mano...</td><td>WA</td><td>6355</td><td>Female</td><td>712975</td></tr>\n",
       "</table>\n"
      ],
      "text/plain": [
       "+-----------------+--------------------+-----+--------+------+-----------+\n",
       "|             name|             address|state|postcode|gender|consumer_id|\n",
       "+-----------------+--------------------+-----+--------+------+-----------+\n",
       "| Yolanda Williams|413 Haney Gardens...|   WA|    6935|Female|    1195503|\n",
       "|       Mary Smith|     3764 Amber Oval|  NSW|    2782|Female|     179208|\n",
       "|    Jill Jones MD|  40693 Henry Greens|   NT|     862|Female|    1194530|\n",
       "|  Lindsay Jimenez|00653 Davenport C...|  NSW|    2780|Female|     154128|\n",
       "|Rebecca Blanchard|9271 Michael Mano...|   WA|    6355|Female|     712975|\n",
       "+-----------------+--------------------+-----+--------+------+-----------+"
      ]
     },
     "execution_count": 180,
     "metadata": {},
     "output_type": "execute_result"
    }
   ],
   "source": [
    "import pandas as pd\n",
    "tbl_consumer_df = pd.read_csv('../data/tables/tables/tbl_consumer.csv', sep=\"|\")\n",
    "\n",
    "tbl_consumer_pdf = spark.createDataFrame(tbl_consumer_df)\n",
    "print(f'Number of entires = {tbl_consumer_pdf.count()}')\n",
    "tbl_consumer_pdf.limit(5)"
   ]
  },
  {
   "cell_type": "markdown",
   "metadata": {},
   "source": [
    "### 1.5 - TBL merchants"
   ]
  },
  {
   "cell_type": "code",
   "execution_count": 167,
   "metadata": {},
   "outputs": [
    {
     "name": "stdout",
     "output_type": "stream",
     "text": [
      "Number of entires = 4026\n"
     ]
    },
    {
     "data": {
      "text/html": [
       "<table border='1'>\n",
       "<tr><th>name</th><th>tags</th><th>merchant_abn</th></tr>\n",
       "<tr><td>Felis Limited</td><td>((furniture, home...</td><td>10023283211</td></tr>\n",
       "<tr><td>Arcu Ac Orci Corp...</td><td>([cable, satellit...</td><td>10142254217</td></tr>\n",
       "<tr><td>Nunc Sed Company</td><td>([jewelry, watch,...</td><td>10165489824</td></tr>\n",
       "<tr><td>Ultricies Digniss...</td><td>([wAtch, clock, a...</td><td>10187291046</td></tr>\n",
       "<tr><td>Enim Condimentum PC</td><td>([music shops - m...</td><td>10192359162</td></tr>\n",
       "</table>\n"
      ],
      "text/plain": [
       "+--------------------+--------------------+------------+\n",
       "|                name|                tags|merchant_abn|\n",
       "+--------------------+--------------------+------------+\n",
       "|       Felis Limited|((furniture, home...| 10023283211|\n",
       "|Arcu Ac Orci Corp...|([cable, satellit...| 10142254217|\n",
       "|    Nunc Sed Company|([jewelry, watch,...| 10165489824|\n",
       "|Ultricies Digniss...|([wAtch, clock, a...| 10187291046|\n",
       "| Enim Condimentum PC|([music shops - m...| 10192359162|\n",
       "+--------------------+--------------------+------------+"
      ]
     },
     "execution_count": 167,
     "metadata": {},
     "output_type": "execute_result"
    }
   ],
   "source": [
    "tbl_merchants_df = spark.read.parquet('../data/tables/tables/tbl_merchants.parquet')\n",
    "print(f'Number of entires = {tbl_merchants_df.count()}')\n",
    "tbl_merchants_df.limit(5)"
   ]
  },
  {
   "cell_type": "markdown",
   "metadata": {},
   "source": [
    "### 1.6 - Transactions"
   ]
  },
  {
   "cell_type": "markdown",
   "metadata": {},
   "source": [
    "#### 1.6.1 - Tables 2"
   ]
  },
  {
   "cell_type": "code",
   "execution_count": 168,
   "metadata": {},
   "outputs": [
    {
     "name": "stdout",
     "output_type": "stream",
     "text": [
      "Number of entires = 3643266\n"
     ]
    },
    {
     "data": {
      "text/html": [
       "<table border='1'>\n",
       "<tr><th>user_id</th><th>merchant_abn</th><th>dollar_value</th><th>order_id</th><th>order_datetime</th></tr>\n",
       "<tr><td>18478</td><td>62191208634</td><td>63.255848959735246</td><td>949a63c8-29f7-4ab...</td><td>2021-08-20</td></tr>\n",
       "<tr><td>2</td><td>15549624934</td><td>130.3505283105634</td><td>6a84c3cf-612a-457...</td><td>2021-08-20</td></tr>\n",
       "<tr><td>18479</td><td>64403598239</td><td>120.15860593212783</td><td>b10dcc33-e53f-425...</td><td>2021-08-20</td></tr>\n",
       "<tr><td>3</td><td>60956456424</td><td>136.6785200286976</td><td>0f09c5a5-784e-447...</td><td>2021-08-20</td></tr>\n",
       "<tr><td>18479</td><td>94493496784</td><td>72.96316578355305</td><td>f6c78c1a-4600-4c5...</td><td>2021-08-20</td></tr>\n",
       "</table>\n"
      ],
      "text/plain": [
       "+-------+------------+------------------+--------------------+--------------+\n",
       "|user_id|merchant_abn|      dollar_value|            order_id|order_datetime|\n",
       "+-------+------------+------------------+--------------------+--------------+\n",
       "|  18478| 62191208634|63.255848959735246|949a63c8-29f7-4ab...|    2021-08-20|\n",
       "|      2| 15549624934| 130.3505283105634|6a84c3cf-612a-457...|    2021-08-20|\n",
       "|  18479| 64403598239|120.15860593212783|b10dcc33-e53f-425...|    2021-08-20|\n",
       "|      3| 60956456424| 136.6785200286976|0f09c5a5-784e-447...|    2021-08-20|\n",
       "|  18479| 94493496784| 72.96316578355305|f6c78c1a-4600-4c5...|    2021-08-20|\n",
       "+-------+------------+------------------+--------------------+--------------+"
      ]
     },
     "execution_count": 168,
     "metadata": {},
     "output_type": "execute_result"
    }
   ],
   "source": [
    "tables_2_df = spark.read.parquet('../data/tables/tables 2/transactions_20210228_20210827_snapshot')\n",
    "print(f'Number of entires = {tables_2_df.count()}')\n",
    "tables_2_df.limit(5)"
   ]
  },
  {
   "cell_type": "code",
   "execution_count": 169,
   "metadata": {},
   "outputs": [
    {
     "name": "stdout",
     "output_type": "stream",
     "text": [
      "Number of entires = 4508106\n"
     ]
    },
    {
     "data": {
      "text/html": [
       "<table border='1'>\n",
       "<tr><th>user_id</th><th>merchant_abn</th><th>dollar_value</th><th>order_id</th><th>order_datetime</th></tr>\n",
       "<tr><td>14935</td><td>79417999332</td><td>136.06570809815838</td><td>23acbb7b-cf98-458...</td><td>2021-11-26</td></tr>\n",
       "<tr><td>1</td><td>46451548968</td><td>72.61581642788431</td><td>76bab304-fa2d-400...</td><td>2021-11-26</td></tr>\n",
       "<tr><td>14936</td><td>89518629617</td><td>3.0783487174439297</td><td>a2ae446a-2959-41c...</td><td>2021-11-26</td></tr>\n",
       "<tr><td>1</td><td>49167531725</td><td>51.58228625503599</td><td>7080c274-17f7-4cc...</td><td>2021-11-26</td></tr>\n",
       "<tr><td>14936</td><td>31101120643</td><td>25.228114942417797</td><td>8e301c0f-06ab-45c...</td><td>2021-11-26</td></tr>\n",
       "</table>\n"
      ],
      "text/plain": [
       "+-------+------------+------------------+--------------------+--------------+\n",
       "|user_id|merchant_abn|      dollar_value|            order_id|order_datetime|\n",
       "+-------+------------+------------------+--------------------+--------------+\n",
       "|  14935| 79417999332|136.06570809815838|23acbb7b-cf98-458...|    2021-11-26|\n",
       "|      1| 46451548968| 72.61581642788431|76bab304-fa2d-400...|    2021-11-26|\n",
       "|  14936| 89518629617|3.0783487174439297|a2ae446a-2959-41c...|    2021-11-26|\n",
       "|      1| 49167531725| 51.58228625503599|7080c274-17f7-4cc...|    2021-11-26|\n",
       "|  14936| 31101120643|25.228114942417797|8e301c0f-06ab-45c...|    2021-11-26|\n",
       "+-------+------------+------------------+--------------------+--------------+"
      ]
     },
     "execution_count": 169,
     "metadata": {},
     "output_type": "execute_result"
    }
   ],
   "source": [
    "tables_3_df = spark.read.parquet('../data/tables/tables 3/transactions_20210828_20220227_snapshot')\n",
    "print(f'Number of entires = {tables_3_df.count()}')\n",
    "tables_3_df.limit(5)"
   ]
  },
  {
   "cell_type": "code",
   "execution_count": 187,
   "metadata": {},
   "outputs": [
    {
     "name": "stdout",
     "output_type": "stream",
     "text": [
      "Number of entires = 6044133\n"
     ]
    },
    {
     "data": {
      "text/html": [
       "<table border='1'>\n",
       "<tr><th>user_id</th><th>merchant_abn</th><th>dollar_value</th><th>order_id</th><th>order_datetime</th></tr>\n",
       "<tr><td>11139</td><td>96152467973</td><td>16.213590228273233</td><td>785b0080-9e4b-471...</td><td>2022-08-20</td></tr>\n",
       "<tr><td>1</td><td>98973094975</td><td>86.97955945703498</td><td>2560f7b0-ee5d-4b3...</td><td>2022-08-20</td></tr>\n",
       "<tr><td>11139</td><td>56762458844</td><td>31.513502323509194</td><td>0311717b-8b5b-410...</td><td>2022-08-20</td></tr>\n",
       "<tr><td>1</td><td>89502033586</td><td>124.18468694868491</td><td>f8891626-f098-45b...</td><td>2022-08-20</td></tr>\n",
       "<tr><td>11139</td><td>96161808980</td><td>61.620445567668966</td><td>d90a421f-f1da-4bf...</td><td>2022-08-20</td></tr>\n",
       "</table>\n"
      ],
      "text/plain": [
       "+-------+------------+------------------+--------------------+--------------+\n",
       "|user_id|merchant_abn|      dollar_value|            order_id|order_datetime|\n",
       "+-------+------------+------------------+--------------------+--------------+\n",
       "|  11139| 96152467973|16.213590228273233|785b0080-9e4b-471...|    2022-08-20|\n",
       "|      1| 98973094975| 86.97955945703498|2560f7b0-ee5d-4b3...|    2022-08-20|\n",
       "|  11139| 56762458844|31.513502323509194|0311717b-8b5b-410...|    2022-08-20|\n",
       "|      1| 89502033586|124.18468694868491|f8891626-f098-45b...|    2022-08-20|\n",
       "|  11139| 96161808980|61.620445567668966|d90a421f-f1da-4bf...|    2022-08-20|\n",
       "+-------+------------+------------------+--------------------+--------------+"
      ]
     },
     "execution_count": 187,
     "metadata": {},
     "output_type": "execute_result"
    }
   ],
   "source": [
    "tables_4_df = spark.read.parquet('../data/tables/tables 4/transactions_20220228_20220828_snapshot')\n",
    "print(f'Number of entires = {tables_4_df.count()}')\n",
    "tables_4_df.limit(5)\n"
   ]
  },
  {
   "cell_type": "code",
   "execution_count": 188,
   "metadata": {},
   "outputs": [
    {
     "name": "stdout",
     "output_type": "stream",
     "text": [
      "Number of entires = 14195505\n"
     ]
    },
    {
     "data": {
      "text/html": [
       "<table border='1'>\n",
       "<tr><th>user_id</th><th>merchant_abn</th><th>dollar_value</th><th>order_id</th><th>order_datetime</th></tr>\n",
       "<tr><td>18478</td><td>62191208634</td><td>63.255848959735246</td><td>949a63c8-29f7-4ab...</td><td>2021-08-20</td></tr>\n",
       "<tr><td>2</td><td>15549624934</td><td>130.3505283105634</td><td>6a84c3cf-612a-457...</td><td>2021-08-20</td></tr>\n",
       "<tr><td>18479</td><td>64403598239</td><td>120.15860593212783</td><td>b10dcc33-e53f-425...</td><td>2021-08-20</td></tr>\n",
       "<tr><td>3</td><td>60956456424</td><td>136.6785200286976</td><td>0f09c5a5-784e-447...</td><td>2021-08-20</td></tr>\n",
       "<tr><td>18479</td><td>94493496784</td><td>72.96316578355305</td><td>f6c78c1a-4600-4c5...</td><td>2021-08-20</td></tr>\n",
       "</table>\n"
      ],
      "text/plain": [
       "+-------+------------+------------------+--------------------+--------------+\n",
       "|user_id|merchant_abn|      dollar_value|            order_id|order_datetime|\n",
       "+-------+------------+------------------+--------------------+--------------+\n",
       "|  18478| 62191208634|63.255848959735246|949a63c8-29f7-4ab...|    2021-08-20|\n",
       "|      2| 15549624934| 130.3505283105634|6a84c3cf-612a-457...|    2021-08-20|\n",
       "|  18479| 64403598239|120.15860593212783|b10dcc33-e53f-425...|    2021-08-20|\n",
       "|      3| 60956456424| 136.6785200286976|0f09c5a5-784e-447...|    2021-08-20|\n",
       "|  18479| 94493496784| 72.96316578355305|f6c78c1a-4600-4c5...|    2021-08-20|\n",
       "+-------+------------+------------------+--------------------+--------------+"
      ]
     },
     "execution_count": 188,
     "metadata": {},
     "output_type": "execute_result"
    }
   ],
   "source": [
    "transactions_df = tables_2_df.union(tables_3_df).union(tables_4_df)\n",
    "print(f'Number of entires = {transactions_df.count()}')\n",
    "transactions_df.limit(5)"
   ]
  },
  {
   "cell_type": "code",
   "execution_count": 189,
   "metadata": {},
   "outputs": [
    {
     "name": "stderr",
     "output_type": "stream",
     "text": [
      "24/09/01 14:48:06 WARN TaskSetManager: Stage 652 contains a task of very large size (2276 KiB). The maximum recommended task size is 1000 KiB.\n",
      "24/09/01 14:48:10 WARN TaskSetManager: Stage 663 contains a task of very large size (2276 KiB). The maximum recommended task size is 1000 KiB.\n",
      "                                                                                \r"
     ]
    },
    {
     "data": {
      "text/html": [
       "<table border='1'>\n",
       "<tr><th>user_id</th><th>merchant_abn</th><th>dollar_value</th><th>order_id</th><th>order_datetime</th><th>name</th><th>tags</th><th>merchant_datetime</th><th>fraud_probability</th><th>consumer_datetime</th><th>fraud_probability</th><th>consumer_id</th><th>name</th><th>address</th><th>state</th><th>postcode</th><th>gender</th></tr>\n",
       "<tr><td>3</td><td>94493496784</td><td>42.238854112482116</td><td>36486127-44c5-4f0...</td><td>2022-09-21</td><td>Dictum Phasellus ...</td><td>[(gift, card, nov...</td><td>2021-11-26</td><td>30.57903215900633</td><td>2021-11-03</td><td>8.300636455314633</td><td>1194530</td><td>Jill Jones MD</td><td>40693 Henry Greens</td><td>NT</td><td>862</td><td>Female</td></tr>\n",
       "<tr><td>9</td><td>21439773999</td><td>12.185449928604612</td><td>b409ec84-7588-409...</td><td>2022-10-12</td><td>Mauris Non Institute</td><td>([cable, satellit...</td><td>2021-11-26</td><td>28.504479048104585</td><td>2021-12-13</td><td>10.58055311139687</td><td>650435</td><td>Stephanie Reyes</td><td>5813 Denise Land ...</td><td>NSW</td><td>2482</td><td>Female</td></tr>\n",
       "<tr><td>14</td><td>93558142492</td><td>182.2576600993008</td><td>9df0cbc7-2ef0-499...</td><td>2022-06-26</td><td>Dolor Quisque Inc.</td><td>((shoe shops), (b...</td><td>2021-11-26</td><td>31.343502316867784</td><td>2021-12-03</td><td>16.605682602965032</td><td>1343547</td><td>Lance Butler</td><td>8943 Kenneth Camp</td><td>VIC</td><td>3332</td><td>Male</td></tr>\n",
       "<tr><td>15</td><td>90568944804</td><td>940.3586108346467</td><td>ac2c4931-c60e-412...</td><td>2022-03-08</td><td>Diam Eu Dolor LLC</td><td>[(tent and awNing...</td><td>2021-11-29</td><td>33.172494688960434</td><td>2021-11-27</td><td>16.99959017524405</td><td>1463076</td><td>Paul Abbott</td><td>60495 Ryan Hill</td><td>QLD</td><td>4512</td><td>Male</td></tr>\n",
       "<tr><td>15</td><td>11149063370</td><td>7510.903729010571</td><td>fc233aa9-caed-421...</td><td>2022-07-03</td><td>Et Arcu Limited</td><td>([art dealers and...</td><td>2022-02-25</td><td>51.01538421455241</td><td>2021-11-27</td><td>16.99959017524405</td><td>1463076</td><td>Paul Abbott</td><td>60495 Ryan Hill</td><td>QLD</td><td>4512</td><td>Male</td></tr>\n",
       "</table>\n"
      ],
      "text/plain": [
       "+-------+------------+------------------+--------------------+--------------+--------------------+--------------------+-----------------+------------------+-----------------+------------------+-----------+---------------+--------------------+-----+--------+------+\n",
       "|user_id|merchant_abn|      dollar_value|            order_id|order_datetime|                name|                tags|merchant_datetime| fraud_probability|consumer_datetime| fraud_probability|consumer_id|           name|             address|state|postcode|gender|\n",
       "+-------+------------+------------------+--------------------+--------------+--------------------+--------------------+-----------------+------------------+-----------------+------------------+-----------+---------------+--------------------+-----+--------+------+\n",
       "|      3| 94493496784|42.238854112482116|36486127-44c5-4f0...|    2022-09-21|Dictum Phasellus ...|[(gift, card, nov...|       2021-11-26| 30.57903215900633|       2021-11-03| 8.300636455314633|    1194530|  Jill Jones MD|  40693 Henry Greens|   NT|     862|Female|\n",
       "|      9| 21439773999|12.185449928604612|b409ec84-7588-409...|    2022-10-12|Mauris Non Institute|([cable, satellit...|       2021-11-26|28.504479048104585|       2021-12-13| 10.58055311139687|     650435|Stephanie Reyes|5813 Denise Land ...|  NSW|    2482|Female|\n",
       "|     14| 93558142492| 182.2576600993008|9df0cbc7-2ef0-499...|    2022-06-26|  Dolor Quisque Inc.|((shoe shops), (b...|       2021-11-26|31.343502316867784|       2021-12-03|16.605682602965032|    1343547|   Lance Butler|   8943 Kenneth Camp|  VIC|    3332|  Male|\n",
       "|     15| 90568944804| 940.3586108346467|ac2c4931-c60e-412...|    2022-03-08|   Diam Eu Dolor LLC|[(tent and awNing...|       2021-11-29|33.172494688960434|       2021-11-27| 16.99959017524405|    1463076|    Paul Abbott|     60495 Ryan Hill|  QLD|    4512|  Male|\n",
       "|     15| 11149063370| 7510.903729010571|fc233aa9-caed-421...|    2022-07-03|     Et Arcu Limited|([art dealers and...|       2022-02-25| 51.01538421455241|       2021-11-27| 16.99959017524405|    1463076|    Paul Abbott|     60495 Ryan Hill|  QLD|    4512|  Male|\n",
       "+-------+------------+------------------+--------------------+--------------+--------------------+--------------------+-----------------+------------------+-----------------+------------------+-----------+---------------+--------------------+-----+--------+------+"
      ]
     },
     "execution_count": 189,
     "metadata": {},
     "output_type": "execute_result"
    }
   ],
   "source": [
    "from pyspark.sql.window import Window\n",
    "\n",
    "# Join tbl_merchant based on ABN\n",
    "transactions_df = transactions_df.join(F.broadcast(tbl_merchants_df),\n",
    "                                       transactions_df.merchant_abn == tbl_merchants_df.merchant_abn).drop(tbl_merchants_df.merchant_abn)\n",
    "\n",
    "# Join fraud probability based on ABN and date time to ensure correct fraud probability\n",
    "joined_df = transactions_df.join(F.broadcast(\n",
    "    merchant_fraud_probability_df),\n",
    "    (transactions_df['merchant_abn'] == merchant_fraud_probability_df['merchant_abn']) &\n",
    "    (transactions_df['order_datetime'] >= merchant_fraud_probability_df['merchant_datetime']),\n",
    "    how='inner'\n",
    ").drop(merchant_fraud_probability_df.merchant_abn)\n",
    "\n",
    "# Use Window function to rank based on merchant_date, keeping the most recent one per order\n",
    "window_spec = Window.partitionBy(\"user_id\", \"order_datetime\", \"merchant_abn\").orderBy(F.col(\"merchant_datetime\").desc())\n",
    "\n",
    "ranked_df = joined_df.withColumn(\"rank\", F.row_number().over(window_spec))\n",
    "\n",
    "# Filter to keep only the most recent valid merchant_date\n",
    "transactions_df = ranked_df.filter(F.col(\"rank\") == 1).drop(\"rank\")\n",
    "\n",
    "# Join fraud probability based on user id and datetime\n",
    "joined_df = transactions_df.join(F.broadcast(\n",
    "    consumer_fraud_probability_df),\n",
    "    (transactions_df['user_id'] == consumer_fraud_probability_df['user_id']) &\n",
    "    (transactions_df['order_datetime'] >= consumer_fraud_probability_df['consumer_datetime']),\n",
    "    how='inner'\n",
    ").drop(consumer_fraud_probability_df.user_id)\n",
    "\n",
    "# Use Window function to rank based on merchant_date, keeping the most recent one per order\n",
    "window_spec = Window.partitionBy(\"user_id\", \"order_datetime\").orderBy(F.col(\"consumer_datetime\").desc())\n",
    "\n",
    "ranked_df = joined_df.withColumn(\"rank\", F.row_number().over(window_spec))\n",
    "\n",
    "# Filter to keep only the most recent valid merchant_date\n",
    "transactions_df = ranked_df.filter(F.col(\"rank\") == 1).drop(\"rank\")\n",
    "\n",
    "# Join Consumer Details based on user id\n",
    "transactions_df = transactions_df.join(F.broadcast(consumer_user_details_df),\n",
    "                                       transactions_df.user_id == consumer_user_details_df.user_id).drop(consumer_user_details_df.user_id)\n",
    "\n",
    "# Join Consumer Details based on user id\n",
    "transactions_df = transactions_df.join(F.broadcast(tbl_consumer_pdf),\n",
    "                                       transactions_df.consumer_id == tbl_consumer_pdf.consumer_id).drop(tbl_consumer_pdf.consumer_id)\n",
    "\n",
    "transactions_df.limit(5)"
   ]
  }
 ],
 "metadata": {
  "kernelspec": {
   "display_name": ".venv",
   "language": "python",
   "name": "python3"
  },
  "language_info": {
   "codemirror_mode": {
    "name": "ipython",
    "version": 3
   },
   "file_extension": ".py",
   "mimetype": "text/x-python",
   "name": "python",
   "nbconvert_exporter": "python",
   "pygments_lexer": "ipython3",
   "version": "3.10.12"
  }
 },
 "nbformat": 4,
 "nbformat_minor": 2
}
