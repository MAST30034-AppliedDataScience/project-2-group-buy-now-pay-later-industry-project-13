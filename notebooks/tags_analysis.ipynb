{
 "cells": [
  {
   "cell_type": "code",
   "execution_count": 1,
   "metadata": {},
   "outputs": [
    {
     "name": "stderr",
     "output_type": "stream",
     "text": [
      "your 131072x1 screen size is bogus. expect trouble\n",
      "24/09/24 21:35:42 WARN Utils: Your hostname, LAPTOP-MMSL4U2D resolves to a loopback address: 127.0.1.1; using 172.23.193.19 instead (on interface eth0)\n",
      "24/09/24 21:35:42 WARN Utils: Set SPARK_LOCAL_IP if you need to bind to another address\n",
      "Setting default log level to \"WARN\".\n",
      "To adjust logging level use sc.setLogLevel(newLevel). For SparkR, use setLogLevel(newLevel).\n",
      "24/09/24 21:35:43 WARN NativeCodeLoader: Unable to load native-hadoop library for your platform... using builtin-java classes where applicable\n",
      "24/09/24 21:35:44 WARN Utils: Service 'SparkUI' could not bind on port 4040. Attempting port 4041.\n"
     ]
    }
   ],
   "source": [
    "from pyspark.sql import SparkSession, functions as F\n",
    "\n",
    "# Create a spark session (which will run spark jobs)\n",
    "spark = (\n",
    "    SparkSession.builder.appName(\"MAST30034 Project 2\")\n",
    "    .config(\"spark.sql.repl.eagerEval.enabled\", True) \n",
    "    .config(\"spark.sql.parquet.cacheMetadata\", \"true\")\n",
    "    .config(\"spark.sql.session.timeZone\", \"Etc/UTC\")\n",
    "    .config(\"spark.executor.memory\", \"8g\")\n",
    "    .config(\"spark.driver.memory\", \"8g\")\n",
    "    .getOrCreate()\n",
    ")"
   ]
  },
  {
   "cell_type": "code",
   "execution_count": 4,
   "metadata": {},
   "outputs": [
    {
     "name": "stderr",
     "output_type": "stream",
     "text": [
      "[Stage 3:>                                                          (0 + 1) / 1]\r"
     ]
    },
    {
     "name": "stdout",
     "output_type": "stream",
     "text": [
      "+-------+------------+------------------+--------------------+--------------+--------------------+--------------------+-----------+-----+--------+------+--------------------------+--------------------------+--------------+--------------------+------------------+------------------+----------------------+--------------------+------------+--------------------+--------------------------+--------------------+--------+\n",
      "|user_id|merchant_abn|      dollar_value|            order_id|order_datetime|       merchant_name|                tags|consumer_id|state|postcode|gender|consumer_fraud_probability|merchant_fraud_probability| LOCALITY_NAME|       list_SA2_CODE|          list_ERP|  list_num_earners|list_total_income_($M)|    list_mean_income|postcode_ERP|postcode_num_earners|postcode_total_income_($M)|postcode_mean_income|is_fraud|\n",
      "+-------+------------+------------------+--------------------+--------------+--------------------+--------------------+-----------+-----+--------+------+--------------------------+--------------------------+--------------+--------------------+------------------+------------------+----------------------+--------------------+------------+--------------------+--------------------------+--------------------+--------+\n",
      "|  14935| 43186523025|19.157007083987565|b184da75-2473-42c...|    2021-11-12|Lorem Ipsum Sodal...|([florists suppli...|    1059280|  QLD|    4563|  Male|                       0.0|                       0.0|BLACK MOUNTAIN|[319031514, 31608...|    [21774, 25578]|    [10606, 14487]|        [510.4, 798.8]|  [48127.0, 55139.0]|       47352|               25093|        1309.1999999999998|   52173.91304347825|   false|\n",
      "|      2| 57405729081| 220.5325772234713|342ab194-e5e9-4fa...|    2021-11-12|   Augue Corporation|[[watch, clock, a...|     179208|  NSW|    2782|Female|                       0.0|                       0.0|    HAZELBROOK|         [124011455]|            [6376]|            [3601]|               [226.3]|           [62840.0]|        6376|                3601|                     226.3|             62840.0|   false|\n",
      "|  14936| 60956456424|115.18299907550252|28a3c548-2f6c-4d1...|    2021-11-12|Ultricies Digniss...|([gift, card, Nov...|     986886|   SA|    5157|Female|                       0.0|                       0.0|     ASHBOURNE|[407011147, 40304...|[8376, 2824, 7111]|[4446, 1754, 4110]|  [234.3, 115.0, 23...|[52688.0, 65560.0...|       18311|               10310|                     586.0|    56838.0213385063|   false|\n",
      "|      5| 64203420245|20.905080869875956|64614527-4be7-4f6...|    2021-11-12|  Pede Nonummy Corp.|((tent and awning...|     712975|   WA|    6355|Female|                       0.0|                       0.0|     DUNN ROCK|         [509031247]|            [4355]|            [2915]|               [158.9]|           [54507.0]|        4355|                2915|                     158.9|             54507.0|   false|\n",
      "|  14936| 72738688428|194.98940026275412|0bde82ed-03f2-44b...|    2021-11-12|  Donec Tempor Corp.|((books, periodic...|     986886|   SA|    5157|Female|                       0.0|                       0.0|     ASHBOURNE|[407011147, 40304...|[8376, 2824, 7111]|[4446, 1754, 4110]|  [234.3, 115.0, 23...|[52688.0, 65560.0...|       18311|               10310|                     586.0|    56838.0213385063|   false|\n",
      "+-------+------------+------------------+--------------------+--------------+--------------------+--------------------+-----------+-----+--------+------+--------------------------+--------------------------+--------------+--------------------+------------------+------------------+----------------------+--------------------+------------+--------------------+--------------------------+--------------------+--------+\n",
      "only showing top 5 rows\n",
      "\n"
     ]
    },
    {
     "name": "stderr",
     "output_type": "stream",
     "text": [
      "                                                                                \r"
     ]
    }
   ],
   "source": [
    "trans_final_sdf = spark.read.parquet('../data/merged/merged_transactions_with_outliers.parquet')\n",
    "trans_final_sdf.show(5)"
   ]
  },
  {
   "cell_type": "code",
   "execution_count": 5,
   "metadata": {},
   "outputs": [
    {
     "name": "stderr",
     "output_type": "stream",
     "text": [
      "[Stage 4:>                                                          (0 + 1) / 1]\r"
     ]
    },
    {
     "name": "stdout",
     "output_type": "stream",
     "text": [
      "+-------+------------+------------------+------------------------------------+--------------+-------------------------------+-----------------------------------------------------------------------------------------------------------------+-----------+-----+--------+-----------+--------------------------+--------------------------+--------------+------------------------------------------------------------------+---------------------------------------+------------------------------------+------------------------------------------+------------------------------------------------------+------------+--------------------+--------------------------+--------------------+--------+-----------------------------------------------------------------------------------------------------------------+\n",
      "|user_id|merchant_abn|dollar_value      |order_id                            |order_datetime|merchant_name                  |tags                                                                                                             |consumer_id|state|postcode|gender     |consumer_fraud_probability|merchant_fraud_probability|LOCALITY_NAME |list_SA2_CODE                                                     |list_ERP                               |list_num_earners                    |list_total_income_($M)                    |list_mean_income                                      |postcode_ERP|postcode_num_earners|postcode_total_income_($M)|postcode_mean_income|is_fraud|fixed_tags                                                                                                       |\n",
      "+-------+------------+------------------+------------------------------------+--------------+-------------------------------+-----------------------------------------------------------------------------------------------------------------+-----------+-----+--------+-----------+--------------------------+--------------------------+--------------+------------------------------------------------------------------+---------------------------------------+------------------------------------+------------------------------------------+------------------------------------------------------+------------+--------------------+--------------------------+--------------------+--------+-----------------------------------------------------------------------------------------------------------------+\n",
      "|14935  |43186523025 |19.157007083987565|b184da75-2473-42c1-9109-53e1d4e9400f|2021-11-12    |Lorem Ipsum Sodales Industries |([florists supplies, nurSery stock, and flowers], [b], [take rate: 4.47])                                        |1059280    |QLD  |4563    |Male       |0.0                       |0.0                       |BLACK MOUNTAIN|[319031514, 316081549]                                            |[21774, 25578]                         |[10606, 14487]                      |[510.4, 798.8]                            |[48127.0, 55139.0]                                    |47352       |25093               |1309.1999999999998        |52173.91304347825   |false   |[[florists supplies, nursery stock, and flowers], [b], [take rate: 4.47]]                                        |\n",
      "|2      |57405729081 |220.5325772234713 |342ab194-e5e9-4fa9-b1cf-52e76559b0dc|2021-11-12    |Augue Corporation              |[[watch, clock, and jewelry repair shops], [c], [take rate: 2.22]]                                               |179208     |NSW  |2782    |Female     |0.0                       |0.0                       |HAZELBROOK    |[124011455]                                                       |[6376]                                 |[3601]                              |[226.3]                                   |[62840.0]                                             |6376        |3601                |226.3                     |62840.0             |false   |[[watch, clock, and jewelry repair shops], [c], [take rate: 2.22]]                                               |\n",
      "|14936  |60956456424 |115.18299907550252|28a3c548-2f6c-4d1d-b705-8b37b52c5f28|2021-11-12    |Ultricies Dignissim LLP        |([gift, card, Novelty, and souvenir shops], [b], [take rate: 4.69])                                              |986886     |SA   |5157    |Female     |0.0                       |0.0                       |ASHBOURNE     |[407011147, 403041075, 401021008]                                 |[8376, 2824, 7111]                     |[4446, 1754, 4110]                  |[234.3, 115.0, 236.7]                     |[52688.0, 65560.0, 57603.0]                           |18311       |10310               |586.0                     |56838.0213385063    |false   |[[gift, card, novelty, and souvenir shops], [b], [take rate: 4.69]]                                              |\n",
      "|5      |64203420245 |20.905080869875956|64614527-4be7-4f61-9af8-8f7a21a6a927|2021-11-12    |Pede Nonummy Corp.             |((tent and awning shops), (c), (take rate: 2.86))                                                                |712975     |WA   |6355    |Female     |0.0                       |0.0                       |DUNN ROCK     |[509031247]                                                       |[4355]                                 |[2915]                              |[158.9]                                   |[54507.0]                                             |4355        |2915                |158.9                     |54507.0             |false   |[[tent and awning shops], [c], [take rate: 2.86]]                                                                |\n",
      "|14936  |72738688428 |194.98940026275412|0bde82ed-03f2-44b7-b046-7dc17954854a|2021-11-12    |Donec Tempor Corp.             |((books, periodicals, and newspapers), (a), (take rate: 5.67))                                                   |986886     |SA   |5157    |Female     |0.0                       |0.0                       |ASHBOURNE     |[407011147, 403041075, 401021008]                                 |[8376, 2824, 7111]                     |[4446, 1754, 4110]                  |[234.3, 115.0, 236.7]                     |[52688.0, 65560.0, 57603.0]                           |18311       |10310               |586.0                     |56838.0213385063    |false   |[[books, periodicals, and newspapers], [a], [take rate: 5.67]]                                                   |\n",
      "|6      |29616684420 |44.495302338546   |ea333080-10c2-4c45-a597-047a3edde722|2021-11-12    |Tellus Id LLC                  |((watch,  clock, and jewelry repair shops), (b), (take rate: 3.50))                                              |407340     |NSW  |2033    |Female     |0.0                       |0.0                       |KENSINGTON    |[118021564]                                                       |[13810]                                |[7361]                              |[605.4]                                   |[82246.0]                                             |13810       |7361                |605.4                     |82246.0             |false   |[[watch, clock, and jewelry repair shops], [b], [take rate: 3.50]]                                               |\n",
      "|14936  |96161808980 |58.11286917394362 |a099b1c5-2e25-46fb-ac85-34eaed374aed|2021-11-12    |Velit Aliquam Corporation      |([digital goods: books, movies, music], [a], [take rate: 7.00])                                                  |986886     |SA   |5157    |Female     |0.0                       |0.0                       |ASHBOURNE     |[407011147, 403041075, 401021008]                                 |[8376, 2824, 7111]                     |[4446, 1754, 4110]                  |[234.3, 115.0, 236.7]                     |[52688.0, 65560.0, 57603.0]                           |18311       |10310               |586.0                     |56838.0213385063    |false   |[[digital goods: books, movies, music], [a], [take rate: 7.00]]                                                  |\n",
      "|6      |27093785141 |1086.7935817516604|af654775-d24a-455a-9b45-cb5f57422e21|2021-11-12    |Placerat Orci Institute        |[[stationery, office suppliEs and printing and writing paper], [c], [take rate: 2.73]]                           |407340     |NSW  |2033    |Female     |0.0                       |0.0                       |KENSINGTON    |[118021564]                                                       |[13810]                                |[7361]                              |[605.4]                                   |[82246.0]                                             |13810       |7361                |605.4                     |82246.0             |false   |[[stationery, office supplies and printing and writing paper], [c], [take rate: 2.73]]                           |\n",
      "|14938  |48534649627 |148.79559965487707|20ead160-080a-4c95-b9fd-49d7f4220917|2021-11-12    |Dignissim Maecenas Foundation  |[[opticians, oPtical goods, and eyeglasses], [a], [take rate: 6.64]]                                             |267457     |NSW  |2625    |Undisclosed|0.0                       |0.0                       |BELAS CORNER  |[101031016]                                                       |[8381]                                 |[4609]                              |[261.6]                                   |[56759.0]                                             |8381        |4609                |261.6                     |56759.0             |false   |[[opticians, optical goods, and eyeglasses], [a], [take rate: 6.64]]                                             |\n",
      "|8      |98269572896 |178.1889326053838 |8408ef54-ad35-4aa1-b0e5-f4de0381c831|2021-11-12    |Eget Laoreet Posuere PC        |[(furniture, home furnishings and equipment shops, and manufacturers, except appliances), (b), (take rate: 3.59)]|448088     |WA   |6056    |Male       |0.0                       |0.0                       |BALFOUR ESTATE|[504031066, 504021051, 504021054, 504031067, 504031068, 504031065]|[11793, 6245, 13964, 7484, 14123, 6168]|[5853, 3422, 7118, 4145, 7257, 3224]|[382.3, 240.7, 439.7, 274.4, 547.8, 201.6]|[65316.0, 70328.0, 61774.0, 66199.0, 75482.0, 62534.0]|59777       |31019               |2086.5                    |67265.22453979819   |false   |[[furniture, home furnishings and equipment shops, and manufacturers, except appliances], [b], [take rate: 3.59]]|\n",
      "|14940  |21094505909 |159.34666512963344|bb33e76e-f4d1-4d31-82a6-a603ba954f06|2021-11-12    |Venenatis Corp.                |((furniture, home furnishings and equipment shops, and manufacturers, except appliances), (a), (take rate: 6.38))|806817     |NSW  |2333    |Female     |0.0                       |0.0                       |ANTIENE       |[106041129, 106041126, 106011113, 106041127]                      |[8296, 12590, 5449, 4188]              |[4355, 6383, 2979, 2217]            |[241.9, 460.1, 199.7, 146.6]              |[55546.0, 72089.0, 67043.0, 66109.0]                  |30523       |15934               |1048.3                    |65790.13430400402   |false   |[[furniture, home furnishings and equipment shops, and manufacturers, except appliances], [a], [take rate: 6.38]]|\n",
      "|9      |69983142241 |10.62116318426805 |fbd21e3c-6f3a-41e9-931b-b55b5a86666a|2021-11-12    |Tempus Scelerisque LLC         |[(watcH, clock, and jewelry rEpair shops), (c), (take rate: 2.28)]                                               |650435     |NSW  |2482    |Female     |0.0                       |0.0                       |BILLINUDGEL   |[112011243]                                                       |[9199]                                 |[5438]                              |[249.1]                                   |[45811.0]                                             |9199        |5438                |249.1                     |45811.0             |false   |[[watch, clock, and jewelry repair shops], [c], [take rate: 2.28]]                                               |\n",
      "|14940  |88547577701 |67.83243711579853 |c3711ab0-a050-47a8-b9f0-039a625a7f78|2021-11-12    |Enim Etiam Industries          |([opticiaNs, optical goods, and eyeglasses], [b], [take rate: 4.66])                                             |806817     |NSW  |2333    |Female     |0.0                       |0.0                       |ANTIENE       |[106041129, 106041126, 106011113, 106041127]                      |[8296, 12590, 5449, 4188]              |[4355, 6383, 2979, 2217]            |[241.9, 460.1, 199.7, 146.6]              |[55546.0, 72089.0, 67043.0, 66109.0]                  |30523       |15934               |1048.3                    |65790.13430400402   |false   |[[opticians, optical goods, and eyeglasses], [b], [take rate: 4.66]]                                             |\n",
      "|10     |32749065279 |56.135402314359624|d9cf0949-294a-48c4-818c-048ff2bc56bb|2021-11-12    |Auctor LLC                     |[[digital goods: books, movies, music], [a], [take rate: 5.69]]                                                  |1058499    |VIC  |3220    |Female     |0.0                       |0.0                       |COLES         |[203021046, 203021039]                                            |[10362, 13649]                         |[6766, 8512]                        |[580.9, 594.5]                            |[85853.0, 69838.0]                                    |24011       |15278               |1175.4                    |76934.15368503731   |false   |[[digital goods: books, movies, music], [a], [take rate: 5.69]]                                                  |\n",
      "|14941  |24852446429 |7.558752334529607 |629cfa8f-f6df-4510-9f41-55cdcb49c0df|2021-11-12    |Erat Vitae LLP                 |[(florists supplies, nursery stock, and floWers), (c), (take rate: 2.94)]                                        |170056     |QLD  |4462    |Undisclosed|0.0                       |0.0                       |AMBY          |[307011177]                                                       |[6180]                                 |[3279]                              |[130.7]                                   |[39859.0]                                             |6180        |3279                |130.7                     |39859.0             |false   |[[florists supplies, nursery stock, and flowers], [c], [take rate: 2.94]]                                        |\n",
      "|10     |99904689266 |218.80137025347398|5cfbad36-7d9d-44a3-a582-b6ee6202c455|2021-11-12    |Dictum Eu Ltd                  |([digital goods: books, movies, music], [a], [take rate: 6.65])                                                  |1058499    |VIC  |3220    |Female     |0.0                       |0.0                       |COLES         |[203021046, 203021039]                                            |[10362, 13649]                         |[6766, 8512]                        |[580.9, 594.5]                            |[85853.0, 69838.0]                                    |24011       |15278               |1175.4                    |76934.15368503731   |false   |[[digital goods: books, movies, music], [a], [take rate: 6.65]]                                                  |\n",
      "|14941  |94690988633 |158.5287300753836 |271a66c0-f44c-43ef-8b80-c0ccf47be442|2021-11-12    |Eu Placerat LLC                |[[computers, computer peripheral equipment, and Software], [a], [take rate: 6.16]]                               |170056     |QLD  |4462    |Undisclosed|0.0                       |0.0                       |AMBY          |[307011177]                                                       |[6180]                                 |[3279]                              |[130.7]                                   |[39859.0]                                             |6180        |3279                |130.7                     |39859.0             |false   |[[computers, computer peripheral equipment, and software], [a], [take rate: 6.16]]                               |\n",
      "|12     |28687004922 |215.10247887862857|eb15358b-0f42-4637-a110-a3d0340fee38|2021-11-12    |Eget Company                   |((computer programming , data processing, and integrated systems design services), (b), (take rate: 3.88))       |1494640    |WA   |6743    |Female     |0.0                       |0.0                       |ALLIGATOR HOLE|[510011264, 510011265]                                            |[4161, 8209]                           |[871, 4104]                         |[48.5, 279.0]                             |[55694.0, 67991.0]                                    |12370       |4975                |327.5                     |65829.14572864321   |false   |[[computer programming, data processing, and integrated systems design services], [b], [take rate: 3.88]]        |\n",
      "|14943  |21439773999 |231.52701218699167|7c3c3be6-6cf3-44b3-93cd-781c2f166ed5|2021-11-12    |Mauris Non Institute           |([cable, satellite, and other pay television and radio services], [a], [take rate: 6.10])                        |37167      |NSW  |1565    |Female     |0.0                       |0.0                       |NULL          |NULL                                                              |NULL                                   |NULL                                |NULL                                      |NULL                                                  |NULL        |NULL                |NULL                      |NULL                |false   |[[cable, satellite, and other pay television and radio services], [a], [take rate: 6.10]]                        |\n",
      "|13     |68216911708 |14.131134944070496|a95a5929-fce2-4468-84b7-bfa15533be80|2021-11-12    |Placerat Eget Venenatis Limited|[[computers, computer peripheral equipment, and software], [c], [take rate: 3.05]]                               |1146717    |QLD  |4673    |Female     |0.0                       |0.0                       |BOOYAN        |[319011498]                                                       |[9665]                                 |[4658]                              |[227.0]                                   |[48725.0]                                             |9665        |4658                |227.0                     |48725.0             |false   |[[computers, computer peripheral equipment, and software], [c], [take rate: 3.05]]                               |\n",
      "+-------+------------+------------------+------------------------------------+--------------+-------------------------------+-----------------------------------------------------------------------------------------------------------------+-----------+-----+--------+-----------+--------------------------+--------------------------+--------------+------------------------------------------------------------------+---------------------------------------+------------------------------------+------------------------------------------+------------------------------------------------------+------------+--------------------+--------------------------+--------------------+--------+-----------------------------------------------------------------------------------------------------------------+\n",
      "only showing top 20 rows\n",
      "\n"
     ]
    },
    {
     "name": "stderr",
     "output_type": "stream",
     "text": [
      "                                                                                \r"
     ]
    }
   ],
   "source": [
    "# Function to convert to string of list\n",
    "import re\n",
    "def process_string(input_string):\n",
    "    input_string = input_string.replace('(', '[')\n",
    "    input_string = input_string.replace(')', ']')\n",
    "\n",
    "    # Use regex to split by outer brackets and commas\n",
    "    lists = re.findall(r'\\[([^\\[\\]]+)\\]', input_string)\n",
    "\n",
    "    # Further split elements within the lists based on commas, while stripping whitespace\n",
    "    result = [list(map(str.strip, item.split(','))) for item in lists]\n",
    "\n",
    "    # Clean up each item by stripping leading/trailing whitespace and correcting case\n",
    "    for sublist in result:\n",
    "        for i in range(len(sublist)):\n",
    "            sublist[i] = sublist[i].strip().lower()\n",
    "\n",
    "    return result\n",
    "# Register UDF in PySpark\n",
    "process_string_udf = F.udf(process_string)\n",
    "\n",
    "# Apply the UDF to the DataFrame\n",
    "result_df = trans_final_sdf.withColumn(\"fixed_tags\", process_string_udf(F.col(\"tags\")))\n",
    "\n",
    "# Show the result\n",
    "result_df.show(truncate=False)"
   ]
  },
  {
   "cell_type": "code",
   "execution_count": 9,
   "metadata": {},
   "outputs": [
    {
     "name": "stderr",
     "output_type": "stream",
     "text": [
      "                                                                                \r"
     ]
    }
   ],
   "source": [
    "result_df.write.mode(\"overwrite\").parquet(\"../data/merged/merged_transactions_with_tags.parquet\")"
   ]
  }
 ],
 "metadata": {
  "kernelspec": {
   "display_name": "Python 3",
   "language": "python",
   "name": "python3"
  },
  "language_info": {
   "codemirror_mode": {
    "name": "ipython",
    "version": 3
   },
   "file_extension": ".py",
   "mimetype": "text/x-python",
   "name": "python",
   "nbconvert_exporter": "python",
   "pygments_lexer": "ipython3",
   "version": "3.10.12"
  }
 },
 "nbformat": 4,
 "nbformat_minor": 2
}
