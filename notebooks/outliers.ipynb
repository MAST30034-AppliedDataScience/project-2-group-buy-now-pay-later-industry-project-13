{
 "cells": [
  {
   "cell_type": "markdown",
   "metadata": {},
   "source": [
    "# Project 2 - Group 13 - Outlier Analysis"
   ]
  },
  {
   "cell_type": "code",
   "execution_count": 1,
   "metadata": {},
   "outputs": [
    {
     "name": "stderr",
     "output_type": "stream",
     "text": [
      "your 131072x1 screen size is bogus. expect trouble\n",
      "24/09/08 10:53:46 WARN Utils: Your hostname, AshwinHPEnvy resolves to a loopback address: 127.0.1.1; using 10.255.255.254 instead (on interface lo)\n",
      "24/09/08 10:53:46 WARN Utils: Set SPARK_LOCAL_IP if you need to bind to another address\n",
      "Setting default log level to \"WARN\".\n",
      "To adjust logging level use sc.setLogLevel(newLevel). For SparkR, use setLogLevel(newLevel).\n",
      "24/09/08 10:53:47 WARN NativeCodeLoader: Unable to load native-hadoop library for your platform... using builtin-java classes where applicable\n",
      "24/09/08 10:53:49 WARN Utils: Service 'SparkUI' could not bind on port 4040. Attempting port 4041.\n"
     ]
    }
   ],
   "source": [
    "from pyspark.sql import SparkSession\n",
    "\n",
    "# Create a spark session (which will run spark jobs)\n",
    "spark = (\n",
    "    SparkSession.builder.appName(\"MAST30034 Project 2\")\n",
    "    .config(\"spark.sql.repl.eagerEval.enabled\", True) \n",
    "    .config(\"spark.sql.parquet.cacheMetadata\", \"true\")\n",
    "    .config(\"spark.sql.session.timeZone\", \"Etc/UTC\")\n",
    "    .config(\"spark.executor.memory\", \"8g\")\n",
    "    .config(\"spark.driver.memory\", \"8g\")\n",
    "    .getOrCreate()\n",
    ")"
   ]
  },
  {
   "cell_type": "code",
   "execution_count": 2,
   "metadata": {},
   "outputs": [
    {
     "name": "stderr",
     "output_type": "stream",
     "text": [
      "                                                                                \r"
     ]
    }
   ],
   "source": [
    "trans_final_sdf = spark.read.parquet('../data/merged/merged_transactions_sa2.parquet')"
   ]
  },
  {
   "cell_type": "markdown",
   "metadata": {},
   "source": [
    "## 1. Impute null values"
   ]
  },
  {
   "cell_type": "code",
   "execution_count": 3,
   "metadata": {},
   "outputs": [
    {
     "name": "stdout",
     "output_type": "stream",
     "text": [
      "root\n",
      " |-- user_id: long (nullable = true)\n",
      " |-- merchant_abn: long (nullable = true)\n",
      " |-- dollar_value: double (nullable = true)\n",
      " |-- order_id: string (nullable = true)\n",
      " |-- order_datetime: date (nullable = true)\n",
      " |-- merchant_name: string (nullable = true)\n",
      " |-- tags: string (nullable = true)\n",
      " |-- consumer_id: long (nullable = true)\n",
      " |-- name: string (nullable = true)\n",
      " |-- address: string (nullable = true)\n",
      " |-- state: string (nullable = true)\n",
      " |-- postcode: integer (nullable = true)\n",
      " |-- gender: string (nullable = true)\n",
      " |-- consumer_fraud_order_datetime: date (nullable = true)\n",
      " |-- consumer_fraud_probability: double (nullable = true)\n",
      " |-- merchant_fraud_order_datetime: date (nullable = true)\n",
      " |-- merchant_fraud_probability: double (nullable = true)\n",
      " |-- SA2_CODES: array (nullable = true)\n",
      " |    |-- element: integer (containsNull = true)\n",
      "\n"
     ]
    }
   ],
   "source": [
    "trans_final_sdf.printSchema()"
   ]
  },
  {
   "cell_type": "code",
   "execution_count": 4,
   "metadata": {},
   "outputs": [],
   "source": [
    "from pyspark.sql import functions as F"
   ]
  },
  {
   "cell_type": "code",
   "execution_count": 5,
   "metadata": {},
   "outputs": [
    {
     "name": "stderr",
     "output_type": "stream",
     "text": [
      "                                                                                \r"
     ]
    },
    {
     "name": "stdout",
     "output_type": "stream",
     "text": [
      "+-------+------------+------------+--------+--------------+-------------+------+-----------+----+-------+-----+--------+------+-----------------------------+--------------------------+-----------------------------+--------------------------+---------+\n",
      "|user_id|merchant_abn|dollar_value|order_id|order_datetime|merchant_name|  tags|consumer_id|name|address|state|postcode|gender|consumer_fraud_order_datetime|consumer_fraud_probability|merchant_fraud_order_datetime|merchant_fraud_probability|SA2_CODES|\n",
      "+-------+------------+------------+--------+--------------+-------------+------+-----------+----+-------+-----+--------+------+-----------------------------+--------------------------+-----------------------------+--------------------------+---------+\n",
      "|      0|           0|           0|       0|             0|       580863|580863|          0|   0|      0|    0|       0|     0|                     14115157|                  14115157|                     14191623|                  14191623|  2337907|\n",
      "+-------+------------+------------+--------+--------------+-------------+------+-----------+----+-------+-----+--------+------+-----------------------------+--------------------------+-----------------------------+--------------------------+---------+\n",
      "\n"
     ]
    }
   ],
   "source": [
    "# Count the number of null values in each column\n",
    "null_counts = trans_final_sdf.select([F.sum(F.col(c).isNull().cast(\"int\")).alias(c) for c in trans_final_sdf.columns])\n",
    "null_counts.show()"
   ]
  },
  {
   "cell_type": "code",
   "execution_count": 6,
   "metadata": {},
   "outputs": [],
   "source": [
    "# impute null values as 0 in the fraud probability rows (as these transactions were not fraudulent)\n",
    "trans_final_sdf = trans_final_sdf.fillna(\n",
    "    {'consumer_fraud_probability': 0, 'merchant_fraud_probability': 0}\n",
    ")"
   ]
  },
  {
   "cell_type": "code",
   "execution_count": 7,
   "metadata": {},
   "outputs": [
    {
     "name": "stdout",
     "output_type": "stream",
     "text": [
      "root\n",
      " |-- user_id: long (nullable = true)\n",
      " |-- merchant_abn: long (nullable = true)\n",
      " |-- dollar_value: double (nullable = true)\n",
      " |-- order_id: string (nullable = true)\n",
      " |-- order_datetime: date (nullable = true)\n",
      " |-- merchant_name: string (nullable = true)\n",
      " |-- tags: string (nullable = true)\n",
      " |-- consumer_id: long (nullable = true)\n",
      " |-- name: string (nullable = true)\n",
      " |-- address: string (nullable = true)\n",
      " |-- state: string (nullable = true)\n",
      " |-- postcode: integer (nullable = true)\n",
      " |-- gender: string (nullable = true)\n",
      " |-- consumer_fraud_probability: double (nullable = false)\n",
      " |-- merchant_fraud_probability: double (nullable = false)\n",
      " |-- SA2_CODES: array (nullable = true)\n",
      " |    |-- element: integer (containsNull = true)\n",
      "\n"
     ]
    }
   ],
   "source": [
    "# Remove rows with null \"merchant_name\" (and therefore tags)\n",
    "trans_final_sdf = trans_final_sdf.filter(trans_final_sdf.merchant_name.isNotNull())\n",
    "\n",
    "# Remove 'consumer_fraud_order_datetime' and 'merchant_fraud_order_datetime' columns, given that \n",
    "trans_final_sdf = trans_final_sdf.drop(\"consumer_fraud_order_datetime\", \"merchant_fraud_order_datetime\")\n",
    "\n",
    "trans_final_sdf.printSchema()"
   ]
  },
  {
   "cell_type": "markdown",
   "metadata": {},
   "source": [
    "## 2. Conduct outlier analysis"
   ]
  },
  {
   "cell_type": "code",
   "execution_count": 8,
   "metadata": {},
   "outputs": [
    {
     "name": "stderr",
     "output_type": "stream",
     "text": [
      "[Stage 4:=================================>                        (8 + 6) / 14]\r"
     ]
    },
    {
     "name": "stdout",
     "output_type": "stream",
     "text": [
      "+------------------------------+------------------------------+------------------------------+------------------------------+\n",
      "|max_merchant_fraud_probability|min_merchant_fraud_probability|max_consumer_fraud_probability|min_consumer_fraud_probability|\n",
      "+------------------------------+------------------------------+------------------------------+------------------------------+\n",
      "|             91.09606847149965|                           0.0|              97.6298077657765|                           0.0|\n",
      "+------------------------------+------------------------------+------------------------------+------------------------------+\n",
      "\n"
     ]
    },
    {
     "name": "stderr",
     "output_type": "stream",
     "text": [
      "                                                                                \r"
     ]
    }
   ],
   "source": [
    "# Cast fraud probability columns to double\n",
    "trans_final_sdf = trans_final_sdf.withColumn(\"merchant_fraud_probability\", F.col(\"merchant_fraud_probability\").cast(\"double\"))\n",
    "trans_final_sdf = trans_final_sdf.withColumn(\"consumer_fraud_probability\", F.col(\"consumer_fraud_probability\").cast(\"double\"))\n",
    "\n",
    "# Calculate the maximum and minimum values of fraud probabilities\n",
    "fraud_stats = trans_final_sdf.agg(\n",
    "    F.max(\"merchant_fraud_probability\").alias(\"max_merchant_fraud_probability\"),\n",
    "    F.min(\"merchant_fraud_probability\").alias(\"min_merchant_fraud_probability\"),\n",
    "    F.max(\"consumer_fraud_probability\").alias(\"max_consumer_fraud_probability\"),\n",
    "    F.min(\"consumer_fraud_probability\").alias(\"min_consumer_fraud_probability\")\n",
    ")\n",
    "\n",
    "# Show the results\n",
    "fraud_stats.show()"
   ]
  },
  {
   "cell_type": "code",
   "execution_count": 9,
   "metadata": {},
   "outputs": [],
   "source": [
    "import matplotlib.pyplot as plt\n",
    "import seaborn as sns"
   ]
  },
  {
   "cell_type": "code",
   "execution_count": 10,
   "metadata": {},
   "outputs": [
    {
     "name": "stderr",
     "output_type": "stream",
     "text": [
      "                                                                                \r"
     ]
    },
    {
     "data": {
      "image/png": "[encoded data removed]",
      "text/plain": [
       "<Figure size 1400x600 with 1 Axes>"
      ]
     },
     "metadata": {},
     "output_type": "display_data"
    }
   ],
   "source": [
    "# Analyse the distribution of the dollar values across all transactions  \n",
    "\n",
    "transactions_df_sampled = trans_final_sdf.sample(fraction=0.05, seed=42)\n",
    "\n",
    "transactions_df_pd = transactions_df_sampled.select(\"dollar_value\").toPandas()\n",
    "\n",
    "plt.figure(figsize=(14, 6))\n",
    "\n",
    "sns.histplot(transactions_df_pd['dollar_value'], color='red', kde=True)\n",
    "plt.title('Histogram of Dollar Values')\n",
    "plt.xlabel('Dollar Value')\n",
    "plt.ylabel('Frequency')\n",
    "plt.show()"
   ]
  },
  {
   "cell_type": "code",
   "execution_count": 11,
   "metadata": {},
   "outputs": [
    {
     "name": "stderr",
     "output_type": "stream",
     "text": [
      "                                                                                \r"
     ]
    },
    {
     "name": "stdout",
     "output_type": "stream",
     "text": [
      "Number of transactions with dollar value > $40000: 76\n"
     ]
    },
    {
     "name": "stderr",
     "output_type": "stream",
     "text": [
      "[Stage 13:=============================================>            (7 + 2) / 9]\r"
     ]
    },
    {
     "name": "stdout",
     "output_type": "stream",
     "text": [
      "+-------+------------+------------------+--------------------+--------------+--------------------+--------------------+-----------+--------------------+--------------------+-----+--------+-----------+--------------------------+--------------------------+--------------------+\n",
      "|user_id|merchant_abn|      dollar_value|            order_id|order_datetime|       merchant_name|                tags|consumer_id|                name|             address|state|postcode|     gender|consumer_fraud_probability|merchant_fraud_probability|           SA2_CODES|\n",
      "+-------+------------+------------------+--------------------+--------------+--------------------+--------------------+-----------+--------------------+--------------------+-----+--------+-----------+--------------------------+--------------------------+--------------------+\n",
      "|  15800| 51425051982| 41487.86544895297|22f3f4e5-92dc-47e...|    2021-10-07|     Sem Corporation|((antique shops -...|     323507|      Pamela Coleman|140 Parrish Corne...|   SA|    5942|     Female|         74.61775413435402|                       0.0|                NULL|\n",
      "|  15800| 51425051982| 41487.86544895297|22f3f4e5-92dc-47e...|    2021-10-07|     Sem Corporation|((antique shops -...|     323507|      Pamela Coleman|140 Parrish Corne...|   SA|    5942|     Female|         74.61775413435402|                       0.0|                NULL|\n",
      "|   7900| 79931898050|44096.576919400875|3ae9691d-bda8-42a...|    2022-07-31|Nascetur Ridiculu...|[(antique shops -...|    1220046| Christopher Meadows|124 Joyce Crossro...|  NSW|    1119|       Male|                       0.0|                       0.0|                NULL|\n",
      "|   6383| 14530561097| 46001.13901942742|00f150fa-dc82-43d...|    2021-09-15|        Duis At Inc.|[[jewelry, watch,...|      25238|        Madison West|    275 Patton Plaza|  QLD|    4230|Undisclosed|          66.2676451623754|         80.80054474543395|                NULL|\n",
      "|   6383| 14530561097| 46001.13901942742|00f150fa-dc82-43d...|    2021-09-15|        Duis At Inc.|[[jewelry, watch,...|      25238|        Madison West|    275 Patton Plaza|  QLD|    4230|Undisclosed|          66.2676451623754|         80.80054474543395|                NULL|\n",
      "|  16087| 83199298021| 42011.69531243195|fb613f0f-c399-42b...|    2022-08-01|Ligula Elit Preti...|[[antique shops -...|     913653|        Dawn Escobar|81221 Carter Dale...|  NSW|    1150|     Female|                       0.0|                       0.0|                NULL|\n",
      "|  23700| 11590404675| 65660.03308418578|1d8f2322-d8c8-46c...|    2021-08-26|         Arcu Sed PC|((antique shops -...|    1319595|       Angela Harris|   572 Shannon Plaza|  NSW|    1212|Undisclosed|         75.16555491373008|                       0.0|                NULL|\n",
      "|  23700| 11590404675| 65660.03308418578|1d8f2322-d8c8-46c...|    2021-08-26|         Arcu Sed PC|((antique shops -...|    1319595|       Angela Harris|   572 Shannon Plaza|  NSW|    1212|Undisclosed|         75.16555491373008|                       0.0|                NULL|\n",
      "|  18916| 83199298021| 59223.92657075801|61fe4fa3-f199-4a1...|    2021-08-08|Ligula Elit Preti...|[[antique shops -...|    1380769|         Tracy Short|   1636 Davis Plains|   WA|    6913|     Female|         62.63626896954548|                       0.0|                NULL|\n",
      "|   4744| 72058040180| 49035.29628860688|e558ffd1-c93c-444...|    2022-08-24|      Mi Corporation|[(antique shops -...|     992327|         David Jones|    662 Lawson Falls|   WA|    6904|       Male|                       0.0|                       0.0|                NULL|\n",
      "|  14419| 44345785419|41006.306948000885|3cb6cb7f-cea2-455...|    2021-08-09| Phasellus Nulla LLC|[(jewelry, watch,...|     681628|      Matthew Watson|2558 Porter Garde...|   NT|     909|       Male|        52.347634290517455|                       0.0|                NULL|\n",
      "|  23065| 31334588839| 49573.70829994781|0cdc76cc-a0f3-447...|    2021-06-19|Lacus Aliquam Cor...|[(antique shops -...|    1494645|      Ronald Roberts|   7303 Ariana Mount|  VIC|    8009|       Male|                       0.0|                       0.0|                NULL|\n",
      "|  13492| 83199298021|42423.651280322534|f387a556-8246-445...|    2021-03-25|Ligula Elit Preti...|[[antique shops -...|     622623|  Melissa Richardson|    97727 Jason Club|  NSW|    1158|     Female|                       0.0|         69.08556869902988|                NULL|\n",
      "|   6305| 79931898050| 43307.22898694161|e72de52e-e02f-461...|    2021-04-27|Nascetur Ridiculu...|[(antique shops -...|       6834|     Allison Stevens| 60866 Miller Avenue|  NSW|    1193|     Female|        56.674892267653156|                       0.0|                NULL|\n",
      "|  10659| 54860127682| 41702.17398512981|b204d8b2-d673-421...|    2022-07-21|Laoreet Posuere E...|[(antique shops -...|     254861|        Steve Hooper|260 Jacob Forks S...|  VIC|    3178|       Male|                       0.0|                       0.0|         [211011256]|\n",
      "|  22957| 89109402284| 43415.16340467725|45030f06-09fc-4f3...|    2022-02-12|Interdum Feugiat ...|[[antique shops -...|    1187984|       Nicholas Wang|71296 Jeffrey Mou...|  VIC|    3178|       Male|         82.79065699075498|         29.07408314204997|         [211011256]|\n",
      "|  22957| 89109402284| 43415.16340467725|45030f06-09fc-4f3...|    2022-02-12|Interdum Feugiat ...|[[antique shops -...|    1187984|       Nicholas Wang|71296 Jeffrey Mou...|  VIC|    3178|       Male|         82.79065699075498|         29.07408314204997|         [211011256]|\n",
      "|  22239| 67264251405|51876.637563877644|09206be9-492c-414...|    2021-10-19|Elit Dictum Eu Fo...|((art dealers and...|     184299|      George Mendoza|156 Alexander Vil...|  VIC|    3813|       Male|         94.70342477508035|         18.21089142894488|[212011547, 21201...|\n",
      "|  22239| 67264251405|51876.637563877644|09206be9-492c-414...|    2021-10-19|Elit Dictum Eu Fo...|((art dealers and...|     184299|      George Mendoza|156 Alexander Vil...|  VIC|    3813|       Male|         94.70342477508035|         18.21089142894488|[212011547, 21201...|\n",
      "|  16391| 58495294020| 57541.59534772687|8717210d-9072-4e3...|    2021-03-13|Diam Nunc Associates|((jewelry, watch,...|     537248|    Dr. Caleb Briggs|27541 Summers All...|  VIC|    3803|       Male|                       0.0|                       0.0|         [212021297]|\n",
      "|  16469| 83199298021|54703.721746700794|90506a27-793e-410...|    2021-07-10|Ligula Elit Preti...|[[antique shops -...|    1370812|        Ruth Roberts|58933 Francisco D...|  QLD|    4153|     Female|                       0.0|                       0.0|[301011002, 30101...|\n",
      "|   3489| 58495294020|64309.577211019314|c8ec3d69-eb75-442...|    2022-04-22|Diam Nunc Associates|((jewelry, watch,...|     658082|    Marcus Hernandez|   7394 Steven Mills|  VIC|    3082|       Male|                       0.0|                       0.0|         [209041220]|\n",
      "|  18438| 64143552561| 49956.04011941749|dcc299e7-e991-494...|    2021-05-17|Fusce Feugiat Ass...|([jewelry, watch,...|     270019|         Ronald Hill|32012 Foley Manor...|  VIC|    3483|       Male|          63.5221771051038|                       0.0|[215031400, 21503...|\n",
      "|   5233| 15043504837| 47381.93709086238|d4afd2e7-0362-48b...|    2021-08-29|   Odio Incorporated|([jewelry, watch,...|     596242|         Ryan Harris|2199 Nelson Roads...|  VIC|    3597|       Male|         85.87123303878818|         59.77648897297805|[215031405, 21503...|\n",
      "|   5233| 15043504837| 47381.93709086238|d4afd2e7-0362-48b...|    2021-08-29|   Odio Incorporated|([jewelry, watch,...|     596242|         Ryan Harris|2199 Nelson Roads...|  VIC|    3597|       Male|         85.87123303878818|         59.77648897297805|[215031405, 21503...|\n",
      "|   3101| 91880575299|105193.88578925544|2ab65c8f-11b2-41c...|    2021-04-17|       At Foundation|((antique shops -...|      27622|Christopher Roberson| 6757 Reginald Haven|   WA|    6484|       Male|         91.42192091901347|         32.99497823665355|[509021242, 50902...|\n",
      "|   4473| 96730987906| 44323.16186139491|16a4c4cf-b669-483...|    2022-09-19|Mattis Ornare Lec...|[[antique shops -...|     135321|        Mark Holland| 48001 Jonathan Neck|  VIC|    3925|       Male|                       0.0|                       0.0|[205031093, 20503...|\n",
      "|  12663| 47047735645| 40896.25782166824|eb6dbb76-2682-45e...|    2022-04-24|Aenean Gravida In...|((antique shops -...|     990352|        Tony Coleman| 35068 Caleb Heights|  VIC|    3053|       Male|                       0.0|                       0.0|[206041117, 20604...|\n",
      "|  11175| 31334588839| 41160.91552130273|0a6929d0-2a76-46e...|    2021-04-01|Lacus Aliquam Cor...|[(antique shops -...|    1177532|   Michael Rodriguez|14036 Jason Mall ...|  QLD|    4406|       Male|        42.538782269783056|                       0.0|[307021183, 30701...|\n",
      "|  19479| 19492220327| 43409.81048920675|f4c3c596-4768-441...|    2021-05-20|Commodo Ipsum Ind...|([jewelry, watch,...|    1258804|        Sarah Carter|889 Calderon Fork...|  NSW|    2219|     Female|                       0.0|                       0.0|[119041382, 11904...|\n",
      "|  18714| 30137717102| 41445.32055730012|a34fadf7-a5be-461...|    2021-11-14|    Tempus Risus LLC|([antique shops -...|     550572|         Kevin Reyes|  224 Walker Estates|  NSW|    2071|       Male|         83.78813794627237|                       0.0|[121031407, 12103...|\n",
      "|  18714| 30137717102| 41445.32055730012|a34fadf7-a5be-461...|    2021-11-14|    Tempus Risus LLC|([antique shops -...|     550572|         Kevin Reyes|  224 Walker Estates|  NSW|    2071|       Male|         83.78813794627237|                       0.0|[121031407, 12103...|\n",
      "|     67| 29253286472| 41981.31422751512|dd9555de-7814-4e4...|    2021-07-03|  Fusce Incorporated|[(jewelry, watch,...|     845250|         Julia Munoz| 585 Shepherd Forges|  NSW|    2070|     Female|         53.48045295625143|                       0.0|[121031408, 12103...|\n",
      "|  22497| 83199298021| 51734.31812727246|47bd0ada-002e-469...|    2022-04-03|Ligula Elit Preti...|[[antique shops -...|    1066024|   Christina Wallace|87882 Davis Shore...|  NSW|    2747|     Female|                       0.0|                       0.0|[124031462, 12403...|\n",
      "|   4105| 54860127682|41905.749543420636|640a934c-71c9-410...|    2022-04-25|Laoreet Posuere E...|[(antique shops -...|     147109|     Brittany Briggs|2267 Richardson P...|  NSW|    2400|Undisclosed|                       0.0|                       0.0|[110031196, 11003...|\n",
      "|   3513| 83199298021|44471.999391282814|4463230f-9745-4a4...|    2022-02-27|Ligula Elit Preti...|[[antique shops -...|    1454256|         Ryan Wright|6031 Patrick Lane...|   WA|    6350|       Male|         75.16981192247916|        26.025158824861773|[509031247, 50903...|\n",
      "|   3513| 83199298021|44471.999391282814|4463230f-9745-4a4...|    2022-02-27|Ligula Elit Preti...|[[antique shops -...|    1454256|         Ryan Wright|6031 Patrick Lane...|   WA|    6350|       Male|         75.16981192247916|        26.025158824861773|[509031247, 50903...|\n",
      "|   4959| 96730987906|47565.235061210646|54daec36-b828-45c...|    2022-06-04|Mattis Ornare Lec...|[[antique shops -...|    1018399|  Christopher Wilcox|  9410 Francis Field|   WA|    6391|       Male|                       0.0|                       0.0|[509031250, 50903...|\n",
      "|  12934| 74837094867| 40830.23507998117|fa6ec1f1-fbe1-437...|    2022-07-07|Quisque Ornare To...|([antique shops -...|      23166|        Briana Smith| 84390 Susan Orchard|  VIC|    3037|     Female|                       0.0|                       0.0|[213041575, 21301...|\n",
      "|  23291| 86889657711|  49159.6984712506|878bcb4a-e977-482...|    2021-03-14|Accumsan Corporation|[(jewelRy, watch,...|     891091|      Ryan Rodriguez|   1347 Clark Summit|  VIC|    3911|       Male|         70.80861807150015|                       0.0|[214021385, 21401...|\n",
      "|  17900| 11149063370| 42797.34835914282|b0bdd444-223a-4b4...|    2022-02-25|     Et Arcu Limited|([art dealers and...|     476053|      Angela Fuentes|1847 John Bridge ...|  NSW|    2805|     Female|         92.73262811161372|         51.01538421455241|[103021064, 10302...|\n",
      "|  17900| 11149063370| 42797.34835914282|b0bdd444-223a-4b4...|    2022-02-25|     Et Arcu Limited|([art dealers and...|     476053|      Angela Fuentes|1847 John Bridge ...|  NSW|    2805|     Female|         92.73262811161372|         51.01538421455241|[103021064, 10302...|\n",
      "|    230| 11149063370|47346.113374357374|6c3eb0dc-1235-4e1...|    2021-08-28|     Et Arcu Limited|([art dealers and...|     187071|       Fernando Reed|8652 Charles Vill...|  NSW|    2791|       Male|         86.28328808934151|         56.43761254995139|[103041076, 10304...|\n",
      "|    230| 11149063370|47346.113374357374|6c3eb0dc-1235-4e1...|    2021-08-28|     Et Arcu Limited|([art dealers and...|     187071|       Fernando Reed|8652 Charles Vill...|  NSW|    2791|       Male|         86.28328808934151|         56.43761254995139|[103041076, 10304...|\n",
      "|   1433| 91880575299|41393.611025980696|fa3eb43d-51da-492...|    2022-05-20|       At Foundation|((antique shops -...|     627256|      Jennifer Perez|2790 Susan Shore ...|   SA|    5066|     Female|                       0.0|                       0.0|[401031012, 40103...|\n",
      "|  10428| 54860127682|51618.337208028475|572fa5c4-72f8-4ad...|    2021-07-17|Laoreet Posuere E...|[(antique shops -...|    1277505|       Richard Jones|   5032 William Glen|   SA|    5069|       Male|                       0.0|                       0.0|[401051019, 40105...|\n",
      "|  20118| 86889657711|42835.547522320136|e01d91c3-a38c-4e9...|    2021-09-05|Accumsan Corporation|[(jewelRy, watch,...|    1422382|        Joann Wilson|3379 Andrew Hollo...|  NSW|    2020|Undisclosed|         80.34030486265003|         63.21222581102351|[117011635, 11701...|\n",
      "|  20118| 86889657711|42835.547522320136|e01d91c3-a38c-4e9...|    2021-09-05|Accumsan Corporation|[(jewelRy, watch,...|    1422382|        Joann Wilson|3379 Andrew Hollo...|  NSW|    2020|Undisclosed|         80.34030486265003|         63.21222581102351|[117011635, 11701...|\n",
      "|  23234| 97217894162|  41147.6034320986|5a490f07-47f7-435...|    2022-01-15|  Varius Corporation|[(antique shops -...|     910081|         John Chavez|    968 Morgan Inlet|  QLD|    4215|       Male|         80.78861807908018|                       0.0|[309031238, 30909...|\n",
      "|  23234| 97217894162|  41147.6034320986|5a490f07-47f7-435...|    2022-01-15|  Varius Corporation|[(antique shops -...|     910081|         John Chavez|    968 Morgan Inlet|  QLD|    4215|       Male|         80.78861807908018|                       0.0|[309031238, 30909...|\n",
      "|  15110| 11149063370| 44013.84478981606|91b9b445-e6e5-4a3...|    2021-05-21|     Et Arcu Limited|([art dealers and...|     956570|      Antonio Nelson|060 Kevin Circle ...|  QLD|    4313|       Male|         66.45289563935754|                       0.0|[310021278, 31002...|\n",
      "|  20994| 79100970961|49913.303655381416|58146ab6-3f7d-4d2...|    2022-08-19|Nunc Quisque Orna...|[[antique shops -...|    1429753|   Benjamin Williams|32982 Hall Wells ...|   SA|    5413|       Male|                       0.0|                       0.0|[405021118, 40502...|\n",
      "|   5187| 99358609752| 43352.48820023092|d85d81f3-4d59-414...|    2021-07-15|Egestas Nunc Cons...|([antique shops -...|    1332453|      Carl Hernandez|56389 Chan Wells ...|   WA|    6158|       Male|                       0.0|                       0.0|[507021164, 50702...|\n",
      "|   3205| 83199298021| 44271.10632539127|2e65f36e-d45e-479...|    2021-06-07|Ligula Elit Preti...|[[antique shops -...|      24852| Caitlin Cummings MD|822 Taylor Forge ...|   WA|    6165|Undisclosed|                       0.0|                       0.0|[507031172, 50703...|\n",
      "|  19497| 11149063370| 47782.59915453614|a2251488-b449-49f...|    2022-03-17|     Et Arcu Limited|([art dealers and...|    1329846|     Barbara Roberts|       636 Wood Walk|   WA|    6174|     Female|                       0.0|                       0.0|[507051191, 50705...|\n",
      "|   5965| 11149063370| 43965.46355720679|fdb38c15-1057-47c...|    2021-11-14|     Et Arcu Limited|([art dealers and...|    1217876|        Abigail Pham|34654 Coffey Gard...|   WA|    6409|     Female|         69.37164467869053|        52.407803322764764|[509021237, 50902...|\n",
      "|   5965| 11149063370| 43965.46355720679|fdb38c15-1057-47c...|    2021-11-14|     Et Arcu Limited|([art dealers and...|    1217876|        Abigail Pham|34654 Coffey Gard...|   WA|    6409|     Female|         69.37164467869053|        52.407803322764764|[509021237, 50902...|\n",
      "|  12517| 31334588839| 45917.83769330195|5f196a65-8810-472...|    2022-04-27|Lacus Aliquam Cor...|[(antique shops -...|     429310|        Rhonda Duran|98874 Nicholas Ri...|  NSW|    2711|     Female|                       0.0|                       0.0|[109021177, 10902...|\n",
      "|  17231| 54860127682| 49618.06542862859|0d365b1c-ef18-423...|    2021-07-20|Laoreet Posuere E...|[(antique shops -...|     148487|       Shelly Haynes|107 Watkins Under...|  NSW|    2477|     Female|         65.01723041937254|                       0.0|[112011237, 11201...|\n",
      "|  18658| 97884414539| 44615.02252113347|b89f04f6-13fb-4ec...|    2021-10-19|      Ut Corporation|((antique shops -...|     288499|      Michael George|     905 George Isle|  VIC|    3216|       Male|         82.98609082999361|         89.79919971536573|[203021037, 20302...|\n",
      "|  18658| 97884414539| 44615.02252113347|b89f04f6-13fb-4ec...|    2021-10-19|      Ut Corporation|((antique shops -...|     288499|      Michael George|     905 George Isle|  VIC|    3216|       Male|         82.98609082999361|         89.79919971536573|[203021037, 20302...|\n",
      "|  10725| 56554875815| 48194.87652438341|f2ac7c10-e16e-4a5...|    2022-03-07|Ipsum Porta Elit ...|([antIque shops -...|     687415|        Michael Holt|     37716 Sosa Cove|  VIC|    3522|       Male|                       0.0|                       0.0|[204011060, 20401...|\n",
      "|   2310| 79100970961| 41689.73039921748|a40ffe64-0e3a-489...|    2022-01-02|Nunc Quisque Orna...|[[antique shops -...|     526977|         Aaron Stark|925 Lopez Lodge A...|  VIC|    3677|Undisclosed|         87.96418126148595|          67.1177397510102|[204021066, 20402...|\n",
      "|   2310| 79100970961| 41689.73039921748|a40ffe64-0e3a-489...|    2022-01-02|Nunc Quisque Orna...|[[antique shops -...|     526977|         Aaron Stark|925 Lopez Lodge A...|  VIC|    3677|Undisclosed|         87.96418126148595|          67.1177397510102|[204021066, 20402...|\n",
      "|  16065| 97884414539|  48085.9045835122|995b8136-4ba5-4e5...|    2022-08-10|      Ut Corporation|((antique shops -...|      62166|  Dustin Goodman DDS| 53941 Moran Islands|   WA|    6100|       Male|                       0.0|                       0.0|[506021123, 50602...|\n",
      "|  21751| 83199298021| 71382.17605383882|fe9edd35-c895-410...|    2022-09-23|Ligula Elit Preti...|[[antique shops -...|    1182408|      Justin Charles|6833 Timothy Clif...|  TAS|    7163|       Male|                       0.0|                       0.0|[603021069, 60302...|\n",
      "|   6143| 11149063370|  48780.4794246061|a2684111-3703-4f3...|    2022-08-06|     Et Arcu Limited|([art dealers and...|     362845|      Jonathan Mccoy|970 Roberts Manor...|  TAS|    7109|       Male|                       0.0|                       0.0|[603021071, 60302...|\n",
      "|   7047| 41001282470| 51787.36859069319|671d3761-8ef7-4ff...|    2022-04-18|              Eu Ltd|((antique shops -...|     244869|     Derrick Jackson|26633 Nicholas Glens|  TAS|    7466|       Male|                       0.0|                       0.0|[604031097, 60403...|\n",
      "|  11702| 53918538787|  77134.2146046811|8584d8d1-061b-41c...|    2021-07-27|      In Tempus Inc.|[(antique shops -...|     165107|        Ana Robinson|77844 Garcia Vall...|  TAS|    7466|     Female|         74.19676899973965|                       0.0|[604031097, 60403...|\n",
      "|  11702| 53918538787|  77134.2146046811|8584d8d1-061b-41c...|    2021-07-27|      In Tempus Inc.|[(antique shops -...|     165107|        Ana Robinson|77844 Garcia Vall...|  TAS|    7466|     Female|         74.19676899973965|                       0.0|[604031097, 60403...|\n",
      "|   2376| 83199298021| 55971.96573919112|8a077533-d8e0-486...|    2022-04-02|Ligula Elit Preti...|[[antique shops -...|     826806|     Jennifer Henson|  84274 Debra Divide|   SA|    5172|     Female|                       0.0|                       0.0|[407011147, 40701...|\n",
      "|  15504| 83199298021|  57996.7495260236|dfd47864-2440-4de...|    2022-06-19|Ligula Elit Preti...|[[antique shops -...|    1253388|           John Diaz|13195 Cole Spring...|   SA|    5271|       Male|                       0.0|                       0.0|[407021155, 40702...|\n",
      "|  15790| 83199298021|47538.554825796426|0ab97f87-a86b-4ba...|    2021-12-30|Ligula Elit Preti...|[[antique shops -...|     430052|      Rachel Chapman|    2672 Keith Walks|   SA|    5655|     Female|         71.77065889280253|         23.99859726586608|[406011134, 40602...|\n",
      "|  15790| 83199298021|47538.554825796426|0ab97f87-a86b-4ba...|    2021-12-30|Ligula Elit Preti...|[[antique shops -...|     430052|      Rachel Chapman|    2672 Keith Walks|   SA|    5655|     Female|         71.77065889280253|         23.99859726586608|[406011134, 40602...|\n",
      "|  16556| 35575706403|50209.505438673325|d444e831-764d-4ca...|    2022-02-20|   Tempus Mauris Ltd|[[antique shops -...|    1243659|        Kyle Jackson|24519 Thompson Ju...|  QLD|    4743|       Male|         89.65663294494827|         91.09606847149965|[312011338, 31201...|\n",
      "|  16556| 35575706403|50209.505438673325|d444e831-764d-4ca...|    2022-02-20|   Tempus Mauris Ltd|[[antique shops -...|    1243659|        Kyle Jackson|24519 Thompson Ju...|  QLD|    4743|       Male|         89.65663294494827|         91.09606847149965|[312011338, 31201...|\n",
      "+-------+------------+------------------+--------------------+--------------+--------------------+--------------------+-----------+--------------------+--------------------+-----+--------+-----------+--------------------------+--------------------------+--------------------+\n",
      "\n"
     ]
    },
    {
     "name": "stderr",
     "output_type": "stream",
     "text": [
      "                                                                                \r"
     ]
    }
   ],
   "source": [
    "high_value_count = trans_final_sdf.filter(trans_final_sdf.dollar_value > 40000).count()\n",
    "\n",
    "print(f\"Number of transactions with dollar value > $40000: {high_value_count}\")\n",
    "\n",
    "trans_final_sdf.filter(trans_final_sdf.dollar_value > 40000).show(100)"
   ]
  },
  {
   "cell_type": "code",
   "execution_count": 12,
   "metadata": {},
   "outputs": [
    {
     "name": "stderr",
     "output_type": "stream",
     "text": [
      "[Stage 14:>                                                         (0 + 1) / 1]\r"
     ]
    },
    {
     "name": "stdout",
     "output_type": "stream",
     "text": [
      "+-------+------------+------------------+--------------------+--------------+--------------------+--------------------+-----------+--------------------+--------------------+-----+--------+-----------+--------------------------+--------------------------+---------+\n",
      "|user_id|merchant_abn|      dollar_value|            order_id|order_datetime|       merchant_name|                tags|consumer_id|                name|             address|state|postcode|     gender|consumer_fraud_probability|merchant_fraud_probability|SA2_CODES|\n",
      "+-------+------------+------------------+--------------------+--------------+--------------------+--------------------+-----------+--------------------+--------------------+-----+--------+-----------+--------------------------+--------------------------+---------+\n",
      "|   2587| 42724910979| 11848.28312405995|91ec2bf1-ca76-4af...|    2022-03-26|Vitae Nibh Donec ...|((motor  vehicle ...|     820645|       Justin Murphy|  44387 Leach Center|  NSW|    1216|       Male|                       0.0|                       0.0|     NULL|\n",
      "|   4149| 12771097467|12600.873403451968|39862b98-fe69-4fb...|    2022-03-25|    At Pretium Corp.|([motor vehicle s...|     397869|       Audrey Watson|  08344 Moreno Place|  NSW|    1340|     Female|                       0.0|                       0.0|     NULL|\n",
      "|  18508| 93260930990|12760.675123448338|7d441f4b-d7fa-4b9...|    2022-04-10|Pede Cras Vulputa...|[[telecom], [b], ...|     551013|        Steven Hodge|    3965 Russo Ports|  NSW|    1655|       Male|                       0.0|                       0.0|     NULL|\n",
      "|   6305| 36461610866|11211.349467974685|daa6e7f6-44cf-421...|    2022-03-27|Phasellus Ferment...|([telecom], [b], ...|       6834|     Allison Stevens| 60866 Miller Avenue|  NSW|    1193|     Female|                       0.0|                       0.0|     NULL|\n",
      "|  18340| 31385641294|13590.453086834992|d35a6b2a-fcd6-44b...|    2022-03-05|    Semper Auctor PC|[(motor vehicle s...|     237302|      Erin Underwood|  20017 Michael Glen|  NSW|    1424|     Female|                       0.0|                       0.0|     NULL|\n",
      "|  12522| 74874670528|10926.098539768247|5225be9b-a3c2-4da...|    2022-07-15|     Aliquet Odio PC|((telecom), (c), ...|     837718|Mrs. Stacey Martinez|   48159 Butler Keys|  NSW|    1440|     Female|                       0.0|                       0.0|     NULL|\n",
      "|   1229| 16361981729|10956.938630173994|11d3b767-d44d-41c...|    2021-11-15|              Et LLC|[(eqUipment, tool...|    1108970|      Travis Bennett|0002 Bowman Lane ...|   WA|    6981|       Male|         38.46595888487482|                       0.0|     NULL|\n",
      "|  12010| 93260930990|10854.078138744217|d8fa51af-9637-49d...|    2021-11-07|Pede Cras Vulputa...|[[telecom], [b], ...|    1032430|     William Rodgers|70383 Brown Mountain|  NSW|    2520|       Male|         32.80316024143978|                       0.0|     NULL|\n",
      "|   1939| 16104218122|10051.783413767465|a5f53566-0bff-479...|    2022-10-12|     Scelerisque Ltd|[[motor vehicle s...|     808406|          Tami Lopez|248 Ward Coves Su...|  VIC|    3841|     Female|                       0.0|                       0.0|     NULL|\n",
      "|  10711| 31385641294|13128.558260057094|adaa697b-7b0d-475...|    2021-10-15|    Semper Auctor PC|[(motor vehicle s...|    1342845|          Kyle Russo|03691 John Throug...|   WA|    6916|       Male|         34.99933701894774|                       0.0|     NULL|\n",
      "|  11734| 12771097467|11330.004575912037|c354022d-e772-4e3...|    2022-07-30|    At Pretium Corp.|([motor vehicle s...|    1174360|        Beverly Ward|    0352 Hudson Hill|  NSW|    1169|     Female|                       0.0|                       0.0|     NULL|\n",
      "|   7583| 35911782646|10633.841497266012|9a30ee90-e860-4d8...|    2021-09-30|Semper Nam Tempor...|((telecom), (b), ...|    1483792|      Jeffrey Norton|49314 Jones Port ...|  NSW|    2052|       Male|        33.501494449964746|                       0.0|     NULL|\n",
      "|  16258| 54785263912| 13686.17808115969|2d875869-938c-4c4...|    2021-11-01|Eget Tincidunt Du...|((motor vehicle s...|     890391|       Donna Clayton|83453 Katherine F...|   WA|    6931|Undisclosed|         44.25820651164421|                       0.0|     NULL|\n",
      "|   8489| 54785263912|10382.874584708714|fc15481a-3389-4c6...|    2021-10-26|Eget Tincidunt Du...|((motor vehicle s...|     261809|           John Berg|  7325 Kevin Station|  NSW|    1192|       Male|         46.46799886750168|                       0.0|     NULL|\n",
      "|   7295| 74874670528|10837.509048221578|dec6f624-2cb0-427...|    2022-08-23|     Aliquet Odio PC|((telecom), (c), ...|     362176|       Mary Gonzalez|7371 Johnson Lock...|  QLD|    4003|     Female|                       0.0|                       0.0|     NULL|\n",
      "|  23820| 93260930990| 13356.64444255442|7a2c0412-6a06-4f1...|    2022-06-17|Pede Cras Vulputa...|[[telecom], [b], ...|    1010376|     Jessica Bentley|731 Grimes Cliffs...|   WA|    6953|     Female|                       0.0|                       0.0|     NULL|\n",
      "|  10997| 31385641294|10348.084210768422|30f4ab9f-6b11-435...|    2021-08-28|    Semper Auctor PC|[(motor vehicle s...|    1463879|    Stephanie Nelson|4545 Walker Cause...|  NSW|    1420|     Female|         25.53453665831135|                       0.0|     NULL|\n",
      "|  21625| 24015576448|12050.704502798704|410cdfb1-2a19-494...|    2022-03-24|Mi Eleifend Assoc...|[(motor vehicle s...|      92176|    Jacqueline Jones|   3148 Alexis Drive|  QLD|    4271|     Female|                       0.0|                       0.0|     NULL|\n",
      "|   5196| 74874670528|10991.755871669424|0788c232-5609-4d7...|    2021-08-21|     Aliquet Odio PC|((telecom), (c), ...|      30236|     Melissa Leonard|59836 Derek Union...|  NSW|    1590|     Female|        18.004742410446465|                       0.0|     NULL|\n",
      "|   7525| 52448445000|11774.556088332421|8195d4ef-5677-4f5...|    2022-07-25|Feugiat Placerat ...|((computer progra...|     244597|        James Brooks|    9007 Giles Pines|  NSW|    1112|       Male|                       0.0|                       0.0|     NULL|\n",
      "+-------+------------+------------------+--------------------+--------------+--------------------+--------------------+-----------+--------------------+--------------------+-----+--------+-----------+--------------------------+--------------------------+---------+\n",
      "only showing top 20 rows\n",
      "\n"
     ]
    },
    {
     "name": "stderr",
     "output_type": "stream",
     "text": [
      "                                                                                \r"
     ]
    }
   ],
   "source": [
    "# Filter the rows where dollar_value > 10000 and tags do not include specific strings\n",
    "filtered_df = trans_final_sdf.filter(\n",
    "    (trans_final_sdf.dollar_value > 10000) &\n",
    "    (~trans_final_sdf.tags.rlike(\"(?i)jewelry\")) &   # Case-insensitive match\n",
    "    (~trans_final_sdf.tags.rlike(\"(?i)antique shops\")) &\n",
    "    (~trans_final_sdf.tags.rlike(\"(?i)art dealers\"))\n",
    ")\n",
    "\n",
    "# Show the filtered entries\n",
    "filtered_df.show()\n",
    "\n",
    "# Potentially, could consider removing large entries as these are bad for a BNPL firm (we take on much more credit risk). However, all these entry values seem reasonable given the types of firms that are mentioned."
   ]
  },
  {
   "cell_type": "code",
   "execution_count": 13,
   "metadata": {},
   "outputs": [],
   "source": [
    "# add is_fraud flag for entries with fraud_probability >90\n",
    "\n",
    "trans_final_sdf = trans_final_sdf.withColumn(\n",
    "    \"is_fraud\", \n",
    "    (F.col(\"consumer_fraud_probability\") > 90) | (F.col(\"merchant_fraud_probability\") > 90)\n",
    ")"
   ]
  },
  {
   "cell_type": "code",
   "execution_count": 15,
   "metadata": {},
   "outputs": [
    {
     "name": "stderr",
     "output_type": "stream",
     "text": [
      "                                                                                \r"
     ]
    }
   ],
   "source": [
    "# write to new parquet \n",
    "trans_final_sdf.write.mode(\"overwrite\").parquet(\"../data/merged/merged_transactions_with_outliers.parquet\")"
   ]
  }
 ],
 "metadata": {
  "kernelspec": {
   "display_name": "Python 3",
   "language": "python",
   "name": "python3"
  },
  "language_info": {
   "codemirror_mode": {
    "name": "ipython",
    "version": 3
   },
   "file_extension": ".py",
   "mimetype": "text/x-python",
   "name": "python",
   "nbconvert_exporter": "python",
   "pygments_lexer": "ipython3",
   "version": "3.10.12"
  }
 },
 "nbformat": 4,
 "nbformat_minor": 2
}
