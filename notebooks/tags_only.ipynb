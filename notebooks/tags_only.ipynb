{
 "cells": [
  {
   "cell_type": "markdown",
   "metadata": {},
   "source": [
    "# Project 2 - Group 13"
   ]
  },
  {
   "cell_type": "markdown",
   "metadata": {},
   "source": [
    "## Tags ONLY cleaning and analysis"
   ]
  },
  {
   "cell_type": "markdown",
   "metadata": {},
   "source": [
    "### Begin SPARK"
   ]
  },
  {
   "cell_type": "code",
   "execution_count": 1,
   "metadata": {},
   "outputs": [
    {
     "name": "stderr",
     "output_type": "stream",
     "text": [
      "24/09/25 15:05:49 WARN Utils: Your hostname, MacBook.local resolves to a loopback address: 127.0.0.1; using 192.168.0.10 instead (on interface en0)\n",
      "24/09/25 15:05:49 WARN Utils: Set SPARK_LOCAL_IP if you need to bind to another address\n",
      "Setting default log level to \"WARN\".\n",
      "To adjust logging level use sc.setLogLevel(newLevel). For SparkR, use setLogLevel(newLevel).\n",
      "24/09/25 15:05:50 WARN NativeCodeLoader: Unable to load native-hadoop library for your platform... using builtin-java classes where applicable\n",
      "24/09/25 15:05:51 WARN Utils: Service 'SparkUI' could not bind on port 4040. Attempting port 4041.\n"
     ]
    }
   ],
   "source": [
    "from pyspark.sql import SparkSession, functions as F\n",
    "\n",
    "# Create a spark session (which will run spark jobs)\n",
    "spark = (\n",
    "    SparkSession.builder.appName(\"MAST30034 Project 2\")\n",
    "    .config(\"spark.sql.repl.eagerEval.enabled\", True) \n",
    "    .config(\"spark.sql.parquet.cacheMetadata\", \"true\")\n",
    "    .config(\"spark.sql.session.timeZone\", \"Etc/UTC\")\n",
    "    #.config(\"spark.executor.memory\", \"8g\")\n",
    "    #.config(\"spark.driver.memory\", \"8g\")\n",
    "    .getOrCreate()\n",
    ")"
   ]
  },
  {
   "cell_type": "markdown",
   "metadata": {},
   "source": [
    "### Read in data"
   ]
  },
  {
   "cell_type": "code",
   "execution_count": 2,
   "metadata": {},
   "outputs": [
    {
     "name": "stderr",
     "output_type": "stream",
     "text": [
      "                                                                                \r"
     ]
    },
    {
     "name": "stdout",
     "output_type": "stream",
     "text": [
      "Number of entries = 4026\n"
     ]
    },
    {
     "name": "stderr",
     "output_type": "stream",
     "text": [
      "                                                                                \r"
     ]
    },
    {
     "data": {
      "text/html": [
       "<table border='1'>\n",
       "<tr><th>merchant_name</th><th>tags</th><th>merchant_abn</th></tr>\n",
       "<tr><td>Felis Limited</td><td>((furniture, home...</td><td>10023283211</td></tr>\n",
       "<tr><td>Arcu Ac Orci Corp...</td><td>([cable, satellit...</td><td>10142254217</td></tr>\n",
       "<tr><td>Nunc Sed Company</td><td>([jewelry, watch,...</td><td>10165489824</td></tr>\n",
       "<tr><td>Ultricies Digniss...</td><td>([wAtch, clock, a...</td><td>10187291046</td></tr>\n",
       "<tr><td>Enim Condimentum PC</td><td>([music shops - m...</td><td>10192359162</td></tr>\n",
       "</table>\n"
      ],
      "text/plain": [
       "+--------------------+--------------------+------------+\n",
       "|       merchant_name|                tags|merchant_abn|\n",
       "+--------------------+--------------------+------------+\n",
       "|       Felis Limited|((furniture, home...| 10023283211|\n",
       "|Arcu Ac Orci Corp...|([cable, satellit...| 10142254217|\n",
       "|    Nunc Sed Company|([jewelry, watch,...| 10165489824|\n",
       "|Ultricies Digniss...|([wAtch, clock, a...| 10187291046|\n",
       "| Enim Condimentum PC|([music shops - m...| 10192359162|\n",
       "+--------------------+--------------------+------------+"
      ]
     },
     "execution_count": 2,
     "metadata": {},
     "output_type": "execute_result"
    }
   ],
   "source": [
    "tags_df = spark.read.parquet('../data/tables/tables/tbl_merchants.parquet', inferSchema = True)\n",
    "tags_df = tags_df.withColumnRenamed('name', 'merchant_name')\n",
    "print(f'Number of entries = {tags_df.count()}')\n",
    "tags_df.limit(5)"
   ]
  },
  {
   "cell_type": "markdown",
   "metadata": {},
   "source": [
    "### Clean up tags column"
   ]
  },
  {
   "cell_type": "code",
   "execution_count": 3,
   "metadata": {},
   "outputs": [
    {
     "name": "stdout",
     "output_type": "stream",
     "text": [
      "+------------------------------------+-----------------------------------------------------------------------------------------------------------------+------------+\n",
      "|merchant_name                       |tags                                                                                                             |merchant_abn|\n",
      "+------------------------------------+-----------------------------------------------------------------------------------------------------------------+------------+\n",
      "|Felis Limited                       |[[furniture, home furnishings and equipment shops, and manufacturers, except appliances], [e], [take rate: 0.18]]|10023283211 |\n",
      "|Arcu Ac Orci Corporation            |[[cable, satellite, and other pay television and radio services], [b], [take rate: 4.22]]                        |10142254217 |\n",
      "|Nunc Sed Company                    |[[jewelry, watch, clock, and silverware shops], [b], [take rate: 4.40]]                                          |10165489824 |\n",
      "|Ultricies Dignissim Lacus Foundation|[[watch, clock, and jewelry repair shops], [b], [take rate: 3.29]]                                               |10187291046 |\n",
      "|Enim Condimentum PC                 |[[music shops - musical instruments, pianos, and sheet music], [a], [take rate: 6.33]]                           |10192359162 |\n",
      "|Fusce Company                       |[[gift, card, novelty, and souvenir shops], [a], [take rate: 6.34]]                                              |10206519221 |\n",
      "|Aliquam Enim Incorporated           |[[computers, computer peripheral equipment, and software], [b], [take rate: 4.32]]                               |10255988167 |\n",
      "|Ipsum Primis Ltd                    |[[watch, clock, and jewelry repair shops], [c], [take rate: 2.39]]                                               |10264435225 |\n",
      "|Pede Ultrices Industries            |[[computer programming , data processing, and integrated systems design services], [a], [take rate: 5.71]]       |10279061213 |\n",
      "|Nunc Inc.                           |[[furniture, home furnishings and equipment shops, and manufacturers, except appliances], [a], [take rate: 6.61]]|10323485998 |\n",
      "|Facilisis Facilisis Corp.           |[[computers, computer peripheral equipment, and software], [a], [take rate: 6.34]]                               |10342410215 |\n",
      "|Odio Institute                      |[[equipment, tool, furniture, and appliance  rent al and leasing], [b], [take rate: 3.57]]                       |10346855916 |\n",
      "|Rutrum Justo Ltd                    |[[music shops - musical instruments, pianos, and sheet music], [b], [take rate: 3.63]]                           |10364012396 |\n",
      "|Tellus Foundation                   |[[artist supply and craft  shops], [b], [take rate: 3.17]]                                                       |10385011947 |\n",
      "|Sed Et Company                      |[[florists supplies, nursery stock, and flowers], [a], [take rate: 6.61]]                                        |10385163239 |\n",
      "|Id Ltd                              |[[computers, computer peripheral  equipment, and software], [a], [take rate: 5.54]]                              |10385250025 |\n",
      "|Consequat Foundation                |[[antique shops - sales, repairs, and restoration services], [a], [take rate: 6.93]]                             |10404542215 |\n",
      "|Sit Amet Nulla Corp.                |[[motor vehicle supplies and new parts], [b], [take rate: 4.97]]                                                 |10430380319 |\n",
      "|Massa Vestibulum Foundation         |[[motor vehicle supplies and new parts], [a], [take rate: 5.77]]                                                 |10441711491 |\n",
      "|Ut Consulting                       |[[gift, card, novelty, and souvenir shops], [c], [take rate: 2.95]]                                              |10462560289 |\n",
      "+------------------------------------+-----------------------------------------------------------------------------------------------------------------+------------+\n",
      "only showing top 20 rows\n",
      "\n"
     ]
    }
   ],
   "source": [
    "from pyspark.sql.functions import regexp_replace, lower\n",
    "\n",
    "# Clean up the 'tags' column\n",
    "tags_df = tags_df.withColumn('tags',\n",
    "                             lower(regexp_replace(regexp_replace(tags_df['tags'], r'\\(', '['), r'\\)', ']'))\n",
    "                            )\n",
    "\n",
    "tags_df.show(truncate = False)"
   ]
  },
  {
   "cell_type": "code",
   "execution_count": 4,
   "metadata": {},
   "outputs": [
    {
     "name": "stdout",
     "output_type": "stream",
     "text": [
      "+------------------------------------+------------+--------------------------------------------------------------------------------------+-------------+------------------+\n",
      "|merchant_name                       |merchant_abn|tags                                                                                  |revenue_level|take_rate         |\n",
      "+------------------------------------+------------+--------------------------------------------------------------------------------------+-------------+------------------+\n",
      "|Felis Limited                       |10023283211 |[furniture, home furnishings and equipment shops, and manufacturers, except appliances|, [e         |, [take rate: 0.18|\n",
      "|Arcu Ac Orci Corporation            |10142254217 |[cable, satellite, and other pay television and radio services                        |, [b         |, [take rate: 4.22|\n",
      "|Nunc Sed Company                    |10165489824 |[jewelry, watch, clock, and silverware shops                                          |, [b         |, [take rate: 4.40|\n",
      "|Ultricies Dignissim Lacus Foundation|10187291046 |[watch, clock, and jewelry repair shops                                               |, [b         |, [take rate: 3.29|\n",
      "|Enim Condimentum PC                 |10192359162 |[music shops - musical instruments, pianos, and sheet music                           |, [a         |, [take rate: 6.33|\n",
      "|Fusce Company                       |10206519221 |[gift, card, novelty, and souvenir shops                                              |, [a         |, [take rate: 6.34|\n",
      "|Aliquam Enim Incorporated           |10255988167 |[computers, computer peripheral equipment, and software                               |, [b         |, [take rate: 4.32|\n",
      "|Ipsum Primis Ltd                    |10264435225 |[watch, clock, and jewelry repair shops                                               |, [c         |, [take rate: 2.39|\n",
      "|Pede Ultrices Industries            |10279061213 |[computer programming , data processing, and integrated systems design services       |, [a         |, [take rate: 5.71|\n",
      "|Nunc Inc.                           |10323485998 |[furniture, home furnishings and equipment shops, and manufacturers, except appliances|, [a         |, [take rate: 6.61|\n",
      "|Facilisis Facilisis Corp.           |10342410215 |[computers, computer peripheral equipment, and software                               |, [a         |, [take rate: 6.34|\n",
      "|Odio Institute                      |10346855916 |[equipment, tool, furniture, and appliance  rent al and leasing                       |, [b         |, [take rate: 3.57|\n",
      "|Rutrum Justo Ltd                    |10364012396 |[music shops - musical instruments, pianos, and sheet music                           |, [b         |, [take rate: 3.63|\n",
      "|Tellus Foundation                   |10385011947 |[artist supply and craft  shops                                                       |, [b         |, [take rate: 3.17|\n",
      "|Sed Et Company                      |10385163239 |[florists supplies, nursery stock, and flowers                                        |, [a         |, [take rate: 6.61|\n",
      "|Id Ltd                              |10385250025 |[computers, computer peripheral  equipment, and software                              |, [a         |, [take rate: 5.54|\n",
      "|Consequat Foundation                |10404542215 |[antique shops - sales, repairs, and restoration services                             |, [a         |, [take rate: 6.93|\n",
      "|Sit Amet Nulla Corp.                |10430380319 |[motor vehicle supplies and new parts                                                 |, [b         |, [take rate: 4.97|\n",
      "|Massa Vestibulum Foundation         |10441711491 |[motor vehicle supplies and new parts                                                 |, [a         |, [take rate: 5.77|\n",
      "|Ut Consulting                       |10462560289 |[gift, card, novelty, and souvenir shops                                              |, [c         |, [take rate: 2.95|\n",
      "+------------------------------------+------------+--------------------------------------------------------------------------------------+-------------+------------------+\n",
      "only showing top 20 rows\n",
      "\n"
     ]
    }
   ],
   "source": [
    "from pyspark.sql.functions import split, regexp_replace, col\n",
    "\n",
    "# Split 'tags' column into the 3 components: 'tags', 'revenue_level' and 'take_rate'\n",
    "# 1. Rename column 'tags'\n",
    "tags_df = tags_df.withColumnRenamed('tags', 'tags_array')\n",
    "\n",
    "# 2. Remove [] on the 2 ends\n",
    "tags_df = tags_df.withColumn('tags_array', regexp_replace(col('tags_array'), r'^\\[|\\]$', ''))\n",
    "\n",
    "# 3. Split by ]\n",
    "split_col = split(col('tags_array'), r'\\]')\n",
    "\n",
    "# 4. Assign split into new columns\n",
    "tags_df = tags_df.withColumn('tags', split_col[0]) \\\n",
    "                 .withColumn('revenue_level', split_col[1]) \\\n",
    "                 .withColumn('take_rate', split_col[2])\n",
    "\n",
    "tags_df = tags_df.drop('tags_array')\n",
    "tags_df.show(truncate = False)"
   ]
  },
  {
   "cell_type": "code",
   "execution_count": 5,
   "metadata": {},
   "outputs": [
    {
     "name": "stderr",
     "output_type": "stream",
     "text": [
      "24/09/25 15:06:07 WARN GarbageCollectionMetrics: To enable non-built-in garbage collector(s) List(G1 Concurrent GC), users should configure it(them) to spark.eventLog.gcMetrics.youngGenerationGarbageCollectors or spark.eventLog.gcMetrics.oldGenerationGarbageCollectors\n"
     ]
    },
    {
     "name": "stdout",
     "output_type": "stream",
     "text": [
      "+------------------------------------+------------+---------------------------------------------------------------------------------+-------------+---------+\n",
      "|merchant_name                       |merchant_abn|tags                                                                             |revenue_level|take_rate|\n",
      "+------------------------------------+------------+---------------------------------------------------------------------------------+-------------+---------+\n",
      "|Felis Limited                       |10023283211 |furniture, home furnishings and equipment shops, manufacturers, except appliances|e            |0.18     |\n",
      "|Arcu Ac Orci Corporation            |10142254217 |cable, satellite, other pay television and radio services                        |b            |4.22     |\n",
      "|Nunc Sed Company                    |10165489824 |jewelry, watch, clock, silverware shops                                          |b            |4.4      |\n",
      "|Ultricies Dignissim Lacus Foundation|10187291046 |watch, clock, jewelry repair shops                                               |b            |3.29     |\n",
      "|Enim Condimentum PC                 |10192359162 |music shops - musical instruments, pianos, sheet music                           |a            |6.33     |\n",
      "|Fusce Company                       |10206519221 |gift, card, novelty, souvenir shops                                              |a            |6.34     |\n",
      "|Aliquam Enim Incorporated           |10255988167 |computers, computer peripheral equipment, software                               |b            |4.32     |\n",
      "|Ipsum Primis Ltd                    |10264435225 |watch, clock, jewelry repair shops                                               |c            |2.39     |\n",
      "|Pede Ultrices Industries            |10279061213 |computer programming, data processing, integrated systems design services        |a            |5.71     |\n",
      "|Nunc Inc.                           |10323485998 |furniture, home furnishings and equipment shops, manufacturers, except appliances|a            |6.61     |\n",
      "|Facilisis Facilisis Corp.           |10342410215 |computers, computer peripheral equipment, software                               |a            |6.34     |\n",
      "|Odio Institute                      |10346855916 |equipment, tool, furniture, appliance rent al and leasing                        |b            |3.57     |\n",
      "|Rutrum Justo Ltd                    |10364012396 |music shops - musical instruments, pianos, sheet music                           |b            |3.63     |\n",
      "|Tellus Foundation                   |10385011947 |artist supply and craft shops                                                    |b            |3.17     |\n",
      "|Sed Et Company                      |10385163239 |florists supplies, nursery stock, flowers                                        |a            |6.61     |\n",
      "|Id Ltd                              |10385250025 |computers, computer peripheral equipment, software                               |a            |5.54     |\n",
      "|Consequat Foundation                |10404542215 |antique shops - sales, repairs, restoration services                             |a            |6.93     |\n",
      "|Sit Amet Nulla Corp.                |10430380319 |motor vehicle supplies and new parts                                             |b            |4.97     |\n",
      "|Massa Vestibulum Foundation         |10441711491 |motor vehicle supplies and new parts                                             |a            |5.77     |\n",
      "|Ut Consulting                       |10462560289 |gift, card, novelty, souvenir shops                                              |c            |2.95     |\n",
      "+------------------------------------+------------+---------------------------------------------------------------------------------+-------------+---------+\n",
      "only showing top 20 rows\n",
      "\n"
     ]
    }
   ],
   "source": [
    "from pyspark.sql.functions import regexp_replace, col\n",
    "from pyspark.sql.types import DoubleType\n",
    "\n",
    "# Clean up all columns\n",
    "# 1. Clean up 'tags': Remove unnecessary characters + remove ', and'\n",
    "tags_df = tags_df.withColumn('tags', regexp_replace(col('tags'), r'\\[', '')) \\\n",
    "                 .withColumn('tags', regexp_replace(col('tags'), r'\\s+', ' ')) \\\n",
    "                 .withColumn('tags', regexp_replace(col('tags'), r'\\s,', ',')) \\\n",
    "                 .withColumn('tags', regexp_replace(col('tags'), r', and', ','))\n",
    "\n",
    "# 2. 'revenue_level': Only want the letter\n",
    "tags_df = tags_df.withColumn('revenue_level', regexp_replace(col('revenue_level'), r'[^a-zA-Z]', ''))\n",
    "\n",
    "# 3. 'take_rate': Only want the digits and cast to double\n",
    "tags_df = tags_df.withColumn('take_rate', regexp_replace(col('take_rate'), r'[^0-9.]', ''))\n",
    "tags_df = tags_df.withColumn('take_rate', col('take_rate').cast(DoubleType()))\n",
    "\n",
    "tags_df.show(truncate = False)"
   ]
  },
  {
   "cell_type": "code",
   "execution_count": 6,
   "metadata": {},
   "outputs": [
    {
     "name": "stdout",
     "output_type": "stream",
     "text": [
      "root\n",
      " |-- merchant_name: string (nullable = true)\n",
      " |-- merchant_abn: long (nullable = true)\n",
      " |-- tags: string (nullable = true)\n",
      " |-- revenue_level: string (nullable = true)\n",
      " |-- take_rate: double (nullable = true)\n",
      "\n"
     ]
    }
   ],
   "source": [
    "tags_df.printSchema()"
   ]
  },
  {
   "cell_type": "markdown",
   "metadata": {},
   "source": [
    "### Count number of each tag"
   ]
  },
  {
   "cell_type": "code",
   "execution_count": 8,
   "metadata": {},
   "outputs": [
    {
     "name": "stdout",
     "output_type": "stream",
     "text": [
      "Number of unique tags = 25\n",
      "Total count (should be equal to number of merchants) = 4026\n",
      "+---------------------------------------------------------------------------------+-----+-----+\n",
      "|tags                                                                             |count|index|\n",
      "+---------------------------------------------------------------------------------+-----+-----+\n",
      "|digital goods: books, movies, music                                              |195  |0    |\n",
      "|artist supply and craft shops                                                    |193  |1    |\n",
      "|computer programming, data processing, integrated systems design services        |191  |2    |\n",
      "|shoe shops                                                                       |185  |3    |\n",
      "|gift, card, novelty, souvenir shops                                              |182  |4    |\n",
      "|furniture, home furnishings and equipment shops, manufacturers, except appliances|182  |5    |\n",
      "|computers, computer peripheral equipment, software                               |181  |6    |\n",
      "|florists supplies, nursery stock, flowers                                        |180  |7    |\n",
      "|tent and awning shops                                                            |178  |8    |\n",
      "|cable, satellite, other pay television and radio services                        |175  |9    |\n",
      "|watch, clock, jewelry repair shops                                               |170  |10   |\n",
      "|bicycle shops - sales and service                                                |170  |11   |\n",
      "|music shops - musical instruments, pianos, sheet music                           |167  |12   |\n",
      "|books, periodicals, newspapers                                                   |164  |13   |\n",
      "|health and beauty spas                                                           |164  |14   |\n",
      "|stationery, office supplies and printing and writing paper                       |161  |15   |\n",
      "|lawn and garden supply outlets, including nurseries                              |153  |16   |\n",
      "|opticians, optical goods, eyeglasses                                             |151  |17   |\n",
      "|motor vehicle supplies and new parts                                             |151  |18   |\n",
      "|hobby, toy and game shops                                                        |142  |19   |\n",
      "|equipment, tool, furniture, appliance rent al and leasing                        |134  |20   |\n",
      "|antique shops - sales, repairs, restoration services                             |129  |21   |\n",
      "|telecom                                                                          |125  |22   |\n",
      "|art dealers and galleries                                                        |112  |23   |\n",
      "|jewelry, watch, clock, silverware shops                                          |91   |24   |\n",
      "+---------------------------------------------------------------------------------+-----+-----+\n",
      "\n"
     ]
    }
   ],
   "source": [
    "tag_counts_df = tags_df.groupBy('tags').count()\n",
    "\n",
    "tag_counts_df = tag_counts_df.orderBy('count', ascending = False)\n",
    "tag_counts_df = tag_counts_df.withColumn('index', F.monotonically_increasing_id())\n",
    "\n",
    "print(\"Number of unique tags =\", tag_counts_df.count())\n",
    "print(\"Total count (should be equal to number of merchants) =\", tag_counts_df.agg(F.sum('count')).collect()[0][0])\n",
    "tag_counts_df.show(n = tag_counts_df.count(), truncate = False)"
   ]
  },
  {
   "cell_type": "markdown",
   "metadata": {},
   "source": [
    "### Create industry segments"
   ]
  },
  {
   "cell_type": "code",
   "execution_count": 13,
   "metadata": {},
   "outputs": [
    {
     "name": "stderr",
     "output_type": "stream",
     "text": [
      "                                                                                \r"
     ]
    },
    {
     "name": "stdout",
     "output_type": "stream",
     "text": [
      "+---------------------------------------------------------------------------------+-----+-----+---------------------------+\n",
      "|tags                                                                             |count|index|segment                    |\n",
      "+---------------------------------------------------------------------------------+-----+-----+---------------------------+\n",
      "|digital goods: books, movies, music                                              |195  |0    |retail                     |\n",
      "|artist supply and craft shops                                                    |193  |1    |retail                     |\n",
      "|computer programming, data processing, integrated systems design services        |191  |2    |technology + media services|\n",
      "|shoe shops                                                                       |185  |3    |retail                     |\n",
      "|gift, card, novelty, souvenir shops                                              |182  |4    |retail                     |\n",
      "|furniture, home furnishings and equipment shops, manufacturers, except appliances|182  |5    |retail                     |\n",
      "|computers, computer peripheral equipment, software                               |181  |6    |retail                     |\n",
      "|florists supplies, nursery stock, flowers                                        |180  |7    |retail                     |\n",
      "|tent and awning shops                                                            |178  |8    |retail                     |\n",
      "|cable, satellite, other pay television and radio services                        |175  |9    |technology + media services|\n",
      "|watch, clock, jewelry repair shops                                               |170  |10   |luxury products + services |\n",
      "|bicycle shops - sales and service                                                |170  |11   |retail                     |\n",
      "|music shops - musical instruments, pianos, sheet music                           |167  |12   |retail                     |\n",
      "|books, periodicals, newspapers                                                   |164  |13   |retail                     |\n",
      "|health and beauty spas                                                           |164  |14   |health + beauty            |\n",
      "|stationery, office supplies and printing and writing paper                       |161  |15   |retail                     |\n",
      "|lawn and garden supply outlets, including nurseries                              |153  |16   |retail                     |\n",
      "|opticians, optical goods, eyeglasses                                             |151  |17   |health + beauty            |\n",
      "|motor vehicle supplies and new parts                                             |151  |18   |retail                     |\n",
      "|hobby, toy and game shops                                                        |142  |19   |retail                     |\n",
      "|equipment, tool, furniture, appliance rent al and leasing                        |134  |20   |rental services            |\n",
      "|antique shops - sales, repairs, restoration services                             |129  |21   |luxury products + services |\n",
      "|telecom                                                                          |125  |22   |technology + media services|\n",
      "|art dealers and galleries                                                        |112  |23   |luxury products + services |\n",
      "|jewelry, watch, clock, silverware shops                                          |91   |24   |luxury products + services |\n",
      "+---------------------------------------------------------------------------------+-----+-----+---------------------------+\n",
      "\n"
     ]
    }
   ],
   "source": [
    "# Mapping of each tag to their respective segment\n",
    "segment_mapping = {\"retail\": [0, 1, 3, 4, 5, 6, 7, 8, 11, 12, 13, 15, 16, 18, 19],\n",
    "                   \"technology + media services\": [2, 9, 22],\n",
    "                   \"health + beauty\": [14, 17],\n",
    "                   \"luxury products + services\": [10, 21, 23, 24],\n",
    "                   \"rental services\": [20]\n",
    "                   }\n",
    "\n",
    "# Assign segments\n",
    "segment_conditions = F.when(col(\"index\").isin(segment_mapping[\"retail\"]), \"retail\") \\\n",
    "                      .when(col(\"index\").isin(segment_mapping[\"technology + media services\"]), \"technology + media services\") \\\n",
    "                      .when(col(\"index\").isin(segment_mapping[\"health + beauty\"]), \"health + beauty\") \\\n",
    "                      .when(col(\"index\").isin(segment_mapping[\"luxury products + services\"]), \"luxury products + services\") \\\n",
    "                      .when(col(\"index\").isin(segment_mapping[\"rental services\"]), \"rental services\") \\\n",
    "                      .otherwise(\"Unknown\")\n",
    "\n",
    "tag_counts_df = tag_counts_df.withColumn(\"segment\", segment_conditions)\n",
    "tag_counts_df.show(n = tag_counts_df.count(), truncate = False)"
   ]
  },
  {
   "cell_type": "markdown",
   "metadata": {},
   "source": [
    "### Merge with tags_df"
   ]
  },
  {
   "cell_type": "code",
   "execution_count": 15,
   "metadata": {},
   "outputs": [
    {
     "name": "stdout",
     "output_type": "stream",
     "text": [
      "+---------------------------------------------------------------------------------+------------------------------------+------------+-------------+---------+---------------------------+\n",
      "|tags                                                                             |merchant_name                       |merchant_abn|revenue_level|take_rate|industry_segment           |\n",
      "+---------------------------------------------------------------------------------+------------------------------------+------------+-------------+---------+---------------------------+\n",
      "|furniture, home furnishings and equipment shops, manufacturers, except appliances|Felis Limited                       |10023283211 |e            |0.18     |retail                     |\n",
      "|cable, satellite, other pay television and radio services                        |Arcu Ac Orci Corporation            |10142254217 |b            |4.22     |technology + media services|\n",
      "|jewelry, watch, clock, silverware shops                                          |Nunc Sed Company                    |10165489824 |b            |4.4      |luxury products + services |\n",
      "|watch, clock, jewelry repair shops                                               |Ultricies Dignissim Lacus Foundation|10187291046 |b            |3.29     |luxury products + services |\n",
      "|music shops - musical instruments, pianos, sheet music                           |Enim Condimentum PC                 |10192359162 |a            |6.33     |retail                     |\n",
      "|gift, card, novelty, souvenir shops                                              |Fusce Company                       |10206519221 |a            |6.34     |retail                     |\n",
      "|computers, computer peripheral equipment, software                               |Aliquam Enim Incorporated           |10255988167 |b            |4.32     |retail                     |\n",
      "|watch, clock, jewelry repair shops                                               |Ipsum Primis Ltd                    |10264435225 |c            |2.39     |luxury products + services |\n",
      "|computer programming, data processing, integrated systems design services        |Pede Ultrices Industries            |10279061213 |a            |5.71     |technology + media services|\n",
      "|furniture, home furnishings and equipment shops, manufacturers, except appliances|Nunc Inc.                           |10323485998 |a            |6.61     |retail                     |\n",
      "|computers, computer peripheral equipment, software                               |Facilisis Facilisis Corp.           |10342410215 |a            |6.34     |retail                     |\n",
      "|equipment, tool, furniture, appliance rent al and leasing                        |Odio Institute                      |10346855916 |b            |3.57     |rental services            |\n",
      "|music shops - musical instruments, pianos, sheet music                           |Rutrum Justo Ltd                    |10364012396 |b            |3.63     |retail                     |\n",
      "|artist supply and craft shops                                                    |Tellus Foundation                   |10385011947 |b            |3.17     |retail                     |\n",
      "|florists supplies, nursery stock, flowers                                        |Sed Et Company                      |10385163239 |a            |6.61     |retail                     |\n",
      "|computers, computer peripheral equipment, software                               |Id Ltd                              |10385250025 |a            |5.54     |retail                     |\n",
      "|antique shops - sales, repairs, restoration services                             |Consequat Foundation                |10404542215 |a            |6.93     |luxury products + services |\n",
      "|motor vehicle supplies and new parts                                             |Sit Amet Nulla Corp.                |10430380319 |b            |4.97     |retail                     |\n",
      "|motor vehicle supplies and new parts                                             |Massa Vestibulum Foundation         |10441711491 |a            |5.77     |retail                     |\n",
      "|gift, card, novelty, souvenir shops                                              |Ut Consulting                       |10462560289 |c            |2.95     |retail                     |\n",
      "+---------------------------------------------------------------------------------+------------------------------------+------------+-------------+---------+---------------------------+\n",
      "only showing top 20 rows\n",
      "\n"
     ]
    }
   ],
   "source": [
    "tag_counts_df = tag_counts_df.withColumnRenamed(\"segment\", \"industry_segment\")\n",
    "\n",
    "# Join ON 'tags'\n",
    "tags_df = tags_df.join(tag_counts_df, on = \"tags\", how = \"left\")\n",
    "\n",
    "tags_df = tags_df.drop('count')\n",
    "tags_df = tags_df.drop('index')\n",
    "\n",
    "tags_df.show(truncate = False)"
   ]
  },
  {
   "cell_type": "markdown",
   "metadata": {},
   "source": [
    "## MERGE with TRANSACTIONS"
   ]
  },
  {
   "cell_type": "code",
   "execution_count": 17,
   "metadata": {},
   "outputs": [
    {
     "name": "stderr",
     "output_type": "stream",
     "text": [
      "                                                                                \r"
     ]
    },
    {
     "name": "stdout",
     "output_type": "stream",
     "text": [
      "Number of entries = 13614854\n"
     ]
    },
    {
     "name": "stderr",
     "output_type": "stream",
     "text": [
      "[Stage 106:>                                                        (0 + 1) / 1]\r"
     ]
    },
    {
     "name": "stdout",
     "output_type": "stream",
     "text": [
      "+-------+------------+------------------+--------------------+--------------+--------------------+-----------+----------------+--------------------+-----+--------+-----------+--------------------------+--------------------------+-------------+-------------+--------+----------------+----------------------+----------------+------------+--------------------+--------------------------+--------------------+--------+\n",
      "|user_id|merchant_abn|      dollar_value|            order_id|order_datetime|       merchant_name|consumer_id|            name|             address|state|postcode|     gender|consumer_fraud_probability|merchant_fraud_probability|LOCALITY_NAME|list_SA2_CODE|list_ERP|list_num_earners|list_total_income_($M)|list_mean_income|postcode_ERP|postcode_num_earners|postcode_total_income_($M)|postcode_mean_income|is_fraud|\n",
      "+-------+------------+------------------+--------------------+--------------+--------------------+-----------+----------------+--------------------+-----+--------+-----------+--------------------------+--------------------------+-------------+-------------+--------+----------------+----------------------+----------------+------------+--------------------+--------------------------+--------------------+--------+\n",
      "|  14938| 26445720989| 88.63173734040075|e4499d4f-c220-41e...|    2022-01-21|       Donec Limited|     267457|    Jasmine Ford|1309 Karen Extension|  NSW|    2625|Undisclosed|                       0.0|                       0.0| BELAS CORNER|  [101031016]|  [8381]|          [4609]|               [261.6]|       [56759.0]|        8381|                4609|                     261.6|             56759.0|   false|\n",
      "|      1| 77679081913|12.319478297985281|839f2e67-5da9-46d...|    2022-01-21|Nascetur Ridiculu...|    1195503|Yolanda Williams|413 Haney Gardens...|   WA|    6935|     Female|                       0.0|                       0.0|         NULL|         NULL|    NULL|            NULL|                  NULL|            NULL|        NULL|                NULL|                      NULL|                NULL|   false|\n",
      "|  14938| 94493496784|  59.1831788380221|2e449e20-3311-4b0...|    2022-01-21|Dictum Phasellus ...|     267457|    Jasmine Ford|1309 Karen Extension|  NSW|    2625|Undisclosed|                       0.0|                       0.0| BELAS CORNER|  [101031016]|  [8381]|          [4609]|               [261.6]|       [56759.0]|        8381|                4609|                     261.6|             56759.0|   false|\n",
      "|      2| 74046727484| 34.74087891165581|61ad6f2e-aab6-43e...|    2022-01-21|Vestibulum Accums...|     179208|      Mary Smith|     3764 Amber Oval|  NSW|    2782|     Female|                       0.0|                       0.0|   HAZELBROOK|  [124011455]|  [6376]|          [3601]|               [226.3]|       [62840.0]|        6376|                3601|                     226.3|             62840.0|   false|\n",
      "|  14938| 24852446429| 9.306002369907402|08cd7cfd-a33c-423...|    2022-01-21|      Erat Vitae LLP|     267457|    Jasmine Ford|1309 Karen Extension|  NSW|    2625|Undisclosed|                       0.0|                       0.0| BELAS CORNER|  [101031016]|  [8381]|          [4609]|               [261.6]|       [56759.0]|        8381|                4609|                     261.6|             56759.0|   false|\n",
      "+-------+------------+------------------+--------------------+--------------+--------------------+-----------+----------------+--------------------+-----+--------+-----------+--------------------------+--------------------------+-------------+-------------+--------+----------------+----------------------+----------------+------------+--------------------+--------------------------+--------------------+--------+\n",
      "only showing top 5 rows\n",
      "\n"
     ]
    },
    {
     "name": "stderr",
     "output_type": "stream",
     "text": [
      "                                                                                \r"
     ]
    }
   ],
   "source": [
    "trans_final_sdf = spark.read.parquet('../data/merged/merged_transactions_with_outliers.parquet')\n",
    "trans_final_sdf = trans_final_sdf.drop('tags')\n",
    "\n",
    "print(\"Number of entries =\", trans_final_sdf.count())\n",
    "trans_final_sdf.show(5)"
   ]
  },
  {
   "cell_type": "code",
   "execution_count": 20,
   "metadata": {},
   "outputs": [
    {
     "name": "stderr",
     "output_type": "stream",
     "text": [
      "                                                                                \r"
     ]
    },
    {
     "name": "stdout",
     "output_type": "stream",
     "text": [
      "Number of entries = 13614854\n"
     ]
    },
    {
     "name": "stderr",
     "output_type": "stream",
     "text": [
      "[Stage 145:>                                                        (0 + 1) / 1]\r"
     ]
    },
    {
     "name": "stdout",
     "output_type": "stream",
     "text": [
      "+-------+------------+------------------+--------------------+--------------+--------------------+-----------+----------------+--------------------+-----+--------+-----------+--------------------------+--------------------------+-------------+-------------+--------+----------------+----------------------+----------------+------------+--------------------+--------------------------+--------------------+--------+--------------------+-------------+---------+----------------+--------------------+--------------------+------------+-------------+---------+----------------+\n",
      "|user_id|merchant_abn|      dollar_value|            order_id|order_datetime|       merchant_name|consumer_id|            name|             address|state|postcode|     gender|consumer_fraud_probability|merchant_fraud_probability|LOCALITY_NAME|list_SA2_CODE|list_ERP|list_num_earners|list_total_income_($M)|list_mean_income|postcode_ERP|postcode_num_earners|postcode_total_income_($M)|postcode_mean_income|is_fraud|                tags|revenue_level|take_rate|industry_segment|                tags|       merchant_name|merchant_abn|revenue_level|take_rate|industry_segment|\n",
      "+-------+------------+------------------+--------------------+--------------+--------------------+-----------+----------------+--------------------+-----+--------+-----------+--------------------------+--------------------------+-------------+-------------+--------+----------------+----------------------+----------------+------------+--------------------+--------------------------+--------------------+--------+--------------------+-------------+---------+----------------+--------------------+--------------------+------------+-------------+---------+----------------+\n",
      "|  14938| 26445720989| 88.63173734040075|e4499d4f-c220-41e...|    2022-01-21|       Donec Limited|     267457|    Jasmine Ford|1309 Karen Extension|  NSW|    2625|Undisclosed|                       0.0|                       0.0| BELAS CORNER|  [101031016]|  [8381]|          [4609]|               [261.6]|       [56759.0]|        8381|                4609|                     261.6|             56759.0|   false|opticians, optica...|            b|     4.28| health + beauty|opticians, optica...|       Donec Limited| 26445720989|            b|     4.28| health + beauty|\n",
      "|      1| 77679081913|12.319478297985281|839f2e67-5da9-46d...|    2022-01-21|Nascetur Ridiculu...|    1195503|Yolanda Williams|413 Haney Gardens...|   WA|    6935|     Female|                       0.0|                       0.0|         NULL|         NULL|    NULL|            NULL|                  NULL|            NULL|        NULL|                NULL|                      NULL|                NULL|   false|artist supply and...|            b|     3.36|          retail|artist supply and...|Nascetur Ridiculu...| 77679081913|            b|     3.36|          retail|\n",
      "|  14938| 94493496784|  59.1831788380221|2e449e20-3311-4b0...|    2022-01-21|Dictum Phasellus ...|     267457|    Jasmine Ford|1309 Karen Extension|  NSW|    2625|Undisclosed|                       0.0|                       0.0| BELAS CORNER|  [101031016]|  [8381]|          [4609]|               [261.6]|       [56759.0]|        8381|                4609|                     261.6|             56759.0|   false|gift, card, novel...|            a|     5.65|          retail|gift, card, novel...|Dictum Phasellus ...| 94493496784|            a|     5.65|          retail|\n",
      "|      2| 74046727484| 34.74087891165581|61ad6f2e-aab6-43e...|    2022-01-21|Vestibulum Accums...|     179208|      Mary Smith|     3764 Amber Oval|  NSW|    2782|     Female|                       0.0|                       0.0|   HAZELBROOK|  [124011455]|  [6376]|          [3601]|               [226.3]|       [62840.0]|        6376|                3601|                     226.3|             62840.0|   false|gift, card, novel...|            b|      5.1|          retail|gift, card, novel...|Vestibulum Accums...| 74046727484|            b|      5.1|          retail|\n",
      "|  14938| 24852446429| 9.306002369907402|08cd7cfd-a33c-423...|    2022-01-21|      Erat Vitae LLP|     267457|    Jasmine Ford|1309 Karen Extension|  NSW|    2625|Undisclosed|                       0.0|                       0.0| BELAS CORNER|  [101031016]|  [8381]|          [4609]|               [261.6]|       [56759.0]|        8381|                4609|                     261.6|             56759.0|   false|florists supplies...|            c|     2.94|          retail|florists supplies...|      Erat Vitae LLP| 24852446429|            c|     2.94|          retail|\n",
      "+-------+------------+------------------+--------------------+--------------+--------------------+-----------+----------------+--------------------+-----+--------+-----------+--------------------------+--------------------------+-------------+-------------+--------+----------------+----------------------+----------------+------------+--------------------+--------------------------+--------------------+--------+--------------------+-------------+---------+----------------+--------------------+--------------------+------------+-------------+---------+----------------+\n",
      "only showing top 5 rows\n",
      "\n"
     ]
    },
    {
     "name": "stderr",
     "output_type": "stream",
     "text": [
      "                                                                                \r"
     ]
    }
   ],
   "source": [
    "trans_final_sdf = trans_final_sdf.join(F.broadcast(tags_df),\n",
    "                                       trans_final_sdf.merchant_abn == tags_df.merchant_abn,\n",
    "                                       how = 'left'\n",
    "                                       ).drop(tags_df.merchant_abn, tags_df.merchant_name)\n",
    "\n",
    "print(\"Number of entries =\", trans_final_sdf.count())\n",
    "trans_final_sdf.show(5)"
   ]
  },
  {
   "cell_type": "code",
   "execution_count": 19,
   "metadata": {},
   "outputs": [
    {
     "name": "stdout",
     "output_type": "stream",
     "text": [
      "root\n",
      " |-- user_id: long (nullable = true)\n",
      " |-- merchant_abn: long (nullable = true)\n",
      " |-- dollar_value: double (nullable = true)\n",
      " |-- order_id: string (nullable = true)\n",
      " |-- order_datetime: date (nullable = true)\n",
      " |-- merchant_name: string (nullable = true)\n",
      " |-- consumer_id: long (nullable = true)\n",
      " |-- name: string (nullable = true)\n",
      " |-- address: string (nullable = true)\n",
      " |-- state: string (nullable = true)\n",
      " |-- postcode: integer (nullable = true)\n",
      " |-- gender: string (nullable = true)\n",
      " |-- consumer_fraud_probability: double (nullable = true)\n",
      " |-- merchant_fraud_probability: double (nullable = true)\n",
      " |-- LOCALITY_NAME: string (nullable = true)\n",
      " |-- list_SA2_CODE: array (nullable = true)\n",
      " |    |-- element: integer (containsNull = true)\n",
      " |-- list_ERP: array (nullable = true)\n",
      " |    |-- element: integer (containsNull = true)\n",
      " |-- list_num_earners: array (nullable = true)\n",
      " |    |-- element: integer (containsNull = true)\n",
      " |-- list_total_income_($M): array (nullable = true)\n",
      " |    |-- element: double (containsNull = true)\n",
      " |-- list_mean_income: array (nullable = true)\n",
      " |    |-- element: double (containsNull = true)\n",
      " |-- postcode_ERP: integer (nullable = true)\n",
      " |-- postcode_num_earners: integer (nullable = true)\n",
      " |-- postcode_total_income_($M): double (nullable = true)\n",
      " |-- postcode_mean_income: double (nullable = true)\n",
      " |-- is_fraud: boolean (nullable = true)\n",
      " |-- tags: string (nullable = true)\n",
      " |-- merchant_name: string (nullable = true)\n",
      " |-- revenue_level: string (nullable = true)\n",
      " |-- take_rate: double (nullable = true)\n",
      " |-- industry_segment: string (nullable = true)\n",
      "\n"
     ]
    }
   ],
   "source": [
    "trans_final_sdf.printSchema()"
   ]
  }
 ],
 "metadata": {
  "kernelspec": {
   "display_name": ".venv",
   "language": "python",
   "name": "python3"
  },
  "language_info": {
   "codemirror_mode": {
    "name": "ipython",
    "version": 3
   },
   "file_extension": ".py",
   "mimetype": "text/x-python",
   "name": "python",
   "nbconvert_exporter": "python",
   "pygments_lexer": "ipython3",
   "version": "3.10.15"
  }
 },
 "nbformat": 4,
 "nbformat_minor": 2
}
