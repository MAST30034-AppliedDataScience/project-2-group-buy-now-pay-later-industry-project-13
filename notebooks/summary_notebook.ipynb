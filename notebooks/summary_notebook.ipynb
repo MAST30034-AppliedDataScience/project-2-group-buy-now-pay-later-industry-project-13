{
 "cells": [
  {
   "cell_type": "markdown",
   "metadata": {},
   "source": [
    "## This is the summary notebook for Buy now pay later project (group 13)"
   ]
  },
  {
   "cell_type": "markdown",
   "metadata": {},
   "source": [
    "### Overall approach taken"
   ]
  },
  {
   "cell_type": "markdown",
   "metadata": {},
   "source": [
    "### Issues that we ran into:\n",
    "1. Models used had overwhelmingly long run time. Thus, there was less time available for fine-tuning and tweaking of the models\n"
   ]
  },
  {
   "cell_type": "markdown",
   "metadata": {},
   "source": [
    "### Limitations and assumptions made"
   ]
  },
  {
   "cell_type": "markdown",
   "metadata": {},
   "source": [
    "#### Limitations:\n",
    "1. Results completely dependent on accuracy and completeness of given dataset\n",
    "2. BNPL space continueally changing -> merchants and/or customers trends and behaviors can change and impact merchants' value over time\n",
    "3. Segments were arbitrarily produced based on tags, which may not be the most accurate representation of merchants "
   ]
  },
  {
   "cell_type": "markdown",
   "metadata": {},
   "source": [
    "#### Assumptions made:\n",
    "1. Datasets given are accurate and complete\n",
    "2. Information on industry segments were not given\n",
    "3. There are sufficient computational resources to run all models in a timely manner"
   ]
  }
 ],
 "metadata": {
  "language_info": {
   "name": "python"
  }
 },
 "nbformat": 4,
 "nbformat_minor": 2
}
