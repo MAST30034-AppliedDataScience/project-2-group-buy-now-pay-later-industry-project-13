{
 "cells": [
  {
   "cell_type": "code",
   "execution_count": 1,
   "metadata": {},
   "outputs": [
    {
     "name": "stderr",
     "output_type": "stream",
     "text": [
      "your 131072x1 screen size is bogus. expect trouble\n",
      "24/10/01 20:43:48 WARN Utils: Your hostname, AshwinHPEnvy resolves to a loopback address: 127.0.1.1; using 10.255.255.254 instead (on interface lo)\n",
      "24/10/01 20:43:48 WARN Utils: Set SPARK_LOCAL_IP if you need to bind to another address\n",
      "Setting default log level to \"WARN\".\n",
      "To adjust logging level use sc.setLogLevel(newLevel). For SparkR, use setLogLevel(newLevel).\n",
      "24/10/01 20:43:48 WARN NativeCodeLoader: Unable to load native-hadoop library for your platform... using builtin-java classes where applicable\n"
     ]
    }
   ],
   "source": [
    "from pyspark.sql import SparkSession, functions as F\n",
    "\n",
    "# Create a spark session (which will run spark jobs)\n",
    "spark = (\n",
    "    SparkSession.builder.appName(\"MAST30034 Project 2\")\n",
    "    .config(\"spark.sql.repl.eagerEval.enabled\", True) \n",
    "    .config(\"spark.sql.parquet.cacheMetadata\", \"true\")\n",
    "    .config(\"spark.sql.session.timeZone\", \"Etc/UTC\")\n",
    "    .config(\"spark.executor.memory\", \"8g\")\n",
    "    .config(\"spark.driver.memory\", \"8g\")\n",
    "    .getOrCreate()\n",
    ")"
   ]
  },
  {
   "cell_type": "code",
   "execution_count": 2,
   "metadata": {},
   "outputs": [
    {
     "name": "stderr",
     "output_type": "stream",
     "text": [
      "                                                                                \r"
     ]
    }
   ],
   "source": [
    "revenue_sdf = (spark.read\n",
    "    .option(\"header\", \"true\")\n",
    "    .option(\"inferSchema\", \"true\")\n",
    "    .option(\"delimiter\", \",\")   \n",
    "    .csv(\"../data/curated/revenue.csv\"))\n",
    "\n",
    "customer_sdf = spark.read.parquet(\"../data/top_200_customer/*\")\n",
    "\n",
    "trans_final_sdf = spark.read.parquet('../data/merged/merged_transactions_with_tags.parquet')\n"
   ]
  },
  {
   "cell_type": "code",
   "execution_count": 3,
   "metadata": {},
   "outputs": [
    {
     "name": "stdout",
     "output_type": "stream",
     "text": [
      "+------------+----+----+-------------+---------------------------------------------------------------------------------+------------------+----------+------------+-----------------+---------+-------------+--------------------+----------------------------------+----------------------------------+-----------+------------------+\n",
      "|merchant_abn|week|year|merchant_name|description                                                                      |revenue           |male_count|female_count|undisclosed_count|num_trans|num_postcodes|num_unique_customers|average_consumer_fraud_probability|average_merchant_fraud_probability|fraud_count|mean_trans_val    |\n",
      "+------------+----+----+-------------+---------------------------------------------------------------------------------+------------------+----------+------------+-----------------+---------+-------------+--------------------+----------------------------------+----------------------------------+-----------+------------------+\n",
      "|10023283211 |8   |2021|Felis Limited|furniture, home furnishings and equipment shops, manufacturers, except appliances|701.5666382388256 |0         |3           |0                |3        |3            |3                   |0.0                               |0.0                               |0          |233.85554607960853|\n",
      "|10023283211 |9   |2021|Felis Limited|furniture, home furnishings and equipment shops, manufacturers, except appliances|6362.419840083083 |10        |14          |3                |27       |27           |27                  |0.0                               |0.0                               |0          |235.6451792623364 |\n",
      "|10023283211 |10  |2021|Felis Limited|furniture, home furnishings and equipment shops, manufacturers, except appliances|4706.012141334873 |12        |10          |1                |23       |23           |23                  |0.0                               |0.0                               |0          |204.60922353629886|\n",
      "|10023283211 |11  |2021|Felis Limited|furniture, home furnishings and equipment shops, manufacturers, except appliances|3536.8435527408296|10        |4           |3                |17       |17           |17                  |0.0                               |0.0                               |0          |208.04962074946056|\n",
      "|10023283211 |12  |2021|Felis Limited|furniture, home furnishings and equipment shops, manufacturers, except appliances|6796.619996449568 |16        |14          |0                |30       |30           |30                  |0.0                               |0.0                               |0          |226.55399988165226|\n",
      "+------------+----+----+-------------+---------------------------------------------------------------------------------+------------------+----------+------------+-----------------+---------+-------------+--------------------+----------------------------------+----------------------------------+-----------+------------------+\n",
      "only showing top 5 rows\n",
      "\n",
      "+------------+--------------+--------------------------+--------------------------+\n",
      "|merchant_abn|order_datetime|total_cumulative_customers|total_new_unique_customers|\n",
      "+------------+--------------+--------------------------+--------------------------+\n",
      "|63290521567 |2021-02-28    |238                       |238                       |\n",
      "|63290521567 |2021-03-01    |442                       |204                       |\n",
      "|63290521567 |2021-03-02    |631                       |189                       |\n",
      "|63290521567 |2021-03-03    |844                       |213                       |\n",
      "|63290521567 |2021-03-04    |1052                      |208                       |\n",
      "+------------+--------------+--------------------------+--------------------------+\n",
      "only showing top 5 rows\n",
      "\n"
     ]
    },
    {
     "name": "stderr",
     "output_type": "stream",
     "text": [
      "24/10/01 20:44:00 WARN SparkStringUtils: Truncated the string representation of a plan since it was too large. This behavior can be adjusted by setting 'spark.sql.debug.maxToStringFields'.\n",
      "[Stage 7:>                                                          (0 + 1) / 1]\r"
     ]
    },
    {
     "name": "stdout",
     "output_type": "stream",
     "text": [
      "+---------------------------------------------------------+-------+------------+------------------+------------------------------------+--------------+-------------------------+-----------+--------------+---------------------------+-----+--------+------+--------------------------+--------------------------+--------------------+------------------------------------------------------------------------------------------------------------------------------------+------------------------------------------------------------------------+----------------------------------------------------------------------+------------------------------------------------------------------------------------------------------------+---------------------------------------------------------------------------------------------------------------------------------+------------+--------------------+--------------------------+--------------------+--------+------------+---------+----------------+\n",
      "|description                                              |user_id|merchant_abn|dollar_value      |order_id                            |order_datetime|merchant_name            |consumer_id|name          |address                    |state|postcode|gender|consumer_fraud_probability|merchant_fraud_probability|LOCALITY_NAME       |list_SA2_CODE                                                                                                                       |list_ERP                                                                |list_num_earners                                                      |list_total_income_($M)                                                                                      |list_mean_income                                                                                                                 |postcode_ERP|postcode_num_earners|postcode_total_income_($M)|postcode_mean_income|is_fraud|revenue_band|take_rate|industry_segment|\n",
      "+---------------------------------------------------------+-------+------------+------------------+------------------------------------+--------------+-------------------------+-----------+--------------+---------------------------+-----+--------+------+--------------------------+--------------------------+--------------------+------------------------------------------------------------------------------------------------------------------------------------+------------------------------------------------------------------------+----------------------------------------------------------------------+------------------------------------------------------------------------------------------------------------+---------------------------------------------------------------------------------------------------------------------------------+------------+--------------------+--------------------------+--------------------+--------+------------+---------+----------------+\n",
      "|equipment, tool, furniture, appliance rent al and leasing|68     |53600852724 |1010.0082862689014|1b6452ea-b8d3-4980-9db0-e14c0fe62b00|2022-08-20    |Laoreet Lectus LLC       |1462700    |Ryan Wagner   |6571 Heather Plains        |VIC  |3334    |Male  |0.0                       |0.0                       |BUNGAL              |[201021012]                                                                                                                         |[6408]                                                                  |[3648]                                                                |[224.3]                                                                                                     |[61475.0]                                                                                                                        |6408        |3648                |224.3                     |61475.0             |false   |c           |1.73     |rental services |\n",
      "|equipment, tool, furniture, appliance rent al and leasing|136    |96834893748 |36.8104414386733  |8c96716a-167c-4ea1-9833-1069b1e162f0|2022-08-20    |Quam A Felis Incorporated|956422     |Todd Edwards  |1664 Troy Parkways Apt. 729|NSW  |2540    |Male  |0.0                       |0.0                       |ABRAHAMS BOSOM BEACH|[901031003, 114011283, 114011280, 114011272, 114011276, 114011273, 114011277, 114011274, 114011281, 114011278, 114011275, 114011279]|[307, 5871, 4758, 9380, 4962, 3594, 16348, 5004, 3744, 23354, 62, 15238]|[289, 2986, 1970, 5167, 2852, 1890, 8519, 2613, 2137, 10024, 62, 6833]|[19.584500000000027, 141.4, 86.6, 320.9, 170.3, 100.1, 480.2, 133.8, 118.8, 546.2, 7.605000000000021, 321.2]|[67766.43598615925, 47370.0, 43982.0, 62103.0, 59713.0, 52953.0, 56373.0, 51224.0, 55597.0, 54485.0, 122661.29032258097, 47002.0]|92622       |45342               |2446.6895                 |53960.77588108156   |false   |c           |2.64     |rental services |\n",
      "|equipment, tool, furniture, appliance rent al and leasing|11396  |82812059627 |32.55695529600701 |329dd9f4-d566-4588-891e-77ccff5f854e|2022-08-20    |Fermentum Institute      |1331987    |Alexis Miller |29122 Kidd Walk            |NSW  |1144    |Female|0.0                       |0.0                       |NULL                |NULL                                                                                                                                |NULL                                                                    |NULL                                                                  |NULL                                                                                                        |NULL                                                                                                                             |NULL        |NULL                |NULL                      |NULL                |false   |a           |6.23     |rental services |\n",
      "|equipment, tool, furniture, appliance rent al and leasing|11449  |96834893748 |39.673088786269   |eaf56081-b963-4060-9f8b-17990ce86f73|2022-08-20    |Quam A Felis Incorporated|1493307    |Cindy Clark   |25895 Tyler Vista Suite 832|WA   |6243    |Female|0.0                       |0.0                       |WEST WILGA          |[501031017, 501031018]                                                                                                              |[7617, 6438]                                                            |[3768, 3597]                                                          |[209.4, 196.8]                                                                                              |[55582.0, 54702.0]                                                                                                               |14055       |7365                |406.20000000000005        |55152.74949083504   |false   |c           |2.64     |rental services |\n",
      "|equipment, tool, furniture, appliance rent al and leasing|634    |46887242827 |111.74648908596426|4c077f43-8bb1-4cfe-98cf-aa4d3c10856f|2022-08-20    |Sollicitudin PC          |1001834    |Norman Bernard|9797 Paul Parks            |TAS  |7139    |Male  |0.0                       |0.0                       |STRATHGORDON        |[603011068]                                                                                                                         |[7]                                                                     |[7]                                                                   |[5.1395000000000035]                                                                                        |[734214.2857142863]                                                                                                              |7           |7                   |5.1395000000000035        |734214.2857142863   |false   |c           |2.43     |rental services |\n",
      "+---------------------------------------------------------+-------+------------+------------------+------------------------------------+--------------+-------------------------+-----------+--------------+---------------------------+-----+--------+------+--------------------------+--------------------------+--------------------+------------------------------------------------------------------------------------------------------------------------------------+------------------------------------------------------------------------+----------------------------------------------------------------------+------------------------------------------------------------------------------------------------------------+---------------------------------------------------------------------------------------------------------------------------------+------------+--------------------+--------------------------+--------------------+--------+------------+---------+----------------+\n",
      "only showing top 5 rows\n",
      "\n"
     ]
    },
    {
     "name": "stderr",
     "output_type": "stream",
     "text": [
      "                                                                                \r"
     ]
    }
   ],
   "source": [
    "revenue_sdf.show(5, truncate=False)\n",
    "\n",
    "customer_sdf.show(5, truncate=False)\n",
    "\n",
    "trans_final_sdf.show(5, truncate=False)"
   ]
  },
  {
   "cell_type": "code",
   "execution_count": 4,
   "metadata": {},
   "outputs": [
    {
     "name": "stdout",
     "output_type": "stream",
     "text": [
      "root\n",
      " |-- merchant_abn: long (nullable = true)\n",
      " |-- week: integer (nullable = true)\n",
      " |-- year: integer (nullable = true)\n",
      " |-- merchant_name: string (nullable = true)\n",
      " |-- description: string (nullable = true)\n",
      " |-- revenue: double (nullable = true)\n",
      " |-- male_count: integer (nullable = true)\n",
      " |-- female_count: integer (nullable = true)\n",
      " |-- undisclosed_count: integer (nullable = true)\n",
      " |-- num_trans: integer (nullable = true)\n",
      " |-- num_postcodes: integer (nullable = true)\n",
      " |-- num_unique_customers: integer (nullable = true)\n",
      " |-- average_consumer_fraud_probability: double (nullable = true)\n",
      " |-- average_merchant_fraud_probability: double (nullable = true)\n",
      " |-- fraud_count: integer (nullable = true)\n",
      " |-- mean_trans_val: double (nullable = true)\n",
      "\n",
      "root\n",
      " |-- merchant_abn: long (nullable = true)\n",
      " |-- order_datetime: date (nullable = true)\n",
      " |-- total_cumulative_customers: integer (nullable = true)\n",
      " |-- total_new_unique_customers: long (nullable = true)\n",
      "\n"
     ]
    }
   ],
   "source": [
    "revenue_sdf.printSchema()\n",
    "customer_sdf.printSchema()"
   ]
  },
  {
   "cell_type": "code",
   "execution_count": 5,
   "metadata": {},
   "outputs": [
    {
     "name": "stdout",
     "output_type": "stream",
     "text": [
      "root\n",
      " |-- description: string (nullable = true)\n",
      " |-- user_id: long (nullable = true)\n",
      " |-- merchant_abn: long (nullable = true)\n",
      " |-- dollar_value: double (nullable = true)\n",
      " |-- order_id: string (nullable = true)\n",
      " |-- order_datetime: date (nullable = true)\n",
      " |-- merchant_name: string (nullable = true)\n",
      " |-- consumer_id: long (nullable = true)\n",
      " |-- name: string (nullable = true)\n",
      " |-- address: string (nullable = true)\n",
      " |-- state: string (nullable = true)\n",
      " |-- postcode: integer (nullable = true)\n",
      " |-- gender: string (nullable = true)\n",
      " |-- consumer_fraud_probability: double (nullable = true)\n",
      " |-- merchant_fraud_probability: double (nullable = true)\n",
      " |-- LOCALITY_NAME: string (nullable = true)\n",
      " |-- list_SA2_CODE: array (nullable = true)\n",
      " |    |-- element: integer (containsNull = true)\n",
      " |-- list_ERP: array (nullable = true)\n",
      " |    |-- element: integer (containsNull = true)\n",
      " |-- list_num_earners: array (nullable = true)\n",
      " |    |-- element: integer (containsNull = true)\n",
      " |-- list_total_income_($M): array (nullable = true)\n",
      " |    |-- element: double (containsNull = true)\n",
      " |-- list_mean_income: array (nullable = true)\n",
      " |    |-- element: double (containsNull = true)\n",
      " |-- postcode_ERP: integer (nullable = true)\n",
      " |-- postcode_num_earners: integer (nullable = true)\n",
      " |-- postcode_total_income_($M): double (nullable = true)\n",
      " |-- postcode_mean_income: double (nullable = true)\n",
      " |-- is_fraud: boolean (nullable = true)\n",
      " |-- revenue_band: string (nullable = true)\n",
      " |-- take_rate: double (nullable = true)\n",
      " |-- industry_segment: string (nullable = true)\n",
      "\n"
     ]
    }
   ],
   "source": [
    "trans_final_sdf.printSchema()"
   ]
  },
  {
   "cell_type": "code",
   "execution_count": 6,
   "metadata": {},
   "outputs": [
    {
     "name": "stderr",
     "output_type": "stream",
     "text": [
      "[Stage 12:>                                                         (0 + 1) / 1]\r"
     ]
    },
    {
     "name": "stdout",
     "output_type": "stream",
     "text": [
      "+------------+--------------------------+\n",
      "|merchant_abn|total_cumulative_customers|\n",
      "+------------+--------------------------+\n",
      "| 63290521567|                     24068|\n",
      "| 80324045558|                     24076|\n",
      "| 68216911708|                     24065|\n",
      "| 21439773999|                     23914|\n",
      "| 89726005175|                     24079|\n",
      "| 64403598239|                     23875|\n",
      "| 43186523025|                     24076|\n",
      "| 72472909171|                     23747|\n",
      "| 45629217853|                     24081|\n",
      "| 79417999332|                     23731|\n",
      "| 94493496784|                     23660|\n",
      "| 60956456424|                     23499|\n",
      "| 32361057556|                     23396|\n",
      "| 46804135891|                     24079|\n",
      "| 91923722701|                     23193|\n",
      "| 96152467973|                     22661|\n",
      "| 57900494384|                     22627|\n",
      "| 82065156333|                     22336|\n",
      "| 49505931725|                     22686|\n",
      "| 19933438190|                     22671|\n",
      "+------------+--------------------------+\n",
      "only showing top 20 rows\n",
      "\n"
     ]
    },
    {
     "name": "stderr",
     "output_type": "stream",
     "text": [
      "                                                                                \r"
     ]
    }
   ],
   "source": [
    "# Find the latest order_datetime\n",
    "latest_date = customer_sdf.select(F.max(\"order_datetime\")).collect()[0][0]\n",
    "\n",
    "# Filter the dataframe to get entries with the latest order_datetime\n",
    "latest_customers_df = customer_sdf.filter(customer_sdf[\"order_datetime\"] == latest_date)\n",
    "\n",
    "# Select the required columns: merchant_abn, total_cumulative_customers\n",
    "latest_customers_df.select(\"merchant_abn\", \"total_cumulative_customers\").show()"
   ]
  },
  {
   "cell_type": "code",
   "execution_count": 7,
   "metadata": {},
   "outputs": [
    {
     "name": "stderr",
     "output_type": "stream",
     "text": [
      "                                                                                \r"
     ]
    },
    {
     "name": "stdout",
     "output_type": "stream",
     "text": [
      "[datetime.date(2022, 10, 26), datetime.date(2022, 10, 26)]\n"
     ]
    }
   ],
   "source": [
    "latest_date_cust = customer_sdf.select(F.max(\"order_datetime\")).collect()[0][0]\n",
    "latest_date_trans = trans_final_sdf.select(F.max(\"order_datetime\")).collect()[0][0]\n",
    "\n",
    "print([latest_date_cust, latest_date_trans])"
   ]
  },
  {
   "cell_type": "code",
   "execution_count": 20,
   "metadata": {},
   "outputs": [
    {
     "name": "stderr",
     "output_type": "stream",
     "text": [
      "                                                                                \r"
     ]
    },
    {
     "name": "stdout",
     "output_type": "stream",
     "text": [
      "200\n"
     ]
    },
    {
     "name": "stderr",
     "output_type": "stream",
     "text": [
      "                                                                                \r"
     ]
    },
    {
     "name": "stdout",
     "output_type": "stream",
     "text": [
      "200\n",
      "Revenue Data:\n"
     ]
    },
    {
     "name": "stderr",
     "output_type": "stream",
     "text": [
      "                                                                                \r"
     ]
    },
    {
     "name": "stdout",
     "output_type": "stream",
     "text": [
      "+------------+----------+\n",
      "|merchant_abn|fraud_rate|\n",
      "+------------+----------+\n",
      "|10648956813 |0.0       |\n",
      "|15560455575 |0.0       |\n",
      "|16644129035 |0.0       |\n",
      "|14492521225 |0.0       |\n",
      "|11439466003 |0.0       |\n",
      "+------------+----------+\n",
      "only showing top 5 rows\n",
      "\n"
     ]
    },
    {
     "name": "stderr",
     "output_type": "stream",
     "text": [
      "                                                                                \r"
     ]
    },
    {
     "name": "stdout",
     "output_type": "stream",
     "text": [
      "200\n",
      "Cumulative Data:\n"
     ]
    },
    {
     "name": "stderr",
     "output_type": "stream",
     "text": [
      "                                                                                \r"
     ]
    },
    {
     "name": "stdout",
     "output_type": "stream",
     "text": [
      "+------------+---------------------+--------------------------+\n",
      "|merchant_abn|cumulative_revenue_6m|cumulative_transactions_6m|\n",
      "+------------+---------------------+--------------------------+\n",
      "|83412691377 |167701.22576018586   |4853                      |\n",
      "|10648956813 |472832.5424789102    |7329                      |\n",
      "|86662713230 |375492.4969336751    |7141                      |\n",
      "|62191208634 |477967.0756249253    |5489                      |\n",
      "|27093785141 |3230303.510783694    |8677                      |\n",
      "+------------+---------------------+--------------------------+\n",
      "only showing top 5 rows\n",
      "\n"
     ]
    },
    {
     "name": "stderr",
     "output_type": "stream",
     "text": [
      "                                                                                \r"
     ]
    },
    {
     "name": "stdout",
     "output_type": "stream",
     "text": [
      "200\n",
      "Latest Customers:\n",
      "+------------+--------------------------+\n",
      "|merchant_abn|total_cumulative_customers|\n",
      "+------------+--------------------------+\n",
      "|63290521567 |24068                     |\n",
      "|80324045558 |24076                     |\n",
      "|68216911708 |24065                     |\n",
      "|21439773999 |23914                     |\n",
      "|89726005175 |24079                     |\n",
      "+------------+--------------------------+\n",
      "only showing top 5 rows\n",
      "\n"
     ]
    },
    {
     "name": "stderr",
     "output_type": "stream",
     "text": [
      "                                                                                \r"
     ]
    },
    {
     "name": "stdout",
     "output_type": "stream",
     "text": [
      "200\n",
      "Industry Segment Popularity:\n"
     ]
    },
    {
     "name": "stderr",
     "output_type": "stream",
     "text": [
      "[Stage 427:=======>                                               (2 + 12) / 14]\r"
     ]
    },
    {
     "name": "stdout",
     "output_type": "stream",
     "text": [
      "+---------------------------+--------------------+\n",
      "|industry_segment           |segment_popularity  |\n",
      "+---------------------------+--------------------+\n",
      "|rental services            |0.033283656234475906|\n",
      "|retail                     |0.6418281172379533  |\n",
      "|luxury products + services |0.12468951813214109 |\n",
      "|health + beauty            |0.07824143070044709 |\n",
      "|technology + media services|0.12195727769498262 |\n",
      "+---------------------------+--------------------+\n",
      "\n"
     ]
    },
    {
     "name": "stderr",
     "output_type": "stream",
     "text": [
      "                                                                                \r"
     ]
    }
   ],
   "source": [
    "from pyspark.sql.window import Window\n",
    "\n",
    "# Filter merchants from customer_sdf\n",
    "merchant_abn_list = customer_sdf.select(\"merchant_abn\").distinct()\n",
    "\n",
    "# 1) Get Take Rate and Industry Segment from trans_final_sdf\n",
    "trans_data = trans_final_sdf \\\n",
    "    .select(\"merchant_abn\", \"take_rate\", \"industry_segment\") \\\n",
    "    .join(merchant_abn_list, \"merchant_abn\", \"inner\") \\\n",
    "    .dropDuplicates([\"merchant_abn\"])\n",
    "\n",
    "# 2) Calculate Fraud Rate from revenue_sdf\n",
    "revenue_data = revenue_sdf \\\n",
    "    .withColumn(\"fraud_rate\", F.col(\"fraud_count\") / F.col(\"num_trans\")) \\\n",
    "    .select(\"merchant_abn\", \"fraud_rate\") \\\n",
    "    .join(merchant_abn_list, \"merchant_abn\", \"inner\") \\\n",
    "    .dropDuplicates([\"merchant_abn\"])\n",
    "\n",
    "\n",
    "# 3) Cumulative Revenue and Transactions over the Last 6 Months from revenue_sdf\n",
    "six_months_ago = F.add_months(F.lit(latest_date), -6)\n",
    "\n",
    "cumulative_data = trans_final_sdf \\\n",
    "    .filter(F.col(\"order_datetime\") > six_months_ago) \\\n",
    "    .groupBy(\"merchant_abn\") \\\n",
    "    .agg(\n",
    "        F.sum(\"dollar_value\").alias(\"cumulative_revenue_6m\"),\n",
    "        F.count(\"order_id\").alias(\"cumulative_transactions_6m\")\n",
    "    ) \\\n",
    "    .join(merchant_abn_list, \"merchant_abn\", \"inner\") \\\n",
    "\n",
    "\n",
    "# 4) Total Customers at Latest Date in customer_sdf\n",
    "latest_customers = customer_sdf \\\n",
    "    .filter(customer_sdf[\"order_datetime\"] == latest_date) \\\n",
    "    .select(\"merchant_abn\", \"total_cumulative_customers\")\n",
    "\n",
    "# 5) Revenue Growth (compare last month vs. 12 months ago)\n",
    "\n",
    "# trans_final_sdf = trans_final_sdf \\\n",
    "#    .withColumn(\"year\", F.year(\"order_datetime\")) \\\n",
    "#    .withColumn(\"month\", F.month(\"order_datetime\"))\n",
    "\n",
    "# window_spec = Window.partitionBy(\"merchant_abn\").orderBy(\"year\", \"month\")\n",
    "\n",
    "# revenue_growth = trans_final_sdf \\\n",
    "#    .withColumn(\"last_month\", F.sum(\"dollar_value\").over(window_spec)) \\\n",
    "#    .withColumn(\"prev_year\", F.lag(\"last_month\", 12).over(window_spec)) \\\n",
    "#    .withColumn(\"revenue_growth\", (F.col(\"last_month\") - F.col(\"prev_year\")) / F.col(\"prev_year\")) \\\n",
    "#    .select(\"merchant_abn\", \"revenue_growth\") /*\n",
    "\n",
    "# 6) Calculate Industry Segment Popularity from trans_final_sdf\n",
    "\n",
    "total_merchants = trans_final_sdf.select(\"merchant_abn\").distinct().count()\n",
    "\n",
    "industry_segment_popularity = trans_final_sdf \\\n",
    "    .groupBy(\"industry_segment\") \\\n",
    "    .agg(F.countDistinct(\"merchant_abn\").alias(\"num_merchants\")) \\\n",
    "    .withColumn(\"segment_popularity\", F.col(\"num_merchants\") / total_merchants) \\\n",
    "    .select(\"industry_segment\", \"segment_popularity\")\n",
    "\n",
    "print(merchant_abn_list.select(\"merchant_abn\").count())\n",
    "\n",
    "print(trans_data.select(\"merchant_abn\").count())\n",
    "\n",
    "print(\"Revenue Data:\")\n",
    "revenue_data.show(5, truncate=False)\n",
    "print(revenue_data.select(\"merchant_abn\").count())\n",
    "\n",
    "print(\"Cumulative Data:\")\n",
    "cumulative_data.show(5, truncate=False)\n",
    "print(cumulative_data.select(\"merchant_abn\").count())\n",
    "\n",
    "print(\"Latest Customers:\")\n",
    "latest_customers.show(5, truncate=False)\n",
    "print(latest_customers.select(\"merchant_abn\").count())\n",
    "\n",
    "\n",
    "print(\"Industry Segment Popularity:\")\n",
    "industry_segment_popularity.show(5, truncate=False)"
   ]
  },
  {
   "cell_type": "code",
   "execution_count": 21,
   "metadata": {},
   "outputs": [
    {
     "name": "stderr",
     "output_type": "stream",
     "text": [
      "                                                                                \r"
     ]
    },
    {
     "name": "stdout",
     "output_type": "stream",
     "text": [
      "200\n"
     ]
    }
   ],
   "source": [
    "# 7) Combine all into final DataFrame\n",
    "final_df = trans_data \\\n",
    "    .join(revenue_data, \"merchant_abn\", \"inner\") \\\n",
    "    .join(cumulative_data, \"merchant_abn\", \"inner\") \\\n",
    "    .join(latest_customers, \"merchant_abn\", \"inner\") \\\n",
    "    .join(industry_segment_popularity, \"industry_segment\", \"inner\") \\\n",
    "#    .join(revenue_growth, \"merchant_abn\", \"inner\") \\\n",
    "\n",
    "print(final_df.select(\"merchant_abn\").count())"
   ]
  },
  {
   "cell_type": "code",
   "execution_count": 29,
   "metadata": {},
   "outputs": [
    {
     "name": "stderr",
     "output_type": "stream",
     "text": [
      "                                                                                \r"
     ]
    }
   ],
   "source": [
    "# Define a list of columns to normalize (excluding 'merchant_abn')\n",
    "columns_to_normalize = final_df.columns\n",
    "columns_string = [\"merchant_abn\", \"industry_segment\"]\n",
    "columns_to_normalize = list(set(columns_to_normalize) - set(columns_string))\n",
    "\n",
    "# Calculate min and max for each column\n",
    "min_max_values = {col: final_df.agg(F.min(col).alias(\"min\"), F.max(col).alias(\"max\")).first() for col in columns_to_normalize}\n",
    "\n",
    "# Create a new DataFrame with normalized values\n",
    "df_normalized = final_df\n",
    "\n",
    "for col in columns_to_normalize:\n",
    "    min_val = min_max_values[col][\"min\"]\n",
    "    max_val = min_max_values[col][\"max\"]\n",
    "    \n",
    "    # Normalize the column\n",
    "    df_normalized = df_normalized.withColumn(\n",
    "        f\"{col}_normalized\",\n",
    "        (F.col(col) - min_val) / (max_val - min_val)\n",
    "    )"
   ]
  },
  {
   "cell_type": "code",
   "execution_count": 34,
   "metadata": {},
   "outputs": [
    {
     "name": "stderr",
     "output_type": "stream",
     "text": [
      "                                                                                \r"
     ]
    },
    {
     "name": "stdout",
     "output_type": "stream",
     "text": [
      "+---------+--------------------+\n",
      "|take_rate|take_rate_normalized|\n",
      "+---------+--------------------+\n",
      "|0.16     |0.0                 |\n",
      "|0.22     |0.00879765395894428 |\n",
      "|0.38     |0.03225806451612903 |\n",
      "|1.44     |0.187683284457478   |\n",
      "|1.47     |0.19208211143695014 |\n",
      "|1.47     |0.19208211143695014 |\n",
      "|1.47     |0.19208211143695014 |\n",
      "|1.52     |0.1994134897360704  |\n",
      "|1.55     |0.20381231671554254 |\n",
      "|1.57     |0.20674486803519063 |\n",
      "|1.57     |0.20674486803519063 |\n",
      "|1.61     |0.2126099706744868  |\n",
      "|1.62     |0.21407624633431088 |\n",
      "|1.67     |0.22140762463343108 |\n",
      "|1.67     |0.22140762463343108 |\n",
      "|1.76     |0.23460410557184752 |\n",
      "|1.83     |0.24486803519061584 |\n",
      "|1.85     |0.24780058651026393 |\n",
      "|1.86     |0.249266862170088   |\n",
      "|1.87     |0.250733137829912   |\n",
      "+---------+--------------------+\n",
      "only showing top 20 rows\n",
      "\n"
     ]
    }
   ],
   "source": [
    "df_normalized \\\n",
    "    .select(\"take_rate\", \"take_rate_normalized\") \\\n",
    "    .orderBy(\"take_rate\") \\\n",
    "    .show(20, truncate=False)\n"
   ]
  },
  {
   "cell_type": "code",
   "execution_count": 32,
   "metadata": {},
   "outputs": [
    {
     "name": "stderr",
     "output_type": "stream",
     "text": [
      "                                                                                \r"
     ]
    },
    {
     "name": "stdout",
     "output_type": "stream",
     "text": [
      "+----------------+------------+---------+--------------------+---------------------+--------------------------+--------------------------+-------------------+-----------------------------+--------------------------------+---------------------+-------------------------------------+-------------------------------------+--------------------+--------------------+------------------+-------------------+---------------------+-------------------+----------------+-------------------+-------------------+-------------------+\n",
      "|industry_segment|merchant_abn|take_rate|fraud_rate          |cumulative_revenue_6m|cumulative_transactions_6m|total_cumulative_customers|segment_popularity |segment_popularity_normalized|cumulative_revenue_6m_normalized|fraud_rate_normalized|cumulative_transactions_6m_normalized|total_cumulative_customers_normalized|take_rate_normalized|weighted_fraud_rate |weighted_take_rate|weighted_revenue   |weighted_transactions|weighted_customers |weighted_segment|D_positive         |D_negative         |closeness          |\n",
      "+----------------+------------+---------+--------------------+---------------------+--------------------------+--------------------------+-------------------+-----------------------------+--------------------------------+---------------------+-------------------------------------+-------------------------------------+--------------------+--------------------+------------------+-------------------+---------------------+-------------------+----------------+-------------------+-------------------+-------------------+\n",
      "|health + beauty |46804135891 |2.93     |0.003278688524590164|2378307.057183928    |78940                     |24079                     |0.07824143070044709|0.0                          |0.7077533381066913              |1.0                  |0.7980395525112194                   |0.9998517420311341                   |0.40615835777126097 |0.10153958944281524 |0.31              |0.14862820100240517|0.06384316420089756  |0.07998813936249073|0.0             |0.11974067571268561|0.39446785381051674|0.7671359597560261 |\n",
      "|retail          |41944909975 |0.16     |0.0                 |2889597.9512627283   |11726                     |18232                     |0.6418281172379533 |1.0                          |0.8654447066022136              |0.0                  |0.07641021236391746                  |0.5664195700518903                   |0.0                 |0.0                 |0.0               |0.18174338838646487|0.006112816989113396 |0.04531356560415122|0.07            |0.32933402594366096|0.3124441469791001 |0.48684134201102414|\n",
      "|retail          |39649557865 |1.47     |0.0                 |3325873.550369746    |7366                      |14462                     |0.6418281172379533 |1.0                          |1.0                             |0.0                  |0.029599965643855617                 |0.28695329873980724                  |0.19208211143695014 |0.048020527859237536|0.0               |0.21               |0.002367997251508449 |0.02295626389918458|0.07            |0.3355393967553752 |0.292281208136023  |0.46554892569443856|\n",
      "|retail          |50315283629 |1.76     |0.0                 |3226642.5997425425   |9981                      |17150                     |0.6418281172379533 |1.0                          |0.9693953782812653              |0.0                  |0.05767537738077344                  |0.4862120088954781                   |0.23460410557184752 |0.05865102639296188 |0.0               |0.20357302943906572|0.004614030190461875 |0.03889696071163825|0.07            |0.3344454411864575 |0.28211818594813576|0.45756540530820267|\n",
      "|retail          |80324045558 |1.47     |0.0                 |2430379.8283132184   |66548                     |24076                     |0.6418281172379533 |1.0                          |0.7238135234841887              |0.0                  |0.6649953833930987                   |0.9996293550778355                   |0.19208211143695014 |0.048020527859237536|0.0               |0.15200083993167962|0.053199630671447895 |0.07997034840622684|0.07            |0.3277012882792411 |0.27041712193200507|0.45211302196248715|\n",
      "+----------------+------------+---------+--------------------+---------------------+--------------------------+--------------------------+-------------------+-----------------------------+--------------------------------+---------------------+-------------------------------------+-------------------------------------+--------------------+--------------------+------------------+-------------------+---------------------+-------------------+----------------+-------------------+-------------------+-------------------+\n",
      "only showing top 5 rows\n",
      "\n"
     ]
    }
   ],
   "source": [
    "import numpy as np\n",
    "\n",
    "# Apply weights\n",
    "weights = {\n",
    "    'take_rate': 0.31,\n",
    "    'fraud_rate': 0.25,\n",
    "    \"cumulative_revenue_6m\": 0.21,\n",
    "    \"cumulative_transactions_6m\": 0.08,\n",
    "    \"total_cumulative_customers\": 0.08,\n",
    "    \"segment_popularity\": 0.07,\n",
    "    # Add other criteria and weights\n",
    "}\n",
    "\n",
    "df_weighted = df_normalized.withColumn(\n",
    "    'weighted_fraud_rate', F.col('take_rate_normalized') * weights['fraud_rate']\n",
    ").withColumn(\n",
    "    'weighted_take_rate', F.col('fraud_rate_normalized') * weights['take_rate']\n",
    ").withColumn(\n",
    "    'weighted_revenue', F.col('cumulative_revenue_6m_normalized') * weights['cumulative_revenue_6m']\n",
    ").withColumn(\n",
    "    'weighted_transactions', F.col('cumulative_transactions_6m_normalized') * weights['cumulative_transactions_6m']\n",
    ").withColumn(\n",
    "    'weighted_customers', F.col('total_cumulative_customers_normalized') * weights['total_cumulative_customers']\n",
    ").withColumn(\n",
    "    'weighted_segment', F.col('segment_popularity_normalized') * weights['segment_popularity']\n",
    ")\n",
    "\n",
    "# Compute Ideal and Negative Ideal Solutions\n",
    "ideal_solution = {\n",
    "    'fraud_rate': df_weighted.agg(F.min('weighted_fraud_rate')).collect()[0][0],\n",
    "    'take_rate': df_weighted.agg(F.max('weighted_take_rate')).collect()[0][0],\n",
    "    'revenue': df_weighted.agg(F.max('weighted_revenue')).collect()[0][0],\n",
    "    'transactions': df_weighted.agg(F.max('weighted_transactions')).collect()[0][0],\n",
    "    'customers': df_weighted.agg(F.max('weighted_customers')).collect()[0][0],\n",
    "    'segment': df_weighted.agg(F.min('weighted_segment')).collect()[0][0]\n",
    "}\n",
    "\n",
    "negative_ideal_solution = {\n",
    "    'fraud_rate': df_weighted.agg(F.max('weighted_fraud_rate')).collect()[0][0],\n",
    "    'take_rate': df_weighted.agg(F.min('weighted_take_rate')).collect()[0][0],\n",
    "    'revenue': df_weighted.agg(F.min('weighted_revenue')).collect()[0][0],\n",
    "    'transactions': df_weighted.agg(F.min('weighted_transactions')).collect()[0][0],\n",
    "    'customers': df_weighted.agg(F.min('weighted_customers')).collect()[0][0],\n",
    "    'segment': df_weighted.agg(F.max('weighted_segment')).collect()[0][0]\n",
    "}\n",
    "\n",
    "# Compute distances from Ideal and Negative Ideal Solutions\n",
    "df_topsis = df_weighted.withColumn(\n",
    "    'D_positive', F.sqrt(\n",
    "        (F.col('weighted_fraud_rate') - ideal_solution['fraud_rate']) ** 2 +\n",
    "        (F.col('weighted_take_rate') - ideal_solution['take_rate']) ** 2 +\n",
    "        (F.col('weighted_revenue') - ideal_solution['revenue']) ** 2 +\n",
    "        (F.col('weighted_transactions') - ideal_solution['transactions']) ** 2 +\n",
    "        (F.col('weighted_customers') - ideal_solution['customers']) ** 2 +\n",
    "        (F.col('weighted_segment') - ideal_solution['segment']) ** 2\n",
    "    )\n",
    ").withColumn(\n",
    "    'D_negative', F.sqrt(\n",
    "        (F.col('weighted_fraud_rate') - negative_ideal_solution['fraud_rate']) ** 2 +\n",
    "        (F.col('weighted_take_rate') - negative_ideal_solution['take_rate']) ** 2 +\n",
    "        (F.col('weighted_revenue') - negative_ideal_solution['revenue']) ** 2 + \n",
    "        (F.col('weighted_transactions') - negative_ideal_solution['transactions']) ** 2 +\n",
    "        (F.col('weighted_customers') - negative_ideal_solution['customers']) ** 2 +\n",
    "        (F.col('weighted_segment') - negative_ideal_solution['segment']) ** 2\n",
    "\n",
    "    )\n",
    ")\n",
    "\n",
    "# Compute closeness and rank merchants\n",
    "df_topsis = df_topsis.withColumn(\n",
    "    'closeness', F.col('D_negative') / (F.col('D_positive') + F.col('D_negative'))\n",
    ").orderBy(F.desc('closeness'))\n",
    "\n",
    "df_topsis.show(5, truncate = False)\n"
   ]
  },
  {
   "cell_type": "code",
   "execution_count": 35,
   "metadata": {},
   "outputs": [
    {
     "name": "stderr",
     "output_type": "stream",
     "text": [
      "                                                                                \r"
     ]
    },
    {
     "name": "stdout",
     "output_type": "stream",
     "text": [
      "+---------+--------------------+------------------+\n",
      "|take_rate|take_rate_normalized|weighted_take_rate|\n",
      "+---------+--------------------+------------------+\n",
      "|0.16     |0.0                 |0.0               |\n",
      "|0.22     |0.00879765395894428 |0.0               |\n",
      "|0.38     |0.03225806451612903 |0.0               |\n",
      "|1.44     |0.187683284457478   |0.0               |\n",
      "|1.47     |0.19208211143695014 |0.0               |\n",
      "|1.47     |0.19208211143695014 |0.0               |\n",
      "|1.47     |0.19208211143695014 |0.0               |\n",
      "|1.52     |0.1994134897360704  |0.0               |\n",
      "|1.55     |0.20381231671554254 |0.0               |\n",
      "|1.57     |0.20674486803519063 |0.0               |\n",
      "|1.57     |0.20674486803519063 |0.0               |\n",
      "|1.61     |0.2126099706744868  |0.0               |\n",
      "|1.62     |0.21407624633431088 |0.0               |\n",
      "|1.67     |0.22140762463343108 |0.0               |\n",
      "|1.67     |0.22140762463343108 |0.0               |\n",
      "|1.76     |0.23460410557184752 |0.0               |\n",
      "|1.83     |0.24486803519061584 |0.0               |\n",
      "|1.85     |0.24780058651026393 |0.0               |\n",
      "|1.86     |0.249266862170088   |0.0               |\n",
      "|1.87     |0.250733137829912   |0.0               |\n",
      "+---------+--------------------+------------------+\n",
      "only showing top 20 rows\n",
      "\n"
     ]
    }
   ],
   "source": [
    "df_weighted \\\n",
    "    .select(\"take_rate\", \"take_rate_normalized\", \"weighted_take_rate\") \\\n",
    "    .orderBy(\"take_rate\") \\\n",
    "    .show(20, truncate=False)\n"
   ]
  },
  {
   "cell_type": "code",
   "execution_count": 37,
   "metadata": {},
   "outputs": [
    {
     "name": "stderr",
     "output_type": "stream",
     "text": [
      "                                                                                \r"
     ]
    },
    {
     "name": "stdout",
     "output_type": "stream",
     "text": [
      "+------------+---------------------------+-------------------+----+\n",
      "|merchant_abn|industry_segment           |closeness          |rank|\n",
      "+------------+---------------------------+-------------------+----+\n",
      "|46804135891 |health + beauty            |0.7671359597560261 |1   |\n",
      "|18158387243 |health + beauty            |0.4516591370478957 |2   |\n",
      "|11237511112 |health + beauty            |0.37710088475872605|3   |\n",
      "|48534649627 |health + beauty            |0.3625273853009146 |4   |\n",
      "|11566786699 |health + beauty            |0.3284626376612607 |5   |\n",
      "|34920839316 |luxury products + services |0.404465392767599  |1   |\n",
      "|86578477987 |luxury products + services |0.3842066209081606 |2   |\n",
      "|76626119831 |luxury products + services |0.37847280657495075|3   |\n",
      "|68559320474 |luxury products + services |0.37061028095284076|4   |\n",
      "|23338656015 |luxury products + services |0.36336620468811903|5   |\n",
      "|41944909975 |retail                     |0.48684134201102414|1   |\n",
      "|39649557865 |retail                     |0.46554892569443856|2   |\n",
      "|50315283629 |retail                     |0.45756540530820267|3   |\n",
      "|80324045558 |retail                     |0.45211302196248715|4   |\n",
      "|24852446429 |retail                     |0.43940706447168437|5   |\n",
      "|67609108741 |technology + media services|0.40001195299563014|1   |\n",
      "|35909341340 |technology + media services|0.39134566668734716|2   |\n",
      "|77590625261 |technology + media services|0.39124957147327594|3   |\n",
      "|84703983173 |technology + media services|0.376186176734465  |4   |\n",
      "|21439773999 |technology + media services|0.3747182879777731 |5   |\n",
      "+------------+---------------------------+-------------------+----+\n",
      "\n"
     ]
    }
   ],
   "source": [
    "window_spec = Window.partitionBy(\"industry_segment\").orderBy(F.desc(\"closeness\"))  # Replace 'closeness' with your ranking metric\n",
    "\n",
    "ranked_df = df_topsis \\\n",
    "    .withColumn(\"rank\", F.row_number().over(window_spec))\n",
    "\n",
    "top_merchants = ranked_df.filter(F.col(\"rank\") <= 5)\n",
    "\n",
    "top_merchants.select(\"merchant_abn\", \"industry_segment\", \"closeness\", \"rank\").show(truncate=False)\n"
   ]
  },
  {
   "cell_type": "code",
   "execution_count": 43,
   "metadata": {},
   "outputs": [
    {
     "name": "stderr",
     "output_type": "stream",
     "text": [
      "                                                                                \r"
     ]
    },
    {
     "name": "stdout",
     "output_type": "stream",
     "text": [
      "+---------------------------+--------------+----------+\n",
      "|industry_segment           |merchant_count|proportion|\n",
      "+---------------------------+--------------+----------+\n",
      "|health + beauty            |2             |0.08      |\n",
      "|retail                     |19            |0.76      |\n",
      "|luxury products + services |1             |0.04      |\n",
      "|technology + media services|3             |0.12      |\n",
      "+---------------------------+--------------+----------+\n",
      "\n"
     ]
    },
    {
     "ename": "AnalysisException",
     "evalue": "[UNRESOLVED_COLUMN.WITH_SUGGESTION] A column or function parameter with name `merchant_count` cannot be resolved. Did you mean one of the following? [`overall_merchant_count`, `industry_segment`, `overall_proportion`].;\n'Project [industry_segment#85, 'merchant_count, 'proportion]\n+- Project [industry_segment#85, overall_merchant_count#7721L, (cast(overall_merchant_count#7721L as double) / cast(4026 as double)) AS overall_proportion#7731]\n   +- Aggregate [industry_segment#85], [industry_segment#85, count(merchant_abn#59L) AS overall_merchant_count#7721L]\n      +- Project [description#57, user_id#58L, merchant_abn#59L, dollar_value#60, order_id#61, order_datetime#62, merchant_name#63, consumer_id#64L, name#65, address#66, state#67, postcode#68, gender#69, consumer_fraud_probability#70, merchant_fraud_probability#71, LOCALITY_NAME#72, list_SA2_CODE#73, list_ERP#74, list_num_earners#75, list_total_income_($M)#76, list_mean_income#77, postcode_ERP#78, postcode_num_earners#79, postcode_total_income_($M)#80, ... 7 more fields]\n         +- Project [description#57, user_id#58L, merchant_abn#59L, dollar_value#60, order_id#61, order_datetime#62, merchant_name#63, consumer_id#64L, name#65, address#66, state#67, postcode#68, gender#69, consumer_fraud_probability#70, merchant_fraud_probability#71, LOCALITY_NAME#72, list_SA2_CODE#73, list_ERP#74, list_num_earners#75, list_total_income_($M)#76, list_mean_income#77, postcode_ERP#78, postcode_num_earners#79, postcode_total_income_($M)#80, ... 6 more fields]\n            +- Relation [description#57,user_id#58L,merchant_abn#59L,dollar_value#60,order_id#61,order_datetime#62,merchant_name#63,consumer_id#64L,name#65,address#66,state#67,postcode#68,gender#69,consumer_fraud_probability#70,merchant_fraud_probability#71,LOCALITY_NAME#72,list_SA2_CODE#73,list_ERP#74,list_num_earners#75,list_total_income_($M)#76,list_mean_income#77,postcode_ERP#78,postcode_num_earners#79,postcode_total_income_($M)#80,... 5 more fields] parquet\n",
     "output_type": "error",
     "traceback": [
      "\u001b[0;31m---------------------------------------------------------------------------\u001b[0m",
      "\u001b[0;31mAnalysisException\u001b[0m                         Traceback (most recent call last)",
      "Cell \u001b[0;32mIn[43], line 28\u001b[0m\n\u001b[1;32m     24\u001b[0m \u001b[38;5;66;03m# Calculate overall proportions\u001b[39;00m\n\u001b[1;32m     25\u001b[0m overall_proportion \u001b[38;5;241m=\u001b[39m overall_industry_count \\\n\u001b[1;32m     26\u001b[0m     \u001b[38;5;241m.\u001b[39mwithColumn(\u001b[38;5;124m\"\u001b[39m\u001b[38;5;124moverall_proportion\u001b[39m\u001b[38;5;124m\"\u001b[39m, F\u001b[38;5;241m.\u001b[39mcol(\u001b[38;5;124m\"\u001b[39m\u001b[38;5;124moverall_merchant_count\u001b[39m\u001b[38;5;124m\"\u001b[39m) \u001b[38;5;241m/\u001b[39m total_merchants_overall)\n\u001b[0;32m---> 28\u001b[0m \u001b[43moverall_proportion\u001b[49m\u001b[38;5;241;43m.\u001b[39;49m\u001b[43mselect\u001b[49m\u001b[43m(\u001b[49m\u001b[38;5;124;43m\"\u001b[39;49m\u001b[38;5;124;43mindustry_segment\u001b[39;49m\u001b[38;5;124;43m\"\u001b[39;49m\u001b[43m,\u001b[49m\u001b[43m \u001b[49m\u001b[38;5;124;43m\"\u001b[39;49m\u001b[38;5;124;43mmerchant_count\u001b[39;49m\u001b[38;5;124;43m\"\u001b[39;49m\u001b[43m,\u001b[49m\u001b[43m \u001b[49m\u001b[38;5;124;43m\"\u001b[39;49m\u001b[38;5;124;43mproportion\u001b[39;49m\u001b[38;5;124;43m\"\u001b[39;49m\u001b[43m)\u001b[49m\u001b[38;5;241m.\u001b[39mshow(truncate\u001b[38;5;241m=\u001b[39m\u001b[38;5;28;01mFalse\u001b[39;00m)\n",
      "File \u001b[0;32m~/.local/lib/python3.10/site-packages/pyspark/sql/dataframe.py:3229\u001b[0m, in \u001b[0;36mDataFrame.select\u001b[0;34m(self, *cols)\u001b[0m\n\u001b[1;32m   3184\u001b[0m \u001b[38;5;28;01mdef\u001b[39;00m \u001b[38;5;21mselect\u001b[39m(\u001b[38;5;28mself\u001b[39m, \u001b[38;5;241m*\u001b[39mcols: \u001b[38;5;124m\"\u001b[39m\u001b[38;5;124mColumnOrName\u001b[39m\u001b[38;5;124m\"\u001b[39m) \u001b[38;5;241m-\u001b[39m\u001b[38;5;241m>\u001b[39m \u001b[38;5;124m\"\u001b[39m\u001b[38;5;124mDataFrame\u001b[39m\u001b[38;5;124m\"\u001b[39m:  \u001b[38;5;66;03m# type: ignore[misc]\u001b[39;00m\n\u001b[1;32m   3185\u001b[0m \u001b[38;5;250m    \u001b[39m\u001b[38;5;124;03m\"\"\"Projects a set of expressions and returns a new :class:`DataFrame`.\u001b[39;00m\n\u001b[1;32m   3186\u001b[0m \n\u001b[1;32m   3187\u001b[0m \u001b[38;5;124;03m    .. versionadded:: 1.3.0\u001b[39;00m\n\u001b[0;32m   (...)\u001b[0m\n\u001b[1;32m   3227\u001b[0m \u001b[38;5;124;03m    +-----+---+\u001b[39;00m\n\u001b[1;32m   3228\u001b[0m \u001b[38;5;124;03m    \"\"\"\u001b[39;00m\n\u001b[0;32m-> 3229\u001b[0m     jdf \u001b[38;5;241m=\u001b[39m \u001b[38;5;28;43mself\u001b[39;49m\u001b[38;5;241;43m.\u001b[39;49m\u001b[43m_jdf\u001b[49m\u001b[38;5;241;43m.\u001b[39;49m\u001b[43mselect\u001b[49m\u001b[43m(\u001b[49m\u001b[38;5;28;43mself\u001b[39;49m\u001b[38;5;241;43m.\u001b[39;49m\u001b[43m_jcols\u001b[49m\u001b[43m(\u001b[49m\u001b[38;5;241;43m*\u001b[39;49m\u001b[43mcols\u001b[49m\u001b[43m)\u001b[49m\u001b[43m)\u001b[49m\n\u001b[1;32m   3230\u001b[0m     \u001b[38;5;28;01mreturn\u001b[39;00m DataFrame(jdf, \u001b[38;5;28mself\u001b[39m\u001b[38;5;241m.\u001b[39msparkSession)\n",
      "File \u001b[0;32m~/.local/lib/python3.10/site-packages/py4j/java_gateway.py:1322\u001b[0m, in \u001b[0;36mJavaMember.__call__\u001b[0;34m(self, *args)\u001b[0m\n\u001b[1;32m   1316\u001b[0m command \u001b[38;5;241m=\u001b[39m proto\u001b[38;5;241m.\u001b[39mCALL_COMMAND_NAME \u001b[38;5;241m+\u001b[39m\\\n\u001b[1;32m   1317\u001b[0m     \u001b[38;5;28mself\u001b[39m\u001b[38;5;241m.\u001b[39mcommand_header \u001b[38;5;241m+\u001b[39m\\\n\u001b[1;32m   1318\u001b[0m     args_command \u001b[38;5;241m+\u001b[39m\\\n\u001b[1;32m   1319\u001b[0m     proto\u001b[38;5;241m.\u001b[39mEND_COMMAND_PART\n\u001b[1;32m   1321\u001b[0m answer \u001b[38;5;241m=\u001b[39m \u001b[38;5;28mself\u001b[39m\u001b[38;5;241m.\u001b[39mgateway_client\u001b[38;5;241m.\u001b[39msend_command(command)\n\u001b[0;32m-> 1322\u001b[0m return_value \u001b[38;5;241m=\u001b[39m \u001b[43mget_return_value\u001b[49m\u001b[43m(\u001b[49m\n\u001b[1;32m   1323\u001b[0m \u001b[43m    \u001b[49m\u001b[43manswer\u001b[49m\u001b[43m,\u001b[49m\u001b[43m \u001b[49m\u001b[38;5;28;43mself\u001b[39;49m\u001b[38;5;241;43m.\u001b[39;49m\u001b[43mgateway_client\u001b[49m\u001b[43m,\u001b[49m\u001b[43m \u001b[49m\u001b[38;5;28;43mself\u001b[39;49m\u001b[38;5;241;43m.\u001b[39;49m\u001b[43mtarget_id\u001b[49m\u001b[43m,\u001b[49m\u001b[43m \u001b[49m\u001b[38;5;28;43mself\u001b[39;49m\u001b[38;5;241;43m.\u001b[39;49m\u001b[43mname\u001b[49m\u001b[43m)\u001b[49m\n\u001b[1;32m   1325\u001b[0m \u001b[38;5;28;01mfor\u001b[39;00m temp_arg \u001b[38;5;129;01min\u001b[39;00m temp_args:\n\u001b[1;32m   1326\u001b[0m     \u001b[38;5;28;01mif\u001b[39;00m \u001b[38;5;28mhasattr\u001b[39m(temp_arg, \u001b[38;5;124m\"\u001b[39m\u001b[38;5;124m_detach\u001b[39m\u001b[38;5;124m\"\u001b[39m):\n",
      "File \u001b[0;32m~/.local/lib/python3.10/site-packages/pyspark/errors/exceptions/captured.py:185\u001b[0m, in \u001b[0;36mcapture_sql_exception.<locals>.deco\u001b[0;34m(*a, **kw)\u001b[0m\n\u001b[1;32m    181\u001b[0m converted \u001b[38;5;241m=\u001b[39m convert_exception(e\u001b[38;5;241m.\u001b[39mjava_exception)\n\u001b[1;32m    182\u001b[0m \u001b[38;5;28;01mif\u001b[39;00m \u001b[38;5;129;01mnot\u001b[39;00m \u001b[38;5;28misinstance\u001b[39m(converted, UnknownException):\n\u001b[1;32m    183\u001b[0m     \u001b[38;5;66;03m# Hide where the exception came from that shows a non-Pythonic\u001b[39;00m\n\u001b[1;32m    184\u001b[0m     \u001b[38;5;66;03m# JVM exception message.\u001b[39;00m\n\u001b[0;32m--> 185\u001b[0m     \u001b[38;5;28;01mraise\u001b[39;00m converted \u001b[38;5;28;01mfrom\u001b[39;00m \u001b[38;5;28;01mNone\u001b[39;00m\n\u001b[1;32m    186\u001b[0m \u001b[38;5;28;01melse\u001b[39;00m:\n\u001b[1;32m    187\u001b[0m     \u001b[38;5;28;01mraise\u001b[39;00m\n",
      "\u001b[0;31mAnalysisException\u001b[0m: [UNRESOLVED_COLUMN.WITH_SUGGESTION] A column or function parameter with name `merchant_count` cannot be resolved. Did you mean one of the following? [`overall_merchant_count`, `industry_segment`, `overall_proportion`].;\n'Project [industry_segment#85, 'merchant_count, 'proportion]\n+- Project [industry_segment#85, overall_merchant_count#7721L, (cast(overall_merchant_count#7721L as double) / cast(4026 as double)) AS overall_proportion#7731]\n   +- Aggregate [industry_segment#85], [industry_segment#85, count(merchant_abn#59L) AS overall_merchant_count#7721L]\n      +- Project [description#57, user_id#58L, merchant_abn#59L, dollar_value#60, order_id#61, order_datetime#62, merchant_name#63, consumer_id#64L, name#65, address#66, state#67, postcode#68, gender#69, consumer_fraud_probability#70, merchant_fraud_probability#71, LOCALITY_NAME#72, list_SA2_CODE#73, list_ERP#74, list_num_earners#75, list_total_income_($M)#76, list_mean_income#77, postcode_ERP#78, postcode_num_earners#79, postcode_total_income_($M)#80, ... 7 more fields]\n         +- Project [description#57, user_id#58L, merchant_abn#59L, dollar_value#60, order_id#61, order_datetime#62, merchant_name#63, consumer_id#64L, name#65, address#66, state#67, postcode#68, gender#69, consumer_fraud_probability#70, merchant_fraud_probability#71, LOCALITY_NAME#72, list_SA2_CODE#73, list_ERP#74, list_num_earners#75, list_total_income_($M)#76, list_mean_income#77, postcode_ERP#78, postcode_num_earners#79, postcode_total_income_($M)#80, ... 6 more fields]\n            +- Relation [description#57,user_id#58L,merchant_abn#59L,dollar_value#60,order_id#61,order_datetime#62,merchant_name#63,consumer_id#64L,name#65,address#66,state#67,postcode#68,gender#69,consumer_fraud_probability#70,merchant_fraud_probability#71,LOCALITY_NAME#72,list_SA2_CODE#73,list_ERP#74,list_num_earners#75,list_total_income_($M)#76,list_mean_income#77,postcode_ERP#78,postcode_num_earners#79,postcode_total_income_($M)#80,... 5 more fields] parquet\n"
     ]
    }
   ],
   "source": [
    "top_merchants_df = df_topsis \\\n",
    "    .orderBy(F.desc(\"closeness\")) \\\n",
    "    .limit(25)  \n",
    "\n",
    "\n",
    "industry_count = top_merchants_df \\\n",
    "    .groupBy(\"industry_segment\") \\\n",
    "    .agg(F.count(\"merchant_abn\").alias(\"merchant_count\"))\n",
    "\n",
    "total_top_merchants = 25 \n",
    "industry_proportion = industry_count \\\n",
    "    .withColumn(\"proportion\", F.col(\"merchant_count\") / total_top_merchants)\n",
    "\n",
    "industry_proportion.select(\"industry_segment\", \"merchant_count\", \"proportion\").show(truncate=False)"
   ]
  }
 ],
 "metadata": {
  "kernelspec": {
   "display_name": "Python 3",
   "language": "python",
   "name": "python3"
  },
  "language_info": {
   "codemirror_mode": {
    "name": "ipython",
    "version": 3
   },
   "file_extension": ".py",
   "mimetype": "text/x-python",
   "name": "python",
   "nbconvert_exporter": "python",
   "pygments_lexer": "ipython3",
   "version": "3.10.12"
  }
 },
 "nbformat": 4,
 "nbformat_minor": 2
}
