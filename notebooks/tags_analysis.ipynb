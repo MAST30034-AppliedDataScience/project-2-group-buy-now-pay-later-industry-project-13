{
 "cells": [
  {
   "cell_type": "markdown",
   "metadata": {},
   "source": [
    "# Cleaning up tags column"
   ]
  },
  {
   "cell_type": "code",
   "execution_count": 2,
   "metadata": {},
   "outputs": [
    {
     "name": "stderr",
     "output_type": "stream",
     "text": [
      "your 131072x1 screen size is bogus. expect trouble\n",
      "24/09/25 20:15:49 WARN Utils: Your hostname, LAPTOP-MMSL4U2D resolves to a loopback address: 127.0.1.1; using 172.17.187.27 instead (on interface eth0)\n",
      "24/09/25 20:15:49 WARN Utils: Set SPARK_LOCAL_IP if you need to bind to another address\n",
      "Setting default log level to \"WARN\".\n",
      "To adjust logging level use sc.setLogLevel(newLevel). For SparkR, use setLogLevel(newLevel).\n",
      "24/09/25 20:15:51 WARN NativeCodeLoader: Unable to load native-hadoop library for your platform... using builtin-java classes where applicable\n"
     ]
    }
   ],
   "source": [
    "from pyspark.sql import SparkSession, functions as F\n",
    "from pyspark.sql.types import DoubleType\n",
    "\n",
    "# Create a spark session (which will run spark jobs)\n",
    "spark = (\n",
    "    SparkSession.builder.appName(\"MAST30034 Project 2\")\n",
    "    .config(\"spark.sql.repl.eagerEval.enabled\", True) \n",
    "    .config(\"spark.sql.parquet.cacheMetadata\", \"true\")\n",
    "    .config(\"spark.sql.session.timeZone\", \"Etc/UTC\")\n",
    "    .config(\"spark.executor.memory\", \"8g\")\n",
    "    .config(\"spark.driver.memory\", \"8g\")\n",
    "    .getOrCreate()\n",
    ")"
   ]
  },
  {
   "cell_type": "code",
   "execution_count": 6,
   "metadata": {},
   "outputs": [],
   "source": [
    "# Load in data after outliers analysis\n",
    "tags_df = spark.read.parquet('../data/merged/merged_transactions_with_outliers.parquet')"
   ]
  },
  {
   "cell_type": "code",
   "execution_count": 7,
   "metadata": {},
   "outputs": [
    {
     "name": "stderr",
     "output_type": "stream",
     "text": [
      "[Stage 4:>                                                          (0 + 1) / 1]\r"
     ]
    },
    {
     "name": "stdout",
     "output_type": "stream",
     "text": [
      "+-------+------------+------------------+------------------------------------+--------------+-------------------------------+-----------------------------------------------------------------------------------------------------------------+-----------+-----+--------+-----------+--------------------------+--------------------------+--------------+------------------------------------------------------------------+---------------------------------------+------------------------------------+------------------------------------------+------------------------------------------------------+------------+--------------------+--------------------------+--------------------+--------+\n",
      "|user_id|merchant_abn|dollar_value      |order_id                            |order_datetime|merchant_name                  |tags                                                                                                             |consumer_id|state|postcode|gender     |consumer_fraud_probability|merchant_fraud_probability|LOCALITY_NAME |list_SA2_CODE                                                     |list_ERP                               |list_num_earners                    |list_total_income_($M)                    |list_mean_income                                      |postcode_ERP|postcode_num_earners|postcode_total_income_($M)|postcode_mean_income|is_fraud|\n",
      "+-------+------------+------------------+------------------------------------+--------------+-------------------------------+-----------------------------------------------------------------------------------------------------------------+-----------+-----+--------+-----------+--------------------------+--------------------------+--------------+------------------------------------------------------------------+---------------------------------------+------------------------------------+------------------------------------------+------------------------------------------------------+------------+--------------------+--------------------------+--------------------+--------+\n",
      "|14935  |43186523025 |19.157007083987565|b184da75-2473-42c1-9109-53e1d4e9400f|2021-11-12    |Lorem Ipsum Sodales Industries |[[florists supplies, nursery stock, and flowers], [b], [take rate: 4.47]]                                        |1059280    |QLD  |4563    |Male       |0.0                       |0.0                       |BLACK MOUNTAIN|[319031514, 316081549]                                            |[21774, 25578]                         |[10606, 14487]                      |[510.4, 798.8]                            |[48127.0, 55139.0]                                    |47352       |25093               |1309.1999999999998        |52173.91304347825   |false   |\n",
      "|2      |57405729081 |220.5325772234713 |342ab194-e5e9-4fa9-b1cf-52e76559b0dc|2021-11-12    |Augue Corporation              |[[watch, clock, and jewelry repair shops], [c], [take rate: 2.22]]                                               |179208     |NSW  |2782    |Female     |0.0                       |0.0                       |HAZELBROOK    |[124011455]                                                       |[6376]                                 |[3601]                              |[226.3]                                   |[62840.0]                                             |6376        |3601                |226.3                     |62840.0             |false   |\n",
      "|14936  |60956456424 |115.18299907550252|28a3c548-2f6c-4d1d-b705-8b37b52c5f28|2021-11-12    |Ultricies Dignissim LLP        |[[gift, card, novelty, and souvenir shops], [b], [take rate: 4.69]]                                              |986886     |SA   |5157    |Female     |0.0                       |0.0                       |ASHBOURNE     |[407011147, 403041075, 401021008]                                 |[8376, 2824, 7111]                     |[4446, 1754, 4110]                  |[234.3, 115.0, 236.7]                     |[52688.0, 65560.0, 57603.0]                           |18311       |10310               |586.0                     |56838.0213385063    |false   |\n",
      "|5      |64203420245 |20.905080869875956|64614527-4be7-4f61-9af8-8f7a21a6a927|2021-11-12    |Pede Nonummy Corp.             |[[tent and awning shops], [c], [take rate: 2.86]]                                                                |712975     |WA   |6355    |Female     |0.0                       |0.0                       |DUNN ROCK     |[509031247]                                                       |[4355]                                 |[2915]                              |[158.9]                                   |[54507.0]                                             |4355        |2915                |158.9                     |54507.0             |false   |\n",
      "|14936  |72738688428 |194.98940026275412|0bde82ed-03f2-44b7-b046-7dc17954854a|2021-11-12    |Donec Tempor Corp.             |[[books, periodicals, and newspapers], [a], [take rate: 5.67]]                                                   |986886     |SA   |5157    |Female     |0.0                       |0.0                       |ASHBOURNE     |[407011147, 403041075, 401021008]                                 |[8376, 2824, 7111]                     |[4446, 1754, 4110]                  |[234.3, 115.0, 236.7]                     |[52688.0, 65560.0, 57603.0]                           |18311       |10310               |586.0                     |56838.0213385063    |false   |\n",
      "|6      |29616684420 |44.495302338546   |ea333080-10c2-4c45-a597-047a3edde722|2021-11-12    |Tellus Id LLC                  |[[watch,  clock, and jewelry repair shops], [b], [take rate: 3.50]]                                              |407340     |NSW  |2033    |Female     |0.0                       |0.0                       |KENSINGTON    |[118021564]                                                       |[13810]                                |[7361]                              |[605.4]                                   |[82246.0]                                             |13810       |7361                |605.4                     |82246.0             |false   |\n",
      "|14936  |96161808980 |58.11286917394362 |a099b1c5-2e25-46fb-ac85-34eaed374aed|2021-11-12    |Velit Aliquam Corporation      |[[digital goods: books, movies, music], [a], [take rate: 7.00]]                                                  |986886     |SA   |5157    |Female     |0.0                       |0.0                       |ASHBOURNE     |[407011147, 403041075, 401021008]                                 |[8376, 2824, 7111]                     |[4446, 1754, 4110]                  |[234.3, 115.0, 236.7]                     |[52688.0, 65560.0, 57603.0]                           |18311       |10310               |586.0                     |56838.0213385063    |false   |\n",
      "|6      |27093785141 |1086.7935817516604|af654775-d24a-455a-9b45-cb5f57422e21|2021-11-12    |Placerat Orci Institute        |[[stationery, office supplies and printing and writing paper], [c], [take rate: 2.73]]                           |407340     |NSW  |2033    |Female     |0.0                       |0.0                       |KENSINGTON    |[118021564]                                                       |[13810]                                |[7361]                              |[605.4]                                   |[82246.0]                                             |13810       |7361                |605.4                     |82246.0             |false   |\n",
      "|14938  |48534649627 |148.79559965487707|20ead160-080a-4c95-b9fd-49d7f4220917|2021-11-12    |Dignissim Maecenas Foundation  |[[opticians, optical goods, and eyeglasses], [a], [take rate: 6.64]]                                             |267457     |NSW  |2625    |Undisclosed|0.0                       |0.0                       |BELAS CORNER  |[101031016]                                                       |[8381]                                 |[4609]                              |[261.6]                                   |[56759.0]                                             |8381        |4609                |261.6                     |56759.0             |false   |\n",
      "|8      |98269572896 |178.1889326053838 |8408ef54-ad35-4aa1-b0e5-f4de0381c831|2021-11-12    |Eget Laoreet Posuere PC        |[[furniture, home furnishings and equipment shops, and manufacturers, except appliances], [b], [take rate: 3.59]]|448088     |WA   |6056    |Male       |0.0                       |0.0                       |BALFOUR ESTATE|[504031066, 504021051, 504021054, 504031067, 504031068, 504031065]|[11793, 6245, 13964, 7484, 14123, 6168]|[5853, 3422, 7118, 4145, 7257, 3224]|[382.3, 240.7, 439.7, 274.4, 547.8, 201.6]|[65316.0, 70328.0, 61774.0, 66199.0, 75482.0, 62534.0]|59777       |31019               |2086.5                    |67265.22453979819   |false   |\n",
      "|14940  |21094505909 |159.34666512963344|bb33e76e-f4d1-4d31-82a6-a603ba954f06|2021-11-12    |Venenatis Corp.                |[[furniture, home furnishings and equipment shops, and manufacturers, except appliances], [a], [take rate: 6.38]]|806817     |NSW  |2333    |Female     |0.0                       |0.0                       |ANTIENE       |[106041129, 106041126, 106011113, 106041127]                      |[8296, 12590, 5449, 4188]              |[4355, 6383, 2979, 2217]            |[241.9, 460.1, 199.7, 146.6]              |[55546.0, 72089.0, 67043.0, 66109.0]                  |30523       |15934               |1048.3                    |65790.13430400402   |false   |\n",
      "|9      |69983142241 |10.62116318426805 |fbd21e3c-6f3a-41e9-931b-b55b5a86666a|2021-11-12    |Tempus Scelerisque LLC         |[[watch, clock, and jewelry repair shops], [c], [take rate: 2.28]]                                               |650435     |NSW  |2482    |Female     |0.0                       |0.0                       |BILLINUDGEL   |[112011243]                                                       |[9199]                                 |[5438]                              |[249.1]                                   |[45811.0]                                             |9199        |5438                |249.1                     |45811.0             |false   |\n",
      "|14940  |88547577701 |67.83243711579853 |c3711ab0-a050-47a8-b9f0-039a625a7f78|2021-11-12    |Enim Etiam Industries          |[[opticians, optical goods, and eyeglasses], [b], [take rate: 4.66]]                                             |806817     |NSW  |2333    |Female     |0.0                       |0.0                       |ANTIENE       |[106041129, 106041126, 106011113, 106041127]                      |[8296, 12590, 5449, 4188]              |[4355, 6383, 2979, 2217]            |[241.9, 460.1, 199.7, 146.6]              |[55546.0, 72089.0, 67043.0, 66109.0]                  |30523       |15934               |1048.3                    |65790.13430400402   |false   |\n",
      "|10     |32749065279 |56.135402314359624|d9cf0949-294a-48c4-818c-048ff2bc56bb|2021-11-12    |Auctor LLC                     |[[digital goods: books, movies, music], [a], [take rate: 5.69]]                                                  |1058499    |VIC  |3220    |Female     |0.0                       |0.0                       |COLES         |[203021046, 203021039]                                            |[10362, 13649]                         |[6766, 8512]                        |[580.9, 594.5]                            |[85853.0, 69838.0]                                    |24011       |15278               |1175.4                    |76934.15368503731   |false   |\n",
      "|14941  |24852446429 |7.558752334529607 |629cfa8f-f6df-4510-9f41-55cdcb49c0df|2021-11-12    |Erat Vitae LLP                 |[[florists supplies, nursery stock, and flowers], [c], [take rate: 2.94]]                                        |170056     |QLD  |4462    |Undisclosed|0.0                       |0.0                       |AMBY          |[307011177]                                                       |[6180]                                 |[3279]                              |[130.7]                                   |[39859.0]                                             |6180        |3279                |130.7                     |39859.0             |false   |\n",
      "|10     |99904689266 |218.80137025347398|5cfbad36-7d9d-44a3-a582-b6ee6202c455|2021-11-12    |Dictum Eu Ltd                  |[[digital goods: books, movies, music], [a], [take rate: 6.65]]                                                  |1058499    |VIC  |3220    |Female     |0.0                       |0.0                       |COLES         |[203021046, 203021039]                                            |[10362, 13649]                         |[6766, 8512]                        |[580.9, 594.5]                            |[85853.0, 69838.0]                                    |24011       |15278               |1175.4                    |76934.15368503731   |false   |\n",
      "|14941  |94690988633 |158.5287300753836 |271a66c0-f44c-43ef-8b80-c0ccf47be442|2021-11-12    |Eu Placerat LLC                |[[computers, computer peripheral equipment, and software], [a], [take rate: 6.16]]                               |170056     |QLD  |4462    |Undisclosed|0.0                       |0.0                       |AMBY          |[307011177]                                                       |[6180]                                 |[3279]                              |[130.7]                                   |[39859.0]                                             |6180        |3279                |130.7                     |39859.0             |false   |\n",
      "|12     |28687004922 |215.10247887862857|eb15358b-0f42-4637-a110-a3d0340fee38|2021-11-12    |Eget Company                   |[[computer programming , data processing, and integrated systems design services], [b], [take rate: 3.88]]       |1494640    |WA   |6743    |Female     |0.0                       |0.0                       |ALLIGATOR HOLE|[510011264, 510011265]                                            |[4161, 8209]                           |[871, 4104]                         |[48.5, 279.0]                             |[55694.0, 67991.0]                                    |12370       |4975                |327.5                     |65829.14572864321   |false   |\n",
      "|14943  |21439773999 |231.52701218699167|7c3c3be6-6cf3-44b3-93cd-781c2f166ed5|2021-11-12    |Mauris Non Institute           |[[cable, satellite, and other pay television and radio services], [a], [take rate: 6.10]]                        |37167      |NSW  |1565    |Female     |0.0                       |0.0                       |NULL          |NULL                                                              |NULL                                   |NULL                                |NULL                                      |NULL                                                  |NULL        |NULL                |NULL                      |NULL                |false   |\n",
      "|13     |68216911708 |14.131134944070496|a95a5929-fce2-4468-84b7-bfa15533be80|2021-11-12    |Placerat Eget Venenatis Limited|[[computers, computer peripheral equipment, and software], [c], [take rate: 3.05]]                               |1146717    |QLD  |4673    |Female     |0.0                       |0.0                       |BOOYAN        |[319011498]                                                       |[9665]                                 |[4658]                              |[227.0]                                   |[48725.0]                                             |9665        |4658                |227.0                     |48725.0             |false   |\n",
      "+-------+------------+------------------+------------------------------------+--------------+-------------------------------+-----------------------------------------------------------------------------------------------------------------+-----------+-----+--------+-----------+--------------------------+--------------------------+--------------+------------------------------------------------------------------+---------------------------------------+------------------------------------+------------------------------------------+------------------------------------------------------+------------+--------------------+--------------------------+--------------------+--------+\n",
      "only showing top 20 rows\n",
      "\n"
     ]
    },
    {
     "name": "stderr",
     "output_type": "stream",
     "text": [
      "                                                                                \r"
     ]
    }
   ],
   "source": [
    "# Clean up tags column\n",
    "tags_df = tags_df.withColumn('tags',\n",
    "                             F.lower(F.regexp_replace(F.regexp_replace(tags_df['tags'], r'\\(', '['), r'\\)', ']'))\n",
    "                            )\n",
    "\n",
    "tags_df.show(truncate = False)"
   ]
  },
  {
   "cell_type": "code",
   "execution_count": 9,
   "metadata": {},
   "outputs": [
    {
     "name": "stderr",
     "output_type": "stream",
     "text": [
      "[Stage 5:>                                                          (0 + 1) / 1]\r"
     ]
    },
    {
     "name": "stdout",
     "output_type": "stream",
     "text": [
      "+-------+------------+------------------+------------------------------------+--------------+-------------------------------+-----------+-----+--------+-----------+--------------------------+--------------------------+--------------+------------------------------------------------------------------+---------------------------------------+------------------------------------+------------------------------------------+------------------------------------------------------+------------+--------------------+--------------------------+--------------------+--------+--------------------------------------------------------------------------------------+------------+------------------+\n",
      "|user_id|merchant_abn|dollar_value      |order_id                            |order_datetime|merchant_name                  |consumer_id|state|postcode|gender     |consumer_fraud_probability|merchant_fraud_probability|LOCALITY_NAME |list_SA2_CODE                                                     |list_ERP                               |list_num_earners                    |list_total_income_($M)                    |list_mean_income                                      |postcode_ERP|postcode_num_earners|postcode_total_income_($M)|postcode_mean_income|is_fraud|description                                                                           |revenue_band|take_rate         |\n",
      "+-------+------------+------------------+------------------------------------+--------------+-------------------------------+-----------+-----+--------+-----------+--------------------------+--------------------------+--------------+------------------------------------------------------------------+---------------------------------------+------------------------------------+------------------------------------------+------------------------------------------------------+------------+--------------------+--------------------------+--------------------+--------+--------------------------------------------------------------------------------------+------------+------------------+\n",
      "|14935  |43186523025 |19.157007083987565|b184da75-2473-42c1-9109-53e1d4e9400f|2021-11-12    |Lorem Ipsum Sodales Industries |1059280    |QLD  |4563    |Male       |0.0                       |0.0                       |BLACK MOUNTAIN|[319031514, 316081549]                                            |[21774, 25578]                         |[10606, 14487]                      |[510.4, 798.8]                            |[48127.0, 55139.0]                                    |47352       |25093               |1309.1999999999998        |52173.91304347825   |false   |[florists supplies, nursery stock, and flowers                                        |, [b        |, [take rate: 4.47|\n",
      "|2      |57405729081 |220.5325772234713 |342ab194-e5e9-4fa9-b1cf-52e76559b0dc|2021-11-12    |Augue Corporation              |179208     |NSW  |2782    |Female     |0.0                       |0.0                       |HAZELBROOK    |[124011455]                                                       |[6376]                                 |[3601]                              |[226.3]                                   |[62840.0]                                             |6376        |3601                |226.3                     |62840.0             |false   |[watch, clock, and jewelry repair shops                                               |, [c        |, [take rate: 2.22|\n",
      "|14936  |60956456424 |115.18299907550252|28a3c548-2f6c-4d1d-b705-8b37b52c5f28|2021-11-12    |Ultricies Dignissim LLP        |986886     |SA   |5157    |Female     |0.0                       |0.0                       |ASHBOURNE     |[407011147, 403041075, 401021008]                                 |[8376, 2824, 7111]                     |[4446, 1754, 4110]                  |[234.3, 115.0, 236.7]                     |[52688.0, 65560.0, 57603.0]                           |18311       |10310               |586.0                     |56838.0213385063    |false   |[gift, card, novelty, and souvenir shops                                              |, [b        |, [take rate: 4.69|\n",
      "|5      |64203420245 |20.905080869875956|64614527-4be7-4f61-9af8-8f7a21a6a927|2021-11-12    |Pede Nonummy Corp.             |712975     |WA   |6355    |Female     |0.0                       |0.0                       |DUNN ROCK     |[509031247]                                                       |[4355]                                 |[2915]                              |[158.9]                                   |[54507.0]                                             |4355        |2915                |158.9                     |54507.0             |false   |[tent and awning shops                                                                |, [c        |, [take rate: 2.86|\n",
      "|14936  |72738688428 |194.98940026275412|0bde82ed-03f2-44b7-b046-7dc17954854a|2021-11-12    |Donec Tempor Corp.             |986886     |SA   |5157    |Female     |0.0                       |0.0                       |ASHBOURNE     |[407011147, 403041075, 401021008]                                 |[8376, 2824, 7111]                     |[4446, 1754, 4110]                  |[234.3, 115.0, 236.7]                     |[52688.0, 65560.0, 57603.0]                           |18311       |10310               |586.0                     |56838.0213385063    |false   |[books, periodicals, and newspapers                                                   |, [a        |, [take rate: 5.67|\n",
      "|6      |29616684420 |44.495302338546   |ea333080-10c2-4c45-a597-047a3edde722|2021-11-12    |Tellus Id LLC                  |407340     |NSW  |2033    |Female     |0.0                       |0.0                       |KENSINGTON    |[118021564]                                                       |[13810]                                |[7361]                              |[605.4]                                   |[82246.0]                                             |13810       |7361                |605.4                     |82246.0             |false   |[watch,  clock, and jewelry repair shops                                              |, [b        |, [take rate: 3.50|\n",
      "|14936  |96161808980 |58.11286917394362 |a099b1c5-2e25-46fb-ac85-34eaed374aed|2021-11-12    |Velit Aliquam Corporation      |986886     |SA   |5157    |Female     |0.0                       |0.0                       |ASHBOURNE     |[407011147, 403041075, 401021008]                                 |[8376, 2824, 7111]                     |[4446, 1754, 4110]                  |[234.3, 115.0, 236.7]                     |[52688.0, 65560.0, 57603.0]                           |18311       |10310               |586.0                     |56838.0213385063    |false   |[digital goods: books, movies, music                                                  |, [a        |, [take rate: 7.00|\n",
      "|6      |27093785141 |1086.7935817516604|af654775-d24a-455a-9b45-cb5f57422e21|2021-11-12    |Placerat Orci Institute        |407340     |NSW  |2033    |Female     |0.0                       |0.0                       |KENSINGTON    |[118021564]                                                       |[13810]                                |[7361]                              |[605.4]                                   |[82246.0]                                             |13810       |7361                |605.4                     |82246.0             |false   |[stationery, office supplies and printing and writing paper                           |, [c        |, [take rate: 2.73|\n",
      "|14938  |48534649627 |148.79559965487707|20ead160-080a-4c95-b9fd-49d7f4220917|2021-11-12    |Dignissim Maecenas Foundation  |267457     |NSW  |2625    |Undisclosed|0.0                       |0.0                       |BELAS CORNER  |[101031016]                                                       |[8381]                                 |[4609]                              |[261.6]                                   |[56759.0]                                             |8381        |4609                |261.6                     |56759.0             |false   |[opticians, optical goods, and eyeglasses                                             |, [a        |, [take rate: 6.64|\n",
      "|8      |98269572896 |178.1889326053838 |8408ef54-ad35-4aa1-b0e5-f4de0381c831|2021-11-12    |Eget Laoreet Posuere PC        |448088     |WA   |6056    |Male       |0.0                       |0.0                       |BALFOUR ESTATE|[504031066, 504021051, 504021054, 504031067, 504031068, 504031065]|[11793, 6245, 13964, 7484, 14123, 6168]|[5853, 3422, 7118, 4145, 7257, 3224]|[382.3, 240.7, 439.7, 274.4, 547.8, 201.6]|[65316.0, 70328.0, 61774.0, 66199.0, 75482.0, 62534.0]|59777       |31019               |2086.5                    |67265.22453979819   |false   |[furniture, home furnishings and equipment shops, and manufacturers, except appliances|, [b        |, [take rate: 3.59|\n",
      "|14940  |21094505909 |159.34666512963344|bb33e76e-f4d1-4d31-82a6-a603ba954f06|2021-11-12    |Venenatis Corp.                |806817     |NSW  |2333    |Female     |0.0                       |0.0                       |ANTIENE       |[106041129, 106041126, 106011113, 106041127]                      |[8296, 12590, 5449, 4188]              |[4355, 6383, 2979, 2217]            |[241.9, 460.1, 199.7, 146.6]              |[55546.0, 72089.0, 67043.0, 66109.0]                  |30523       |15934               |1048.3                    |65790.13430400402   |false   |[furniture, home furnishings and equipment shops, and manufacturers, except appliances|, [a        |, [take rate: 6.38|\n",
      "|9      |69983142241 |10.62116318426805 |fbd21e3c-6f3a-41e9-931b-b55b5a86666a|2021-11-12    |Tempus Scelerisque LLC         |650435     |NSW  |2482    |Female     |0.0                       |0.0                       |BILLINUDGEL   |[112011243]                                                       |[9199]                                 |[5438]                              |[249.1]                                   |[45811.0]                                             |9199        |5438                |249.1                     |45811.0             |false   |[watch, clock, and jewelry repair shops                                               |, [c        |, [take rate: 2.28|\n",
      "|14940  |88547577701 |67.83243711579853 |c3711ab0-a050-47a8-b9f0-039a625a7f78|2021-11-12    |Enim Etiam Industries          |806817     |NSW  |2333    |Female     |0.0                       |0.0                       |ANTIENE       |[106041129, 106041126, 106011113, 106041127]                      |[8296, 12590, 5449, 4188]              |[4355, 6383, 2979, 2217]            |[241.9, 460.1, 199.7, 146.6]              |[55546.0, 72089.0, 67043.0, 66109.0]                  |30523       |15934               |1048.3                    |65790.13430400402   |false   |[opticians, optical goods, and eyeglasses                                             |, [b        |, [take rate: 4.66|\n",
      "|10     |32749065279 |56.135402314359624|d9cf0949-294a-48c4-818c-048ff2bc56bb|2021-11-12    |Auctor LLC                     |1058499    |VIC  |3220    |Female     |0.0                       |0.0                       |COLES         |[203021046, 203021039]                                            |[10362, 13649]                         |[6766, 8512]                        |[580.9, 594.5]                            |[85853.0, 69838.0]                                    |24011       |15278               |1175.4                    |76934.15368503731   |false   |[digital goods: books, movies, music                                                  |, [a        |, [take rate: 5.69|\n",
      "|14941  |24852446429 |7.558752334529607 |629cfa8f-f6df-4510-9f41-55cdcb49c0df|2021-11-12    |Erat Vitae LLP                 |170056     |QLD  |4462    |Undisclosed|0.0                       |0.0                       |AMBY          |[307011177]                                                       |[6180]                                 |[3279]                              |[130.7]                                   |[39859.0]                                             |6180        |3279                |130.7                     |39859.0             |false   |[florists supplies, nursery stock, and flowers                                        |, [c        |, [take rate: 2.94|\n",
      "|10     |99904689266 |218.80137025347398|5cfbad36-7d9d-44a3-a582-b6ee6202c455|2021-11-12    |Dictum Eu Ltd                  |1058499    |VIC  |3220    |Female     |0.0                       |0.0                       |COLES         |[203021046, 203021039]                                            |[10362, 13649]                         |[6766, 8512]                        |[580.9, 594.5]                            |[85853.0, 69838.0]                                    |24011       |15278               |1175.4                    |76934.15368503731   |false   |[digital goods: books, movies, music                                                  |, [a        |, [take rate: 6.65|\n",
      "|14941  |94690988633 |158.5287300753836 |271a66c0-f44c-43ef-8b80-c0ccf47be442|2021-11-12    |Eu Placerat LLC                |170056     |QLD  |4462    |Undisclosed|0.0                       |0.0                       |AMBY          |[307011177]                                                       |[6180]                                 |[3279]                              |[130.7]                                   |[39859.0]                                             |6180        |3279                |130.7                     |39859.0             |false   |[computers, computer peripheral equipment, and software                               |, [a        |, [take rate: 6.16|\n",
      "|12     |28687004922 |215.10247887862857|eb15358b-0f42-4637-a110-a3d0340fee38|2021-11-12    |Eget Company                   |1494640    |WA   |6743    |Female     |0.0                       |0.0                       |ALLIGATOR HOLE|[510011264, 510011265]                                            |[4161, 8209]                           |[871, 4104]                         |[48.5, 279.0]                             |[55694.0, 67991.0]                                    |12370       |4975                |327.5                     |65829.14572864321   |false   |[computer programming , data processing, and integrated systems design services       |, [b        |, [take rate: 3.88|\n",
      "|14943  |21439773999 |231.52701218699167|7c3c3be6-6cf3-44b3-93cd-781c2f166ed5|2021-11-12    |Mauris Non Institute           |37167      |NSW  |1565    |Female     |0.0                       |0.0                       |NULL          |NULL                                                              |NULL                                   |NULL                                |NULL                                      |NULL                                                  |NULL        |NULL                |NULL                      |NULL                |false   |[cable, satellite, and other pay television and radio services                        |, [a        |, [take rate: 6.10|\n",
      "|13     |68216911708 |14.131134944070496|a95a5929-fce2-4468-84b7-bfa15533be80|2021-11-12    |Placerat Eget Venenatis Limited|1146717    |QLD  |4673    |Female     |0.0                       |0.0                       |BOOYAN        |[319011498]                                                       |[9665]                                 |[4658]                              |[227.0]                                   |[48725.0]                                             |9665        |4658                |227.0                     |48725.0             |false   |[computers, computer peripheral equipment, and software                               |, [c        |, [take rate: 3.05|\n",
      "+-------+------------+------------------+------------------------------------+--------------+-------------------------------+-----------+-----+--------+-----------+--------------------------+--------------------------+--------------+------------------------------------------------------------------+---------------------------------------+------------------------------------+------------------------------------------+------------------------------------------------------+------------+--------------------+--------------------------+--------------------+--------+--------------------------------------------------------------------------------------+------------+------------------+\n",
      "only showing top 20 rows\n",
      "\n"
     ]
    },
    {
     "name": "stderr",
     "output_type": "stream",
     "text": [
      "                                                                                \r"
     ]
    }
   ],
   "source": [
    "# Split 'tags' column into the 3 components: 'tags', 'revenue_level' and 'take_rate'\n",
    "\n",
    "# 1. Remove [] on the 2 ends\n",
    "tags_df = tags_df.withColumn('tags', F.regexp_replace(F.col('tags'), r'^\\[|\\]$', ''))\n",
    "\n",
    "# 2. Split by ]\n",
    "split_col = F.split(F.col('tags'), r'\\]')\n",
    "\n",
    "# 3. Assign split into new columns\n",
    "tags_df = tags_df.withColumn('description', split_col[0]) \\\n",
    "                 .withColumn('revenue_band', split_col[1]) \\\n",
    "                 .withColumn('take_rate', split_col[2])\n",
    "\n",
    "tags_df = tags_df.drop('tags')\n",
    "tags_df.show(truncate = False)"
   ]
  },
  {
   "cell_type": "code",
   "execution_count": 11,
   "metadata": {},
   "outputs": [
    {
     "name": "stderr",
     "output_type": "stream",
     "text": [
      "[Stage 6:>                                                          (0 + 1) / 1]\r"
     ]
    },
    {
     "name": "stdout",
     "output_type": "stream",
     "text": [
      "+-------+------------+------------------+------------------------------------+--------------+-------------------------------+-----------+-----+--------+-----------+--------------------------+--------------------------+--------------+------------------------------------------------------------------+---------------------------------------+------------------------------------+------------------------------------------+------------------------------------------------------+------------+--------------------+--------------------------+--------------------+--------+---------------------------------------------------------------------------------+------------+---------+\n",
      "|user_id|merchant_abn|dollar_value      |order_id                            |order_datetime|merchant_name                  |consumer_id|state|postcode|gender     |consumer_fraud_probability|merchant_fraud_probability|LOCALITY_NAME |list_SA2_CODE                                                     |list_ERP                               |list_num_earners                    |list_total_income_($M)                    |list_mean_income                                      |postcode_ERP|postcode_num_earners|postcode_total_income_($M)|postcode_mean_income|is_fraud|description                                                                      |revenue_band|take_rate|\n",
      "+-------+------------+------------------+------------------------------------+--------------+-------------------------------+-----------+-----+--------+-----------+--------------------------+--------------------------+--------------+------------------------------------------------------------------+---------------------------------------+------------------------------------+------------------------------------------+------------------------------------------------------+------------+--------------------+--------------------------+--------------------+--------+---------------------------------------------------------------------------------+------------+---------+\n",
      "|14935  |43186523025 |19.157007083987565|b184da75-2473-42c1-9109-53e1d4e9400f|2021-11-12    |Lorem Ipsum Sodales Industries |1059280    |QLD  |4563    |Male       |0.0                       |0.0                       |BLACK MOUNTAIN|[319031514, 316081549]                                            |[21774, 25578]                         |[10606, 14487]                      |[510.4, 798.8]                            |[48127.0, 55139.0]                                    |47352       |25093               |1309.1999999999998        |52173.91304347825   |false   |florists supplies, nursery stock, flowers                                        |b           |4.47     |\n",
      "|2      |57405729081 |220.5325772234713 |342ab194-e5e9-4fa9-b1cf-52e76559b0dc|2021-11-12    |Augue Corporation              |179208     |NSW  |2782    |Female     |0.0                       |0.0                       |HAZELBROOK    |[124011455]                                                       |[6376]                                 |[3601]                              |[226.3]                                   |[62840.0]                                             |6376        |3601                |226.3                     |62840.0             |false   |watch, clock, jewelry repair shops                                               |c           |2.22     |\n",
      "|14936  |60956456424 |115.18299907550252|28a3c548-2f6c-4d1d-b705-8b37b52c5f28|2021-11-12    |Ultricies Dignissim LLP        |986886     |SA   |5157    |Female     |0.0                       |0.0                       |ASHBOURNE     |[407011147, 403041075, 401021008]                                 |[8376, 2824, 7111]                     |[4446, 1754, 4110]                  |[234.3, 115.0, 236.7]                     |[52688.0, 65560.0, 57603.0]                           |18311       |10310               |586.0                     |56838.0213385063    |false   |gift, card, novelty, souvenir shops                                              |b           |4.69     |\n",
      "|5      |64203420245 |20.905080869875956|64614527-4be7-4f61-9af8-8f7a21a6a927|2021-11-12    |Pede Nonummy Corp.             |712975     |WA   |6355    |Female     |0.0                       |0.0                       |DUNN ROCK     |[509031247]                                                       |[4355]                                 |[2915]                              |[158.9]                                   |[54507.0]                                             |4355        |2915                |158.9                     |54507.0             |false   |tent and awning shops                                                            |c           |2.86     |\n",
      "|14936  |72738688428 |194.98940026275412|0bde82ed-03f2-44b7-b046-7dc17954854a|2021-11-12    |Donec Tempor Corp.             |986886     |SA   |5157    |Female     |0.0                       |0.0                       |ASHBOURNE     |[407011147, 403041075, 401021008]                                 |[8376, 2824, 7111]                     |[4446, 1754, 4110]                  |[234.3, 115.0, 236.7]                     |[52688.0, 65560.0, 57603.0]                           |18311       |10310               |586.0                     |56838.0213385063    |false   |books, periodicals, newspapers                                                   |a           |5.67     |\n",
      "|6      |29616684420 |44.495302338546   |ea333080-10c2-4c45-a597-047a3edde722|2021-11-12    |Tellus Id LLC                  |407340     |NSW  |2033    |Female     |0.0                       |0.0                       |KENSINGTON    |[118021564]                                                       |[13810]                                |[7361]                              |[605.4]                                   |[82246.0]                                             |13810       |7361                |605.4                     |82246.0             |false   |watch, clock, jewelry repair shops                                               |b           |3.5      |\n",
      "|14936  |96161808980 |58.11286917394362 |a099b1c5-2e25-46fb-ac85-34eaed374aed|2021-11-12    |Velit Aliquam Corporation      |986886     |SA   |5157    |Female     |0.0                       |0.0                       |ASHBOURNE     |[407011147, 403041075, 401021008]                                 |[8376, 2824, 7111]                     |[4446, 1754, 4110]                  |[234.3, 115.0, 236.7]                     |[52688.0, 65560.0, 57603.0]                           |18311       |10310               |586.0                     |56838.0213385063    |false   |digital goods: books, movies, music                                              |a           |7.0      |\n",
      "|6      |27093785141 |1086.7935817516604|af654775-d24a-455a-9b45-cb5f57422e21|2021-11-12    |Placerat Orci Institute        |407340     |NSW  |2033    |Female     |0.0                       |0.0                       |KENSINGTON    |[118021564]                                                       |[13810]                                |[7361]                              |[605.4]                                   |[82246.0]                                             |13810       |7361                |605.4                     |82246.0             |false   |stationery, office supplies and printing and writing paper                       |c           |2.73     |\n",
      "|14938  |48534649627 |148.79559965487707|20ead160-080a-4c95-b9fd-49d7f4220917|2021-11-12    |Dignissim Maecenas Foundation  |267457     |NSW  |2625    |Undisclosed|0.0                       |0.0                       |BELAS CORNER  |[101031016]                                                       |[8381]                                 |[4609]                              |[261.6]                                   |[56759.0]                                             |8381        |4609                |261.6                     |56759.0             |false   |opticians, optical goods, eyeglasses                                             |a           |6.64     |\n",
      "|8      |98269572896 |178.1889326053838 |8408ef54-ad35-4aa1-b0e5-f4de0381c831|2021-11-12    |Eget Laoreet Posuere PC        |448088     |WA   |6056    |Male       |0.0                       |0.0                       |BALFOUR ESTATE|[504031066, 504021051, 504021054, 504031067, 504031068, 504031065]|[11793, 6245, 13964, 7484, 14123, 6168]|[5853, 3422, 7118, 4145, 7257, 3224]|[382.3, 240.7, 439.7, 274.4, 547.8, 201.6]|[65316.0, 70328.0, 61774.0, 66199.0, 75482.0, 62534.0]|59777       |31019               |2086.5                    |67265.22453979819   |false   |furniture, home furnishings and equipment shops, manufacturers, except appliances|b           |3.59     |\n",
      "|14940  |21094505909 |159.34666512963344|bb33e76e-f4d1-4d31-82a6-a603ba954f06|2021-11-12    |Venenatis Corp.                |806817     |NSW  |2333    |Female     |0.0                       |0.0                       |ANTIENE       |[106041129, 106041126, 106011113, 106041127]                      |[8296, 12590, 5449, 4188]              |[4355, 6383, 2979, 2217]            |[241.9, 460.1, 199.7, 146.6]              |[55546.0, 72089.0, 67043.0, 66109.0]                  |30523       |15934               |1048.3                    |65790.13430400402   |false   |furniture, home furnishings and equipment shops, manufacturers, except appliances|a           |6.38     |\n",
      "|9      |69983142241 |10.62116318426805 |fbd21e3c-6f3a-41e9-931b-b55b5a86666a|2021-11-12    |Tempus Scelerisque LLC         |650435     |NSW  |2482    |Female     |0.0                       |0.0                       |BILLINUDGEL   |[112011243]                                                       |[9199]                                 |[5438]                              |[249.1]                                   |[45811.0]                                             |9199        |5438                |249.1                     |45811.0             |false   |watch, clock, jewelry repair shops                                               |c           |2.28     |\n",
      "|14940  |88547577701 |67.83243711579853 |c3711ab0-a050-47a8-b9f0-039a625a7f78|2021-11-12    |Enim Etiam Industries          |806817     |NSW  |2333    |Female     |0.0                       |0.0                       |ANTIENE       |[106041129, 106041126, 106011113, 106041127]                      |[8296, 12590, 5449, 4188]              |[4355, 6383, 2979, 2217]            |[241.9, 460.1, 199.7, 146.6]              |[55546.0, 72089.0, 67043.0, 66109.0]                  |30523       |15934               |1048.3                    |65790.13430400402   |false   |opticians, optical goods, eyeglasses                                             |b           |4.66     |\n",
      "|10     |32749065279 |56.135402314359624|d9cf0949-294a-48c4-818c-048ff2bc56bb|2021-11-12    |Auctor LLC                     |1058499    |VIC  |3220    |Female     |0.0                       |0.0                       |COLES         |[203021046, 203021039]                                            |[10362, 13649]                         |[6766, 8512]                        |[580.9, 594.5]                            |[85853.0, 69838.0]                                    |24011       |15278               |1175.4                    |76934.15368503731   |false   |digital goods: books, movies, music                                              |a           |5.69     |\n",
      "|14941  |24852446429 |7.558752334529607 |629cfa8f-f6df-4510-9f41-55cdcb49c0df|2021-11-12    |Erat Vitae LLP                 |170056     |QLD  |4462    |Undisclosed|0.0                       |0.0                       |AMBY          |[307011177]                                                       |[6180]                                 |[3279]                              |[130.7]                                   |[39859.0]                                             |6180        |3279                |130.7                     |39859.0             |false   |florists supplies, nursery stock, flowers                                        |c           |2.94     |\n",
      "|10     |99904689266 |218.80137025347398|5cfbad36-7d9d-44a3-a582-b6ee6202c455|2021-11-12    |Dictum Eu Ltd                  |1058499    |VIC  |3220    |Female     |0.0                       |0.0                       |COLES         |[203021046, 203021039]                                            |[10362, 13649]                         |[6766, 8512]                        |[580.9, 594.5]                            |[85853.0, 69838.0]                                    |24011       |15278               |1175.4                    |76934.15368503731   |false   |digital goods: books, movies, music                                              |a           |6.65     |\n",
      "|14941  |94690988633 |158.5287300753836 |271a66c0-f44c-43ef-8b80-c0ccf47be442|2021-11-12    |Eu Placerat LLC                |170056     |QLD  |4462    |Undisclosed|0.0                       |0.0                       |AMBY          |[307011177]                                                       |[6180]                                 |[3279]                              |[130.7]                                   |[39859.0]                                             |6180        |3279                |130.7                     |39859.0             |false   |computers, computer peripheral equipment, software                               |a           |6.16     |\n",
      "|12     |28687004922 |215.10247887862857|eb15358b-0f42-4637-a110-a3d0340fee38|2021-11-12    |Eget Company                   |1494640    |WA   |6743    |Female     |0.0                       |0.0                       |ALLIGATOR HOLE|[510011264, 510011265]                                            |[4161, 8209]                           |[871, 4104]                         |[48.5, 279.0]                             |[55694.0, 67991.0]                                    |12370       |4975                |327.5                     |65829.14572864321   |false   |computer programming, data processing, integrated systems design services        |b           |3.88     |\n",
      "|14943  |21439773999 |231.52701218699167|7c3c3be6-6cf3-44b3-93cd-781c2f166ed5|2021-11-12    |Mauris Non Institute           |37167      |NSW  |1565    |Female     |0.0                       |0.0                       |NULL          |NULL                                                              |NULL                                   |NULL                                |NULL                                      |NULL                                                  |NULL        |NULL                |NULL                      |NULL                |false   |cable, satellite, other pay television and radio services                        |a           |6.1      |\n",
      "|13     |68216911708 |14.131134944070496|a95a5929-fce2-4468-84b7-bfa15533be80|2021-11-12    |Placerat Eget Venenatis Limited|1146717    |QLD  |4673    |Female     |0.0                       |0.0                       |BOOYAN        |[319011498]                                                       |[9665]                                 |[4658]                              |[227.0]                                   |[48725.0]                                             |9665        |4658                |227.0                     |48725.0             |false   |computers, computer peripheral equipment, software                               |c           |3.05     |\n",
      "+-------+------------+------------------+------------------------------------+--------------+-------------------------------+-----------+-----+--------+-----------+--------------------------+--------------------------+--------------+------------------------------------------------------------------+---------------------------------------+------------------------------------+------------------------------------------+------------------------------------------------------+------------+--------------------+--------------------------+--------------------+--------+---------------------------------------------------------------------------------+------------+---------+\n",
      "only showing top 20 rows\n",
      "\n"
     ]
    },
    {
     "name": "stderr",
     "output_type": "stream",
     "text": [
      "                                                                                \r"
     ]
    }
   ],
   "source": [
    "# Clean up all columns\n",
    "# 1. Clean up 'tags': Remove unnecessary characters + remove ', and'\n",
    "tags_df = tags_df.withColumn('description', F.regexp_replace(F.col('description'), r'\\[', '')) \\\n",
    "                 .withColumn('description', F.regexp_replace(F.col('description'), r'\\s+', ' ')) \\\n",
    "                 .withColumn('description', F.regexp_replace(F.col('description'), r'\\s,', ',')) \\\n",
    "                 .withColumn('description', F.regexp_replace(F.col('description'), r', and', ','))\n",
    "\n",
    "# 2. 'revenue_level': Only want the letter\n",
    "tags_df = tags_df.withColumn('revenue_band', F.regexp_replace(F.col('revenue_band'), r'[^a-zA-Z]', ''))\n",
    "\n",
    "# 3. 'take_rate': Only want the digits and cast to double\n",
    "tags_df = tags_df.withColumn('take_rate', F.regexp_replace(F.col('take_rate'), r'[^0-9.]', ''))\n",
    "tags_df = tags_df.withColumn('take_rate', F.col('take_rate').cast(DoubleType()))\n",
    "\n",
    "tags_df.show(truncate = False)"
   ]
  },
  {
   "cell_type": "code",
   "execution_count": 14,
   "metadata": {},
   "outputs": [
    {
     "name": "stderr",
     "output_type": "stream",
     "text": [
      "                                                                                \r"
     ]
    },
    {
     "name": "stdout",
     "output_type": "stream",
     "text": [
      "Number of unique tags = 25\n"
     ]
    },
    {
     "name": "stderr",
     "output_type": "stream",
     "text": [
      "                                                                                \r"
     ]
    },
    {
     "name": "stdout",
     "output_type": "stream",
     "text": [
      "Total count (should be equal to number of transactions) = 13614854\n"
     ]
    },
    {
     "name": "stderr",
     "output_type": "stream",
     "text": [
      "[Stage 51:=================================================>      (16 + 2) / 18]\r"
     ]
    },
    {
     "name": "stdout",
     "output_type": "stream",
     "text": [
      "+---------------------------------------------------------------------------------+-------+-----+\n",
      "|description                                                                      |count  |index|\n",
      "+---------------------------------------------------------------------------------+-------+-----+\n",
      "|tent and awning shops                                                            |1816901|0    |\n",
      "|gift, card, novelty, souvenir shops                                              |1640025|1    |\n",
      "|digital goods: books, movies, music                                              |1283763|2    |\n",
      "|watch, clock, jewelry repair shops                                               |1031486|3    |\n",
      "|cable, satellite, other pay television and radio services                        |957072 |4    |\n",
      "|florists supplies, nursery stock, flowers                                        |881774 |5    |\n",
      "|opticians, optical goods, eyeglasses                                             |843893 |6    |\n",
      "|computers, computer peripheral equipment, software                               |718427 |7    |\n",
      "|computer programming, data processing, integrated systems design services        |518597 |8    |\n",
      "|furniture, home furnishings and equipment shops, manufacturers, except appliances|498133 |9    |\n",
      "|artist supply and craft shops                                                    |472181 |10   |\n",
      "|shoe shops                                                                       |432531 |11   |\n",
      "|books, periodicals, newspapers                                                   |394619 |12   |\n",
      "|lawn and garden supply outlets, including nurseries                              |347329 |13   |\n",
      "|music shops - musical instruments, pianos, sheet music                           |317822 |14   |\n",
      "|motor vehicle supplies and new parts                                             |307024 |15   |\n",
      "|health and beauty spas                                                           |245763 |16   |\n",
      "|hobby, toy and game shops                                                        |235543 |17   |\n",
      "|bicycle shops - sales and service                                                |224738 |18   |\n",
      "|antique shops - sales, repairs, restoration services                             |178761 |19   |\n",
      "|stationery, office supplies and printing and writing paper                       |171437 |20   |\n",
      "|equipment, tool, furniture, appliance rent al and leasing                        |36695  |21   |\n",
      "|telecom                                                                          |34218  |22   |\n",
      "|art dealers and galleries                                                        |21225  |23   |\n",
      "|jewelry, watch, clock, silverware shops                                          |4897   |24   |\n",
      "+---------------------------------------------------------------------------------+-------+-----+\n",
      "\n"
     ]
    },
    {
     "name": "stderr",
     "output_type": "stream",
     "text": [
      "                                                                                \r"
     ]
    }
   ],
   "source": [
    "# Count number of each description\n",
    "tag_counts_df = tags_df.groupBy('description').count()\n",
    "\n",
    "tag_counts_df = tag_counts_df.orderBy('count', ascending = False)\n",
    "tag_counts_df = tag_counts_df.withColumn('index', F.monotonically_increasing_id())\n",
    "\n",
    "print(\"Number of unique tags =\", tag_counts_df.count())\n",
    "print(\"Total count (should be equal to number of transactions) =\", tag_counts_df.agg(F.sum('count')).collect()[0][0])\n",
    "tag_counts_df.show(n = tag_counts_df.count(), truncate = False)"
   ]
  },
  {
   "cell_type": "markdown",
   "metadata": {},
   "source": [
    "### Create industry segments"
   ]
  },
  {
   "cell_type": "code",
   "execution_count": 15,
   "metadata": {},
   "outputs": [
    {
     "name": "stderr",
     "output_type": "stream",
     "text": [
      "                                                                                \r"
     ]
    },
    {
     "name": "stdout",
     "output_type": "stream",
     "text": [
      "+---------------------------------------------------------------------------------+-------+-----+---------------------------+\n",
      "|description                                                                      |count  |index|segment                    |\n",
      "+---------------------------------------------------------------------------------+-------+-----+---------------------------+\n",
      "|tent and awning shops                                                            |1816901|0    |retail                     |\n",
      "|gift, card, novelty, souvenir shops                                              |1640025|1    |retail                     |\n",
      "|digital goods: books, movies, music                                              |1283763|2    |retail                     |\n",
      "|watch, clock, jewelry repair shops                                               |1031486|3    |luxury products + services |\n",
      "|cable, satellite, other pay television and radio services                        |957072 |4    |technology + media services|\n",
      "|florists supplies, nursery stock, flowers                                        |881774 |5    |retail                     |\n",
      "|opticians, optical goods, eyeglasses                                             |843893 |6    |health + beauty            |\n",
      "|computers, computer peripheral equipment, software                               |718427 |7    |retail                     |\n",
      "|computer programming, data processing, integrated systems design services        |518597 |8    |technology + media services|\n",
      "|furniture, home furnishings and equipment shops, manufacturers, except appliances|498133 |9    |retail                     |\n",
      "|artist supply and craft shops                                                    |472181 |10   |retail                     |\n",
      "|shoe shops                                                                       |432531 |11   |retail                     |\n",
      "|books, periodicals, newspapers                                                   |394619 |12   |retail                     |\n",
      "|lawn and garden supply outlets, including nurseries                              |347329 |13   |retail                     |\n",
      "|music shops - musical instruments, pianos, sheet music                           |317822 |14   |retail                     |\n",
      "|motor vehicle supplies and new parts                                             |307024 |15   |retail                     |\n",
      "|health and beauty spas                                                           |245763 |16   |health + beauty            |\n",
      "|hobby, toy and game shops                                                        |235543 |17   |retail                     |\n",
      "|bicycle shops - sales and service                                                |224738 |18   |retail                     |\n",
      "|antique shops - sales, repairs, restoration services                             |178761 |19   |luxury products + services |\n",
      "|stationery, office supplies and printing and writing paper                       |171437 |20   |retail                     |\n",
      "|equipment, tool, furniture, appliance rent al and leasing                        |36695  |21   |rental services            |\n",
      "|telecom                                                                          |34218  |22   |technology + media services|\n",
      "|art dealers and galleries                                                        |21225  |23   |luxury products + services |\n",
      "|jewelry, watch, clock, silverware shops                                          |4897   |24   |luxury products + services |\n",
      "+---------------------------------------------------------------------------------+-------+-----+---------------------------+\n",
      "\n"
     ]
    }
   ],
   "source": [
    "# CHANGE THIS MAPPING IN IF SEGMENTS CHANGE\n",
    "\n",
    "# Mapping of each tag to their respective segment\n",
    "segment_mapping = {\"retail\": [0, 1, 2, 5, 7, 9, 10, 11, 12, 13, 14, 15, 17, 18, 20],\n",
    "                   \"technology + media services\": [4, 8, 22],\n",
    "                   \"health + beauty\": [6, 16],\n",
    "                   \"luxury products + services\": [3, 19, 23, 24],\n",
    "                   \"rental services\": [21]\n",
    "                   }\n",
    "\n",
    "# Assign segments\n",
    "segment_conditions = F.when(F.col(\"index\").isin(segment_mapping[\"retail\"]), \"retail\") \\\n",
    "                      .when(F.col(\"index\").isin(segment_mapping[\"technology + media services\"]), \"technology + media services\") \\\n",
    "                      .when(F.col(\"index\").isin(segment_mapping[\"health + beauty\"]), \"health + beauty\") \\\n",
    "                      .when(F.col(\"index\").isin(segment_mapping[\"luxury products + services\"]), \"luxury products + services\") \\\n",
    "                      .when(F.col(\"index\").isin(segment_mapping[\"rental services\"]), \"rental services\") \\\n",
    "                      .otherwise(\"Unknown\")\n",
    "\n",
    "tag_counts_df = tag_counts_df.withColumn(\"segment\", segment_conditions)\n",
    "tag_counts_df.show(n = tag_counts_df.count(), truncate = False)"
   ]
  },
  {
   "cell_type": "markdown",
   "metadata": {},
   "source": [
    "### Merge with tags_df"
   ]
  },
  {
   "cell_type": "code",
   "execution_count": 17,
   "metadata": {},
   "outputs": [
    {
     "name": "stderr",
     "output_type": "stream",
     "text": [
      "                                                                                \r"
     ]
    },
    {
     "name": "stdout",
     "output_type": "stream",
     "text": [
      "+---------------------------------------------------------------------------------+-------+------------+------------------+------------------------------------+--------------+-------------------------------+-----------+-----+--------+-----------+--------------------------+--------------------------+--------------+------------------------------------------------------------------+---------------------------------------+------------------------------------+------------------------------------------+------------------------------------------------------+------------+--------------------+--------------------------+--------------------+--------+------------+---------+---------------------------+\n",
      "|description                                                                      |user_id|merchant_abn|dollar_value      |order_id                            |order_datetime|merchant_name                  |consumer_id|state|postcode|gender     |consumer_fraud_probability|merchant_fraud_probability|LOCALITY_NAME |list_SA2_CODE                                                     |list_ERP                               |list_num_earners                    |list_total_income_($M)                    |list_mean_income                                      |postcode_ERP|postcode_num_earners|postcode_total_income_($M)|postcode_mean_income|is_fraud|revenue_band|take_rate|industry_segment           |\n",
      "+---------------------------------------------------------------------------------+-------+------------+------------------+------------------------------------+--------------+-------------------------------+-----------+-----+--------+-----------+--------------------------+--------------------------+--------------+------------------------------------------------------------------+---------------------------------------+------------------------------------+------------------------------------------+------------------------------------------------------+------------+--------------------+--------------------------+--------------------+--------+------------+---------+---------------------------+\n",
      "|books, periodicals, newspapers                                                   |14936  |72738688428 |194.98940026275412|0bde82ed-03f2-44b7-b046-7dc17954854a|2021-11-12    |Donec Tempor Corp.             |986886     |SA   |5157    |Female     |0.0                       |0.0                       |ASHBOURNE     |[407011147, 403041075, 401021008]                                 |[8376, 2824, 7111]                     |[4446, 1754, 4110]                  |[234.3, 115.0, 236.7]                     |[52688.0, 65560.0, 57603.0]                           |18311       |10310               |586.0                     |56838.0213385063    |false   |a           |5.67     |retail                     |\n",
      "|digital goods: books, movies, music                                              |14936  |96161808980 |58.11286917394362 |a099b1c5-2e25-46fb-ac85-34eaed374aed|2021-11-12    |Velit Aliquam Corporation      |986886     |SA   |5157    |Female     |0.0                       |0.0                       |ASHBOURNE     |[407011147, 403041075, 401021008]                                 |[8376, 2824, 7111]                     |[4446, 1754, 4110]                  |[234.3, 115.0, 236.7]                     |[52688.0, 65560.0, 57603.0]                           |18311       |10310               |586.0                     |56838.0213385063    |false   |a           |7.0      |retail                     |\n",
      "|digital goods: books, movies, music                                              |10     |32749065279 |56.135402314359624|d9cf0949-294a-48c4-818c-048ff2bc56bb|2021-11-12    |Auctor LLC                     |1058499    |VIC  |3220    |Female     |0.0                       |0.0                       |COLES         |[203021046, 203021039]                                            |[10362, 13649]                         |[6766, 8512]                        |[580.9, 594.5]                            |[85853.0, 69838.0]                                    |24011       |15278               |1175.4                    |76934.15368503731   |false   |a           |5.69     |retail                     |\n",
      "|digital goods: books, movies, music                                              |10     |99904689266 |218.80137025347398|5cfbad36-7d9d-44a3-a582-b6ee6202c455|2021-11-12    |Dictum Eu Ltd                  |1058499    |VIC  |3220    |Female     |0.0                       |0.0                       |COLES         |[203021046, 203021039]                                            |[10362, 13649]                         |[6766, 8512]                        |[580.9, 594.5]                            |[85853.0, 69838.0]                                    |24011       |15278               |1175.4                    |76934.15368503731   |false   |a           |6.65     |retail                     |\n",
      "|cable, satellite, other pay television and radio services                        |14943  |21439773999 |231.52701218699167|7c3c3be6-6cf3-44b3-93cd-781c2f166ed5|2021-11-12    |Mauris Non Institute           |37167      |NSW  |1565    |Female     |0.0                       |0.0                       |NULL          |NULL                                                              |NULL                                   |NULL                                |NULL                                      |NULL                                                  |NULL        |NULL                |NULL                      |NULL                |false   |a           |6.1      |technology + media services|\n",
      "|opticians, optical goods, eyeglasses                                             |14938  |48534649627 |148.79559965487707|20ead160-080a-4c95-b9fd-49d7f4220917|2021-11-12    |Dignissim Maecenas Foundation  |267457     |NSW  |2625    |Undisclosed|0.0                       |0.0                       |BELAS CORNER  |[101031016]                                                       |[8381]                                 |[4609]                              |[261.6]                                   |[56759.0]                                             |8381        |4609                |261.6                     |56759.0             |false   |a           |6.64     |health + beauty            |\n",
      "|opticians, optical goods, eyeglasses                                             |14940  |88547577701 |67.83243711579853 |c3711ab0-a050-47a8-b9f0-039a625a7f78|2021-11-12    |Enim Etiam Industries          |806817     |NSW  |2333    |Female     |0.0                       |0.0                       |ANTIENE       |[106041129, 106041126, 106011113, 106041127]                      |[8296, 12590, 5449, 4188]              |[4355, 6383, 2979, 2217]            |[241.9, 460.1, 199.7, 146.6]              |[55546.0, 72089.0, 67043.0, 66109.0]                  |30523       |15934               |1048.3                    |65790.13430400402   |false   |b           |4.66     |health + beauty            |\n",
      "|computers, computer peripheral equipment, software                               |14941  |94690988633 |158.5287300753836 |271a66c0-f44c-43ef-8b80-c0ccf47be442|2021-11-12    |Eu Placerat LLC                |170056     |QLD  |4462    |Undisclosed|0.0                       |0.0                       |AMBY          |[307011177]                                                       |[6180]                                 |[3279]                              |[130.7]                                   |[39859.0]                                             |6180        |3279                |130.7                     |39859.0             |false   |a           |6.16     |retail                     |\n",
      "|computer programming, data processing, integrated systems design services        |12     |28687004922 |215.10247887862857|eb15358b-0f42-4637-a110-a3d0340fee38|2021-11-12    |Eget Company                   |1494640    |WA   |6743    |Female     |0.0                       |0.0                       |ALLIGATOR HOLE|[510011264, 510011265]                                            |[4161, 8209]                           |[871, 4104]                         |[48.5, 279.0]                             |[55694.0, 67991.0]                                    |12370       |4975                |327.5                     |65829.14572864321   |false   |b           |3.88     |technology + media services|\n",
      "|computers, computer peripheral equipment, software                               |13     |68216911708 |14.131134944070496|a95a5929-fce2-4468-84b7-bfa15533be80|2021-11-12    |Placerat Eget Venenatis Limited|1146717    |QLD  |4673    |Female     |0.0                       |0.0                       |BOOYAN        |[319011498]                                                       |[9665]                                 |[4658]                              |[227.0]                                   |[48725.0]                                             |9665        |4658                |227.0                     |48725.0             |false   |c           |3.05     |retail                     |\n",
      "|tent and awning shops                                                            |5      |64203420245 |20.905080869875956|64614527-4be7-4f61-9af8-8f7a21a6a927|2021-11-12    |Pede Nonummy Corp.             |712975     |WA   |6355    |Female     |0.0                       |0.0                       |DUNN ROCK     |[509031247]                                                       |[4355]                                 |[2915]                              |[158.9]                                   |[54507.0]                                             |4355        |2915                |158.9                     |54507.0             |false   |c           |2.86     |retail                     |\n",
      "|stationery, office supplies and printing and writing paper                       |6      |27093785141 |1086.7935817516604|af654775-d24a-455a-9b45-cb5f57422e21|2021-11-12    |Placerat Orci Institute        |407340     |NSW  |2033    |Female     |0.0                       |0.0                       |KENSINGTON    |[118021564]                                                       |[13810]                                |[7361]                              |[605.4]                                   |[82246.0]                                             |13810       |7361                |605.4                     |82246.0             |false   |c           |2.73     |retail                     |\n",
      "|watch, clock, jewelry repair shops                                               |2      |57405729081 |220.5325772234713 |342ab194-e5e9-4fa9-b1cf-52e76559b0dc|2021-11-12    |Augue Corporation              |179208     |NSW  |2782    |Female     |0.0                       |0.0                       |HAZELBROOK    |[124011455]                                                       |[6376]                                 |[3601]                              |[226.3]                                   |[62840.0]                                             |6376        |3601                |226.3                     |62840.0             |false   |c           |2.22     |luxury products + services |\n",
      "|watch, clock, jewelry repair shops                                               |6      |29616684420 |44.495302338546   |ea333080-10c2-4c45-a597-047a3edde722|2021-11-12    |Tellus Id LLC                  |407340     |NSW  |2033    |Female     |0.0                       |0.0                       |KENSINGTON    |[118021564]                                                       |[13810]                                |[7361]                              |[605.4]                                   |[82246.0]                                             |13810       |7361                |605.4                     |82246.0             |false   |b           |3.5      |luxury products + services |\n",
      "|watch, clock, jewelry repair shops                                               |9      |69983142241 |10.62116318426805 |fbd21e3c-6f3a-41e9-931b-b55b5a86666a|2021-11-12    |Tempus Scelerisque LLC         |650435     |NSW  |2482    |Female     |0.0                       |0.0                       |BILLINUDGEL   |[112011243]                                                       |[9199]                                 |[5438]                              |[249.1]                                   |[45811.0]                                             |9199        |5438                |249.1                     |45811.0             |false   |c           |2.28     |luxury products + services |\n",
      "|watch, clock, jewelry repair shops                                               |14943  |86578477987 |26.2074026885583  |a1c3fd0d-759b-42d3-919c-486be380105e|2021-11-12    |Leo In Consulting              |37167      |NSW  |1565    |Female     |0.0                       |0.0                       |NULL          |NULL                                                              |NULL                                   |NULL                                |NULL                                      |NULL                                                  |NULL        |NULL                |NULL                      |NULL                |false   |a           |6.43     |luxury products + services |\n",
      "|gift, card, novelty, souvenir shops                                              |14936  |60956456424 |115.18299907550252|28a3c548-2f6c-4d1d-b705-8b37b52c5f28|2021-11-12    |Ultricies Dignissim LLP        |986886     |SA   |5157    |Female     |0.0                       |0.0                       |ASHBOURNE     |[407011147, 403041075, 401021008]                                 |[8376, 2824, 7111]                     |[4446, 1754, 4110]                  |[234.3, 115.0, 236.7]                     |[52688.0, 65560.0, 57603.0]                           |18311       |10310               |586.0                     |56838.0213385063    |false   |b           |4.69     |retail                     |\n",
      "|florists supplies, nursery stock, flowers                                        |14935  |43186523025 |19.157007083987565|b184da75-2473-42c1-9109-53e1d4e9400f|2021-11-12    |Lorem Ipsum Sodales Industries |1059280    |QLD  |4563    |Male       |0.0                       |0.0                       |BLACK MOUNTAIN|[319031514, 316081549]                                            |[21774, 25578]                         |[10606, 14487]                      |[510.4, 798.8]                            |[48127.0, 55139.0]                                    |47352       |25093               |1309.1999999999998        |52173.91304347825   |false   |b           |4.47     |retail                     |\n",
      "|florists supplies, nursery stock, flowers                                        |14941  |24852446429 |7.558752334529607 |629cfa8f-f6df-4510-9f41-55cdcb49c0df|2021-11-12    |Erat Vitae LLP                 |170056     |QLD  |4462    |Undisclosed|0.0                       |0.0                       |AMBY          |[307011177]                                                       |[6180]                                 |[3279]                              |[130.7]                                   |[39859.0]                                             |6180        |3279                |130.7                     |39859.0             |false   |c           |2.94     |retail                     |\n",
      "|furniture, home furnishings and equipment shops, manufacturers, except appliances|8      |98269572896 |178.1889326053838 |8408ef54-ad35-4aa1-b0e5-f4de0381c831|2021-11-12    |Eget Laoreet Posuere PC        |448088     |WA   |6056    |Male       |0.0                       |0.0                       |BALFOUR ESTATE|[504031066, 504021051, 504021054, 504031067, 504031068, 504031065]|[11793, 6245, 13964, 7484, 14123, 6168]|[5853, 3422, 7118, 4145, 7257, 3224]|[382.3, 240.7, 439.7, 274.4, 547.8, 201.6]|[65316.0, 70328.0, 61774.0, 66199.0, 75482.0, 62534.0]|59777       |31019               |2086.5                    |67265.22453979819   |false   |b           |3.59     |retail                     |\n",
      "+---------------------------------------------------------------------------------+-------+------------+------------------+------------------------------------+--------------+-------------------------------+-----------+-----+--------+-----------+--------------------------+--------------------------+--------------+------------------------------------------------------------------+---------------------------------------+------------------------------------+------------------------------------------+------------------------------------------------------+------------+--------------------+--------------------------+--------------------+--------+------------+---------+---------------------------+\n",
      "only showing top 20 rows\n",
      "\n"
     ]
    }
   ],
   "source": [
    "tag_counts_df = tag_counts_df.withColumnRenamed(\"segment\", \"industry_segment\")\n",
    "\n",
    "# Join ON 'description'\n",
    "tags_df = tags_df.join(tag_counts_df, on = \"description\", how = \"left\")\n",
    "\n",
    "tags_df = tags_df.drop('count')\n",
    "tags_df = tags_df.drop('index')\n",
    "\n",
    "tags_df.show(truncate = False)"
   ]
  },
  {
   "cell_type": "code",
   "execution_count": 19,
   "metadata": {},
   "outputs": [
    {
     "name": "stderr",
     "output_type": "stream",
     "text": [
      "                                                                                \r"
     ]
    }
   ],
   "source": [
    "# Save this dataframe\n",
    "tags_df.write.mode(\"overwrite\").parquet(\"../data/merged/merged_transactions_with_tags.parquet\")"
   ]
  }
 ],
 "metadata": {
  "kernelspec": {
   "display_name": "Python 3",
   "language": "python",
   "name": "python3"
  },
  "language_info": {
   "codemirror_mode": {
    "name": "ipython",
    "version": 3
   },
   "file_extension": ".py",
   "mimetype": "text/x-python",
   "name": "python",
   "nbconvert_exporter": "python",
   "pygments_lexer": "ipython3",
   "version": "3.10.12"
  }
 },
 "nbformat": 4,
 "nbformat_minor": 2
}
